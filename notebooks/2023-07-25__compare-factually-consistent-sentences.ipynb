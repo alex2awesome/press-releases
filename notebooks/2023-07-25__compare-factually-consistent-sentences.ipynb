{
 "cells": [
  {
   "cell_type": "code",
   "execution_count": 1,
   "id": "82937a4c",
   "metadata": {},
   "outputs": [],
   "source": [
    "import matplotlib.pyplot as plt \n",
    "import xopen, orjson\n",
    "import pandas as pd \n",
    "pd.options.display.max_colwidth = 250\n",
    "pd.options.display.html.use_mathjax = False\n",
    "\n",
    "def read_discourse_df(filename):\n",
    "    output = []\n",
    "    with xopen.xopen(filename) as f:\n",
    "        for line in f:\n",
    "            line_dict = orjson.loads(line)\n",
    "            output.append(pd.DataFrame(line_dict))\n",
    "\n",
    "    return pd.concat(output)\n",
    "\n",
    "def read_compressed_jsonl(filename):\n",
    "    \"\"\"Read compressed jsonl file and catch errors.\"\"\"\n",
    "    output = []\n",
    "    try:\n",
    "        with xopen.xopen(filename) as f:\n",
    "            for line in f:\n",
    "                try:\n",
    "                    line_dict = orjson.loads(line)\n",
    "                    output.append(line_dict)\n",
    "                except:\n",
    "                    continue\n",
    "    except:\n",
    "        pass\n",
    "    return pd.DataFrame(output)"
   ]
  },
  {
   "cell_type": "markdown",
   "id": "49f8b2e1",
   "metadata": {},
   "source": [
    "# Bloomberg"
   ]
  },
  {
   "cell_type": "code",
   "execution_count": 111,
   "id": "2b70e236",
   "metadata": {},
   "outputs": [],
   "source": [
    "outfile = '../models/factual-consistency/data/bloomberg-entailment-data-bartscore.jsonl.gz'\n",
    "discourse_filename = '../data/bloomberg-articles/news-discourse.jsonl.gz'\n",
    "scored_articles_df = (\n",
    "    pd.read_json(outfile, compression='gzip', orient='records', lines=True)\n",
    "        .assign(is_match=lambda df: df['model_prediction'] > .03)\n",
    "        .assign(source='bloomberg')\n",
    ")\n",
    "\n",
    "discourse_df = read_discourse_df(discourse_filename)\n",
    "\n",
    "scored_article_has_match = (\n",
    "    scored_articles_df\n",
    "        .groupby(['doc_idx', 'article_sent_idx', 'article_sentence'])\n",
    "        ['is_match'].mean().pipe(lambda s: (s>0).astype(int))\n",
    "        .reset_index()\n",
    ")\n",
    "\n",
    "scored_df_with_discourse = (\n",
    "    discourse_df\n",
    "     .merge(\n",
    "        scored_article_has_match, \n",
    "        left_on=['doc_id', 'sentences'], \n",
    "        right_on=['doc_idx', 'article_sentence']\n",
    "     )\n",
    "     .drop(columns=['sentences'])\n",
    ")"
   ]
  },
  {
   "cell_type": "code",
   "execution_count": 114,
   "id": "71937c14",
   "metadata": {},
   "outputs": [
    {
     "data": {
      "text/html": [
       "<div>\n",
       "<style scoped>\n",
       "    .dataframe tbody tr th:only-of-type {\n",
       "        vertical-align: middle;\n",
       "    }\n",
       "\n",
       "    .dataframe tbody tr th {\n",
       "        vertical-align: top;\n",
       "    }\n",
       "\n",
       "    .dataframe thead th {\n",
       "        text-align: right;\n",
       "    }\n",
       "</style>\n",
       "<table border=\"1\" class=\"dataframe tex2jax_ignore\">\n",
       "  <thead>\n",
       "    <tr style=\"text-align: right;\">\n",
       "      <th></th>\n",
       "      <th>article_sentence</th>\n",
       "      <th>archive_headline</th>\n",
       "    </tr>\n",
       "  </thead>\n",
       "  <tbody>\n",
       "    <tr>\n",
       "      <th>81</th>\n",
       "      <td>Alliance shareholders will be paid in shares in Qantas, which already owns 20% of the company.</td>\n",
       "      <td>Qantas Agrees to Acquire the Rest of Alliance Aviation</td>\n",
       "    </tr>\n",
       "    <tr>\n",
       "      <th>248</th>\n",
       "      <td>Peloton also said about 2,800 global jobs would be cut, affecting around 20% of corporate positions.</td>\n",
       "      <td>Peloton Confirms Reduction of About 2,800 Global Positions</td>\n",
       "    </tr>\n",
       "  </tbody>\n",
       "</table>\n",
       "</div>"
      ],
      "text/plain": [
       "                                                                                         article_sentence  \\\n",
       "81         Alliance shareholders will be paid in shares in Qantas, which already owns 20% of the company.   \n",
       "248  Peloton also said about 2,800 global jobs would be cut, affecting around 20% of corporate positions.   \n",
       "\n",
       "                                               archive_headline  \n",
       "81       Qantas Agrees to Acquire the Rest of Alliance Aviation  \n",
       "248  Peloton Confirms Reduction of About 2,800 Global Positions  "
      ]
     },
     "execution_count": 114,
     "metadata": {},
     "output_type": "execute_result"
    }
   ],
   "source": [
    "(scored_articles_df\n",
    " .loc[lambda df: df['is_match']]\n",
    " [['article_sentence', 'archive_headline']]\n",
    " .drop_duplicates('article_sentence')\n",
    " .head(2)\n",
    ")"
   ]
  },
  {
   "cell_type": "code",
   "execution_count": 118,
   "id": "0d64368b",
   "metadata": {},
   "outputs": [
    {
     "data": {
      "text/plain": [
       "Text(0.5, 1.0, 'Bloomberg Articles/Bloomberg Archive')"
      ]
     },
     "execution_count": 118,
     "metadata": {},
     "output_type": "execute_result"
    },
    {
     "data": {
      "image/png": "[encoded data removed]",
      "text/plain": [
       "<Figure size 400x200 with 1 Axes>"
      ]
     },
     "metadata": {},
     "output_type": "display_data"
    }
   ],
   "source": [
    "g = scored_article_has_match.groupby('article_sent_idx')['is_match']\n",
    "ax = g.mean().plot(figsize=(4, 2))\n",
    "ax.spines['top'].set_visible(False)\n",
    "ax.spines['right'].set_visible(False)\n",
    "plt.ylabel('% are referenced')\n",
    "plt.title('Bloomberg Articles/Bloomberg Archive')"
   ]
  },
  {
   "cell_type": "code",
   "execution_count": 110,
   "id": "b6b684f3",
   "metadata": {},
   "outputs": [
    {
     "data": {
      "text/plain": [
       "Text(0.5, 1.0, 'Bloomberg Articles/Bloomberg Archive')"
      ]
     },
     "execution_count": 110,
     "metadata": {},
     "output_type": "execute_result"
    },
    {
     "data": {
      "image/png": "[encoded data removed]",
      "text/plain": [
       "<Figure size 200x400 with 1 Axes>"
      ]
     },
     "metadata": {},
     "output_type": "display_data"
    }
   ],
   "source": [
    "ax = (scored_df_with_discourse.groupby('discourse_preds')['is_match']\n",
    " .mean()\n",
    " .sort_values(ascending=False)\n",
    " .iloc[::-1]\n",
    " .plot(kind='barh', figsize=(2,4))\n",
    ")\n",
    "ax.set_ylabel('')\n",
    "ax.spines['right'].set_visible(False)\n",
    "ax.spines['top'].set_visible(False)\n",
    "ax.set_title('Bloomberg Articles/Bloomberg Archive')"
   ]
  },
  {
   "cell_type": "markdown",
   "id": "6c489876",
   "metadata": {},
   "source": [
    "# New York Times"
   ]
  },
  {
   "cell_type": "code",
   "execution_count": 2,
   "id": "a51f4e33",
   "metadata": {},
   "outputs": [],
   "source": [
    "nyt_outfile = '../models/factual-consistency/data/nytimes-entailment-data.jsonl.gz'\n",
    "nyt_scored_articles_df = (\n",
    "    read_compressed_jsonl(nyt_outfile)\n",
    "#         .assign(is_match=lambda df: df['model_prediction'] > .03)\n",
    "#         .assign(source='nyt')\n",
    ")"
   ]
  },
  {
   "cell_type": "code",
   "execution_count": 130,
   "id": "6737b8d5",
   "metadata": {},
   "outputs": [
    {
     "data": {
      "text/plain": [
       "<Axes: >"
      ]
     },
     "execution_count": 130,
     "metadata": {},
     "output_type": "execute_result"
    },
    {
     "data": {
      "image/png": "[encoded data removed]",
      "text/plain": [
       "<Figure size 400x200 with 1 Axes>"
      ]
     },
     "metadata": {},
     "output_type": "display_data"
    }
   ],
   "source": [
    "nyt_scored_articles_df['model_prediction'].hist(bins=50, figsize=(4,2), range=(0, .1))"
   ]
  },
  {
   "cell_type": "code",
   "execution_count": 3,
   "id": "8d30d5ce",
   "metadata": {},
   "outputs": [
    {
     "data": {
      "text/plain": [
       "(10573,)"
      ]
     },
     "execution_count": 3,
     "metadata": {},
     "output_type": "execute_result"
    }
   ],
   "source": [
    "nyt_scored_articles_df['article_sentence'].drop_duplicates().shape "
   ]
  },
  {
   "cell_type": "code",
   "execution_count": 6,
   "id": "89b83f81",
   "metadata": {
    "scrolled": true
   },
   "outputs": [
    {
     "data": {
      "text/plain": [
       "1900776"
      ]
     },
     "execution_count": 6,
     "metadata": {},
     "output_type": "execute_result"
    }
   ],
   "source": [
    "nyt_scored_articles_df['model_prediction'].argmax()"
   ]
  },
  {
   "cell_type": "code",
   "execution_count": 26,
   "id": "a168bcd4",
   "metadata": {},
   "outputs": [],
   "source": [
    "top_matched_articles = (\n",
    "    nyt_scored_articles_df\n",
    "     .groupby(['doc_idx', 'article_sent_idx'])\n",
    "     .apply(lambda df: df.loc[df['model_prediction'].idxmax()])\n",
    "     .reset_index(drop=True)\n",
    ")"
   ]
  },
  {
   "cell_type": "code",
   "execution_count": 34,
   "id": "7b2b565a",
   "metadata": {},
   "outputs": [
    {
     "data": {
      "text/plain": [
       "<Axes: >"
      ]
     },
     "execution_count": 34,
     "metadata": {},
     "output_type": "execute_result"
    },
    {
     "data": {
      "image/png": "[encoded data removed]",
      "text/plain": [
       "<Figure size 400x200 with 1 Axes>"
      ]
     },
     "metadata": {},
     "output_type": "display_data"
    }
   ],
   "source": [
    "top_matched_articles['model_prediction'].hist(bins=50, figsize=(4,2))"
   ]
  },
  {
   "cell_type": "code",
   "execution_count": 117,
   "id": "7a180c7b",
   "metadata": {},
   "outputs": [
    {
     "data": {
      "text/html": [
       "<div>\n",
       "<style scoped>\n",
       "    .dataframe tbody tr th:only-of-type {\n",
       "        vertical-align: middle;\n",
       "    }\n",
       "\n",
       "    .dataframe tbody tr th {\n",
       "        vertical-align: top;\n",
       "    }\n",
       "\n",
       "    .dataframe thead th {\n",
       "        text-align: right;\n",
       "    }\n",
       "</style>\n",
       "<table border=\"1\" class=\"dataframe tex2jax_ignore\">\n",
       "  <thead>\n",
       "    <tr style=\"text-align: right;\">\n",
       "      <th></th>\n",
       "      <th>article_sentence</th>\n",
       "      <th>archive_headline</th>\n",
       "    </tr>\n",
       "  </thead>\n",
       "  <tbody>\n",
       "    <tr>\n",
       "      <th>4</th>\n",
       "      <td>The average for a socially screened index fund is 0.85 percent, according to Morningstar.</td>\n",
       "      <td>The average actively managed United States stock fund tracked by Morningstar has an expense ratio of 1.23 percent.</td>\n",
       "    </tr>\n",
       "    <tr>\n",
       "      <th>12</th>\n",
       "      <td>You may opt-out at any time.</td>\n",
       "      <td>You may opt-out at any time.</td>\n",
       "    </tr>\n",
       "    <tr>\n",
       "      <th>18</th>\n",
       "      <td>It now includes the 450 largest stocks in the S.&amp; P. 500.</td>\n",
       "      <td>Only 54 of the stocks in the S.&amp; P. 500 rose, while 416 fell.</td>\n",
       "    </tr>\n",
       "    <tr>\n",
       "      <th>23</th>\n",
       "      <td>Mr. Milloy has decided that if you can't beat 'em, join 'em.</td>\n",
       "      <td>Mr. Cullman took out a full-page ad to protest.</td>\n",
       "    </tr>\n",
       "    <tr>\n",
       "      <th>28</th>\n",
       "      <td>He retired a few years ago from the Altria Group, which was formerly known as Philip Morris.</td>\n",
       "      <td>Last year, the Altria Group, as the parent company was renamed, reported net earnings of $9.2 billion on revenue of $81.8 billion.</td>\n",
       "    </tr>\n",
       "    <tr>\n",
       "      <th>...</th>\n",
       "      <td>...</td>\n",
       "      <td>...</td>\n",
       "    </tr>\n",
       "    <tr>\n",
       "      <th>10658</th>\n",
       "      <td>European indexes were all higher, with the FTSE 100 in Britain up more than 1 percent and the Dax in Germany slightly higher.</td>\n",
       "      <td>The Dow Jones industrial average lost 57.94 points, or 0.3 percent, to 17,675.16.</td>\n",
       "    </tr>\n",
       "    <tr>\n",
       "      <th>10659</th>\n",
       "      <td>Most Asian markets closed higher; in Hong Kong, the Hang Seng gained 0.4 percent, and in South Korea, the Kospi rose 0.7 percent.</td>\n",
       "      <td>The Dow Jones industrial average lost 57.94 points, or 0.3 percent, to 17,675.16.</td>\n",
       "    </tr>\n",
       "    <tr>\n",
       "      <th>10661</th>\n",
       "      <td>Industrial output rose 5.6 percent in August, the most in eight months, and retail sales grew 0.5 percent from a year ago, for the first time this year.</td>\n",
       "      <td>Pressured by trade, rising interest rates in the United States and a stronger American dollar, the MSCI Emerging Market Index fell about 20 percent this year to its low in October.</td>\n",
       "    </tr>\n",
       "    <tr>\n",
       "      <th>10663</th>\n",
       "      <td>Industrial production in the United States rose 0.4 percent in August, data released by the Federal Reserve on Tuesday showed.</td>\n",
       "      <td>Economists expect that consumer prices ticked up more slowly last month thanks to a drop in gas prices.</td>\n",
       "    </tr>\n",
       "    <tr>\n",
       "      <th>10680</th>\n",
       "      <td>The rate rose to 4.1 percent for the May-to-July period, the Office for National Statistics said on Tuesday, up from about 3.9 percent.</td>\n",
       "      <td>Over the last six weeks, emerging-market stocks have gained 5 percent.</td>\n",
       "    </tr>\n",
       "  </tbody>\n",
       "</table>\n",
       "<p>1434 rows × 2 columns</p>\n",
       "</div>"
      ],
      "text/plain": [
       "                                                                                                                                               article_sentence  \\\n",
       "4                                                                     The average for a socially screened index fund is 0.85 percent, according to Morningstar.   \n",
       "12                                                                                                                                 You may opt-out at any time.   \n",
       "18                                                                                                    It now includes the 450 largest stocks in the S.& P. 500.   \n",
       "23                                                                                                 Mr. Milloy has decided that if you can't beat 'em, join 'em.   \n",
       "28                                                                 He retired a few years ago from the Altria Group, which was formerly known as Philip Morris.   \n",
       "...                                                                                                                                                         ...   \n",
       "10658                             European indexes were all higher, with the FTSE 100 in Britain up more than 1 percent and the Dax in Germany slightly higher.   \n",
       "10659                         Most Asian markets closed higher; in Hong Kong, the Hang Seng gained 0.4 percent, and in South Korea, the Kospi rose 0.7 percent.   \n",
       "10661  Industrial output rose 5.6 percent in August, the most in eight months, and retail sales grew 0.5 percent from a year ago, for the first time this year.   \n",
       "10663                            Industrial production in the United States rose 0.4 percent in August, data released by the Federal Reserve on Tuesday showed.   \n",
       "10680                   The rate rose to 4.1 percent for the May-to-July period, the Office for National Statistics said on Tuesday, up from about 3.9 percent.   \n",
       "\n",
       "                                                                                                                                                                           archive_headline  \n",
       "4                                                                        The average actively managed United States stock fund tracked by Morningstar has an expense ratio of 1.23 percent.  \n",
       "12                                                                                                                                                             You may opt-out at any time.  \n",
       "18                                                                                                                            Only 54 of the stocks in the S.& P. 500 rose, while 416 fell.  \n",
       "23                                                                                                                                          Mr. Cullman took out a full-page ad to protest.  \n",
       "28                                                       Last year, the Altria Group, as the parent company was renamed, reported net earnings of $9.2 billion on revenue of $81.8 billion.  \n",
       "...                                                                                                                                                                                     ...  \n",
       "10658                                                                                                     The Dow Jones industrial average lost 57.94 points, or 0.3 percent, to 17,675.16.  \n",
       "10659                                                                                                     The Dow Jones industrial average lost 57.94 points, or 0.3 percent, to 17,675.16.  \n",
       "10661  Pressured by trade, rising interest rates in the United States and a stronger American dollar, the MSCI Emerging Market Index fell about 20 percent this year to its low in October.  \n",
       "10663                                                                               Economists expect that consumer prices ticked up more slowly last month thanks to a drop in gas prices.  \n",
       "10680                                                                                                                Over the last six weeks, emerging-market stocks have gained 5 percent.  \n",
       "\n",
       "[1434 rows x 2 columns]"
      ]
     },
     "execution_count": 117,
     "metadata": {},
     "output_type": "execute_result"
    }
   ],
   "source": [
    "top_matched_articles.loc[lambda df: df['model_prediction']  > .03][['article_sentence', 'archive_headline']]"
   ]
  },
  {
   "cell_type": "code",
   "execution_count": null,
   "id": "ed62d57f",
   "metadata": {},
   "outputs": [],
   "source": []
  },
  {
   "cell_type": "markdown",
   "id": "d508f2b5",
   "metadata": {},
   "source": [
    "# How accurate are the parsed dates?"
   ]
  },
  {
   "cell_type": "code",
   "execution_count": 1,
   "id": "fe4c000e",
   "metadata": {},
   "outputs": [],
   "source": [
    "from subprocess import Popen, PIPE\n",
    "def get_wayback_urls(site):\n",
    "    output, err = Popen([\n",
    "        \"waybackpack\",\n",
    "        site,\n",
    "        \"--list\",\n",
    "        '--user-agent',\n",
    "        'waybackpack-spangher@usc.edu'\n",
    "    ], stdin=PIPE, stdout=PIPE, stderr=PIPE).communicate()\n",
    "    return output.decode().strip().split()"
   ]
  },
  {
   "cell_type": "code",
   "execution_count": 2,
   "id": "70d633b9",
   "metadata": {},
   "outputs": [],
   "source": [
    "import pandas as pd "
   ]
  },
  {
   "cell_type": "code",
   "execution_count": 35,
   "id": "1fdc6087",
   "metadata": {},
   "outputs": [],
   "source": [
    "# ls ../data/open-sourced-articles/\n",
    "import pandas as pd \n",
    "barrons = pd.read_json(\n",
    "    '../data/open-sourced-articles/barrons-business-articles-sans-html.jsonl.gz',\n",
    "    compression='gzip',\n",
    "    lines=True,\n",
    "    nrows=10000\n",
    ")"
   ]
  },
  {
   "cell_type": "code",
   "execution_count": 15,
   "id": "5e1f74bc",
   "metadata": {},
   "outputs": [],
   "source": [
    "cc_to_web_map = {\n",
    "    'com,forbes': 'https://www.forbes.com',\n",
    "    'com,barrons': 'https://www.barrons.com',\n",
    "    'com,foxbusiness': 'https://www.foxbusiness.com',\n",
    "    'com,businessinsider': 'https://www.businessinsider.com',\n",
    "    'com,cnbc': 'https://www.cnbc.com',\n",
    "    'com,marketwatch': 'https://www.marketwatch.com',\n",
    "    'com,nytimes': 'https://www.nytimes.com',\n",
    "    'com,reuters': 'https://www.reuters.com',\n",
    "    'com,techcrunch': 'https://techcrunch.com',\n",
    "    'com,washingtonpost': 'https://www.washingtonpost.com',\n",
    "    'com,wsj': 'https://www.wsj.com'\n",
    "}"
   ]
  },
  {
   "cell_type": "code",
   "execution_count": null,
   "id": "cac68086",
   "metadata": {},
   "outputs": [],
   "source": []
  },
  {
   "cell_type": "code",
   "execution_count": 93,
   "id": "5da2f57b",
   "metadata": {},
   "outputs": [],
   "source": [
    "from tqdm.auto import tqdm"
   ]
  },
  {
   "cell_type": "code",
   "execution_count": 24,
   "id": "a42507a0",
   "metadata": {},
   "outputs": [],
   "source": [
    "barron_urls = (\n",
    "    barrons['article_url']\n",
    "    .apply(lambda x: x.split(')'))\n",
    "    .apply(lambda x: \n",
    "            cc_to_web_map[x[0]] + x[-1]\n",
    "          )\n",
    "        .drop_duplicates()\n",
    ")"
   ]
  },
  {
   "cell_type": "code",
   "execution_count": null,
   "id": "10af4793",
   "metadata": {},
   "outputs": [],
   "source": []
  },
  {
   "cell_type": "code",
   "execution_count": null,
   "id": "934c8a04",
   "metadata": {},
   "outputs": [],
   "source": []
  },
  {
   "cell_type": "code",
   "execution_count": 41,
   "id": "f0d92d59",
   "metadata": {},
   "outputs": [
    {
     "data": {
      "application/vnd.jupyter.widget-view+json": {
       "model_id": "93a2189967674c57afdb96e06dbd80db",
       "version_major": 2,
       "version_minor": 0
      },
      "text/plain": [
       "  0%|          | 0/10000 [00:00<?, ?it/s]"
      ]
     },
     "metadata": {},
     "output_type": "display_data"
    }
   ],
   "source": [
    "from tqdm.auto import tqdm\n",
    "url_timestamp = {}\n",
    "for url in tqdm(barron_urls):\n",
    "    timestamps = get_wayback_urls(url)\n",
    "    if len(timestamps) > 0:\n",
    "        url_timestamp[url] = timestamps[0]\n",
    "    else:\n",
    "        url_timestamp[url] = 'Not Found'\n",
    "    break"
   ]
  },
  {
   "cell_type": "code",
   "execution_count": null,
   "id": "694d0396",
   "metadata": {},
   "outputs": [],
   "source": [
    "url_timestamp"
   ]
  },
  {
   "cell_type": "code",
   "execution_count": 98,
   "id": "6c5da12e",
   "metadata": {},
   "outputs": [],
   "source": [
    "url_timestamp_s = pd.Series(url_timestamp)"
   ]
  },
  {
   "cell_type": "code",
   "execution_count": 101,
   "id": "b908e986",
   "metadata": {},
   "outputs": [
    {
     "data": {
      "text/plain": [
       "False    247\n",
       "True      52\n",
       "Name: count, dtype: int64"
      ]
     },
     "execution_count": 101,
     "metadata": {},
     "output_type": "execute_result"
    }
   ],
   "source": [
    "url_timestamp_s.pipe(lambda s: s=='Not Found').value_counts()"
   ]
  },
  {
   "cell_type": "code",
   "execution_count": null,
   "id": "fba8c6e2",
   "metadata": {},
   "outputs": [],
   "source": [
    "(url_timestamp_s\n",
    " .loc[lambda s: s != 'Not Found']\n",
    " .str.split('/')\n",
    " .str.get(4)\n",
    ")"
   ]
  },
  {
   "cell_type": "code",
   "execution_count": 109,
   "id": "1103b741",
   "metadata": {},
   "outputs": [
    {
     "data": {
      "text/plain": [
       "'20220304232246'"
      ]
     },
     "execution_count": 109,
     "metadata": {},
     "output_type": "execute_result"
    }
   ],
   "source": [
    "t.split('/')[4]"
   ]
  },
  {
   "cell_type": "code",
   "execution_count": null,
   "id": "7c01b499",
   "metadata": {},
   "outputs": [],
   "source": []
  },
  {
   "cell_type": "code",
   "execution_count": null,
   "id": "44f72b4c",
   "metadata": {},
   "outputs": [],
   "source": []
  },
  {
   "cell_type": "code",
   "execution_count": null,
   "id": "8cc6f5e3",
   "metadata": {},
   "outputs": [],
   "source": []
  },
  {
   "cell_type": "markdown",
   "id": "6fa1a12f",
   "metadata": {},
   "source": [
    "# Build Archive"
   ]
  },
  {
   "cell_type": "code",
   "execution_count": 271,
   "id": "df81d099",
   "metadata": {},
   "outputs": [],
   "source": [
    "all_articles_df = (\n",
    "    load_jsonl_fault_tolerant('../data/open-sourced-articles/nytimes-articles-parsed.jsonl.gz')\n",
    "        .loc[lambda df: df['ents'].str.len() > 0]\n",
    ")\n",
    "\n",
    "press_release_articles_df = (\n",
    "    load_jsonl_fault_tolerant('../data/open-sourced-articles/nytimes-articles-links.jsonl.gz')\n",
    "        .loc[lambda df: df['ents'].str.len() > 0]\n",
    "        .reset_index(drop=True)\n",
    ")"
   ]
  },
  {
   "cell_type": "code",
   "execution_count": 157,
   "id": "d53ad6e1",
   "metadata": {},
   "outputs": [],
   "source": [
    "all_ents = pd.concat([\n",
    "    all_articles_df['ents'],\n",
    "    press_release_articles_df['ents']\n",
    "])"
   ]
  },
  {
   "cell_type": "code",
   "execution_count": 169,
   "id": "c4bd1391",
   "metadata": {},
   "outputs": [],
   "source": [
    "cv = CountVectorizer(analyzer=lambda x: x)\n",
    "vec = cv.fit_transform(all_ents.apply(set).apply(list))"
   ]
  },
  {
   "cell_type": "code",
   "execution_count": 194,
   "id": "1db53031",
   "metadata": {},
   "outputs": [],
   "source": [
    "top_terms = (\n",
    "    pd.DataFrame(vec.todense(), columns=sorted(cv.vocabulary_))\n",
    "        .sum()\n",
    "        .sort_values(ascending=False)\n",
    "        .pipe(lambda s : s/len(all_ents))\n",
    "        .head(20)\n",
    ")"
   ]
  },
  {
   "cell_type": "code",
   "execution_count": 209,
   "id": "e2e11b42",
   "metadata": {
    "scrolled": true
   },
   "outputs": [],
   "source": [
    "all_articles_df['ents'] = (\n",
    "    all_articles_df['ents']\n",
    "       .apply(lambda x: x if isinstance(x, (list, set)) else [])\n",
    "       .apply(lambda x: list(set(x) - set(top_terms.index)))\n",
    ")\n",
    "\n",
    "press_release_articles_df['ents'] = (\n",
    "    press_release_articles_df['ents']\n",
    "       .apply(lambda x: x if isinstance(x, (list, set)) else [])\n",
    "       .apply(lambda x: list(set(x) - set(top_terms.index)))\n",
    ")"
   ]
  },
  {
   "cell_type": "code",
   "execution_count": 259,
   "id": "a3fa4aaa",
   "metadata": {},
   "outputs": [],
   "source": [
    "target_ents = press_release_articles_df['ents'].pipe(lambda s: set(list(flatten(s.tolist()))))\n",
    "relevant_archival_articles = (\n",
    "    all_articles_df\n",
    "     .loc[lambda df: df['ents'].apply(lambda x: len(set(x) - target_ents) > 0)]\n",
    "     .reset_index(drop=True)\n",
    ")"
   ]
  },
  {
   "cell_type": "code",
   "execution_count": 260,
   "id": "77ca64b1",
   "metadata": {},
   "outputs": [],
   "source": [
    "ent_vecs = cv.fit_transform(pd.concat([\n",
    "    relevant_archival_articles['ents'],\n",
    "    press_release_articles_df['ents']\n",
    "]))\n",
    "\n",
    "archive_ent_vecs = ent_vecs[:len(relevant_archival_articles)]\n",
    "pr_ent_vecs = ent_vecs[len(relevant_archival_articles):]\n",
    "\n",
    "sims = cosine_similarity(archive_ent_vecs, Y=pr_ent_vecs)\n",
    "x, y = np.where(sims > 0)"
   ]
  },
  {
   "cell_type": "code",
   "execution_count": 280,
   "id": "7a4c1416",
   "metadata": {
    "scrolled": true
   },
   "outputs": [],
   "source": [
    "archive_article_map = pd.concat([\n",
    "    relevant_archival_articles['article_url']\n",
    "        .iloc[x]\n",
    "        .reset_index(drop=True)\n",
    "        .to_frame('archival_url'),\n",
    "    press_release_articles_df['article_url']\n",
    "        .iloc[y]\n",
    "        .reset_index(drop=True)\n",
    "        .to_frame('target_article_url')\n",
    "], axis=1)"
   ]
  },
  {
   "cell_type": "code",
   "execution_count": 286,
   "id": "8b5f88d2",
   "metadata": {},
   "outputs": [
    {
     "data": {
      "text/plain": [
       "0                                  com,nytimes)/video/business/1194817103719/com,nytimes)/video/business/1194817103719/executive-pursuits.html\n",
       "1                        com,nytimes)/interactive/2019/03/29/business/com,nytimes)/interactive/2019/03/29/business/boeing-737-max-8-flaws.html\n",
       "2             com,nytimes)/video/business/100000004384054/com,nytimes)/video/business/100000004384054/takata-recall-largest-in-us-history.html\n",
       "3                          com,nytimes)/video/business/1194817108502/com,nytimes)/video/business/1194817108502/enron-anatomy-of-a-scandal.html\n",
       "4       com,nytimes)/2015/10/21/business/com,nytimes)/2015/10/21/business/tommy-hilfiger-introduces-virtual-reality-headsets-for-shoppers.html\n",
       "                                                                         ...                                                                  \n",
       "6483                                                com,nytimes)/2018/10/25/business/com,nytimes)/2018/10/25/business/cathay-pacific-hack.html\n",
       "6484                                    com,nytimes)/2019/09/04/business/com,nytimes)/2019/09/04/business/cathay-pacific-chairman-resigns.html\n",
       "6485                                    com,nytimes)/2017/07/28/business/com,nytimes)/2017/07/28/business/luxury-brands-europe-gucci-lvmh.html\n",
       "6486                     com,nytimes)/2020/07/10/business/economy/com,nytimes)/2020/07/10/business/economy/california-economy-coronavirus.html\n",
       "6487          com,nytimes)/2016/07/05/business/dealbook/com,nytimes)/2016/07/05/business/dealbook/new-payday-options-for-making-ends-meet.html\n",
       "Length: 6488, dtype: object"
      ]
     },
     "execution_count": 286,
     "metadata": {},
     "output_type": "execute_result"
    }
   ],
   "source": [
    "for url in archive_article_map.unstack().drop_duplicates().reset_index(drop=True):\n",
    "    "
   ]
  },
  {
   "cell_type": "code",
   "execution_count": null,
   "id": "a983478e",
   "metadata": {},
   "outputs": [],
   "source": []
  },
  {
   "cell_type": "code",
   "execution_count": null,
   "id": "8a07e4ed",
   "metadata": {},
   "outputs": [],
   "source": []
  },
  {
   "cell_type": "code",
   "execution_count": null,
   "id": "0da122dc",
   "metadata": {},
   "outputs": [],
   "source": []
  },
  {
   "cell_type": "code",
   "execution_count": null,
   "id": "0a11e072",
   "metadata": {},
   "outputs": [],
   "source": []
  },
  {
   "cell_type": "code",
   "execution_count": null,
   "id": "d010d831",
   "metadata": {},
   "outputs": [],
   "source": [
    "press_release_articles_df['article_url'].iloc[x]"
   ]
  },
  {
   "cell_type": "code",
   "execution_count": null,
   "id": "3c0cd206",
   "metadata": {},
   "outputs": [],
   "source": []
  },
  {
   "cell_type": "code",
   "execution_count": null,
   "id": "556a4388",
   "metadata": {},
   "outputs": [],
   "source": []
  },
  {
   "cell_type": "code",
   "execution_count": null,
   "id": "f0f5cae4",
   "metadata": {},
   "outputs": [],
   "source": []
  },
  {
   "cell_type": "code",
   "execution_count": 121,
   "id": "e4a0f597",
   "metadata": {},
   "outputs": [
    {
     "name": "stdout",
     "output_type": "stream",
     "text": [
      "../data/open-sourced-articles/nytimes-articles-links.jsonl.gz\r\n"
     ]
    }
   ],
   "source": [
    "ls ../data/open-sourced-articles/nytimes-articles-links.jsonl.gz"
   ]
  },
  {
   "cell_type": "code",
   "execution_count": null,
   "id": "27ee3768",
   "metadata": {},
   "outputs": [],
   "source": []
  },
  {
   "cell_type": "code",
   "execution_count": null,
   "id": "67970905",
   "metadata": {},
   "outputs": [],
   "source": []
  },
  {
   "cell_type": "code",
   "execution_count": null,
   "id": "3b83b991",
   "metadata": {},
   "outputs": [],
   "source": []
  },
  {
   "cell_type": "code",
   "execution_count": 57,
   "id": "f706797f",
   "metadata": {},
   "outputs": [],
   "source": []
  },
  {
   "cell_type": "code",
   "execution_count": 43,
   "id": "91e29aa0",
   "metadata": {},
   "outputs": [],
   "source": [
    "import requests\n",
    "'http://web.archive.org/cdx/search/cdx?url=archive.org&fl=timestamp,mimetype&output=json'"
   ]
  },
  {
   "cell_type": "code",
   "execution_count": 80,
   "id": "38e2417b",
   "metadata": {},
   "outputs": [],
   "source": [
    "SEARCH_URL = \"https://web.archive.org/cdx/search/cdx\"\n",
    "res = requests.get(\n",
    "    SEARCH_URL,\n",
    "    params={\n",
    "        \"url\": 'https://www.nytimes.com',\n",
    "        \"fl\": \"timestamp\",\n",
    "        \"limit\": \"5\",\n",
    "    },\n",
    "    headers = {\n",
    "        \"User-Agent\": 'spangher@usc.edu',\n",
    "    }\n",
    ")"
   ]
  },
  {
   "cell_type": "code",
   "execution_count": 78,
   "id": "fc4652e0",
   "metadata": {},
   "outputs": [],
   "source": [
    "r = res.text"
   ]
  },
  {
   "cell_type": "code",
   "execution_count": 79,
   "id": "b305a7e6",
   "metadata": {},
   "outputs": [
    {
     "data": {
      "text/plain": [
       "['19961112181513',\n",
       " '19961112181513',\n",
       " '19961112181513',\n",
       " '19961121230155',\n",
       " '19961219002950']"
      ]
     },
     "execution_count": 79,
     "metadata": {},
     "output_type": "execute_result"
    }
   ],
   "source": [
    "sorted(r.split())"
   ]
  },
  {
   "cell_type": "code",
   "execution_count": 74,
   "id": "e48419de",
   "metadata": {},
   "outputs": [
    {
     "data": {
      "text/plain": [
       "'19961112181513\\n19961112181513\\n19961112181513\\n19961121230155\\n19961219002950\\n'"
      ]
     },
     "execution_count": 74,
     "metadata": {},
     "output_type": "execute_result"
    }
   ],
   "source": [
    "res.text"
   ]
  },
  {
   "cell_type": "code",
   "execution_count": 86,
   "id": "56ba4376",
   "metadata": {},
   "outputs": [],
   "source": [
    "import json"
   ]
  },
  {
   "cell_type": "code",
   "execution_count": 87,
   "id": "58b23b97",
   "metadata": {},
   "outputs": [],
   "source": [
    "t = requests.post(\n",
    "    'https://us-west1-usc-research.cloudfunctions.net/wayback-timestamp',\n",
    "    headers={\n",
    "        'Content-Type': 'application/json'\n",
    "    },\n",
    "    data=json.dumps({'article_url': 'nytimes.com'})\n",
    ")"
   ]
  },
  {
   "cell_type": "code",
   "execution_count": 89,
   "id": "343911f9",
   "metadata": {},
   "outputs": [
    {
     "data": {
      "text/plain": [
       "'19961112181513'"
      ]
     },
     "execution_count": 89,
     "metadata": {},
     "output_type": "execute_result"
    }
   ],
   "source": [
    "t.text"
   ]
  },
  {
   "cell_type": "code",
   "execution_count": 90,
   "id": "67725afa",
   "metadata": {},
   "outputs": [],
   "source": [
    "alphabet = 'abcdefghijklmnopqrstuvwxyz'"
   ]
  },
  {
   "cell_type": "code",
   "execution_count": 91,
   "id": "b299514e",
   "metadata": {},
   "outputs": [],
   "source": [
    "s = [4, 1, 15, 1, 13, 3, 14, 1, 23, 6, 19, 4]"
   ]
  },
  {
   "cell_type": "code",
   "execution_count": 95,
   "id": "e25811e0",
   "metadata": {},
   "outputs": [
    {
     "data": {
      "text/plain": [
       "'ebpbndobxgte'"
      ]
     },
     "execution_count": 95,
     "metadata": {},
     "output_type": "execute_result"
    }
   ],
   "source": [
    "''.join(list(map(lambda x: alphabet[x], s)))"
   ]
  },
  {
   "cell_type": "code",
   "execution_count": null,
   "id": "a3954eb2",
   "metadata": {},
   "outputs": [],
   "source": []
  }
 ],
 "metadata": {
  "hide_input": false,
  "kernelspec": {
   "display_name": "Python 3 (ipykernel)",
   "language": "python",
   "name": "python3"
  },
  "language_info": {
   "codemirror_mode": {
    "name": "ipython",
    "version": 3
   },
   "file_extension": ".py",
   "mimetype": "text/x-python",
   "name": "python",
   "nbconvert_exporter": "python",
   "pygments_lexer": "ipython3",
   "version": "3.10.11"
  }
 },
 "nbformat": 4,
 "nbformat_minor": 5
}
