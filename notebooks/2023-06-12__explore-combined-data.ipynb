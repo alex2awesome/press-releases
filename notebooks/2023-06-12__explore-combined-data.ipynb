{
 "cells": [
  {
   "cell_type": "code",
   "execution_count": 4,
   "metadata": {
    "collapsed": true,
    "ExecuteTime": {
     "end_time": "2023-06-13T01:32:40.991412Z",
     "start_time": "2023-06-13T01:32:40.452353Z"
    }
   },
   "outputs": [],
   "source": [
    "import requests"
   ]
  },
  {
   "cell_type": "code",
   "execution_count": null,
   "outputs": [],
   "source": [],
   "metadata": {
    "collapsed": false
   }
  },
  {
   "cell_type": "code",
   "execution_count": null,
   "outputs": [],
   "source": [
    "model_url = 'https://bbgpt-dev-s-ailm.inference-dev-01-pw.dsp.dev.bloomberg.com/v1/models/bbgpt:predict'"
   ],
   "metadata": {
    "collapsed": false
   }
  },
  {
   "cell_type": "code",
   "execution_count": 7,
   "outputs": [],
   "source": [
    "packet = {\n",
    "    \"instances\": [\n",
    "        {\n",
    "            \"context\": \"Prime Minister Justin Trudeau is about to make a pitch for tens of billions of dollars in new spending after racking up one of the developed world's largest deficits. There's one problem: Canada's economy doesn't need it.\",\n",
    "            \"temperature\": 1.0,\n",
    "            \"seed\": 12345,\n",
    "            \"repetition_penalty\": 1.05,\n",
    "            \"num_beams\": 1\n",
    "        }\n",
    "    ]\n",
    "}"
   ],
   "metadata": {
    "collapsed": false,
    "ExecuteTime": {
     "end_time": "2023-06-13T01:41:11.344187Z",
     "start_time": "2023-06-13T01:41:11.338448Z"
    }
   }
  },
  {
   "cell_type": "code",
   "execution_count": 8,
   "outputs": [
    {
     "data": {
      "text/plain": "<function requests.api.post(url, data=None, json=None, **kwargs)>"
     },
     "execution_count": 8,
     "metadata": {},
     "output_type": "execute_result"
    }
   ],
   "source": [
    "requests.post"
   ],
   "metadata": {
    "collapsed": false,
    "ExecuteTime": {
     "end_time": "2023-06-13T01:41:45.941706Z",
     "start_time": "2023-06-13T01:41:45.936781Z"
    }
   }
  },
  {
   "cell_type": "code",
   "execution_count": null,
   "outputs": [],
   "source": [],
   "metadata": {
    "collapsed": false
   }
  }
 ],
 "metadata": {
  "kernelspec": {
   "display_name": "Python 3",
   "language": "python",
   "name": "python3"
  },
  "language_info": {
   "codemirror_mode": {
    "name": "ipython",
    "version": 2
   },
   "file_extension": ".py",
   "mimetype": "text/x-python",
   "name": "python",
   "nbconvert_exporter": "python",
   "pygments_lexer": "ipython2",
   "version": "2.7.6"
  }
 },
 "nbformat": 4,
 "nbformat_minor": 0
}
