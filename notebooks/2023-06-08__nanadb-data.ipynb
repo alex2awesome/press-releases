{
 "cells": [
  {
   "cell_type": "code",
   "execution_count": 1,
   "metadata": {
    "collapsed": true,
    "ExecuteTime": {
     "end_time": "2023-06-08T16:24:04.222326Z",
     "start_time": "2023-06-08T16:23:50.778867Z"
    }
   },
   "outputs": [],
   "source": [
    "import pandas as pd"
   ]
  },
  {
   "cell_type": "code",
   "execution_count": 6,
   "outputs": [],
   "source": [
    "df = pd.read_csv('../data/big-processed-nana-file-0.csv.gz', compression='gzip', index_col=0)"
   ],
   "metadata": {
    "collapsed": false,
    "ExecuteTime": {
     "end_time": "2023-06-08T16:25:36.040267Z",
     "start_time": "2023-06-08T16:25:04.059266Z"
    }
   }
  },
  {
   "cell_type": "code",
   "execution_count": 5,
   "outputs": [
    {
     "data": {
      "text/plain": "   Unnamed: 0                        toa  \\\n0           0  2023-06-07 18:26:00+00:00   \n1           1  2023-06-07 18:09:34+00:00   \n2           2  2023-06-07 18:07:30+00:00   \n3           3  2023-06-07 17:45:25+00:00   \n4           4  2023-06-07 17:20:37+00:00   \n\n                                             web_url  \\\n0                                                NaN   \n1                                                NaN   \n2                                                NaN   \n3  https://www.sec.gov/Archives/edgar/data/182282...   \n4                                                NaN   \n\n                                             subject  \\\n0  H/K/B Cosmetic Surgery Acquires Lowcountry Pla...   \n1  Ørsted A/S: Capital Markets Day: Ørsted confir...   \n2          Grupo Aeromexico May 2023 Traffic Results   \n3                 Ozon Holdings PLC: 6-K 2023-06-07    \n4  Moody's upgrades KBC Bank's deposit ratings to...   \n\n                                      processed_body  \n0  H/K/B Cosmetic Surgery Acquires Lowcountry Pla...  \n1  7.6.2023 20:09:25 CEST | Ørsted A/S | Investor...  \n2  Grupo Aeromexico May 2023 Traffic Results\\n\\n\\...  \n3  COMPANY NAME: Ozon Holdings PLC ENDS SECURITIE...  \n4  Moody's upgrades KBC Bank's deposit ratings to...  ",
      "text/html": "<div>\n<style scoped>\n    .dataframe tbody tr th:only-of-type {\n        vertical-align: middle;\n    }\n\n    .dataframe tbody tr th {\n        vertical-align: top;\n    }\n\n    .dataframe thead th {\n        text-align: right;\n    }\n</style>\n<table border=\"1\" class=\"dataframe\">\n  <thead>\n    <tr style=\"text-align: right;\">\n      <th></th>\n      <th>Unnamed: 0</th>\n      <th>toa</th>\n      <th>web_url</th>\n      <th>subject</th>\n      <th>processed_body</th>\n    </tr>\n  </thead>\n  <tbody>\n    <tr>\n      <th>0</th>\n      <td>0</td>\n      <td>2023-06-07 18:26:00+00:00</td>\n      <td>NaN</td>\n      <td>H/K/B Cosmetic Surgery Acquires Lowcountry Pla...</td>\n      <td>H/K/B Cosmetic Surgery Acquires Lowcountry Pla...</td>\n    </tr>\n    <tr>\n      <th>1</th>\n      <td>1</td>\n      <td>2023-06-07 18:09:34+00:00</td>\n      <td>NaN</td>\n      <td>Ørsted A/S: Capital Markets Day: Ørsted confir...</td>\n      <td>7.6.2023 20:09:25 CEST | Ørsted A/S | Investor...</td>\n    </tr>\n    <tr>\n      <th>2</th>\n      <td>2</td>\n      <td>2023-06-07 18:07:30+00:00</td>\n      <td>NaN</td>\n      <td>Grupo Aeromexico May 2023 Traffic Results</td>\n      <td>Grupo Aeromexico May 2023 Traffic Results\\n\\n\\...</td>\n    </tr>\n    <tr>\n      <th>3</th>\n      <td>3</td>\n      <td>2023-06-07 17:45:25+00:00</td>\n      <td>https://www.sec.gov/Archives/edgar/data/182282...</td>\n      <td>Ozon Holdings PLC: 6-K 2023-06-07</td>\n      <td>COMPANY NAME: Ozon Holdings PLC ENDS SECURITIE...</td>\n    </tr>\n    <tr>\n      <th>4</th>\n      <td>4</td>\n      <td>2023-06-07 17:20:37+00:00</td>\n      <td>NaN</td>\n      <td>Moody's upgrades KBC Bank's deposit ratings to...</td>\n      <td>Moody's upgrades KBC Bank's deposit ratings to...</td>\n    </tr>\n  </tbody>\n</table>\n</div>"
     },
     "execution_count": 5,
     "metadata": {},
     "output_type": "execute_result"
    }
   ],
   "source": [
    "df.head()"
   ],
   "metadata": {
    "collapsed": false,
    "ExecuteTime": {
     "end_time": "2023-06-08T16:24:48.466669Z",
     "start_time": "2023-06-08T16:24:48.446135Z"
    }
   }
  },
  {
   "cell_type": "code",
   "execution_count": 9,
   "outputs": [
    {
     "data": {
      "text/plain": "'2021-11-17 21:32:43.760000+00:00'"
     },
     "execution_count": 9,
     "metadata": {},
     "output_type": "execute_result"
    }
   ],
   "source": [
    "df['toa'].min()"
   ],
   "metadata": {
    "collapsed": false,
    "ExecuteTime": {
     "end_time": "2023-06-08T22:50:26.014609Z",
     "start_time": "2023-06-08T22:50:26.008855Z"
    }
   }
  },
  {
   "cell_type": "code",
   "execution_count": null,
   "outputs": [],
   "source": [],
   "metadata": {
    "collapsed": false
   }
  }
 ],
 "metadata": {
  "kernelspec": {
   "display_name": "Python 3",
   "language": "python",
   "name": "python3"
  },
  "language_info": {
   "codemirror_mode": {
    "name": "ipython",
    "version": 2
   },
   "file_extension": ".py",
   "mimetype": "text/x-python",
   "name": "python",
   "nbconvert_exporter": "python",
   "pygments_lexer": "ipython2",
   "version": "2.7.6"
  }
 },
 "nbformat": 4,
 "nbformat_minor": 0
}
