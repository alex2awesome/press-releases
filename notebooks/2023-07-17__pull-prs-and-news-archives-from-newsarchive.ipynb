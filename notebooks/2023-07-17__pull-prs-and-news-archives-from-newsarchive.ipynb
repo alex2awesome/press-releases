{
 "cells": [
  {
   "cell_type": "code",
   "execution_count": 1,
   "id": "8074a051-4441-4316-9daa-4d804f6ce3d5",
   "metadata": {
    "tags": []
   },
   "outputs": [],
   "source": [
    "# ! pip install pandas==1.5.3\n",
    "# ! pip install numpy==1.23.1"
   ]
  },
  {
   "cell_type": "code",
   "execution_count": 86,
   "id": "46259ab2-d912-447f-8c4b-c8800587a7f6",
   "metadata": {
    "tags": []
   },
   "outputs": [
    {
     "name": "stderr",
     "output_type": "stream",
     "text": [
      "23/07/17 19:11:48 WARN kns=aspangher appId=spark-application-1689616617528 execId=driver ExecutorPodsAllocator: Executors with ids 381,382,383,384,385 were not detected in the Kubernetes cluster after 60000 ms despite the fact that a previous allocation attempt tried to create them. The executors may have been deleted but the application missed the deletion event.\n"
     ]
    }
   ],
   "source": [
    "import pandas as pd \n",
    "from pyspark.sql.functions import array_contains, array_intersect, array, udf, size\n",
    "from pyspark.sql.functions import lit , size, col\n",
    "from pyspark.sql.types import BooleanType\n",
    "import re \n",
    "from bloomberg.ai.librarian import Librarian, get_config\n",
    "import pyspark.sql.functions as F\n",
    "from pyspark.sql.window import Window\n",
    "from pyspark.sql.functions import lit\n",
    "import pandas as pd\n",
    "from bs4 import BeautifulSoup\n",
    "\n",
    "\n",
    "def check_overlap(nicodes):\n",
    "    to_exclude = [\n",
    "        # 'BORGBV',\n",
    "        # 'BORGFF',\n",
    "        # 'CMPAUTO',\n",
    "        # 'BORGDONE',\n",
    "        # 'BORGSCND',\n",
    "        # 'BORG2',\n",
    "        # 'BORG2DON',\n",
    "        # 'CYBORG',\n",
    "        'HEADS'\n",
    "    ]\n",
    "    \n",
    "    to_include = [\n",
    "        'MGMTCHG', # Management Change\n",
    "        'INI', # Company IPOs\n",
    "        'SECONDBA', # secondary offerings\n",
    "        'ERN', # Earnings cannot be fully automated, because we never know what companies will put in there\n",
    "               # We have extraction to pull non-numerical numbers, it’s not job cuts that we look out for \n",
    "        'BORDONE', #: automated stories with human intervention \n",
    "        'JOBCUTS',  # This is hard, because companies use different wordings to use \n",
    "        'CREDITCG'\n",
    "    ]\n",
    "    \n",
    "    nicode_vals = list(map(lambda x: x.nicode_val, nicodes))\n",
    "    is_excluded = len(set(nicode_vals) & set(to_exclude)) == 0\n",
    "    is_included = len(set(nicode_vals) & set(to_include)) > 0\n",
    "    is_included = True\n",
    "    return is_excluded & is_included\n",
    "\n",
    "\n",
    "# def check_security_figis(tickers, to_check_list):\n",
    "    # security_figi_values = set(map(lambda x: x.security_figi, tickers))\n",
    "    # return len(security_figi_values & to_check_list) > 0\n",
    "\n",
    "\n",
    "# def check_figi_udf(to_check_list):\n",
    "# return udf(lambda c: check_security_figis(c, to_check_list), returnType=BooleanType())\n",
    "\n",
    "\n",
    "check_overlap_udf = udf(f=check_overlap, returnType=BooleanType())\n",
    "# check_figi_udf = udf(f=check_security_figis, returnType=BooleanType())"
   ]
  },
  {
   "cell_type": "code",
   "execution_count": 2,
   "id": "7b715087-20a7-452f-8d1e-8c4c7223ea28",
   "metadata": {
    "tags": []
   },
   "outputs": [
    {
     "name": "stderr",
     "output_type": "stream",
     "text": [
      "SLF4J: Class path contains multiple SLF4J bindings.\n",
      "SLF4J: Found binding in [jar:file:/layers/com.bloomberg.ds.buildpacks.spark/spark/jars/slf4j-log4j12-1.7.30.jar!/org/slf4j/impl/StaticLoggerBinder.class]\n",
      "SLF4J: Found binding in [jar:file:/layers/com.bloomberg.ds.buildpacks.hadoop/hadoop/share/hadoop/common/lib/slf4j-log4j12-1.7.25.jar!/org/slf4j/impl/StaticLoggerBinder.class]\n",
      "SLF4J: See http://www.slf4j.org/codes.html#multiple_bindings for an explanation.\n",
      "SLF4J: Actual binding is of type [org.slf4j.impl.Log4jLoggerFactory]\n"
     ]
    },
    {
     "name": "stdout",
     "output_type": "stream",
     "text": [
      ":: loading settings :: file = /layers/com.bloomberg.ds.buildpacks.spark/spark/conf/ivysettings.xml\n"
     ]
    },
    {
     "name": "stderr",
     "output_type": "stream",
     "text": [
      "23/07/17 17:56:56 INFO kns= appId= execId= DelegationTokenUtil: Logging in user from delegation token\n",
      "23/07/17 17:56:56 INFO kns= appId= execId= DelegationTokenUtil: hadoop token File found\n",
      "23/07/17 17:56:56 INFO kns= appId= execId= DelegationTokenUtil: Loaded 2 tokens\n",
      "Setting spark.hadoop.yarn.resourcemanager.principal to job\n",
      "Setting default log level to \"WARN\".\n",
      "To adjust logging level use sc.setLogLevel(newLevel). For SparkR, use setLogLevel(newLevel).\n",
      "23/07/17 17:57:40 WARN kns=aspangher appId=spark-application-1689616617528 execId=driver package: Truncated the string representation of a plan since it was too large. This behavior can be adjusted by setting 'spark.sql.debug.maxToStringFields'.\n"
     ]
    }
   ],
   "source": [
    "config = get_config()\n",
    "config.spark.properties[\"spark.executor.instances\"] = 30\n",
    "config.spark.properties[\"spark.executor.memory\"] = \"20G\"\n",
    "config.spark.properties[\"spark.driver.memory\"] = \"20G\"\n",
    "\n",
    "librarian = Librarian(cfg=config)\n",
    "spark = librarian.spark_session\n",
    "\n",
    "newsarchive_df = (\n",
    "    librarian\n",
    "        .datasets\n",
    "        .newsarchive\n",
    "        .prod()\n",
    "        .pvf_newsldap_4()\n",
    "        .pvf_newsldap_6()\n",
    "        .begin(2022, 1, 1)\n",
    "        .end(2023, 1, 30)\n",
    "    .fetch()\n",
    ")\n",
    "newsarchive_df = newsarchive_df.filter(newsarchive_df.bloom_lang == 1)"
   ]
  },
  {
   "cell_type": "code",
   "execution_count": 3,
   "id": "a83bbc56-502a-455c-8dd0-0bec9d6d67a8",
   "metadata": {
    "ExecuteTime": {
     "end_time": "2023-06-30T20:48:27.160318Z",
     "start_time": "2023-06-30T20:48:27.158166Z"
    },
    "jupyter": {
     "outputs_hidden": false
    },
    "tags": []
   },
   "outputs": [
    {
     "name": "stderr",
     "output_type": "stream",
     "text": [
      "23/07/17 17:58:14 WARN kns=aspangher appId=spark-application-1689616617528 execId=driver ExecutorPodsAllocator: Executors with ids 24,25 were not detected in the Kubernetes cluster after 60000 ms despite the fact that a previous allocation attempt tried to create them. The executors may have been deleted but the application missed the deletion event.\n"
     ]
    }
   ],
   "source": [
    "suid_rid_map = pd.read_csv('all_suid_rid_maps.csv.gz', index_col=0).dropna()"
   ]
  },
  {
   "cell_type": "code",
   "execution_count": 7,
   "id": "d804d3b3-9841-4d50-ad61-d7b42f83b072",
   "metadata": {
    "tags": []
   },
   "outputs": [],
   "source": [
    "suid_rid_map_df = spark.createDataFrame(suid_rid_map) "
   ]
  },
  {
   "cell_type": "code",
   "execution_count": 8,
   "id": "acd49ad8-dc62-4b68-9cf8-aa17c64bcd67",
   "metadata": {
    "tags": []
   },
   "outputs": [],
   "source": [
    "# press_release_na_df = (\n",
    "#     newsarchive_df\n",
    "#        .join(suid_rid_map_df, suid_rid_map_df.release_suid==newsarchive_df.suid)\n",
    "#        .select(['story_suid', 'suid', 'wire', 'headline', 'body', 'timeofarrival', 'bunch_id', 'nicodes'])\n",
    "# )"
   ]
  },
  {
   "cell_type": "code",
   "execution_count": 19,
   "id": "05971faa-c827-4613-a7d0-db3a0aa52646",
   "metadata": {
    "tags": []
   },
   "outputs": [
    {
     "name": "stderr",
     "output_type": "stream",
     "text": [
      "                                                                                \r"
     ]
    },
    {
     "data": {
      "text/plain": [
       "Row(tickers=None, derived_tickers=None)"
      ]
     },
     "execution_count": 19,
     "metadata": {},
     "output_type": "execute_result"
    }
   ],
   "source": [
    "newsarchive_df.select('tickers', 'derived_tickers').head()"
   ]
  },
  {
   "cell_type": "code",
   "execution_count": 26,
   "id": "7274cd1b-48fc-4407-9f37-8b014d9de531",
   "metadata": {
    "tags": []
   },
   "outputs": [],
   "source": [
    "full_newsarchive_df = (\n",
    "    newsarchive_df\n",
    "       .join(suid_rid_map_df, suid_rid_map_df.story_suid==newsarchive_df.suid)\n",
    "       .select(['release_suid', 'suid', \n",
    "                'wire', 'headline', 'body', 'timeofarrival', 'bunch_id', 'nicodes',\n",
    "                'tickers', 'derived_tickers'\n",
    "               ])\n",
    ")"
   ]
  },
  {
   "cell_type": "code",
   "execution_count": 27,
   "id": "95e5fdb6-a90a-4681-b0eb-17f4b38b76e1",
   "metadata": {
    "tags": []
   },
   "outputs": [],
   "source": [
    "beat_articles_df = (\n",
    "    full_newsarchive_df\n",
    "        .filter(full_newsarchive_df.wire.isin([25]))#, 2345]))\n",
    "        .filter(check_overlap_udf(full_newsarchive_df.nicodes))\n",
    ")               "
   ]
  },
  {
   "cell_type": "code",
   "execution_count": null,
   "id": "ae227d2a-1510-44ea-ba15-ff5690a45b92",
   "metadata": {},
   "outputs": [],
   "source": [
    "partition_count = 1\n",
    "file_format = 'json'\n",
    "output_dir = 'hdfs://DOB2-GEN/user/aspangher/press-release-newsarchive/beat-article-limited.json'\n",
    "compression = \"gzip\"\n",
    "(beat_articles_df\n",
    "     .repartition(partition_count)\n",
    "     .write.mode(\"overwrite\")\n",
    "     .format(file_format)\n",
    "     .option(\"compression\", compression)\n",
    "     .save(output_dir)\n",
    ")"
   ]
  },
  {
   "cell_type": "code",
   "execution_count": null,
   "id": "49800c6f-3d9b-495f-8704-370535df89b8",
   "metadata": {},
   "outputs": [],
   "source": [
    "# ! pip install bloomberg.ai.remoteio\n",
    "from bloomberg.ai.remoteio import RemoteIO\n",
    "from bloomberg.ai.remoteio import BCSConfig\n",
    "\n",
    "RemoteIO.ls('hdfs://DOB2-GEN/user/aspangher/press-release-newsarchive/beat-article-limited.json')\n",
    "\n",
    "bcs_cfg = BCSConfig(\n",
    "    endpoint_url=\"http://s3.dev.obdc.bcs.bloomberg.com\",\n",
    "    access_key=\"VN2M29BH4PCAJT9ABZKN\",\n",
    "    secret_key=\"O9bcBpaprrXr6Q3dorn0XYI4Kp8go6oBDBYFYqeD\",\n",
    "    proxy=None\n",
    ")\n",
    "\n",
    "RemoteIO.transfer(\n",
    "    'hdfs://DOB2-GEN/user/aspangher/press-release-newsarchive/beat-article-limited.json',\n",
    "    's3://aspangher/press-release-newsarchive/beat-article-limited',\n",
    "    to_storage_config=bcs_cfg\n",
    ")"
   ]
  },
  {
   "cell_type": "markdown",
   "id": "6d856b2f-91ab-4b38-bda2-996585f38a8d",
   "metadata": {},
   "source": [
    "# Get Archive "
   ]
  },
  {
   "cell_type": "code",
   "execution_count": 28,
   "id": "2693f714-a754-45b1-ac0e-8457c9bad64f",
   "metadata": {
    "tags": []
   },
   "outputs": [
    {
     "name": "stderr",
     "output_type": "stream",
     "text": [
      "23/07/17 18:18:40 WARN kns=aspangher appId=spark-application-1689616617528 execId=driver ExecutorPodsAllocator: Executors with ids 121,122,123,124,125 were not detected in the Kubernetes cluster after 60000 ms despite the fact that a previous allocation attempt tried to create them. The executors may have been deleted but the application missed the deletion event.\n",
      "                                                                                \r"
     ]
    }
   ],
   "source": [
    "beat_articles_pdf = beat_articles_df.toPandas()"
   ]
  },
  {
   "cell_type": "code",
   "execution_count": 46,
   "id": "8513bc5c-291b-4f86-8504-dca3741e57fe",
   "metadata": {
    "tags": []
   },
   "outputs": [],
   "source": [
    "from more_itertools import flatten"
   ]
  },
  {
   "cell_type": "code",
   "execution_count": 55,
   "id": "2a1b42d3-ec9a-41ca-89ae-2a6bfe14bd90",
   "metadata": {
    "tags": []
   },
   "outputs": [
    {
     "data": {
      "text/plain": [
       "Row(ticker_val='ALL@AU', bloomberg_entity_id='BBG001FHYWL2', classification_score=None, company_id=193196, is_added=False, is_anti=False, is_important=True, is_primary=False, roles_allowed=None, rollup_score=None, score=95, score_flag='', security_figi='BBG000G2SMB6', type='0')"
      ]
     },
     "execution_count": 55,
     "metadata": {},
     "output_type": "execute_result"
    },
    {
     "name": "stderr",
     "output_type": "stream",
     "text": [
      "23/07/17 18:44:14 WARN kns=aspangher appId=spark-application-1689616617528 execId=driver ExecutorPodsAllocator: Executors with ids 246,247,248,249,250 were not detected in the Kubernetes cluster after 60000 ms despite the fact that a previous allocation attempt tried to create them. The executors may have been deleted but the application missed the deletion event.\n"
     ]
    }
   ],
   "source": [
    "beat_articles_pdf['derived_tickers'][0][0]"
   ]
  },
  {
   "cell_type": "code",
   "execution_count": 59,
   "id": "114479b4-c4ef-428d-9595-249eca7ebb4f",
   "metadata": {
    "tags": []
   },
   "outputs": [
    {
     "data": {
      "text/plain": [
       "1    1651\n",
       "2       3\n",
       "Name: 1, dtype: int64"
      ]
     },
     "execution_count": 59,
     "metadata": {},
     "output_type": "execute_result"
    },
    {
     "name": "stderr",
     "output_type": "stream",
     "text": [
      "23/07/17 18:50:21 WARN kns=aspangher appId=spark-application-1689616617528 execId=driver ExecutorPodsAllocator: Executors with ids 276,277,278,279,280 were not detected in the Kubernetes cluster after 60000 ms despite the fact that a previous allocation attempt tried to create them. The executors may have been deleted but the application missed the deletion event.\n"
     ]
    }
   ],
   "source": [
    "(beat_articles_pdf['derived_tickers']\n",
    " .apply(lambda x: [] if x is None else x)\n",
    " .apply(lambda x: list(map(lambda y: (y.bloomberg_entity_id, y.security_figi), x )))\n",
    " .pipe(lambda s: pd.DataFrame(list(flatten(s.tolist()))))\n",
    " .groupby(0)[1]\n",
    " .aggregate(set)\n",
    " .str.len()\n",
    " .value_counts()\n",
    ")"
   ]
  },
  {
   "cell_type": "code",
   "execution_count": 71,
   "id": "2f8c9f55-c153-4e8f-8db3-f6c0c1532a9f",
   "metadata": {
    "tags": []
   },
   "outputs": [
    {
     "name": "stderr",
     "output_type": "stream",
     "text": [
      "23/07/17 18:58:32 WARN kns=aspangher appId=spark-application-1689616617528 execId=driver ExecutorPodsAllocator: Executors with ids 316,317,318,319,320 were not detected in the Kubernetes cluster after 60000 ms despite the fact that a previous allocation attempt tried to create them. The executors may have been deleted but the application missed the deletion event.\n",
      "23/07/17 18:59:33 WARN kns=aspangher appId=spark-application-1689616617528 execId=driver ExecutorPodsAllocator: Executors with ids 321,322,323,324,325 were not detected in the Kubernetes cluster after 60000 ms despite the fact that a previous allocation attempt tried to create them. The executors may have been deleted but the application missed the deletion event.\n"
     ]
    }
   ],
   "source": [
    "security_figis = (\n",
    "    beat_articles_pdf['derived_tickers']\n",
    "     .apply(lambda x: [] if x is None else x)\n",
    "     .apply(lambda x: list(map(lambda y: y.security_figi, x)))\n",
    "     .pipe(lambda s: pd.Series(list(flatten(s.tolist()))))\n",
    "     .dropna().drop_duplicates()\n",
    "     .tolist()\n",
    ")"
   ]
  },
  {
   "cell_type": "code",
   "execution_count": 87,
   "id": "62311e25-11ae-4824-bc65-ebe6507a0468",
   "metadata": {
    "tags": []
   },
   "outputs": [
    {
     "name": "stderr",
     "output_type": "stream",
     "text": [
      "23/07/17 19:12:50 WARN kns=aspangher appId=spark-application-1689616617528 execId=driver ExecutorPodsAllocator: Executors with ids 386,387,388,389,390 were not detected in the Kubernetes cluster after 60000 ms despite the fact that a previous allocation attempt tried to create them. The executors may have been deleted but the application missed the deletion event.\n"
     ]
    }
   ],
   "source": [
    "def check_security_figis(tickers, to_check_list=security_figis):\n",
    "    security_figi_values = set(map(lambda x: x.security_figi, tickers))\n",
    "    return len(security_figi_values & to_check_list) > 0\n",
    "\n",
    "\n",
    "# def check_figi_udf(to_check_list):\n",
    "    # return udf(lambda c: check_security_figis(c, to_check_list), returnType=BooleanType())"
   ]
  },
  {
   "cell_type": "code",
   "execution_count": 88,
   "id": "80d0eeab-dbb0-4e91-9b79-8c4528e383a2",
   "metadata": {
    "tags": []
   },
   "outputs": [],
   "source": [
    "archive_articles_df = (\n",
    "    full_newsarchive_df\n",
    "        .filter(full_newsarchive_df.wire.isin([25, 2345]))\n",
    "        .filter(check_figi_udf(full_newsarchive_df.derived_tickers))\n",
    ")              "
   ]
  },
  {
   "cell_type": "code",
   "execution_count": 91,
   "id": "b8c3dc48-f831-4f8b-a8bf-4be48cbbd8b4",
   "metadata": {
    "tags": []
   },
   "outputs": [],
   "source": [
    "from pyspark.sql.functions import explode"
   ]
  },
  {
   "cell_type": "code",
   "execution_count": 102,
   "id": "120fb46a-8218-40e2-ac22-7931a293e1ec",
   "metadata": {
    "tags": []
   },
   "outputs": [],
   "source": [
    "all_derived_tickers = (\n",
    "    full_newsarchive_df\n",
    "        .select('suid', explode(full_newsarchive_df.derived_tickers).alias(\"ticker\"))\n",
    "        .select('suid', 'ticker.security_figi')\n",
    ")"
   ]
  },
  {
   "cell_type": "code",
   "execution_count": 110,
   "id": "c4d42075-2974-4c07-be7b-57c95a358bae",
   "metadata": {
    "tags": []
   },
   "outputs": [],
   "source": [
    "beat_derived_tickers = (\n",
    "    beat_articles_df\n",
    "        .select('suid', explode(beat_articles_df.derived_tickers).alias(\"ticker\"))\n",
    "        .select('ticker.security_figi')\n",
    "        .distinct()\n",
    ")"
   ]
  },
  {
   "cell_type": "code",
   "execution_count": 115,
   "id": "c2a78934-e17c-4b88-8b09-f5fb58b0ebc8",
   "metadata": {
    "tags": []
   },
   "outputs": [],
   "source": [
    "desired_suids_for_archive = (\n",
    "    all_derived_tickers\n",
    "        .join(beat_derived_tickers, on='security_figi', how='inner')\n",
    "        .select('suid')\n",
    "        .distinct()\n",
    ")"
   ]
  },
  {
   "cell_type": "code",
   "execution_count": 116,
   "id": "8e80ed87-7a26-48db-8a69-2fc081f7aea6",
   "metadata": {
    "tags": []
   },
   "outputs": [],
   "source": [
    "archive_df = (\n",
    "    full_newsarchive_df\n",
    "        .join(desired_suids_for_archive, on='suid', how='inner')\n",
    ")"
   ]
  },
  {
   "cell_type": "code",
   "execution_count": 117,
   "id": "c5cfce05-2da7-4e20-9e9a-eff4649ddd1e",
   "metadata": {
    "tags": []
   },
   "outputs": [
    {
     "name": "stderr",
     "output_type": "stream",
     "text": [
      "23/07/17 19:24:04 WARN kns=aspangher appId=spark-application-1689616617528 execId=driver ExecutorPodsAllocator: Executors with ids 441,442,443,444,445 were not detected in the Kubernetes cluster after 60000 ms despite the fact that a previous allocation attempt tried to create them. The executors may have been deleted but the application missed the deletion event.\n",
      "                                                                                \r"
     ]
    },
    {
     "data": {
      "text/plain": [
       "116738"
      ]
     },
     "execution_count": 117,
     "metadata": {},
     "output_type": "execute_result"
    }
   ],
   "source": [
    "archive_df.count()"
   ]
  },
  {
   "cell_type": "code",
   "execution_count": null,
   "id": "9db5dc38-162c-4e66-b3b1-bb297434a739",
   "metadata": {
    "tags": []
   },
   "outputs": [],
   "source": [
    "partition_count = 1\n",
    "file_format = 'json'\n",
    "output_dir = 'hdfs://DOB2-GEN/user/aspangher/press-release-newsarchive/news-archive-df.json'\n",
    "compression = \"gzip\"\n",
    "(archive_df\n",
    "     .repartition(partition_count)\n",
    "     .write.mode(\"overwrite\")\n",
    "     .format(file_format)\n",
    "     .option(\"compression\", compression)\n",
    "     .save(output_dir)\n",
    ")"
   ]
  },
  {
   "cell_type": "code",
   "execution_count": 119,
   "id": "e86944e5-7b35-4889-a47b-8a42f5e80428",
   "metadata": {
    "tags": []
   },
   "outputs": [
    {
     "name": "stderr",
     "output_type": "stream",
     "text": [
      "log4j:WARN No appenders could be found for logger (org.apache.hadoop.fs.FileSystem).\n",
      "log4j:WARN Please initialize the log4j system properly.\n",
      "log4j:WARN See http://logging.apache.org/log4j/1.2/faq.html#noconfig for more info.\n"
     ]
    },
    {
     "data": {
      "text/plain": [
       "['hdfs:///user/aspangher/press-release-newsarchive/2022-2023.json',\n",
       " 'hdfs:///user/aspangher/press-release-newsarchive/beat-article-limited.json',\n",
       " 'hdfs:///user/aspangher/press-release-newsarchive/news-archive-df.json']"
      ]
     },
     "execution_count": 119,
     "metadata": {},
     "output_type": "execute_result"
    },
    {
     "name": "stderr",
     "output_type": "stream",
     "text": [
      "23/07/17 20:27:25 WARN kns=aspangher appId=spark-application-1689616617528 execId=driver ExecutorPodsAllocator: Executors with ids 751,752,753,754,755 were not detected in the Kubernetes cluster after 60000 ms despite the fact that a previous allocation attempt tried to create them. The executors may have been deleted but the application missed the deletion event.\n"
     ]
    }
   ],
   "source": [
    "# ! pip install bloomberg.ai.remoteio\n",
    "from bloomberg.ai.remoteio import RemoteIO\n",
    "from bloomberg.ai.remoteio import BCSConfig\n",
    "\n",
    "RemoteIO.ls('hdfs://DOB2-GEN/user/aspangher/press-release-newsarchive/')"
   ]
  },
  {
   "cell_type": "code",
   "execution_count": 120,
   "id": "392e7a7c-a316-45e5-b036-6845a59696b6",
   "metadata": {
    "tags": []
   },
   "outputs": [
    {
     "name": "stderr",
     "output_type": "stream",
     "text": [
      "23/07/17 20:28:27 WARN kns=aspangher appId=spark-application-1689616617528 execId=driver ExecutorPodsAllocator: Executors with ids 756,757,758,759,760 were not detected in the Kubernetes cluster after 60000 ms despite the fact that a previous allocation attempt tried to create them. The executors may have been deleted but the application missed the deletion event.\n",
      "23/07/17 20:29:28 WARN kns=aspangher appId=spark-application-1689616617528 execId=driver ExecutorPodsAllocator: Executors with ids 761,762,763,764,765 were not detected in the Kubernetes cluster after 60000 ms despite the fact that a previous allocation attempt tried to create them. The executors may have been deleted but the application missed the deletion event.\n",
      "23/07/17 20:30:29 WARN kns=aspangher appId=spark-application-1689616617528 execId=driver ExecutorPodsAllocator: Executors with ids 766,767,768,769,770 were not detected in the Kubernetes cluster after 60000 ms despite the fact that a previous allocation attempt tried to create them. The executors may have been deleted but the application missed the deletion event.\n",
      "23/07/17 20:31:31 WARN kns=aspangher appId=spark-application-1689616617528 execId=driver ExecutorPodsAllocator: Executors with ids 771,772,773,774,775 were not detected in the Kubernetes cluster after 60000 ms despite the fact that a previous allocation attempt tried to create them. The executors may have been deleted but the application missed the deletion event.\n",
      "23/07/17 20:32:32 WARN kns=aspangher appId=spark-application-1689616617528 execId=driver ExecutorPodsAllocator: Executors with ids 776,777,778,779,780 were not detected in the Kubernetes cluster after 60000 ms despite the fact that a previous allocation attempt tried to create them. The executors may have been deleted but the application missed the deletion event.\n",
      "23/07/17 20:33:33 WARN kns=aspangher appId=spark-application-1689616617528 execId=driver ExecutorPodsAllocator: Executors with ids 781,782,783,784,785 were not detected in the Kubernetes cluster after 60000 ms despite the fact that a previous allocation attempt tried to create them. The executors may have been deleted but the application missed the deletion event.\n",
      "23/07/17 20:34:35 WARN kns=aspangher appId=spark-application-1689616617528 execId=driver ExecutorPodsAllocator: Executors with ids 786,787,788,789,790 were not detected in the Kubernetes cluster after 60000 ms despite the fact that a previous allocation attempt tried to create them. The executors may have been deleted but the application missed the deletion event.\n",
      "23/07/17 20:35:36 WARN kns=aspangher appId=spark-application-1689616617528 execId=driver ExecutorPodsAllocator: Executors with ids 791,792,793,794,795 were not detected in the Kubernetes cluster after 60000 ms despite the fact that a previous allocation attempt tried to create them. The executors may have been deleted but the application missed the deletion event.\n",
      "23/07/17 20:36:37 WARN kns=aspangher appId=spark-application-1689616617528 execId=driver ExecutorPodsAllocator: Executors with ids 796,797,798,799,800 were not detected in the Kubernetes cluster after 60000 ms despite the fact that a previous allocation attempt tried to create them. The executors may have been deleted but the application missed the deletion event.\n",
      "23/07/17 20:37:39 WARN kns=aspangher appId=spark-application-1689616617528 execId=driver ExecutorPodsAllocator: Executors with ids 801,802,803,804,805 were not detected in the Kubernetes cluster after 60000 ms despite the fact that a previous allocation attempt tried to create them. The executors may have been deleted but the application missed the deletion event.\n",
      "23/07/17 20:38:40 WARN kns=aspangher appId=spark-application-1689616617528 execId=driver ExecutorPodsAllocator: Executors with ids 806,807,808,809,810 were not detected in the Kubernetes cluster after 60000 ms despite the fact that a previous allocation attempt tried to create them. The executors may have been deleted but the application missed the deletion event.\n",
      "23/07/17 20:39:41 WARN kns=aspangher appId=spark-application-1689616617528 execId=driver ExecutorPodsAllocator: Executors with ids 811,812,813,814,815 were not detected in the Kubernetes cluster after 60000 ms despite the fact that a previous allocation attempt tried to create them. The executors may have been deleted but the application missed the deletion event.\n",
      "23/07/17 20:40:42 WARN kns=aspangher appId=spark-application-1689616617528 execId=driver ExecutorPodsAllocator: Executors with ids 816,817,818,819,820 were not detected in the Kubernetes cluster after 60000 ms despite the fact that a previous allocation attempt tried to create them. The executors may have been deleted but the application missed the deletion event.\n",
      "23/07/17 20:41:44 WARN kns=aspangher appId=spark-application-1689616617528 execId=driver ExecutorPodsAllocator: Executors with ids 821,822,823,824,825 were not detected in the Kubernetes cluster after 60000 ms despite the fact that a previous allocation attempt tried to create them. The executors may have been deleted but the application missed the deletion event.\n",
      "23/07/17 20:42:45 WARN kns=aspangher appId=spark-application-1689616617528 execId=driver ExecutorPodsAllocator: Executors with ids 826,827,828,829,830 were not detected in the Kubernetes cluster after 60000 ms despite the fact that a previous allocation attempt tried to create them. The executors may have been deleted but the application missed the deletion event.\n",
      "23/07/17 20:43:46 WARN kns=aspangher appId=spark-application-1689616617528 execId=driver ExecutorPodsAllocator: Executors with ids 831,832,833,834,835 were not detected in the Kubernetes cluster after 60000 ms despite the fact that a previous allocation attempt tried to create them. The executors may have been deleted but the application missed the deletion event.\n",
      "23/07/17 20:44:48 WARN kns=aspangher appId=spark-application-1689616617528 execId=driver ExecutorPodsAllocator: Executors with ids 836,837,838,839,840 were not detected in the Kubernetes cluster after 60000 ms despite the fact that a previous allocation attempt tried to create them. The executors may have been deleted but the application missed the deletion event.\n",
      "23/07/17 20:45:49 WARN kns=aspangher appId=spark-application-1689616617528 execId=driver ExecutorPodsAllocator: Executors with ids 841,842,843,844,845 were not detected in the Kubernetes cluster after 60000 ms despite the fact that a previous allocation attempt tried to create them. The executors may have been deleted but the application missed the deletion event.\n",
      "23/07/17 20:46:50 WARN kns=aspangher appId=spark-application-1689616617528 execId=driver ExecutorPodsAllocator: Executors with ids 846,847,848,849,850 were not detected in the Kubernetes cluster after 60000 ms despite the fact that a previous allocation attempt tried to create them. The executors may have been deleted but the application missed the deletion event.\n",
      "23/07/17 20:47:52 WARN kns=aspangher appId=spark-application-1689616617528 execId=driver ExecutorPodsAllocator: Executors with ids 851,852,853,854,855 were not detected in the Kubernetes cluster after 60000 ms despite the fact that a previous allocation attempt tried to create them. The executors may have been deleted but the application missed the deletion event.\n",
      "23/07/17 20:48:53 WARN kns=aspangher appId=spark-application-1689616617528 execId=driver ExecutorPodsAllocator: Executors with ids 856,857,858,859,860 were not detected in the Kubernetes cluster after 60000 ms despite the fact that a previous allocation attempt tried to create them. The executors may have been deleted but the application missed the deletion event.\n",
      "23/07/17 20:49:54 WARN kns=aspangher appId=spark-application-1689616617528 execId=driver ExecutorPodsAllocator: Executors with ids 861,862,863,864,865 were not detected in the Kubernetes cluster after 60000 ms despite the fact that a previous allocation attempt tried to create them. The executors may have been deleted but the application missed the deletion event.\n",
      "23/07/17 20:50:55 WARN kns=aspangher appId=spark-application-1689616617528 execId=driver ExecutorPodsAllocator: Executors with ids 866,867,868,869,870 were not detected in the Kubernetes cluster after 60000 ms despite the fact that a previous allocation attempt tried to create them. The executors may have been deleted but the application missed the deletion event.\n",
      "23/07/17 20:51:57 WARN kns=aspangher appId=spark-application-1689616617528 execId=driver ExecutorPodsAllocator: Executors with ids 871,872,873,874,875 were not detected in the Kubernetes cluster after 60000 ms despite the fact that a previous allocation attempt tried to create them. The executors may have been deleted but the application missed the deletion event.\n",
      "23/07/17 20:52:58 WARN kns=aspangher appId=spark-application-1689616617528 execId=driver ExecutorPodsAllocator: Executors with ids 876,877,878,879,880 were not detected in the Kubernetes cluster after 60000 ms despite the fact that a previous allocation attempt tried to create them. The executors may have been deleted but the application missed the deletion event.\n",
      "23/07/17 20:53:59 WARN kns=aspangher appId=spark-application-1689616617528 execId=driver ExecutorPodsAllocator: Executors with ids 881,882,883,884,885 were not detected in the Kubernetes cluster after 60000 ms despite the fact that a previous allocation attempt tried to create them. The executors may have been deleted but the application missed the deletion event.\n",
      "23/07/17 20:55:01 WARN kns=aspangher appId=spark-application-1689616617528 execId=driver ExecutorPodsAllocator: Executors with ids 886,887,888,889,890 were not detected in the Kubernetes cluster after 60000 ms despite the fact that a previous allocation attempt tried to create them. The executors may have been deleted but the application missed the deletion event.\n",
      "23/07/17 20:56:02 WARN kns=aspangher appId=spark-application-1689616617528 execId=driver ExecutorPodsAllocator: Executors with ids 891,892,893,894,895 were not detected in the Kubernetes cluster after 60000 ms despite the fact that a previous allocation attempt tried to create them. The executors may have been deleted but the application missed the deletion event.\n",
      "23/07/17 20:57:03 WARN kns=aspangher appId=spark-application-1689616617528 execId=driver ExecutorPodsAllocator: Executors with ids 896,897,898,899,900 were not detected in the Kubernetes cluster after 60000 ms despite the fact that a previous allocation attempt tried to create them. The executors may have been deleted but the application missed the deletion event.\n",
      "23/07/17 20:58:04 WARN kns=aspangher appId=spark-application-1689616617528 execId=driver ExecutorPodsAllocator: Executors with ids 901,902,903,904,905 were not detected in the Kubernetes cluster after 60000 ms despite the fact that a previous allocation attempt tried to create them. The executors may have been deleted but the application missed the deletion event.\n",
      "23/07/17 20:59:06 WARN kns=aspangher appId=spark-application-1689616617528 execId=driver ExecutorPodsAllocator: Executors with ids 906,907,908,909,910 were not detected in the Kubernetes cluster after 60000 ms despite the fact that a previous allocation attempt tried to create them. The executors may have been deleted but the application missed the deletion event.\n",
      "23/07/17 21:00:07 WARN kns=aspangher appId=spark-application-1689616617528 execId=driver ExecutorPodsAllocator: Executors with ids 911,912,913,914,915 were not detected in the Kubernetes cluster after 60000 ms despite the fact that a previous allocation attempt tried to create them. The executors may have been deleted but the application missed the deletion event.\n",
      "23/07/17 21:01:08 WARN kns=aspangher appId=spark-application-1689616617528 execId=driver ExecutorPodsAllocator: Executors with ids 916,917,918,919,920 were not detected in the Kubernetes cluster after 60000 ms despite the fact that a previous allocation attempt tried to create them. The executors may have been deleted but the application missed the deletion event.\n",
      "23/07/17 21:02:09 WARN kns=aspangher appId=spark-application-1689616617528 execId=driver ExecutorPodsAllocator: Executors with ids 921,922,923,924,925 were not detected in the Kubernetes cluster after 60000 ms despite the fact that a previous allocation attempt tried to create them. The executors may have been deleted but the application missed the deletion event.\n",
      "23/07/17 21:03:11 WARN kns=aspangher appId=spark-application-1689616617528 execId=driver ExecutorPodsAllocator: Executors with ids 926,927,928,929,930 were not detected in the Kubernetes cluster after 60000 ms despite the fact that a previous allocation attempt tried to create them. The executors may have been deleted but the application missed the deletion event.\n",
      "23/07/17 21:04:12 WARN kns=aspangher appId=spark-application-1689616617528 execId=driver ExecutorPodsAllocator: Executors with ids 931,932,933,934,935 were not detected in the Kubernetes cluster after 60000 ms despite the fact that a previous allocation attempt tried to create them. The executors may have been deleted but the application missed the deletion event.\n",
      "23/07/17 21:05:13 WARN kns=aspangher appId=spark-application-1689616617528 execId=driver ExecutorPodsAllocator: Executors with ids 936,937,938,939,940 were not detected in the Kubernetes cluster after 60000 ms despite the fact that a previous allocation attempt tried to create them. The executors may have been deleted but the application missed the deletion event.\n",
      "23/07/17 21:06:15 WARN kns=aspangher appId=spark-application-1689616617528 execId=driver ExecutorPodsAllocator: Executors with ids 941,942,943,944,945 were not detected in the Kubernetes cluster after 60000 ms despite the fact that a previous allocation attempt tried to create them. The executors may have been deleted but the application missed the deletion event.\n",
      "23/07/17 21:07:16 WARN kns=aspangher appId=spark-application-1689616617528 execId=driver ExecutorPodsAllocator: Executors with ids 946,947,948,949,950 were not detected in the Kubernetes cluster after 60000 ms despite the fact that a previous allocation attempt tried to create them. The executors may have been deleted but the application missed the deletion event.\n",
      "23/07/17 21:08:17 WARN kns=aspangher appId=spark-application-1689616617528 execId=driver ExecutorPodsAllocator: Executors with ids 951,952,953,954,955 were not detected in the Kubernetes cluster after 60000 ms despite the fact that a previous allocation attempt tried to create them. The executors may have been deleted but the application missed the deletion event.\n",
      "23/07/17 21:09:19 WARN kns=aspangher appId=spark-application-1689616617528 execId=driver ExecutorPodsAllocator: Executors with ids 956,957,958,959,960 were not detected in the Kubernetes cluster after 60000 ms despite the fact that a previous allocation attempt tried to create them. The executors may have been deleted but the application missed the deletion event.\n",
      "23/07/17 21:10:20 WARN kns=aspangher appId=spark-application-1689616617528 execId=driver ExecutorPodsAllocator: Executors with ids 961,962,963,964,965 were not detected in the Kubernetes cluster after 60000 ms despite the fact that a previous allocation attempt tried to create them. The executors may have been deleted but the application missed the deletion event.\n",
      "23/07/17 21:11:21 WARN kns=aspangher appId=spark-application-1689616617528 execId=driver ExecutorPodsAllocator: Executors with ids 966,967,968,969,970 were not detected in the Kubernetes cluster after 60000 ms despite the fact that a previous allocation attempt tried to create them. The executors may have been deleted but the application missed the deletion event.\n",
      "23/07/17 21:12:22 WARN kns=aspangher appId=spark-application-1689616617528 execId=driver ExecutorPodsAllocator: Executors with ids 971,972,973,974,975 were not detected in the Kubernetes cluster after 60000 ms despite the fact that a previous allocation attempt tried to create them. The executors may have been deleted but the application missed the deletion event.\n",
      "23/07/17 21:13:24 WARN kns=aspangher appId=spark-application-1689616617528 execId=driver ExecutorPodsAllocator: Executors with ids 976,977,978,979,980 were not detected in the Kubernetes cluster after 60000 ms despite the fact that a previous allocation attempt tried to create them. The executors may have been deleted but the application missed the deletion event.\n",
      "23/07/17 21:14:25 WARN kns=aspangher appId=spark-application-1689616617528 execId=driver ExecutorPodsAllocator: Executors with ids 981,982,983,984,985 were not detected in the Kubernetes cluster after 60000 ms despite the fact that a previous allocation attempt tried to create them. The executors may have been deleted but the application missed the deletion event.\n",
      "23/07/17 21:15:26 WARN kns=aspangher appId=spark-application-1689616617528 execId=driver ExecutorPodsAllocator: Executors with ids 986,987,988,989,990 were not detected in the Kubernetes cluster after 60000 ms despite the fact that a previous allocation attempt tried to create them. The executors may have been deleted but the application missed the deletion event.\n",
      "23/07/17 21:16:28 WARN kns=aspangher appId=spark-application-1689616617528 execId=driver ExecutorPodsAllocator: Executors with ids 991,992,993,994,995 were not detected in the Kubernetes cluster after 60000 ms despite the fact that a previous allocation attempt tried to create them. The executors may have been deleted but the application missed the deletion event.\n"
     ]
    }
   ],
   "source": [
    "bcs_cfg = BCSConfig(\n",
    "    endpoint_url=\"http://s3.dev.obdc.bcs.bloomberg.com\",\n",
    "    access_key=\"VN2M29BH4PCAJT9ABZKN\",\n",
    "    secret_key=\"O9bcBpaprrXr6Q3dorn0XYI4Kp8go6oBDBYFYqeD\",\n",
    "    proxy=None\n",
    ")\n",
    "\n",
    "RemoteIO.transfer(\n",
    "    'hdfs://DOB2-GEN/user/aspangher/press-release-newsarchive/news-archive-df.json',\n",
    "    's3://aspangher/press-release-newsarchive/news-archive-df.json',\n",
    "    to_storage_config=bcs_cfg\n",
    ")"
   ]
  },
  {
   "cell_type": "code",
   "execution_count": null,
   "id": "9995c851-76ee-43c2-8d60-b4b57f6288d9",
   "metadata": {},
   "outputs": [],
   "source": []
  },
  {
   "cell_type": "code",
   "execution_count": null,
   "id": "ecf53b10-ce57-4c60-b078-2adb205df053",
   "metadata": {},
   "outputs": [],
   "source": []
  },
  {
   "cell_type": "code",
   "execution_count": null,
   "id": "a34a2c39-50d2-4668-baca-54092053aad7",
   "metadata": {},
   "outputs": [],
   "source": []
  },
  {
   "cell_type": "code",
   "execution_count": null,
   "id": "8669910a-91fa-4d9b-9dbb-b9e63b790901",
   "metadata": {
    "tags": []
   },
   "outputs": [],
   "source": []
  },
  {
   "cell_type": "code",
   "execution_count": null,
   "id": "5bbb8329-70d1-41a1-9de0-4a10a512fb3e",
   "metadata": {
    "tags": []
   },
   "outputs": [],
   "source": []
  },
  {
   "cell_type": "code",
   "execution_count": null,
   "id": "c5d8ab8c-90b8-476e-b854-b309ece6c875",
   "metadata": {
    "tags": []
   },
   "outputs": [],
   "source": []
  },
  {
   "cell_type": "code",
   "execution_count": null,
   "id": "1bac9317-0a07-4e43-9dbc-b2ffc17fb20f",
   "metadata": {},
   "outputs": [],
   "source": []
  },
  {
   "cell_type": "code",
   "execution_count": 7,
   "id": "01f1b5bf-eb57-4da0-9150-b05e3f817b20",
   "metadata": {
    "tags": []
   },
   "outputs": [],
   "source": [
    "from pyspark.sql.types import ArrayType, StructType, StructField, StringType\n",
    "\n",
    "def get_hyperlinks(body):\n",
    "    import os \n",
    "    os.system(\"pip install beautifulsoup4\")\n",
    "    from bs4 import BeautifulSoup\n",
    "    output = []\n",
    "    soup = BeautifulSoup(body)\n",
    "    a_s = soup.find_all('a')\n",
    "    a_s = list(filter(lambda x: x.attrs.get('href'), a_s))\n",
    "    \n",
    "    output = []\n",
    "    for a in a_s:\n",
    "        attrs = a.attrs\n",
    "        attrs['text'] = a.get_text().strip()\n",
    "        output.append(attrs)\n",
    "    \n",
    "    return output\n",
    "    \n",
    "get_hyperlinks_udf = udf(f=get_hyperlinks, returnType=ArrayType(\n",
    "    StructType([\n",
    "        StructField('href', StringType()),\n",
    "        StructField('title', StringType()),\n",
    "        StructField('itemscope', StringType()),\n",
    "        StructField('itemprop', StringType()),\n",
    "        StructField('text', StringType()),\n",
    "    ])\n",
    "))\n",
    "\n",
    "full_beat_df = (\n",
    "    newsarchive_df\n",
    "     .filter(newsarchive_df.wire == 25)\n",
    "     .filter(check_overlap_udf(newsarchive_df.nicodes))\n",
    ")\n",
    "\n",
    "hyperlinks_df = (\n",
    "    newsarchive_df\n",
    "     .filter(newsarchive_df.wire == 25)\n",
    "     .filter(check_overlap_udf(newsarchive_df.nicodes))\n",
    "     .limit(2000)\n",
    "     .select(get_hyperlinks_udf('body').alias('hyperlinks'))\n",
    "     .toPandas()\n",
    ")"
   ]
  },
  {
   "cell_type": "code",
   "execution_count": null,
   "id": "198573c5-92e5-4df5-b86a-fd8f01f4499d",
   "metadata": {},
   "outputs": [
    {
     "name": "stderr",
     "output_type": "stream",
     "text": [
      "23/07/07 17:35:13 WARN kns=aspangher appId=spark-application-1688418353205 execId=driver ExecutorPodsAllocator: Executors with ids 27171,27172,27173,27174,27175 were not detected in the Kubernetes cluster after 60000 ms despite the fact that a previous allocation attempt tried to create them. The executors may have been deleted but the application missed the deletion event.\n",
      "23/07/07 17:38:17 WARN kns=aspangher appId=spark-application-1688418353205 execId=driver ExecutorPodsAllocator: Executors with ids 27186,27187,27188,27189,27190 were not detected in the Kubernetes cluster after 60000 ms despite the fact that a previous allocation attempt tried to create them. The executors may have been deleted but the application missed the deletion event.\n",
      "23/07/07 17:39:18 WARN kns=aspangher appId=spark-application-1688418353205 execId=driver ExecutorPodsAllocator: Executors with ids 27191,27192,27193,27194,27195 were not detected in the Kubernetes cluster after 60000 ms despite the fact that a previous allocation attempt tried to create them. The executors may have been deleted but the application missed the deletion event.\n",
      "23/07/07 17:40:19 WARN kns=aspangher appId=spark-application-1688418353205 execId=driver ExecutorPodsAllocator: Executors with ids 27196,27197,27198,27199,27200 were not detected in the Kubernetes cluster after 60000 ms despite the fact that a previous allocation attempt tried to create them. The executors may have been deleted but the application missed the deletion event.\n",
      "23/07/07 17:41:20 WARN kns=aspangher appId=spark-application-1688418353205 execId=driver ExecutorPodsAllocator: Executors with ids 27201,27202,27203,27204,27205 were not detected in the Kubernetes cluster after 60000 ms despite the fact that a previous allocation attempt tried to create them. The executors may have been deleted but the application missed the deletion event.\n",
      "23/07/07 17:42:22 WARN kns=aspangher appId=spark-application-1688418353205 execId=driver ExecutorPodsAllocator: Executors with ids 27206,27207,27208,27209,27210 were not detected in the Kubernetes cluster after 60000 ms despite the fact that a previous allocation attempt tried to create them. The executors may have been deleted but the application missed the deletion event.\n",
      "23/07/07 17:43:23 WARN kns=aspangher appId=spark-application-1688418353205 execId=driver ExecutorPodsAllocator: Executors with ids 27211,27212,27213,27214,27215 were not detected in the Kubernetes cluster after 60000 ms despite the fact that a previous allocation attempt tried to create them. The executors may have been deleted but the application missed the deletion event.\n",
      "23/07/07 17:44:24 WARN kns=aspangher appId=spark-application-1688418353205 execId=driver ExecutorPodsAllocator: Executors with ids 27216,27217,27218,27219,27220 were not detected in the Kubernetes cluster after 60000 ms despite the fact that a previous allocation attempt tried to create them. The executors may have been deleted but the application missed the deletion event.\n",
      "23/07/07 17:45:26 WARN kns=aspangher appId=spark-application-1688418353205 execId=driver ExecutorPodsAllocator: Executors with ids 27221,27222,27223,27224,27225 were not detected in the Kubernetes cluster after 60000 ms despite the fact that a previous allocation attempt tried to create them. The executors may have been deleted but the application missed the deletion event.\n",
      "23/07/07 17:46:27 WARN kns=aspangher appId=spark-application-1688418353205 execId=driver ExecutorPodsAllocator: Executors with ids 27226,27227,27228,27229,27230 were not detected in the Kubernetes cluster after 60000 ms despite the fact that a previous allocation attempt tried to create them. The executors may have been deleted but the application missed the deletion event.\n",
      "23/07/07 17:47:28 WARN kns=aspangher appId=spark-application-1688418353205 execId=driver ExecutorPodsAllocator: Executors with ids 27231,27232,27233,27234,27235 were not detected in the Kubernetes cluster after 60000 ms despite the fact that a previous allocation attempt tried to create them. The executors may have been deleted but the application missed the deletion event.\n",
      "23/07/07 17:48:29 WARN kns=aspangher appId=spark-application-1688418353205 execId=driver ExecutorPodsAllocator: Executors with ids 27236,27237,27238,27239,27240 were not detected in the Kubernetes cluster after 60000 ms despite the fact that a previous allocation attempt tried to create them. The executors may have been deleted but the application missed the deletion event.\n",
      "23/07/07 17:49:31 WARN kns=aspangher appId=spark-application-1688418353205 execId=driver ExecutorPodsAllocator: Executors with ids 27241,27242,27243,27244,27245 were not detected in the Kubernetes cluster after 60000 ms despite the fact that a previous allocation attempt tried to create them. The executors may have been deleted but the application missed the deletion event.\n",
      "23/07/07 17:50:32 WARN kns=aspangher appId=spark-application-1688418353205 execId=driver ExecutorPodsAllocator: Executors with ids 27246,27247,27248,27249,27250 were not detected in the Kubernetes cluster after 60000 ms despite the fact that a previous allocation attempt tried to create them. The executors may have been deleted but the application missed the deletion event.\n",
      "23/07/07 17:51:34 WARN kns=aspangher appId=spark-application-1688418353205 execId=driver ExecutorPodsAllocator: Executors with ids 27251,27252,27253,27254,27255 were not detected in the Kubernetes cluster after 60000 ms despite the fact that a previous allocation attempt tried to create them. The executors may have been deleted but the application missed the deletion event.\n",
      "23/07/07 17:52:35 WARN kns=aspangher appId=spark-application-1688418353205 execId=driver ExecutorPodsAllocator: Executors with ids 27256,27257,27258,27259,27260 were not detected in the Kubernetes cluster after 60000 ms despite the fact that a previous allocation attempt tried to create them. The executors may have been deleted but the application missed the deletion event.\n",
      "23/07/07 17:53:36 WARN kns=aspangher appId=spark-application-1688418353205 execId=driver ExecutorPodsAllocator: Executors with ids 27261,27262,27263,27264,27265 were not detected in the Kubernetes cluster after 60000 ms despite the fact that a previous allocation attempt tried to create them. The executors may have been deleted but the application missed the deletion event.\n",
      "23/07/07 17:54:37 WARN kns=aspangher appId=spark-application-1688418353205 execId=driver ExecutorPodsAllocator: Executors with ids 27266,27267,27268,27269,27270 were not detected in the Kubernetes cluster after 60000 ms despite the fact that a previous allocation attempt tried to create them. The executors may have been deleted but the application missed the deletion event.\n",
      "23/07/07 17:55:39 WARN kns=aspangher appId=spark-application-1688418353205 execId=driver ExecutorPodsAllocator: Executors with ids 27271,27272,27273,27274,27275 were not detected in the Kubernetes cluster after 60000 ms despite the fact that a previous allocation attempt tried to create them. The executors may have been deleted but the application missed the deletion event.\n",
      "23/07/07 17:56:40 WARN kns=aspangher appId=spark-application-1688418353205 execId=driver ExecutorPodsAllocator: Executors with ids 27276,27277,27278,27279,27280 were not detected in the Kubernetes cluster after 60000 ms despite the fact that a previous allocation attempt tried to create them. The executors may have been deleted but the application missed the deletion event.\n"
     ]
    }
   ],
   "source": []
  },
  {
   "cell_type": "code",
   "execution_count": null,
   "id": "386176de-a7b6-45f7-99e4-461ea45f01ed",
   "metadata": {},
   "outputs": [],
   "source": []
  },
  {
   "cell_type": "code",
   "execution_count": null,
   "id": "3ebf82d7-2599-4601-9203-d941389e9f21",
   "metadata": {},
   "outputs": [],
   "source": []
  },
  {
   "cell_type": "code",
   "execution_count": null,
   "id": "d94f5484-a2ed-4f7f-bd93-f0bf07f56577",
   "metadata": {},
   "outputs": [],
   "source": []
  },
  {
   "cell_type": "code",
   "execution_count": null,
   "id": "8e3115c0-2ce6-484a-9ee2-0f6e0d741ef0",
   "metadata": {},
   "outputs": [],
   "source": []
  },
  {
   "cell_type": "code",
   "execution_count": null,
   "id": "ff21fb4e-7023-4b40-88f1-f69464ee3be5",
   "metadata": {},
   "outputs": [],
   "source": []
  },
  {
   "cell_type": "code",
   "execution_count": null,
   "id": "d37e6789-452d-47cf-bd72-f26faf6b1910",
   "metadata": {},
   "outputs": [],
   "source": []
  }
 ],
 "metadata": {
  "hide_input": false,
  "kernelspec": {
   "display_name": "Python 3 (ipykernel)",
   "language": "python",
   "name": "python3"
  },
  "language_info": {
   "codemirror_mode": {
    "name": "ipython",
    "version": 3
   },
   "file_extension": ".py",
   "mimetype": "text/x-python",
   "name": "python",
   "nbconvert_exporter": "python",
   "pygments_lexer": "ipython3",
   "version": "3.10.11"
  }
 },
 "nbformat": 4,
 "nbformat_minor": 5
}
