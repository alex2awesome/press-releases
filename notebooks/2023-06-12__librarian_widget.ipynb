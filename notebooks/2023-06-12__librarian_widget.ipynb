{
 "cells": [
  {
   "cell_type": "code",
   "execution_count": 3,
   "id": "b0dacb6e-27bf-41f3-bfb0-e1bb621e934b",
   "metadata": {
    "tags": []
   },
   "outputs": [],
   "source": [
    "# ! pip install pandas==1.5.3\n",
    "# ! pip install numpy==1.23.1\n",
    "from importlib import reload\n",
    "import pandas as pd "
   ]
  },
  {
   "cell_type": "code",
   "execution_count": 41,
   "id": "9924d05e-ea9b-4d98-942d-0158c14a3946",
   "metadata": {
    "tags": []
   },
   "outputs": [
    {
     "name": "stderr",
     "output_type": "stream",
     "text": [
      "                                                                                \r"
     ]
    }
   ],
   "source": [
    "from bloomberg.ai.librarian import Librarian, get_config\n",
    "from bloomberg.ai.librarian.newsarchive.functions import has_wire_usage_criteria\n",
    "\n",
    "config = get_config()\n",
    "config.spark.properties['spark.executor.instances'] = 20\n",
    "config.spark.properties['spark.executor.memory'] = '12G'\n",
    "config.spark.properties['spark.driver.memory'] = '16G'\n",
    "\n",
    "librarian = Librarian(config)\n",
    "spark = librarian.spark_session\n",
    "ds = librarian.datasets.newsarchive.prod.v2_0()\n",
    "newsarchive_df = (\n",
    "    ds\n",
    "        .add_partition('pvf_newsldap_4')\n",
    "        .add_partition('pvf_newsldap_6')\n",
    "        .begin(year=2023, month=1, day=1)\n",
    "        .end(year=2023, month=6, day=10)\n",
    "        .fetch()\n",
    ")\n",
    "\n",
    "# Filter by Wire Usage Criteria\n",
    "criteria = {'derivative_product': True}\n",
    "newsarchive_df = newsarchive_df.filter(has_wire_usage_criteria(**criteria))"
   ]
  },
  {
   "cell_type": "code",
   "execution_count": 4,
   "id": "07372dda-247d-46e4-ae18-da397b7e290c",
   "metadata": {
    "tags": []
   },
   "outputs": [],
   "source": [
    "nana_df = pd.read_csv('big-processed-nana-file-0.csv.gz', compression='gzip', index_col=0)"
   ]
  },
  {
   "cell_type": "code",
   "execution_count": 17,
   "id": "d05c4ba9-9b42-45e4-be76-b2e9ee1d7ae3",
   "metadata": {
    "tags": []
   },
   "outputs": [
    {
     "name": "stderr",
     "output_type": "stream",
     "text": [
      "/layers/com.bloomberg.ds.buildpacks.spark/spark/python/pyspark/sql/pandas/conversion.py:327: FutureWarning: iteritems is deprecated and will be removed in a future version. Use .items instead.\n",
      "  for column, series in pdf.iteritems():\n"
     ]
    }
   ],
   "source": [
    "nana_spark_df = spark.createDataFrame(nana_df[['story_suid']]) "
   ]
  },
  {
   "cell_type": "code",
   "execution_count": 27,
   "id": "479c7dc5-202f-4363-83ea-64e3fd9e27e4",
   "metadata": {
    "tags": []
   },
   "outputs": [
    {
     "data": {
      "text/plain": [
       "Column<b'(suid = story_suid)'>"
      ]
     },
     "execution_count": 27,
     "metadata": {},
     "output_type": "execute_result"
    }
   ],
   "source": [
    "newsarchive_df.suid == nana_spark_df.story_suid"
   ]
  },
  {
   "cell_type": "code",
   "execution_count": 49,
   "id": "b5fe8282-4355-4ed4-8fcf-c5d217cb9c5a",
   "metadata": {
    "tags": []
   },
   "outputs": [
    {
     "data": {
      "text/plain": [
       "['suid',\n",
       " 'wire',\n",
       " 'class',\n",
       " 'bloom_lang',\n",
       " 'headline',\n",
       " 'hotlevel',\n",
       " 'indicator_bitmap',\n",
       " 'legacy_txtencoding',\n",
       " 'pub_date',\n",
       " 'story_state',\n",
       " 'timeofarrival',\n",
       " 'updatetime',\n",
       " 'version_type',\n",
       " 'deleteflag',\n",
       " 'is_priv_freeish',\n",
       " 'ptype',\n",
       " 'pbits',\n",
       " 'pay_per_view',\n",
       " 'brdirect',\n",
       " 'allow_headline_url_on_feed',\n",
       " 'alt_ptype',\n",
       " 'alt_pbits',\n",
       " 'use_wire_pbit',\n",
       " 'wire_mnemonic',\n",
       " 'buyside',\n",
       " 'dj',\n",
       " 'wire_name',\n",
       " 'deleted',\n",
       " 'press_release',\n",
       " 'bbnews',\n",
       " 'bmr',\n",
       " 'allow_body_on_feed',\n",
       " 'embargoed',\n",
       " 'is_priv_not_for_clients',\n",
       " 'nse_release',\n",
       " 'platts_wire',\n",
       " 'is_web',\n",
       " 'wire_pbit',\n",
       " 'restricted',\n",
       " 'is_serve_from_web',\n",
       " 'body',\n",
       " 'body_state',\n",
       " 'body_texttype',\n",
       " 'footer',\n",
       " 'slug',\n",
       " 'nicodes',\n",
       " 'people',\n",
       " 'tickers',\n",
       " 'story_attachment',\n",
       " 'bunch_id',\n",
       " 'delete_flag',\n",
       " 'suid_role',\n",
       " 'story_roles_updatetime',\n",
       " 'waiting_for_role',\n",
       " 'agentid',\n",
       " 'agentname',\n",
       " 'url_part1',\n",
       " 'url_part2',\n",
       " 'url_part3',\n",
       " 'url_part4',\n",
       " 'derived_nicodes',\n",
       " 'derived_people',\n",
       " 'derived_tickers',\n",
       " 'groupid']"
      ]
     },
     "execution_count": 49,
     "metadata": {},
     "output_type": "execute_result"
    }
   ],
   "source": [
    "newsarchive_df.columns"
   ]
  },
  {
   "cell_type": "code",
   "execution_count": 71,
   "id": "38d44a31-1154-4953-bbe5-24c1c2b9b57d",
   "metadata": {
    "tags": []
   },
   "outputs": [],
   "source": [
    "# newsarchive_df.filter(newsarchive_df.bbnews==True).select('body').head(5)\n",
    "# newsarchive_df.select('is_serve_from_web').show()"
   ]
  },
  {
   "cell_type": "code",
   "execution_count": 78,
   "id": "06582813-9187-4d30-87a4-68d72c63f457",
   "metadata": {
    "tags": []
   },
   "outputs": [
    {
     "name": "stderr",
     "output_type": "stream",
     "text": [
      "                                                                                \r"
     ]
    }
   ],
   "source": [
    "combined_df = (\n",
    "    newsarchive_df\n",
    "        .select('suid', 'headline', 'hotlevel', 'buyside', 'is_serve_from_web', 'body',)\n",
    "        .join(nana_spark_df, newsarchive_df.suid == nana_spark_df.story_suid)\n",
    "        .toPandas()\n",
    ")"
   ]
  },
  {
   "cell_type": "code",
   "execution_count": 81,
   "id": "8e3492b2-5f6e-4883-9120-86bbda0abe5c",
   "metadata": {
    "tags": []
   },
   "outputs": [
    {
     "data": {
      "text/html": [
       "<div>\n",
       "<style scoped>\n",
       "    .dataframe tbody tr th:only-of-type {\n",
       "        vertical-align: middle;\n",
       "    }\n",
       "\n",
       "    .dataframe tbody tr th {\n",
       "        vertical-align: top;\n",
       "    }\n",
       "\n",
       "    .dataframe thead th {\n",
       "        text-align: right;\n",
       "    }\n",
       "</style>\n",
       "<table border=\"1\" class=\"dataframe\">\n",
       "  <thead>\n",
       "    <tr style=\"text-align: right;\">\n",
       "      <th></th>\n",
       "      <th>suid</th>\n",
       "      <th>headline</th>\n",
       "      <th>hotlevel</th>\n",
       "      <th>buyside</th>\n",
       "      <th>is_serve_from_web</th>\n",
       "      <th>body</th>\n",
       "      <th>story_suid</th>\n",
       "    </tr>\n",
       "  </thead>\n",
       "  <tbody>\n",
       "    <tr>\n",
       "      <th>0</th>\n",
       "      <td>RTRCRJMS385E</td>\n",
       "      <td>Takkt 1Q Ebitda EU30.2M Vs. EU32.7M Y/y</td>\n",
       "      <td>0</td>\n",
       "      <td>False</td>\n",
       "      <td>False</td>\n",
       "      <td>&lt;sections&gt;\\n&lt;section class=\"news-rsf-text-head...</td>\n",
       "      <td>RTRCRJMS385E</td>\n",
       "    </tr>\n",
       "    <tr>\n",
       "      <th>1</th>\n",
       "      <td>RTRUO9MRXLVL</td>\n",
       "      <td>Hertz 1Q Adjusted EPS Beats Estimates</td>\n",
       "      <td>0</td>\n",
       "      <td>False</td>\n",
       "      <td>False</td>\n",
       "      <td>&lt;sections&gt;\\n&lt;section class=\"news-rsf-text-head...</td>\n",
       "      <td>RTRUO9MRXLVL</td>\n",
       "    </tr>\n",
       "    <tr>\n",
       "      <th>2</th>\n",
       "      <td>RQ25T3DWX2PS</td>\n",
       "      <td>Telkom Expects Swiftnet Offers in March, Recei...</td>\n",
       "      <td>0</td>\n",
       "      <td>False</td>\n",
       "      <td>False</td>\n",
       "      <td>&lt;sections&gt;\\n&lt;section class=\"news-rsf-text-head...</td>\n",
       "      <td>RQ25T3DWX2PS</td>\n",
       "    </tr>\n",
       "    <tr>\n",
       "      <th>3</th>\n",
       "      <td>RUUBOH6RV5DT</td>\n",
       "      <td>Burberry FY Retail Sales Meets Estimates</td>\n",
       "      <td>0</td>\n",
       "      <td>False</td>\n",
       "      <td>False</td>\n",
       "      <td>&lt;sections&gt;\\n&lt;section class=\"news-rsf-text-head...</td>\n",
       "      <td>RUUBOH6RV5DT</td>\n",
       "    </tr>\n",
       "    <tr>\n",
       "      <th>4</th>\n",
       "      <td>RUUBLE6RV5DV</td>\n",
       "      <td>Premier Foods FY Adjusted Pretax Profit Beats ...</td>\n",
       "      <td>0</td>\n",
       "      <td>False</td>\n",
       "      <td>False</td>\n",
       "      <td>&lt;sections&gt;\\n&lt;section class=\"news-rsf-text-head...</td>\n",
       "      <td>RUUBLE6RV5DV</td>\n",
       "    </tr>\n",
       "  </tbody>\n",
       "</table>\n",
       "</div>"
      ],
      "text/plain": [
       "           suid                                           headline  hotlevel  \\\n",
       "0  RTRCRJMS385E            Takkt 1Q Ebitda EU30.2M Vs. EU32.7M Y/y         0   \n",
       "1  RTRUO9MRXLVL              Hertz 1Q Adjusted EPS Beats Estimates         0   \n",
       "2  RQ25T3DWX2PS  Telkom Expects Swiftnet Offers in March, Recei...         0   \n",
       "3  RUUBOH6RV5DT           Burberry FY Retail Sales Meets Estimates         0   \n",
       "4  RUUBLE6RV5DV  Premier Foods FY Adjusted Pretax Profit Beats ...         0   \n",
       "\n",
       "   buyside  is_serve_from_web  \\\n",
       "0    False              False   \n",
       "1    False              False   \n",
       "2    False              False   \n",
       "3    False              False   \n",
       "4    False              False   \n",
       "\n",
       "                                                body    story_suid  \n",
       "0  <sections>\\n<section class=\"news-rsf-text-head...  RTRCRJMS385E  \n",
       "1  <sections>\\n<section class=\"news-rsf-text-head...  RTRUO9MRXLVL  \n",
       "2  <sections>\\n<section class=\"news-rsf-text-head...  RQ25T3DWX2PS  \n",
       "3  <sections>\\n<section class=\"news-rsf-text-head...  RUUBOH6RV5DT  \n",
       "4  <sections>\\n<section class=\"news-rsf-text-head...  RUUBLE6RV5DV  "
      ]
     },
     "execution_count": 81,
     "metadata": {},
     "output_type": "execute_result"
    }
   ],
   "source": [
    "combined_df.head()"
   ]
  },
  {
   "cell_type": "code",
   "execution_count": null,
   "id": "d2b8ac5d-fa94-45b8-8faf-3b027dbe5dad",
   "metadata": {},
   "outputs": [],
   "source": []
  },
  {
   "cell_type": "code",
   "execution_count": null,
   "id": "6f589178-cf61-4adc-8092-4f44690e24f9",
   "metadata": {},
   "outputs": [],
   "source": []
  },
  {
   "cell_type": "code",
   "execution_count": null,
   "id": "1f7658df-f3b7-4b59-b402-852b003689a4",
   "metadata": {},
   "outputs": [],
   "source": []
  },
  {
   "cell_type": "code",
   "execution_count": null,
   "id": "d6ce50ea-4100-4590-9a28-c9a2eac0100d",
   "metadata": {},
   "outputs": [],
   "source": []
  }
 ],
 "metadata": {
  "kernelspec": {
   "display_name": "Python 3 (ipykernel)",
   "language": "python",
   "name": "python3"
  },
  "language_info": {
   "codemirror_mode": {
    "name": "ipython",
    "version": 3
   },
   "file_extension": ".py",
   "mimetype": "text/x-python",
   "name": "python",
   "nbconvert_exporter": "python",
   "pygments_lexer": "ipython3",
   "version": "3.9.16"
  },
  "vscode": {
   "interpreter": {
    "hash": "832235adb403499685bba31801382a09b54a6bf79f52cd21367dab4c2087769b"
   }
  }
 },
 "nbformat": 4,
 "nbformat_minor": 5
}
