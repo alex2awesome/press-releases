{
 "cells": [
  {
   "cell_type": "code",
   "execution_count": 2,
   "id": "3636a737",
   "metadata": {},
   "outputs": [],
   "source": [
    "import requests\n",
    "import json\n",
    "import os\n",
    "os.environ['CURL_CA_BUNDLE'] = '/Users/alex/.bb-cert/ca-bundle.trust.crt'\n",
    "\n",
    "def format_summarize_press_release_prompt(input_text):\n",
    "    return f\"\"\"\n",
    "    {input_text}\n",
    "\n",
    "    Below is a bullet-point summary of the above article:\n",
    "    \"\"\"\n",
    "\n",
    "def format_instructions(input_text):\n",
    "    input_text = input_text.replace('\\n' ,' ')\n",
    "    return f\"\"\"\n",
    "    You are a journalist. Please summarize the important points in the following press release.\n",
    "    Do not say anything not in the press release.\n",
    "\n",
    "    Here is the press release: \"{input_text}\". Write you summarized bullet points now:\n",
    "    \"\"\"\n",
    "\n",
    "model_url = 'https://bbgpt-dev-s-ailm.inference-dev-01-pw.dsp.dev.bloomberg.com/v1/models/bbgpt:predict'\n",
    "instruct_model_a_url = 'https://bbgpt-ft-a-dev-s-ailm.inference-dev-01-tt.dsp.dev.bloomberg.com/v1/models/bbgpt-ft-a:predict'\n",
    "instruct_model_b_url = 'https://bbgpt-ft-b-dev-s-ailm.inference-dev-01-tt.dsp.dev.bloomberg.com/v1/models/bbgpt-ft-b:predict'\n",
    "# model_url = 'https://mpt-7b-instruct-s-ailm.inference-dev-01-tt.dsp.dev.bloomberg.com/v1/models/mpt-7b-instruct:predict'"
   ]
  },
  {
   "cell_type": "markdown",
   "id": "0e583e5f",
   "metadata": {},
   "source": [
    "## Read in News Discourse"
   ]
  },
  {
   "cell_type": "code",
   "execution_count": 19,
   "id": "7e435c2e",
   "metadata": {},
   "outputs": [],
   "source": [
    "import jsonlines\n",
    "import pandas as pd "
   ]
  },
  {
   "cell_type": "code",
   "execution_count": 67,
   "id": "07273724",
   "metadata": {},
   "outputs": [],
   "source": [
    "def read_news_discourse():\n",
    "    with open('../data/news-discourse.jsonl') as f:\n",
    "        news_discourse = list(jsonlines.Reader(f))\n",
    "        news_discourse_df = list(map(pd.DataFrame, news_discourse))\n",
    "        full_news_discourse_df = pd.concat(news_discourse_df)\n",
    "    return full_news_discourse_df\n",
    "full_news_discourse_df = read_news_discourse()"
   ]
  },
  {
   "cell_type": "markdown",
   "id": "c7618784",
   "metadata": {},
   "source": [
    "## Read and Filter Press Releases"
   ]
  },
  {
   "cell_type": "code",
   "execution_count": 45,
   "id": "1a38ca6e",
   "metadata": {},
   "outputs": [
    {
     "data": {
      "application/vnd.jupyter.widget-view+json": {
       "model_id": "bead7e3368474018a99285095150a329",
       "version_major": 2,
       "version_minor": 0
      },
      "text/plain": [
       "  0%|          | 0/6 [00:00<?, ?it/s]"
      ]
     },
     "metadata": {},
     "output_type": "display_data"
    }
   ],
   "source": [
    "import glob\n",
    "from tqdm.auto import tqdm \n",
    "\n",
    "all_releases = glob.glob('../data/zomo-downloads/*release*')\n",
    "all_releases = list(filter(lambda x: '$' not in x, all_releases))\n",
    "all_maps = glob.glob('../data/zomo-downloads/*suids-rids*')\n",
    "\n",
    "all_maps_dfs = []\n",
    "for f in tqdm(all_maps):\n",
    "    all_maps_dfs.append(pd.read_excel(f))\n",
    "all_maps_df = pd.concat(all_maps_dfs)"
   ]
  },
  {
   "cell_type": "code",
   "execution_count": 46,
   "id": "678665bf",
   "metadata": {},
   "outputs": [
    {
     "data": {
      "application/vnd.jupyter.widget-view+json": {
       "model_id": "3b00da13a5324a1bbfa86c7d1cb11bd4",
       "version_major": 2,
       "version_minor": 0
      },
      "text/plain": [
       "  0%|          | 0/22 [00:00<?, ?it/s]"
      ]
     },
     "metadata": {},
     "output_type": "display_data"
    }
   ],
   "source": [
    "all_release_dfs = []\n",
    "for f in tqdm(all_releases):\n",
    "    all_release_dfs.append(pd.read_excel(f))\n",
    "all_release_df = pd.concat(all_release_dfs)"
   ]
  },
  {
   "cell_type": "code",
   "execution_count": 54,
   "id": "c9ecfde0",
   "metadata": {},
   "outputs": [
    {
     "data": {
      "text/plain": [
       "0    R6AZ03T0AFB4\n",
       "0    R7MGYFT0AFB4\n",
       "0    R9E46BDWRGG1\n",
       "0    RB39YPDWX2PV\n",
       "0    RD1ZJ2DWRGG1\n",
       "         ...     \n",
       "0    RKNLFOT0AFB4\n",
       "0    RKWH0RDWRGG2\n",
       "0    RKXAYHDWX2PS\n",
       "0    RLFOYLT1UM0X\n",
       "0    RMZ4KCT0G1KW\n",
       "Name: doc_id, Length: 1957, dtype: object"
      ]
     },
     "execution_count": 54,
     "metadata": {},
     "output_type": "execute_result"
    }
   ],
   "source": [
    "full_news_discourse_df['doc_id'].drop_duplicates()"
   ]
  },
  {
   "cell_type": "code",
   "execution_count": 57,
   "id": "76e9ef6b",
   "metadata": {},
   "outputs": [],
   "source": [
    "release_id_candidates = all_maps_df.loc[lambda df: df['story_suid'].isin(full_news_discourse_df['doc_id'])]"
   ]
  },
  {
   "cell_type": "code",
   "execution_count": 72,
   "id": "c2a41211",
   "metadata": {},
   "outputs": [],
   "source": [
    "release_id_candidates.to_csv('../data/beat-press-release-mapper__2022-2023.csv')"
   ]
  },
  {
   "cell_type": "code",
   "execution_count": 64,
   "id": "ff88af2a",
   "metadata": {},
   "outputs": [],
   "source": [
    "releases_with_linked_beat_stories = (\n",
    "    all_release_df\n",
    "        .loc[lambda df: df['release_suid'].isin(release_id_candidates['release_suid'])]\n",
    ")"
   ]
  },
  {
   "cell_type": "code",
   "execution_count": 65,
   "id": "cbc712f9",
   "metadata": {},
   "outputs": [],
   "source": [
    "releases_with_linked_beat_stories.to_csv('../data/beat-press-releases__2022-2023.csv')"
   ]
  },
  {
   "cell_type": "code",
   "execution_count": null,
   "id": "993e3b4d",
   "metadata": {},
   "outputs": [],
   "source": []
  },
  {
   "cell_type": "markdown",
   "id": "50b8d244",
   "metadata": {},
   "source": [
    "# Try to Query BBGPT for Main Ideas"
   ]
  },
  {
   "cell_type": "code",
   "execution_count": null,
   "id": "5463e43b",
   "metadata": {},
   "outputs": [],
   "source": [
    "## todo: \n",
    "# ask BBGPT each cause_general statement could be derived from the press release...? \n",
    "# see what % of the document came from press release or elsewhere? \n",
    "# "
   ]
  },
  {
   "cell_type": "code",
   "execution_count": 81,
   "id": "25d63ad8",
   "metadata": {},
   "outputs": [],
   "source": [
    "import pandas as pd \n",
    "releases_with_linked_beat_stories = pd.read_csv('../data/beat-press-releases__2022-2023.csv', index_col=0)\n",
    "full_news_discourse_df = read_news_discourse()\n",
    "full_news_discourse_df = (\n",
    "    full_news_discourse_df\n",
    "     .merge(release_id_candidates, right_on='story_suid', left_on='doc_id')\n",
    "     .drop(columns='doc_id')\n",
    ")\n",
    "release_id_candidates = pd.read_csv('../data/beat-press-release-mapper__2022-2023.csv' , index_col=0)"
   ]
  },
  {
   "cell_type": "code",
   "execution_count": 89,
   "id": "ed42d9d5",
   "metadata": {},
   "outputs": [],
   "source": [
    "release_suids = releases_with_linked_beat_stories['release_suid'].drop_duplicates().tolist()"
   ]
  },
  {
   "cell_type": "code",
   "execution_count": 126,
   "id": "cf355c32",
   "metadata": {},
   "outputs": [],
   "source": [
    "def get_press_release_news_article_pair(release_suid):\n",
    "    example_press_release = (\n",
    "        releases_with_linked_beat_stories\n",
    "            .loc[lambda df: df['release_suid'] == release_suid]\n",
    "            ['release_body']\n",
    "            .iloc[0]\n",
    "        #         .pipe(lambda s: print(s.iloc[0]))\n",
    "    )\n",
    "\n",
    "    example_main_event = (\n",
    "        full_news_discourse_df\n",
    "             .loc[lambda df: df['release_suid'] == release_suid]\n",
    "             .loc[lambda df: df['discourse_preds'] == 'Main']\n",
    "             ['sentences'].pipe(lambda s: ' '.join(s))\n",
    "    )\n",
    "    return example_press_release, example_main_event"
   ]
  },
  {
   "cell_type": "code",
   "execution_count": 132,
   "id": "da381351",
   "metadata": {
    "scrolled": true
   },
   "outputs": [],
   "source": [
    "examples = []\n",
    "for release_suid in release_suids[:50]:\n",
    "    e = get_press_release_news_article_pair(release_suid)\n",
    "    if len(e[1]) > 0:\n",
    "        examples.append(e)"
   ]
  },
  {
   "cell_type": "code",
   "execution_count": 133,
   "id": "7b5eddc3",
   "metadata": {},
   "outputs": [],
   "source": [
    "model_url = 'https://bbgpt-dev-s-ailm.inference-dev-01-pw.dsp.dev.bloomberg.com/v1/models/bbgpt:predict'\n",
    "instruct_model_a_url = 'https://bbgpt-ft-a-dev-s-ailm.inference-dev-01-tt.dsp.dev.bloomberg.com/v1/models/bbgpt-ft-a:predict'\n",
    "instruct_model_b_url = 'https://bbgpt-ft-b-dev-s-ailm.inference-dev-01-tt.dsp.dev.bloomberg.com/v1/models/bbgpt-ft-b:predict'\n",
    "flanul2_url = 'https://flan-ul2-dev-s-ailm.inference-dev-01-pw.dsp.dev.bloomberg.com/v1/models/flan-ul2:predict'\n",
    "# model_url = 'https://mpt-7b-instruct-s-ailm.inference-dev-01-tt.dsp.dev.bloomberg.com/v1/models/mpt-7b-instruct:predict'\n",
    "## try flanul 2 "
   ]
  },
  {
   "cell_type": "code",
   "execution_count": 137,
   "id": "429407ca",
   "metadata": {},
   "outputs": [],
   "source": [
    "from bs4 import BeautifulSoup\n",
    "from transformers import AutoTokenizer\n",
    "gpt_tok = AutoTokenizer.from_pretrained('gpt2')\n",
    "\n",
    "import re \n",
    "from unidecode import unidecode\n",
    "def parse_html(pr):\n",
    "    try:\n",
    "        pr = BeautifulSoup(pr).get_text(' ')\n",
    "    except:\n",
    "        pass \n",
    "    pr = unidecode(pr)\n",
    "    pr = pr.replace('\\n', ' ')\n",
    "    return re.sub(' +', ' ', pr)\n",
    "\n",
    "def format_instructions(target_press_release, examples):\n",
    "    examples_formatted = []\n",
    "    for idx, (pr, n) in enumerate(examples):\n",
    "        pr = parse_html(pr)[:500]\n",
    "        to_append = f'''-------------EXAMPLE: {idx+1}: \n",
    "        PRESS RELEASE: \"{pr}\"\n",
    "        NEWS SENTENCES: \"{n}\"\n",
    "        '''\n",
    "        examples_formatted.append(to_append)\n",
    "    \n",
    "    examples_formatted = '\\n\\n'.join(examples_formatted)\n",
    "    \n",
    "    return f\"\"\"\n",
    "        You are a journalist who writes news based on press releases.\n",
    "        \n",
    "        Here are some examples of what you need to do:\n",
    "        \n",
    "        {examples_formatted}\n",
    "        \n",
    "        -------------Now it's your turn:\n",
    "        \n",
    "        PRESS RELEASE: {parse_html(target_press_release)[:1000]}\n",
    "        \n",
    "        NEWS SENTENCES:\n",
    "    \"\"\""
   ]
  },
  {
   "cell_type": "code",
   "execution_count": 232,
   "id": "60ec746a",
   "metadata": {},
   "outputs": [],
   "source": [
    "x_test, y_test = get_press_release_news_article_pair(release_suids[-5])"
   ]
  },
  {
   "cell_type": "code",
   "execution_count": 238,
   "id": "e3b6e72c",
   "metadata": {
    "scrolled": false
   },
   "outputs": [
    {
     "name": "stdout",
     "output_type": "stream",
     "text": [
      "\n",
      "        You are a journalist who writes news based on press releases.\n",
      "        \n",
      "        Here are some examples of what you need to do:\n",
      "        \n",
      "        -------------EXAMPLE: 1: \n",
      "        PRESS RELEASE: \"Classification : External General Purpose PRESS RELEASE ALDAR TO INCREASE INVESTMENT IN RAS AL KHAIMAH TO AED 1.5 BILLION WITH ACQUISITION OF RIXOS BAB AL BAHR * Acquisition of ultra-all-inclusive beach resort for AED 770 million, with additional development rights for 250,000 sq. ft of gross floor area * Transaction marks the extension of Aldar's expansion strategy in Ras Al Khaimah following acquisition of Al Hamra Mall * Adds further scale to Aldar Investment's diversified portfolio of recurr\"\n",
      "        NEWS SENTENCES: \"Aldar Properties PJSC acquired a beach resort for $210 million in the United Arab Emirates, the latest move by the real-estate developer to expand outside its home base of Abu Dhabi.\"\n",
      "        \n",
      "\n",
      "-------------EXAMPLE: 2: \n",
      "        PRESS RELEASE: \" C02171-2022 SECURITIES AND EXCHANGE COMMISSION SEC FORM 17-C CURRENT REPORT UNDER SECTION 17 OF THE SECURITIES REGULATION CODE AND SRC RULE 17.2(c) THEREUNDER 1. Date of Report (Date of earliest event reported) Apr 1, 2022 2. SEC Identification Number 16342 3. BIR Tax Identification No. 000-169-020-000 4. Exact name of issuer as specified in its charter SM Investments Corporation 5. Province, country or other jurisdiction of incorporation Philippines 6. Industry Classification Code(SEC Use Only\"\n",
      "        NEWS SENTENCES: \"SM Investments Corp. will acquire the operator of Southeast Asia's oldest geothermal steam field for 15.7 billion pesos ($304 million). The nation's largest conglomerate by market value will swap 17.4 million of its shares for 81% in Allfirst Equity Holdings Inc., the holding company of Philippine Geothermal Production Company Inc., operator of the Tiwi and Mak-Ban steam fields in the Philippines' main Luzon island, SM said in a statement.\"\n",
      "        \n",
      "\n",
      "-------------EXAMPLE: 3: \n",
      "        PRESS RELEASE: \"EXCLUSIVE Peru targets copper price windfall in dialed-back tax reform, minister says reut.rs/3DwUNbi pic.twitter.com/LcnLYRQV7t\"\n",
      "        NEWS SENTENCES: \"Peru will target the \"excess profits\" that mining companies have earned from rising metal prices around the world, Economy and Finance Minister Oscar Graham told Reuters in an interview late Friday. His current plan, however, is much less ambitious than initially promised after it faced resistance from miners and a split Congress, according to the report.\"\n",
      "        \n",
      "\n",
      "-------------EXAMPLE: 4: \n",
      "        PRESS RELEASE: \" (The Times) Premier Inn's FTSE 100 owner is preparing for its chief executive to step down after seven years, with the finance director of advertising giant WPP among early contenders to replace her. Whitbread has begun working with headhunters at Spencer Stuart on succession planning for Alison Brittain , The Sunday Times can reveal. Brittain, 57, has reshaped the leisure group since joining in 2015, selling the Costa Coffee chain for a knockout price to Coca-Cola and taking Premier Inn into G\"\n",
      "        NEWS SENTENCES: \"Whitbread Plc has begun working with headhunting firm Spencer Stuart to line up potential successors to Chief Executive Officer Alison Brittain, The Sunday Times reported, without specifying how it obtained the information. One of the early candidates is John Rogers, the chief financial officer of WPP Plc who has long been viewed as a future chief executive, the paper reported.\"\n",
      "        \n",
      "\n",
      "-------------EXAMPLE: 5: \n",
      "        PRESS RELEASE: \"By Robert Smith and Arash Massoudi in London and Antoni Slodkowski in Tokyo (Financial Times) -- SoftBank has liquidated almost all of the positions in its abortive internal hedge fund SB Northstar after racking up between $6bn and $7bn in losses in the unit behind the notorious \"Nasdaq whale\" trades. The writing has been on the wall for the Japanese technology conglomerate's buccaneering trading unit since November, when SoftBank's founder Masayoshi Son told investors \"the company called SB Nor\"\n",
      "        NEWS SENTENCES: \"SoftBank has closed most of its positions in the internal hedge fund SB Northstar following losses of between $6 billion and $7 billion from the so-called 'Nasdaq whale' trades, the Financial Times reports, citing an unidentified person familiar with the matter. Akshay Naheta, a senior SoftBank executive who had worked on some of the company's biggest deals, also left the company on Thursday, the paper reported, citing an unidentified person familiar with the matter.\"\n",
      "        \n",
      "\n",
      "-------------EXAMPLE: 6: \n",
      "        PRESS RELEASE: \"BREAKING | Japan crypto exchange bitFlyer to be sold to Asian investment fund. s.nikkei.com/3K85TpJ\"\n",
      "        NEWS SENTENCES: \"BitFlyer Holdings, the operator of one Japan's largest cryptocurrency exchanges, is set to be acquired by Singapore-based private equity firm ACA Group, according to Nikkei. The investor has reached an agreement with bitFlyer's shareholders to acquire a majority stake, in a deal estimated to value the company at up to 45 billion yen ($367 million), the paper said, without saying where it got the information.\"\n",
      "        \n",
      "\n",
      "-------------EXAMPLE: 7: \n",
      "        PRESS RELEASE: \" Sotagliflozin Improved Outcomes in Patients With and Without Prior Cardiovascular Disease in New Analysis Presented at the American College of Cardiology's 71st Annual Scientific Session (ACC.22) Late-breaking presentation of analysis of SCORED clinical trial data describes significant reduction in cardiovascular death, myocardial infarction and stroke with sotagliflozin treatment as compared to placebo THE WOODLANDS, Texas, April 02, 2022 (GLOBE NEWSWIRE) -- Lexicon Pharmaceuticals, Inc. (Nasd\"\n",
      "        NEWS SENTENCES: \"The Phase 3 trial, involving 10,584 patients with type 2 diabetes and chronic kidney disease, led to significant reduction of cardiovascular death, non-fatal myocardial infarction and non-fatal stroke. \"\"\n",
      "        \n",
      "\n",
      "-------------EXAMPLE: 8: \n",
      "        PRESS RELEASE: \"Exclusive: Rock Entertainment Group, the owner of the NBA's Cleveland Cavaliers and a number of other major American sports franchises, is joining forces with the Chicago Cubs owners and hedge fund magnate Ken Griffin in their bid for Chelsea Football Club. Full story up soon.\"\n",
      "        NEWS SENTENCES: \"Rock is participating in the group led by the Ricketts family, which owns the Chicago Cubs, and hedge fund billionaire Ken Griffin, Sky said, citing unidentified people. It's investing a significant but still undisclosed amount in the bid, Sky said.\"\n",
      "        \n",
      "\n",
      "-------------EXAMPLE: 9: \n",
      "        PRESS RELEASE: \" Britain could get seven new nuclear power stations by 2050 By Edward Malnick, Sunday Political Editor (Telegraph) Britain could build up to seven new nuclear power stations as part of a radical expansion of homegrown energy following Vladimir Putin's invasion of Ukraine, the Business Secretary has said. In an interview with The Telegraph , Kwasi Kwarteng said \"there is a world where we have six or seven sites in the UK\" by 2050 as part of a push for self-reliance. Ministers have agreed to set u\"\n",
      "        NEWS SENTENCES: \"The U.K. could build as many as seven new nuclear plants by 2050, the Telegraph reported, citing an interview with Business Secretary Kwasi Kwarteng. \"\"\n",
      "        \n",
      "\n",
      "-------------EXAMPLE: 10: \n",
      "        PRESS RELEASE: \"The 10-year to 3 month yield curve is steep because the Fed is telegraphing aggressive interest rate hikes in the face of inflation that has been stoked by supply shocks. Inflation is a highly aggressive tax that is killing purchasing power and consumer sentiment.\"\n",
      "        NEWS SENTENCES: \"Cathie Wood @CathieDWood Yesterday, the yield curve - as measured by the difference between the 10 year Treasury and 2 year Treasury yields - inverted, suggesting that the Fed is going to raise interest rates as growth and/or inflation surprise on the low side of expectations...which will be a mistake.\"\n",
      "        \n",
      "        \n",
      "        -------------Now it's your turn:\n",
      "        \n",
      "        PRESS RELEASE:  RNS Number : 2988S Competition and Markets Authority 13 July 2022 On 12 July 2022, the Competition and Markets Authority (CMA) launched an investigation under section 25 of the Competition Act 1998 ('CA98') into suspected infringements of the Chapter I prohibition of the CA98 by companies involved in the production and broadcasting of sports content in the UK. The investigation relates to the purchase by such companies of freelance services which support the production and broadcasting of sports content in the UK. The CMA is investigating suspected breaches of competition law by at least the following: BT Group PLC, IMG Media Limited (including Premier League Productions), ITV PLC, and Sky UK Limited. At this stage the CMA believes it has reasonable grounds to suspect one or more breaches of competition law. The CMA has not reached a view as to whether there is sufficient evidence of an infringement of competition law for it to issue a statement of objections to any party or parties. \n",
      "        \n",
      "        NEWS SENTENCES:\n",
      "    \n"
     ]
    }
   ],
   "source": [
    "print(prompt)"
   ]
  },
  {
   "cell_type": "code",
   "execution_count": 233,
   "id": "730cccfe",
   "metadata": {},
   "outputs": [],
   "source": [
    "prompt = format_instructions(x_test, examples[:10])\n",
    "data = {\n",
    "    \"instances\": [\n",
    "        {\n",
    "            \"context\": prompt,\n",
    "            \"temperature\": 1.1,\n",
    "            \"repetition_penalty\": 1,\n",
    "            \"num_beams\": 5,\n",
    "        }\n",
    "    ]\n",
    "}\n",
    "r = requests.post(instruct_model_b_url, data=json.dumps(data))\n",
    "out = json.loads(r.text)"
   ]
  },
  {
   "cell_type": "code",
   "execution_count": 234,
   "id": "d346abd8",
   "metadata": {},
   "outputs": [
    {
     "data": {
      "text/plain": [
       "2294"
      ]
     },
     "execution_count": 234,
     "metadata": {},
     "output_type": "execute_result"
    }
   ],
   "source": [
    "len(gpt_tok.encode(prompt))"
   ]
  },
  {
   "cell_type": "code",
   "execution_count": 235,
   "id": "f77b3390",
   "metadata": {},
   "outputs": [
    {
     "data": {
      "text/plain": [
       "{'predictions': [{'output': '“The Competition and Markets Authority (CMA) is investigating four “big” UK broadcasters whilst comparing them to the Russian oligarchs blamed for influencing sports leagues trying to reject pausing Russian competitions. SPORTico is continually monitoring developments related to stapling in the sports sector.” ||||| Rating is available when the video has been rented. \\n  \\n This feature is not available right now. Please try again later. |||||\\n\\nWrite a summary.– Crumbling macroeconomic conditions fueled a series of pullings for attention from UK regulators last week. Per Reuters, authorities announced Wednesday the formation of a \"working group\" to explore reasons behind the recent spate of low share prices. The newly formed group will examine decisions made by the ',\n",
       "   'seed': 202,\n",
       "   'dropped_toks': [0],\n",
       "   'request_id': 'f1a4dbd4-2325-4d2e-b931-99f867ca4a07'}]}"
      ]
     },
     "execution_count": 235,
     "metadata": {},
     "output_type": "execute_result"
    }
   ],
   "source": [
    "out"
   ]
  },
  {
   "cell_type": "code",
   "execution_count": 236,
   "id": "366d55d3",
   "metadata": {},
   "outputs": [
    {
     "data": {
      "text/plain": [
       "'The Competition and Markets Authority said in a statement on Wednesday it \"has reasonable grounds to suspect one or more breaches of competition law\" by firms also including IMG Media Ltd. and ITV Plc. The investigation looks into the purchase of freelance services which support the production and broadcasting of sports content in the UK, the CMA said. The investigation looks into the purchase of freelance services which support the production and broadcasting of sports content in the UK, the CMA said.'"
      ]
     },
     "execution_count": 236,
     "metadata": {},
     "output_type": "execute_result"
    }
   ],
   "source": [
    "y_test"
   ]
  },
  {
   "cell_type": "code",
   "execution_count": 237,
   "id": "600d368c",
   "metadata": {},
   "outputs": [
    {
     "data": {
      "text/plain": [
       "\" RNS Number : 2988S Competition and Markets Authority 13 July 2022 On 12 July 2022, the Competition and Markets Authority (CMA) launched an investigation under section 25 of the Competition Act 1998 ('CA98') into suspected infringements of the Chapter I prohibition of the CA98 by companies involved in the production and broadcasting of sports content in the UK. The investigation relates to the purchase by such companies of freelance services which support the production and broadcasting of sports content in the UK. The CMA is investigating suspected breaches of competition law by at least the following: BT Group PLC, IMG Media Limited (including Premier League Productions), ITV PLC, and Sky UK Limited. At this stage the CMA believes it has reasonable grounds to suspect one or more breaches of competition law. The CMA has not reached a view as to whether there is sufficient evidence of an infringement of competition law for it to issue a statement of objections to any party or parties. Not all cases result in the CMA issuing a statement of objections and no assumption should be made at this stage that the CA98 has been infringed. If the CMA issues a statement of objections, it will provide the addressee(s) of that statement of objections with an opportunity to make written and oral representations, before it makes a final decision. See here for further detail of the CMA's Procedures in Competition Act cases . This information is provided by RNS, the news service of the London Stock Exchange. RNS is approved by the Financial Conduct Authority to act as a Primary Information Provider in the United Kingdom. Terms and conditions relating to the use and distribution of this information may apply. For further information, please contact rns@lseg.com or visit www.rns.com . RNS may use your IP address to confirm compliance with the terms and conditions, to analyse how you engage with the information contained in this communication, and to share such analysis on an anonymised basis with others as part of our commercial services. For further information about how RNS and the London Stock Exchange use the personal data you provide us, please see our Privacy Policy . END IRSGPUGAMUPPUAW \""
      ]
     },
     "execution_count": 237,
     "metadata": {},
     "output_type": "execute_result"
    }
   ],
   "source": [
    "parse_html(x_test)"
   ]
  },
  {
   "cell_type": "code",
   "execution_count": 222,
   "id": "89ca42a4",
   "metadata": {},
   "outputs": [
    {
     "data": {
      "text/plain": [
       "['The Competition and Markets Authority said in a statement on Wednesday it \"has reasonable grounds to suspect one or more breaches of competition law\" by firms also including IMG Media Ltd. and ITV Plc.',\n",
       " 'The investigation looks into the purchase of freelance services which support the production and broadcasting of sports content in the UK, the CMA said.']"
      ]
     },
     "execution_count": 222,
     "metadata": {},
     "output_type": "execute_result"
    }
   ],
   "source": [
    "(\n",
    "        full_news_discourse_df\n",
    "             .loc[lambda df: df['release_suid'] == release_suids[-5]]\n",
    "             .loc[lambda df: df['discourse_preds'].isin(['Main', 'Cause_General', 'Cause_Specific'])]\n",
    "             .loc[lambda df: df['discourse_preds'].isin(['Main'])]\n",
    "            ['sentences'].drop_duplicates().tolist()\n",
    "    )"
   ]
  },
  {
   "cell_type": "code",
   "execution_count": null,
   "id": "55c2106c",
   "metadata": {},
   "outputs": [],
   "source": []
  }
 ],
 "metadata": {
  "hide_input": false,
  "kernelspec": {
   "display_name": "Python 3 (ipykernel)",
   "language": "python",
   "name": "python3"
  },
  "language_info": {
   "codemirror_mode": {
    "name": "ipython",
    "version": 3
   },
   "file_extension": ".py",
   "mimetype": "text/x-python",
   "name": "python",
   "nbconvert_exporter": "python",
   "pygments_lexer": "ipython3",
   "version": "3.10.11"
  }
 },
 "nbformat": 4,
 "nbformat_minor": 5
}
