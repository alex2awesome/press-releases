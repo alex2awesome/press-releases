{
 "cells": [
  {
   "cell_type": "code",
   "execution_count": 5,
   "id": "5e8edaf7",
   "metadata": {},
   "outputs": [],
   "source": [
    "import pandas as pd \n",
    "df = pd.read_csv('../../discourse2020/data/news-discourse-training-data.csv')\n",
    "df = pd.read_csv('../models/discourse-model/data/news-discourse-training-data.csv')"
   ]
  },
  {
   "cell_type": "code",
   "execution_count": 11,
   "id": "c7e67fd6",
   "metadata": {},
   "outputs": [],
   "source": [
    "# df['name'].drop_duplicates()"
   ]
  },
  {
   "cell_type": "code",
   "execution_count": 61,
   "id": "19c7de73",
   "metadata": {},
   "outputs": [],
   "source": [
    "import glob\n",
    "docs = (\n",
    "    glob.glob('../models/discourse-model/data/Discourse_Profiling/data/*/*.txt') + \n",
    "    glob.glob('../models/discourse-model/data/Discourse_Profiling/data/*/*/*.txt')\n",
    ")\n",
    "anns = (\n",
    "    glob.glob('../models/discourse-model/data/Discourse_Profiling/data/*/*.ann') + \n",
    "    glob.glob('../models/discourse-model/data/Discourse_Profiling/data/*/*/*.ann')     \n",
    ")"
   ]
  },
  {
   "cell_type": "code",
   "execution_count": 107,
   "id": "90981c90",
   "metadata": {},
   "outputs": [],
   "source": [
    "def format_key(x):\n",
    "    if 'test' in x:\n",
    "        return f'test/{x[-2]}/{x[-1]}'\n",
    "    if 'train' in x: \n",
    "        return f'train/{x[-2]}/{x[-1]}'\n",
    "    if 'validation' in x: \n",
    "        return f'validation/{x[-1]}'\n",
    "    \n",
    "\n",
    "ann_df = (\n",
    "    pd.DataFrame({'ann_fn': anns})\n",
    "        .assign(key=lambda df: \n",
    "            df['ann_fn']\n",
    "                .str.split('/')\n",
    "                .apply(format_key)\n",
    "                .str.strip()\n",
    "                .str.replace('.ann', '')\n",
    "    )\n",
    ")\n",
    "docs_df = (\n",
    "    pd.DataFrame({'doc_fn': docs})\n",
    "        .assign(key=lambda df: \n",
    "            df['doc_fn']\n",
    "                .str.split('/')\n",
    "                .apply(format_key)\n",
    "                .str.strip()\n",
    "                .str.replace('.txt', '')\n",
    "    )\n",
    ")"
   ]
  },
  {
   "cell_type": "code",
   "execution_count": 108,
   "id": "71e91792",
   "metadata": {},
   "outputs": [],
   "source": [
    "file_df = docs_df.merge(ann_df, right_on='key', left_on='key')"
   ]
  },
  {
   "cell_type": "code",
   "execution_count": 199,
   "id": "2625018f",
   "metadata": {},
   "outputs": [],
   "source": [
    "import numpy as np \n",
    "def get_line_or_null(lines, indicator):\n",
    "    match = list(filter(lambda x: x.startswith('URL'), lines))\n",
    "    if len(match) == 1:\n",
    "        return match[0].replace(indicator, '').strip()\n",
    "    if len(match) == 0:\n",
    "        return np.nan\n",
    "    else:\n",
    "        raise ValueError\n",
    "    \n",
    "\n",
    "all_parsed_annotations = []\n",
    "for _, (doc_fn, key, ann_fn) in file_df.iterrows():\n",
    "\n",
    "    ann = open(ann_fn).read().split('\\n')\n",
    "\n",
    "    # annotation lines\n",
    "    ann_lines = list(map(lambda x: x.split('\\t'), ann))\n",
    "    ann_lines = list(filter(lambda x: len(x) == 3, ann_lines))\n",
    "    ann_lines = list(filter(lambda x: 'speech' not in x[1].lower(), ann_lines))\n",
    "\n",
    "    ann_df = pd.DataFrame(\n",
    "        sorted(ann_lines, key=lambda x: int(x[2].replace('S', ''))), \n",
    "        columns=['indicator', 'label', 'sent_id']\n",
    "    )\n",
    "\n",
    "    ann_df = (ann_df\n",
    "     .assign(label=lambda df: df['label'].str.split().str.get(0).str.strip())\n",
    "    )\n",
    "\n",
    "    # doc lines \n",
    "    doc_lines = open(doc_fn).read().split('\\n')\n",
    "    \n",
    "    doc_lines = list(filter(lambda x: len(x) > 0, doc_lines))\n",
    "    \n",
    "    url = get_line_or_null(doc_lines, indicator='URL ')\n",
    "    headline = get_line_or_null(doc_lines, indicator='H ')\n",
    "    sentences = list(filter(lambda x: x.startswith('S'), doc_lines))\n",
    "    sentences_df = pd.DataFrame(\n",
    "        list(map(lambda x: [x.split()[0], ' '.join(x.split()[1:])], sentences)), \n",
    "        columns=['sent_id', 'sentence']\n",
    "    )\n",
    "\n",
    "    # merge together \n",
    "    full_df = sentences_df.merge(ann_df, on='sent_id', ).drop(columns='indicator')\n",
    "    full_df['headline'] = headline\n",
    "    full_df['key'] = key\n",
    "    full_df['url'] = url\n",
    "    \n",
    "    all_parsed_annotations.append(full_df)"
   ]
  },
  {
   "cell_type": "code",
   "execution_count": null,
   "id": "030deba1",
   "metadata": {},
   "outputs": [],
   "source": []
  },
  {
   "cell_type": "code",
   "execution_count": 200,
   "id": "c6e2c4b6",
   "metadata": {},
   "outputs": [
    {
     "data": {
      "text/plain": [
       "802"
      ]
     },
     "execution_count": 200,
     "metadata": {},
     "output_type": "execute_result"
    }
   ],
   "source": [
    "len(all_parsed_annotations)"
   ]
  },
  {
   "cell_type": "code",
   "execution_count": 205,
   "id": "12603cfd",
   "metadata": {},
   "outputs": [],
   "source": [
    "full_newsworthiness_df = pd.concat(all_parsed_annotations)"
   ]
  },
  {
   "cell_type": "code",
   "execution_count": 208,
   "id": "c1f427e1",
   "metadata": {},
   "outputs": [],
   "source": [
    "full_newsworthiness_df.to_csv('../models/discourse-model/data/reparsed-newsworthiness-df.csv')"
   ]
  },
  {
   "cell_type": "code",
   "execution_count": 217,
   "id": "dcdedeeb",
   "metadata": {},
   "outputs": [],
   "source": [
    "( \n",
    "  full_newsworthiness_df\n",
    "     .sort_values(['key', 'sent_id'])\n",
    "     .groupby('key')\n",
    "     [['sentence', 'label']]\n",
    "     .aggregate(list)\n",
    "     .reset_index()\n",
    "     .assign(split=lambda df: df['key'].apply(lambda x: 'train' if x.split('/')[0] in ['train', 'test'] else 'test'))\n",
    "     .drop(columns='key')\n",
    "     .to_json('../models/discourse-model/data/reparsed-newsworthiness-df.jsonl', orient='records', lines=True)    \n",
    ")"
   ]
  },
  {
   "cell_type": "code",
   "execution_count": null,
   "id": "ffaa6302",
   "metadata": {},
   "outputs": [],
   "source": []
  },
  {
   "cell_type": "code",
   "execution_count": null,
   "id": "0103bc19",
   "metadata": {},
   "outputs": [],
   "source": []
  },
  {
   "cell_type": "code",
   "execution_count": null,
   "id": "7945ec55",
   "metadata": {},
   "outputs": [],
   "source": []
  },
  {
   "cell_type": "code",
   "execution_count": 242,
   "id": "4393eda1",
   "metadata": {},
   "outputs": [],
   "source": [
    "from sklearn.pipeline import Pipeline \n",
    "from sklearn.linear_model import LogisticRegressionCV\n",
    "from sklearn.feature_extraction.text import CountVectorizer\n",
    "from sklearn.metrics import f1_score"
   ]
  },
  {
   "cell_type": "code",
   "execution_count": 223,
   "id": "7982b821",
   "metadata": {},
   "outputs": [],
   "source": [
    "lr_pipeline = Pipeline([\n",
    "    ('cv', CountVectorizer(min_df=.005, max_df=.5, stop_words='english') ),\n",
    "    ('lr', LogisticRegressionCV(max_iter=2000))\n",
    "])"
   ]
  },
  {
   "cell_type": "code",
   "execution_count": 233,
   "id": "f03c04b6",
   "metadata": {},
   "outputs": [],
   "source": [
    "train_df = full_newsworthiness_df.loc[lambda df: df['key'].str.split('/').str.get(0).isin(['train', 'test'])]\n",
    "test_df = full_newsworthiness_df.loc[lambda df: df['key'].str.split('/').str.get(0).isin(['validation'])]"
   ]
  },
  {
   "cell_type": "code",
   "execution_count": 239,
   "id": "f3fb39c8",
   "metadata": {},
   "outputs": [
    {
     "data": {
      "text/html": [
       "<style>#sk-container-id-3 {color: black;background-color: white;}#sk-container-id-3 pre{padding: 0;}#sk-container-id-3 div.sk-toggleable {background-color: white;}#sk-container-id-3 label.sk-toggleable__label {cursor: pointer;display: block;width: 100%;margin-bottom: 0;padding: 0.3em;box-sizing: border-box;text-align: center;}#sk-container-id-3 label.sk-toggleable__label-arrow:before {content: \"▸\";float: left;margin-right: 0.25em;color: #696969;}#sk-container-id-3 label.sk-toggleable__label-arrow:hover:before {color: black;}#sk-container-id-3 div.sk-estimator:hover label.sk-toggleable__label-arrow:before {color: black;}#sk-container-id-3 div.sk-toggleable__content {max-height: 0;max-width: 0;overflow: hidden;text-align: left;background-color: #f0f8ff;}#sk-container-id-3 div.sk-toggleable__content pre {margin: 0.2em;color: black;border-radius: 0.25em;background-color: #f0f8ff;}#sk-container-id-3 input.sk-toggleable__control:checked~div.sk-toggleable__content {max-height: 200px;max-width: 100%;overflow: auto;}#sk-container-id-3 input.sk-toggleable__control:checked~label.sk-toggleable__label-arrow:before {content: \"▾\";}#sk-container-id-3 div.sk-estimator input.sk-toggleable__control:checked~label.sk-toggleable__label {background-color: #d4ebff;}#sk-container-id-3 div.sk-label input.sk-toggleable__control:checked~label.sk-toggleable__label {background-color: #d4ebff;}#sk-container-id-3 input.sk-hidden--visually {border: 0;clip: rect(1px 1px 1px 1px);clip: rect(1px, 1px, 1px, 1px);height: 1px;margin: -1px;overflow: hidden;padding: 0;position: absolute;width: 1px;}#sk-container-id-3 div.sk-estimator {font-family: monospace;background-color: #f0f8ff;border: 1px dotted black;border-radius: 0.25em;box-sizing: border-box;margin-bottom: 0.5em;}#sk-container-id-3 div.sk-estimator:hover {background-color: #d4ebff;}#sk-container-id-3 div.sk-parallel-item::after {content: \"\";width: 100%;border-bottom: 1px solid gray;flex-grow: 1;}#sk-container-id-3 div.sk-label:hover label.sk-toggleable__label {background-color: #d4ebff;}#sk-container-id-3 div.sk-serial::before {content: \"\";position: absolute;border-left: 1px solid gray;box-sizing: border-box;top: 0;bottom: 0;left: 50%;z-index: 0;}#sk-container-id-3 div.sk-serial {display: flex;flex-direction: column;align-items: center;background-color: white;padding-right: 0.2em;padding-left: 0.2em;position: relative;}#sk-container-id-3 div.sk-item {position: relative;z-index: 1;}#sk-container-id-3 div.sk-parallel {display: flex;align-items: stretch;justify-content: center;background-color: white;position: relative;}#sk-container-id-3 div.sk-item::before, #sk-container-id-3 div.sk-parallel-item::before {content: \"\";position: absolute;border-left: 1px solid gray;box-sizing: border-box;top: 0;bottom: 0;left: 50%;z-index: -1;}#sk-container-id-3 div.sk-parallel-item {display: flex;flex-direction: column;z-index: 1;position: relative;background-color: white;}#sk-container-id-3 div.sk-parallel-item:first-child::after {align-self: flex-end;width: 50%;}#sk-container-id-3 div.sk-parallel-item:last-child::after {align-self: flex-start;width: 50%;}#sk-container-id-3 div.sk-parallel-item:only-child::after {width: 0;}#sk-container-id-3 div.sk-dashed-wrapped {border: 1px dashed gray;margin: 0 0.4em 0.5em 0.4em;box-sizing: border-box;padding-bottom: 0.4em;background-color: white;}#sk-container-id-3 div.sk-label label {font-family: monospace;font-weight: bold;display: inline-block;line-height: 1.2em;}#sk-container-id-3 div.sk-label-container {text-align: center;}#sk-container-id-3 div.sk-container {/* jupyter's `normalize.less` sets `[hidden] { display: none; }` but bootstrap.min.css set `[hidden] { display: none !important; }` so we also need the `!important` here to be able to override the default hidden behavior on the sphinx rendered scikit-learn.org. See: https://github.com/scikit-learn/scikit-learn/issues/21755 */display: inline-block !important;position: relative;}#sk-container-id-3 div.sk-text-repr-fallback {display: none;}</style><div id=\"sk-container-id-3\" class=\"sk-top-container\"><div class=\"sk-text-repr-fallback\"><pre>Pipeline(steps=[(&#x27;cv&#x27;,\n",
       "                 CountVectorizer(max_df=0.5, min_df=0.005,\n",
       "                                 stop_words=&#x27;english&#x27;)),\n",
       "                (&#x27;lr&#x27;, LogisticRegressionCV(max_iter=2000))])</pre><b>In a Jupyter environment, please rerun this cell to show the HTML representation or trust the notebook. <br />On GitHub, the HTML representation is unable to render, please try loading this page with nbviewer.org.</b></div><div class=\"sk-container\" hidden><div class=\"sk-item sk-dashed-wrapped\"><div class=\"sk-label-container\"><div class=\"sk-label sk-toggleable\"><input class=\"sk-toggleable__control sk-hidden--visually\" id=\"sk-estimator-id-7\" type=\"checkbox\" ><label for=\"sk-estimator-id-7\" class=\"sk-toggleable__label sk-toggleable__label-arrow\">Pipeline</label><div class=\"sk-toggleable__content\"><pre>Pipeline(steps=[(&#x27;cv&#x27;,\n",
       "                 CountVectorizer(max_df=0.5, min_df=0.005,\n",
       "                                 stop_words=&#x27;english&#x27;)),\n",
       "                (&#x27;lr&#x27;, LogisticRegressionCV(max_iter=2000))])</pre></div></div></div><div class=\"sk-serial\"><div class=\"sk-item\"><div class=\"sk-estimator sk-toggleable\"><input class=\"sk-toggleable__control sk-hidden--visually\" id=\"sk-estimator-id-8\" type=\"checkbox\" ><label for=\"sk-estimator-id-8\" class=\"sk-toggleable__label sk-toggleable__label-arrow\">CountVectorizer</label><div class=\"sk-toggleable__content\"><pre>CountVectorizer(max_df=0.5, min_df=0.005, stop_words=&#x27;english&#x27;)</pre></div></div></div><div class=\"sk-item\"><div class=\"sk-estimator sk-toggleable\"><input class=\"sk-toggleable__control sk-hidden--visually\" id=\"sk-estimator-id-9\" type=\"checkbox\" ><label for=\"sk-estimator-id-9\" class=\"sk-toggleable__label sk-toggleable__label-arrow\">LogisticRegressionCV</label><div class=\"sk-toggleable__content\"><pre>LogisticRegressionCV(max_iter=2000)</pre></div></div></div></div></div></div></div>"
      ],
      "text/plain": [
       "Pipeline(steps=[('cv',\n",
       "                 CountVectorizer(max_df=0.5, min_df=0.005,\n",
       "                                 stop_words='english')),\n",
       "                ('lr', LogisticRegressionCV(max_iter=2000))])"
      ]
     },
     "execution_count": 239,
     "metadata": {},
     "output_type": "execute_result"
    }
   ],
   "source": [
    "lr_pipeline.fit(X=train_df['sentence'], y=train_df['label'])"
   ]
  },
  {
   "cell_type": "code",
   "execution_count": 241,
   "id": "05184a7d",
   "metadata": {},
   "outputs": [],
   "source": [
    "y_pred = lr_pipeline.predict(test_df['sentence'])"
   ]
  },
  {
   "cell_type": "code",
   "execution_count": 246,
   "id": "776e8484",
   "metadata": {},
   "outputs": [
    {
     "data": {
      "text/plain": [
       "0.2913223731230926"
      ]
     },
     "execution_count": 246,
     "metadata": {},
     "output_type": "execute_result"
    }
   ],
   "source": [
    "f1_score(test_df['label'], y_pred, average='macro')"
   ]
  },
  {
   "cell_type": "code",
   "execution_count": null,
   "id": "19c3ad6b",
   "metadata": {},
   "outputs": [],
   "source": []
  },
  {
   "cell_type": "code",
   "execution_count": null,
   "id": "5b72403e",
   "metadata": {},
   "outputs": [],
   "source": []
  },
  {
   "cell_type": "code",
   "execution_count": 19,
   "id": "d7c87f89",
   "metadata": {},
   "outputs": [],
   "source": [
    "from transformers import AutoModel, AutoConfig, AutoTokenizer\n",
    "import sys\n",
    "sys.path.insert(0, '../models/discourse-model/src/')\n",
    "from sentence_model import SentenceClassificationModel\n",
    "import pandas as pd "
   ]
  },
  {
   "cell_type": "code",
   "execution_count": 77,
   "id": "e943c825",
   "metadata": {},
   "outputs": [],
   "source": [
    "from util import label_mapper"
   ]
  },
  {
   "cell_type": "code",
   "execution_count": 54,
   "id": "d902034d",
   "metadata": {},
   "outputs": [],
   "source": [
    "from torch.nn.utils.rnn import pad_sequence"
   ]
  },
  {
   "cell_type": "code",
   "execution_count": 62,
   "id": "5fbdb8d8",
   "metadata": {},
   "outputs": [
    {
     "data": {
      "application/vnd.jupyter.widget-view+json": {
       "model_id": "cd33b10abf3746d5be47531ec178aaed",
       "version_major": 2,
       "version_minor": 0
      },
      "text/plain": [
       "Downloading pytorch_model.bin:   0%|          | 0.00/715M [00:00<?, ?B/s]"
      ]
     },
     "metadata": {},
     "output_type": "display_data"
    }
   ],
   "source": [
    "config = AutoConfig.from_pretrained('alex2awesome/newsdiscourse-model')\n",
    "model = SentenceClassificationModel.from_pretrained('alex2awesome/newsdiscourse-model')\n",
    "tokenizer = AutoTokenizer.from_pretrained('roberta-base')"
   ]
  },
  {
   "cell_type": "code",
   "execution_count": 63,
   "id": "fa072261",
   "metadata": {},
   "outputs": [],
   "source": [
    "import jsonlines\n",
    "with open('../models/discourse-model/data/reparsed-newsworthiness-df.jsonl') as f:\n",
    "    val_data = list(jsonlines.Reader(f))"
   ]
  },
  {
   "cell_type": "code",
   "execution_count": 65,
   "id": "fbe59049",
   "metadata": {},
   "outputs": [],
   "source": [
    "one_doc = tokenizer(val_data[0]['sentence'], return_tensors='pt', padding=True)"
   ]
  },
  {
   "cell_type": "code",
   "execution_count": 66,
   "id": "450b9533",
   "metadata": {},
   "outputs": [
    {
     "data": {
      "text/plain": [
       "tensor([[    0,  5499, 10227,  ...,   615,     4,     2],\n",
       "        [    0,   530, 13760,  ...,     1,     1,     1],\n",
       "        [    0,    17,    48,  ...,     1,     1,     1],\n",
       "        ...,\n",
       "        [    0,    17,    48,  ...,     1,     1,     1],\n",
       "        [    0,    17,    48,  ...,     1,     1,     1],\n",
       "        [    0, 22816, 16514,  ...,     1,     1,     1]])"
      ]
     },
     "execution_count": 66,
     "metadata": {},
     "output_type": "execute_result"
    }
   ],
   "source": [
    "one_doc['input_ids']"
   ]
  },
  {
   "cell_type": "code",
   "execution_count": 68,
   "id": "ec079f98",
   "metadata": {},
   "outputs": [],
   "source": [
    "_, l = model.process_one_doc(**one_doc)"
   ]
  },
  {
   "cell_type": "code",
   "execution_count": 94,
   "id": "b6277faa",
   "metadata": {},
   "outputs": [],
   "source": [
    "y_preds = l.reshape(22, 9).argmax(dim=1).detach().cpu().tolist()\n",
    "idx2label_mapper = {v:k for k,v in label_mapper.items()}\n",
    "pd.concat([\n",
    "    pd.Series(val_data[0]['label']).to_frame('y_true'),\n",
    "    pd.Series(list(map(idx2label_mapper.get, y_preds))).to_frame('y_pred'),\n",
    "    pd.Series(val_data[0]['sentence']).to_frame('sentence')\n",
    "], axis=1)"
   ]
  },
  {
   "cell_type": "code",
   "execution_count": null,
   "id": "bee54f7b",
   "metadata": {},
   "outputs": [],
   "source": []
  },
  {
   "cell_type": "code",
   "execution_count": null,
   "id": "762825be",
   "metadata": {},
   "outputs": [],
   "source": []
  },
  {
   "cell_type": "code",
   "execution_count": null,
   "id": "ab616664",
   "metadata": {},
   "outputs": [],
   "source": []
  },
  {
   "cell_type": "code",
   "execution_count": null,
   "id": "48a1870a",
   "metadata": {},
   "outputs": [],
   "source": []
  },
  {
   "cell_type": "code",
   "execution_count": null,
   "id": "09105799",
   "metadata": {},
   "outputs": [],
   "source": []
  },
  {
   "cell_type": "code",
   "execution_count": null,
   "id": "ac89dc60",
   "metadata": {},
   "outputs": [],
   "source": []
  },
  {
   "cell_type": "code",
   "execution_count": null,
   "id": "654d8743",
   "metadata": {},
   "outputs": [],
   "source": []
  },
  {
   "cell_type": "code",
   "execution_count": null,
   "id": "34d5e43e",
   "metadata": {},
   "outputs": [],
   "source": []
  }
 ],
 "metadata": {
  "hide_input": false,
  "kernelspec": {
   "display_name": "Python 3 (ipykernel)",
   "language": "python",
   "name": "python3"
  },
  "language_info": {
   "codemirror_mode": {
    "name": "ipython",
    "version": 3
   },
   "file_extension": ".py",
   "mimetype": "text/x-python",
   "name": "python",
   "nbconvert_exporter": "python",
   "pygments_lexer": "ipython3",
   "version": "3.10.11"
  }
 },
 "nbformat": 4,
 "nbformat_minor": 5
}
