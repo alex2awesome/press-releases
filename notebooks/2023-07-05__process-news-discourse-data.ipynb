{
 "cells": [
  {
   "cell_type": "code",
   "execution_count": 5,
   "id": "5e8edaf7",
   "metadata": {},
   "outputs": [],
   "source": [
    "import pandas as pd \n",
    "df = pd.read_csv('../../discourse2020/data/news-discourse-training-data.csv')\n",
    "df = pd.read_csv('../models/discourse-model/data/news-discourse-training-data.csv')"
   ]
  },
  {
   "cell_type": "code",
   "execution_count": 11,
   "id": "c7e67fd6",
   "metadata": {},
   "outputs": [],
   "source": [
    "# df['name'].drop_duplicates()"
   ]
  },
  {
   "cell_type": "code",
   "execution_count": 61,
   "id": "19c7de73",
   "metadata": {},
   "outputs": [],
   "source": [
    "import glob\n",
    "docs = (\n",
    "    glob.glob('../models/discourse-model/data/Discourse_Profiling/data/*/*.txt') + \n",
    "    glob.glob('../models/discourse-model/data/Discourse_Profiling/data/*/*/*.txt')\n",
    ")\n",
    "anns = (\n",
    "    glob.glob('../models/discourse-model/data/Discourse_Profiling/data/*/*.ann') + \n",
    "    glob.glob('../models/discourse-model/data/Discourse_Profiling/data/*/*/*.ann')     \n",
    ")"
   ]
  },
  {
   "cell_type": "code",
   "execution_count": 107,
   "id": "90981c90",
   "metadata": {},
   "outputs": [],
   "source": [
    "def format_key(x):\n",
    "    if 'test' in x:\n",
    "        return f'test/{x[-2]}/{x[-1]}'\n",
    "    if 'train' in x: \n",
    "        return f'train/{x[-2]}/{x[-1]}'\n",
    "    if 'validation' in x: \n",
    "        return f'validation/{x[-1]}'\n",
    "    \n",
    "\n",
    "ann_df = (\n",
    "    pd.DataFrame({'ann_fn': anns})\n",
    "        .assign(key=lambda df: \n",
    "            df['ann_fn']\n",
    "                .str.split('/')\n",
    "                .apply(format_key)\n",
    "                .str.strip()\n",
    "                .str.replace('.ann', '')\n",
    "    )\n",
    ")\n",
    "docs_df = (\n",
    "    pd.DataFrame({'doc_fn': docs})\n",
    "        .assign(key=lambda df: \n",
    "            df['doc_fn']\n",
    "                .str.split('/')\n",
    "                .apply(format_key)\n",
    "                .str.strip()\n",
    "                .str.replace('.txt', '')\n",
    "    )\n",
    ")"
   ]
  },
  {
   "cell_type": "code",
   "execution_count": 108,
   "id": "71e91792",
   "metadata": {},
   "outputs": [],
   "source": [
    "file_df = docs_df.merge(ann_df, right_on='key', left_on='key')"
   ]
  },
  {
   "cell_type": "code",
   "execution_count": 199,
   "id": "2625018f",
   "metadata": {},
   "outputs": [],
   "source": [
    "import numpy as np \n",
    "def get_line_or_null(lines, indicator):\n",
    "    match = list(filter(lambda x: x.startswith('URL'), lines))\n",
    "    if len(match) == 1:\n",
    "        return match[0].replace(indicator, '').strip()\n",
    "    if len(match) == 0:\n",
    "        return np.nan\n",
    "    else:\n",
    "        raise ValueError\n",
    "    \n",
    "\n",
    "all_parsed_annotations = []\n",
    "for _, (doc_fn, key, ann_fn) in file_df.iterrows():\n",
    "\n",
    "    ann = open(ann_fn).read().split('\\n')\n",
    "\n",
    "    # annotation lines\n",
    "    ann_lines = list(map(lambda x: x.split('\\t'), ann))\n",
    "    ann_lines = list(filter(lambda x: len(x) == 3, ann_lines))\n",
    "    ann_lines = list(filter(lambda x: 'speech' not in x[1].lower(), ann_lines))\n",
    "\n",
    "    ann_df = pd.DataFrame(\n",
    "        sorted(ann_lines, key=lambda x: int(x[2].replace('S', ''))), \n",
    "        columns=['indicator', 'label', 'sent_id']\n",
    "    )\n",
    "\n",
    "    ann_df = (ann_df\n",
    "     .assign(label=lambda df: df['label'].str.split().str.get(0).str.strip())\n",
    "    )\n",
    "\n",
    "    # doc lines \n",
    "    doc_lines = open(doc_fn).read().split('\\n')\n",
    "    \n",
    "    doc_lines = list(filter(lambda x: len(x) > 0, doc_lines))\n",
    "    \n",
    "    url = get_line_or_null(doc_lines, indicator='URL ')\n",
    "    headline = get_line_or_null(doc_lines, indicator='H ')\n",
    "    sentences = list(filter(lambda x: x.startswith('S'), doc_lines))\n",
    "    sentences_df = pd.DataFrame(\n",
    "        list(map(lambda x: [x.split()[0], ' '.join(x.split()[1:])], sentences)), \n",
    "        columns=['sent_id', 'sentence']\n",
    "    )\n",
    "\n",
    "    # merge together \n",
    "    full_df = sentences_df.merge(ann_df, on='sent_id', ).drop(columns='indicator')\n",
    "    full_df['headline'] = headline\n",
    "    full_df['key'] = key\n",
    "    full_df['url'] = url\n",
    "    \n",
    "    all_parsed_annotations.append(full_df)"
   ]
  },
  {
   "cell_type": "code",
   "execution_count": null,
   "id": "030deba1",
   "metadata": {},
   "outputs": [],
   "source": []
  },
  {
   "cell_type": "code",
   "execution_count": 200,
   "id": "c6e2c4b6",
   "metadata": {},
   "outputs": [
    {
     "data": {
      "text/plain": [
       "802"
      ]
     },
     "execution_count": 200,
     "metadata": {},
     "output_type": "execute_result"
    }
   ],
   "source": [
    "len(all_parsed_annotations)"
   ]
  },
  {
   "cell_type": "code",
   "execution_count": 205,
   "id": "12603cfd",
   "metadata": {},
   "outputs": [],
   "source": [
    "full_newsworthiness_df = pd.concat(all_parsed_annotations)"
   ]
  },
  {
   "cell_type": "code",
   "execution_count": 208,
   "id": "c1f427e1",
   "metadata": {},
   "outputs": [],
   "source": [
    "full_newsworthiness_df.to_csv('../models/discourse-model/data/reparsed-newsworthiness-df.csv')"
   ]
  },
  {
   "cell_type": "code",
   "execution_count": 217,
   "id": "dcdedeeb",
   "metadata": {},
   "outputs": [],
   "source": [
    "( \n",
    "  full_newsworthiness_df\n",
    "     .sort_values(['key', 'sent_id'])\n",
    "     .groupby('key')\n",
    "     [['sentence', 'label']]\n",
    "     .aggregate(list)\n",
    "     .reset_index()\n",
    "     .assign(split=lambda df: df['key'].apply(lambda x: 'train' if x.split('/')[0] in ['train', 'test'] else 'test'))\n",
    "     .drop(columns='key')\n",
    "     .to_json('../models/discourse-model/data/reparsed-newsworthiness-df.jsonl', orient='records', lines=True)    \n",
    ")"
   ]
  },
  {
   "cell_type": "code",
   "execution_count": null,
   "id": "ffaa6302",
   "metadata": {},
   "outputs": [],
   "source": []
  }
 ],
 "metadata": {
  "hide_input": false,
  "kernelspec": {
   "display_name": "Python 3 (ipykernel)",
   "language": "python",
   "name": "python3"
  },
  "language_info": {
   "codemirror_mode": {
    "name": "ipython",
    "version": 3
   },
   "file_extension": ".py",
   "mimetype": "text/x-python",
   "name": "python",
   "nbconvert_exporter": "python",
   "pygments_lexer": "ipython3",
   "version": "3.10.11"
  }
 },
 "nbformat": 4,
 "nbformat_minor": 5
}
