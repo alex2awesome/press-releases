{
 "cells": [
  {
   "cell_type": "code",
   "execution_count": 27,
   "id": "c2b6677d-998d-4ebf-a5e3-f2b0b913e651",
   "metadata": {
    "tags": []
   },
   "outputs": [],
   "source": [
    "q = \"\"\"    with r1 as (\n",
    "            SELECT * from release \n",
    "             WHERE wire_id > 0 and wire_id NOT IN (25,2345,96,3543,584,474,1719,3447,586,587,97,2640)\n",
    "                AND CAST(toa AS DATE) > CAST('2023-01-01' AS DATE)\n",
    "    )\n",
    "        SELECT \n",
    "            S.suid AS story_suid,\n",
    "            R.suid AS release_suid,\n",
    "            R.bundle_id AS release_bundle_id,\n",
    "            S.release_id AS release_id,\n",
    "            ST.name AS story_type,\n",
    "            RT.name AS release_type,\n",
    "            S.toa AS story_toa,\n",
    "            R.toa AS release_toa,\n",
    "            S.headline AS story_headline,\n",
    "            S.wire AS story_wire,\n",
    "            S.wire_class AS story_wire_class,\n",
    "            R.wire_id AS release_wire,\n",
    "            R.wire_class AS release_wire_class,\n",
    "            R.web_url AS release_web_url,\n",
    "            R.subject AS release_subject, \n",
    "            R.body AS release_body\n",
    "            FROM story S\n",
    "            JOIN r1 R ON S.release_id = R.id\n",
    "            JOIN release_type RT ON R.release_type = RT.release_type\n",
    "            JOIN story_type ST ON S.story_type = ST.story_type\n",
    "            WHERE S.language = 'en'\n",
    "            AND R.language = 'en'\"\"\".replace('\\n', ' ')"
   ]
  },
  {
   "cell_type": "code",
   "execution_count": 28,
   "id": "1d5c4314-84cc-43f1-ae27-2ab9f0ff3bd4",
   "metadata": {
    "tags": []
   },
   "outputs": [],
   "source": [
    "import re "
   ]
  },
  {
   "cell_type": "code",
   "execution_count": 30,
   "id": "fa9f1275-443f-4d47-8c2f-5146422f345b",
   "metadata": {
    "tags": []
   },
   "outputs": [
    {
     "data": {
      "text/plain": [
       "\"with r1 as ( SELECT * from release WHERE wire_id > 0 and wire_id NOT IN (25,2345,96,3543,584,474,1719,3447,586,587,97,2640) AND CAST(toa AS DATE) > CAST('2023-01-01' AS DATE) ) SELECT S.suid AS story_suid, R.suid AS release_suid, R.bundle_id AS release_bundle_id, S.release_id AS release_id, ST.name AS story_type, RT.name AS release_type, S.toa AS story_toa, R.toa AS release_toa, S.headline AS story_headline, S.wire AS story_wire, S.wire_class AS story_wire_class, R.wire_id AS release_wire, R.wire_class AS release_wire_class, R.web_url AS release_web_url, R.subject AS release_subject, R.body AS release_body FROM story S JOIN r1 R ON S.release_id = R.id JOIN release_type RT ON R.release_type = RT.release_type JOIN story_type ST ON S.story_type = ST.story_type WHERE S.language = 'en' AND R.language = 'en'\""
      ]
     },
     "execution_count": 30,
     "metadata": {},
     "output_type": "execute_result"
    }
   ],
   "source": [
    "re.sub(' +', ' ', q).strip()"
   ]
  },
  {
   "cell_type": "code",
   "execution_count": null,
   "id": "d8be5b04-8fb8-4252-8a92-8d3518f3d1d8",
   "metadata": {},
   "outputs": [],
   "source": []
  },
  {
   "cell_type": "code",
   "execution_count": null,
   "id": "5f17078b-a142-49c3-a028-976f5f012902",
   "metadata": {},
   "outputs": [],
   "source": []
  },
  {
   "cell_type": "code",
   "execution_count": 1,
   "id": "0a73fd5e-76f6-430b-859e-0bfeacb3c69e",
   "metadata": {
    "tags": []
   },
   "outputs": [
    {
     "name": "stderr",
     "output_type": "stream",
     "text": [
      "SLF4J: Class path contains multiple SLF4J bindings.\n",
      "SLF4J: Found binding in [jar:file:/layers/com.bloomberg.ds.buildpacks.spark/spark/jars/slf4j-log4j12-1.7.30.jar!/org/slf4j/impl/StaticLoggerBinder.class]\n",
      "SLF4J: Found binding in [jar:file:/layers/com.bloomberg.ds.buildpacks.hadoop/hadoop/share/hadoop/common/lib/slf4j-log4j12-1.7.25.jar!/org/slf4j/impl/StaticLoggerBinder.class]\n",
      "SLF4J: See http://www.slf4j.org/codes.html#multiple_bindings for an explanation.\n",
      "SLF4J: Actual binding is of type [org.slf4j.impl.Log4jLoggerFactory]\n"
     ]
    },
    {
     "name": "stdout",
     "output_type": "stream",
     "text": [
      ":: loading settings :: file = /layers/com.bloomberg.ds.buildpacks.spark/spark/conf/ivysettings.xml\n"
     ]
    },
    {
     "name": "stderr",
     "output_type": "stream",
     "text": [
      "23/06/26 21:07:09 INFO kns= appId= execId= DelegationTokenUtil: Logging in user from delegation token\n",
      "23/06/26 21:07:09 INFO kns= appId= execId= DelegationTokenUtil: hadoop token File found\n",
      "23/06/26 21:07:09 INFO kns= appId= execId= DelegationTokenUtil: Loaded 2 tokens\n",
      "Setting spark.hadoop.yarn.resourcemanager.principal to job\n",
      "Setting default log level to \"WARN\".\n",
      "To adjust logging level use sc.setLogLevel(newLevel). For SparkR, use setLogLevel(newLevel).\n"
     ]
    },
    {
     "data": {
      "text/html": [
       "\n",
       "            <div>\n",
       "                <p><b>SparkSession - hive</b></p>\n",
       "                \n",
       "                <div>\n",
       "                    <p><b>SparkContext</b></p>\n",
       "                    <p><a href=\"/sprk/4041/jobs/\">Spark UI</a></p>\n",
       "                    <dl>\n",
       "                      <dt>Version</dt>\n",
       "                        <dd><code>v3.0.2.18</code></dd>\n",
       "                      <dt>AppName</dt>\n",
       "                        <dd><code>librarian</code></dd>\n",
       "                    </dl>\n",
       "                    <br>\n",
       "                    <b>Executor Status</b>\n",
       "                    <dl>\n",
       "                      <dt>Running</dt>\n",
       "                        <dd><code>0</code></dd>\n",
       "                      <dt>Pending</dt>\n",
       "                        <dd><code>0</code></dd>\n",
       "                      <dt>Failed</dt>\n",
       "                        <dd><code>0</code></dd>\n",
       "                    </dl>\n",
       "                </div>\n",
       "                \n",
       "            </div>\n",
       "        "
      ],
      "text/plain": [
       "<pyspark.sql.session.SparkSession at 0x7f97f427d6a0>"
      ]
     },
     "execution_count": 1,
     "metadata": {},
     "output_type": "execute_result"
    }
   ],
   "source": [
    "from bloomberg.ai.librarian import Librarian, get_config\n",
    "config = get_config()\n",
    "config.spark.properties[\"spark.executor.instances\"] = 20\n",
    "config.spark.properties[\"spark.executor.memory\"] = \"4G\"\n",
    "config.spark.properties[\"spark.driver.memory\"] = \"6G\"\n",
    "\n",
    "librarian = Librarian(cfg=config)\n",
    "librarian.spark_session"
   ]
  },
  {
   "cell_type": "code",
   "execution_count": 3,
   "id": "842e3021-f9c4-44a0-9b8b-d2e2393a3654",
   "metadata": {
    "tags": []
   },
   "outputs": [],
   "source": [
    "wire_names = 'GO1, CO1, CO5, CO6, GO6, GO5, CO2, CO3, GO3, GO8, CO4, CO8, CO7, GO2, GO9, GO7, GO4'\n",
    "wire_names += ', EDG, GO1, PRN, BUS, CO5, PZM, RNS, ONE, DBF, CIS'\n",
    "wire_names = list(set(wire_names.split(', ')))"
   ]
  },
  {
   "cell_type": "code",
   "execution_count": 11,
   "id": "c7d23d2a-7c2f-4009-a961-5d8883dc22e5",
   "metadata": {
    "tags": []
   },
   "outputs": [
    {
     "name": "stderr",
     "output_type": "stream",
     "text": [
      "                                                                                \r"
     ]
    }
   ],
   "source": [
    "import pyspark.sql.functions as F\n",
    "from pyspark.sql.window import Window\n",
    "from pyspark.sql.functions import lit\n",
    "df = (\n",
    "    librarian\n",
    "        .datasets\n",
    "        .newsarchive\n",
    "        .prod()\n",
    "        .pvf_newsldap_4()\n",
    "        .pvf_newsldap_6()\n",
    "        .begin(2021, 1, 1)\n",
    "        .end(2023, 4, 30)\n",
    "    .fetch()\n",
    ")"
   ]
  },
  {
   "cell_type": "code",
   "execution_count": 13,
   "id": "3967ee2e-cf0f-412f-a9d2-abf355b227b7",
   "metadata": {
    "tags": []
   },
   "outputs": [
    {
     "name": "stderr",
     "output_type": "stream",
     "text": [
      "                                                                                \r"
     ]
    },
    {
     "data": {
      "text/plain": [
       "Row(suid='QMKJ31MB2SJR', wire_mnemonic='GO1', wire=1883, headline='FBO:Veteran Aff: Renovate Building 213 – Tech Training Dorm', bloom_lang=1, timeofarrival='2021-01-07T14:33:01.332', bunch_id=None, body='')"
      ]
     },
     "execution_count": 13,
     "metadata": {},
     "output_type": "execute_result"
    }
   ],
   "source": [
    "df = (\n",
    "    df\n",
    "        .filter(df.wire_mnemonic.isin(wire_names))\n",
    "        .select(['suid', 'wire_mnemonic', 'wire', 'headline','bloom_lang', 'timeofarrival', 'bunch_id'])\n",
    ")\n",
    "df = df.withColumn('body', lit(''))\n",
    "df.head()"
   ]
  },
  {
   "cell_type": "code",
   "execution_count": 17,
   "id": "3de8d502-2222-4054-949f-c3eb1958315f",
   "metadata": {
    "tags": []
   },
   "outputs": [
    {
     "name": "stderr",
     "output_type": "stream",
     "text": [
      "                                                                                \r"
     ]
    },
    {
     "data": {
      "text/plain": [
       "12467613"
      ]
     },
     "execution_count": 17,
     "metadata": {},
     "output_type": "execute_result"
    }
   ],
   "source": [
    "df.count()"
   ]
  },
  {
   "cell_type": "code",
   "execution_count": 18,
   "id": "9876e480-7d21-4a72-bc15-83cb3d236651",
   "metadata": {
    "tags": []
   },
   "outputs": [],
   "source": [
    "english_df = df.filter(\"`bloom_lang` == '1'\")\n",
    "bunch_ids_with_at_least_two_rows = (\n",
    "    english_df\n",
    "        .groupBy(\"bunch_id\")\n",
    "        .count()\n",
    "        .filter(\"`count` >= 2\")\n",
    "        .select([\"bunch_id\"])\n",
    ")"
   ]
  },
  {
   "cell_type": "code",
   "execution_count": 19,
   "id": "38ce01d3-72ee-4ee1-ab72-9656e8403284",
   "metadata": {
    "tags": []
   },
   "outputs": [
    {
     "name": "stderr",
     "output_type": "stream",
     "text": [
      "[Stage 10:========================================>               (16 + 6) / 22]\r"
     ]
    },
    {
     "name": "stdout",
     "output_type": "stream",
     "text": [
      "len(bunch_ids_with_at_least_two_rows) = 93\n"
     ]
    },
    {
     "name": "stderr",
     "output_type": "stream",
     "text": [
      "                                                                                \r"
     ]
    }
   ],
   "source": [
    "bunch_ids_with_at_least_two_rows = bunch_ids_with_at_least_two_rows.rdd.map(lambda x :  x[0]).collect()\n",
    "print(f\"len(bunch_ids_with_at_least_two_rows) = {len(bunch_ids_with_at_least_two_rows)}\")"
   ]
  },
  {
   "cell_type": "code",
   "execution_count": 20,
   "id": "49c9f65f-8b94-4a05-abef-47e5e4095da1",
   "metadata": {
    "tags": []
   },
   "outputs": [],
   "source": [
    "df_filted_by_bunch_id = (\n",
    "    df.filter(df.bunch_id.isin(bunch_ids_with_at_least_two_rows))\n",
    "        .sort('bunch_id')\n",
    "        .select(['suid', 'wire_mnemonic', 'wire', 'headline','body', 'bloom_lang', 'timeofarrival', 'bunch_id'])\n",
    ")"
   ]
  },
  {
   "cell_type": "code",
   "execution_count": 23,
   "id": "1e400fd5-77a1-4d7d-8621-bd487155b1b3",
   "metadata": {
    "tags": []
   },
   "outputs": [
    {
     "name": "stderr",
     "output_type": "stream",
     "text": [
      "                                                                                \r"
     ]
    },
    {
     "data": {
      "text/plain": [
       "192"
      ]
     },
     "execution_count": 23,
     "metadata": {},
     "output_type": "execute_result"
    }
   ],
   "source": [
    "df_filted_by_bunch_id.count()"
   ]
  },
  {
   "cell_type": "code",
   "execution_count": 24,
   "id": "6c731d79-5b00-44f4-993d-c5d72c9ff246",
   "metadata": {
    "tags": []
   },
   "outputs": [
    {
     "name": "stderr",
     "output_type": "stream",
     "text": [
      "[Stage 14:===================================================>(4470 + 3) / 4473]\r"
     ]
    },
    {
     "name": "stdout",
     "output_type": "stream",
     "text": [
      "+------------+-------------+----+--------------------+----+----------+--------------------+------------+\n",
      "|        suid|wire_mnemonic|wire|            headline|body|bloom_lang|       timeofarrival|    bunch_id|\n",
      "+------------+-------------+----+--------------------+----+----------+--------------------+------------+\n",
      "|QMJGLKMB2SJQ|          GO1|1883|FDA: Abbreviated ...|    |         1|2021-01-07T00:41:...|QMJGLKMB2SJQ|\n",
      "|QMJGLKMB2SJQ|          GO1|1883|FDA: Abbreviated ...|    |         1|2021-01-07T00:41:...|QMJGLKMB2SJQ|\n",
      "|QMJU2BMB2SJW|          GO6|1884|India Res Bank: U...|    |         1|2021-01-07T05:32:...|QMJU2BMB2SJW|\n",
      "|QMJU2BMB2SJW|          GO6|1884|India Res Bank: U...|    |         1|2021-01-07T05:32:...|QMJU2BMB2SJW|\n",
      "|QMJY46MB2SJU|          GO5|1886|Germany Stats: Pr...|    |         1|2021-01-07T07:00:...|QMJY46MB2SJU|\n",
      "|QMJY46MB2SJU|          GO5|1886|Germany Stats: Pr...|    |         1|2021-01-07T07:00:...|QMJY46MB2SJU|\n",
      "|QMK0XCMB2SJZ|          GO5|1886|Stats Austria: Wh...|    |         1|2021-01-07T08:00:...|QMK0XCMB2SJZ|\n",
      "|QMK0XCMB2SJZ|          GO5|1886|Stats Austria: Wh...|    |         1|2021-01-07T08:00:...|QMK0XCMB2SJZ|\n",
      "|QMK42TMB2SJW|          GO6|1884|India Res Bank: S...|    |         1|2021-01-07T09:08:...|QMK42TMB2SJW|\n",
      "|QMK42TMB2SJW|          GO6|1884|India Res Bank: S...|    |         1|2021-01-07T09:08:...|QMK42TMB2SJW|\n",
      "|QMK6SJMB2SJN|          GO6|1884|India Res Bank: R...|    |         1|2021-01-07T10:07:...|QMK6SJMB2SJN|\n",
      "|QMK6SJMB2SJN|          GO6|1884|India Res Bank: R...|    |         1|2021-01-07T10:07:...|QMK6SJMB2SJN|\n",
      "|QMK9IZMB2SJS|          GO1|1883|NHTSA: RECALL Eng...|    |         1|2021-01-07T11:06:...|QMK9IZMB2SJS|\n",
      "|QMK9IZMB2SJS|          GO1|1883|NHTSA: RECALL Eng...|    |         1|2021-01-07T11:06:...|QMK9IZMB2SJS|\n",
      "|QMKACCMB2SJS|          GO6|1884|India Res Bank: R...|    |         1|2021-01-07T11:24:...|QMKACCMB2SJS|\n",
      "|QMKACCMB2SJS|          GO6|1884|India Res Bank: R...|    |         1|2021-01-07T11:24:...|QMKACCMB2SJS|\n",
      "|QMKG60MB2SJL|          GO1|1883|US Census Bur: U....|    |         1|2021-01-07T13:30:...|QMKG60MB2SJL|\n",
      "|QMKG60MB2SJL|          GO1|1883|US Census Bur: U....|    |         1|2021-01-07T13:30:...|QMKG60MB2SJL|\n",
      "|QMKG61MB2SJW|          GO1|1883|US Census Bur: In...|    |         1|2021-01-07T13:30:...|QMKG61MB2SJW|\n",
      "|QMKG61MB2SJW|          GO1|1883|US Census Bur: In...|    |         1|2021-01-07T13:30:...|QMKG61MB2SJW|\n",
      "+------------+-------------+----+--------------------+----+----------+--------------------+------------+\n",
      "only showing top 20 rows\n",
      "\n"
     ]
    },
    {
     "name": "stderr",
     "output_type": "stream",
     "text": [
      "                                                                                \r"
     ]
    }
   ],
   "source": [
    "df_filted_by_bunch_id.show()"
   ]
  },
  {
   "cell_type": "code",
   "execution_count": null,
   "id": "2d78ea97-0b19-4af6-a087-0026405c8868",
   "metadata": {},
   "outputs": [],
   "source": [
    "final_df = df_filted_by_bunch_id.withColumn(\"row_number\",F.row_number().over(Window.partitionBy(df_filted_by_bunch_id.headline).orderBy(df_filted_by_bunch_id.headline.desc()))).filter(F.col(\"row_number\")==1).drop(\"row_number\").sort(\"bunch_id\")"
   ]
  },
  {
   "cell_type": "code",
   "execution_count": null,
   "id": "149780d9-383a-4994-ac1d-9d4f08de44c3",
   "metadata": {},
   "outputs": [],
   "source": []
  },
  {
   "cell_type": "code",
   "execution_count": null,
   "id": "2bd707ed-6eef-4f00-81de-14bfc964ee78",
   "metadata": {},
   "outputs": [],
   "source": []
  },
  {
   "cell_type": "code",
   "execution_count": null,
   "id": "0194a575-5483-4afd-a2d1-b47b4d758679",
   "metadata": {},
   "outputs": [],
   "source": []
  },
  {
   "cell_type": "code",
   "execution_count": null,
   "id": "f46fab7c-7111-4eac-8e5b-6945e4bf3412",
   "metadata": {},
   "outputs": [],
   "source": []
  }
 ],
 "metadata": {
  "kernelspec": {
   "display_name": "Python 3 (ipykernel)",
   "language": "python",
   "name": "python3"
  },
  "language_info": {
   "codemirror_mode": {
    "name": "ipython",
    "version": 3
   },
   "file_extension": ".py",
   "mimetype": "text/x-python",
   "name": "python",
   "nbconvert_exporter": "python",
   "pygments_lexer": "ipython3",
   "version": "3.9.16"
  }
 },
 "nbformat": 4,
 "nbformat_minor": 5
}
