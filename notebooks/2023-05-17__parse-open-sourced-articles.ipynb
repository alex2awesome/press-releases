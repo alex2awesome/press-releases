{
 "cells": [
  {
   "cell_type": "code",
   "execution_count": 36,
   "metadata": {},
   "outputs": [],
   "source": [
    "import pandas as pd\n",
    "import orjson \n",
    "import orjsonl"
   ]
  },
  {
   "cell_type": "markdown",
   "metadata": {},
   "source": [
    "# Read Data"
   ]
  },
  {
   "cell_type": "markdown",
   "metadata": {},
   "source": [
    "### NYTimes"
   ]
  },
  {
   "cell_type": "code",
   "execution_count": 44,
   "metadata": {},
   "outputs": [],
   "source": [
    "from more_itertools import flatten\n",
    "import xopen\n",
    "import gzip\n",
    "import pandas as pd \n",
    "from urllib.parse import urlparse\n",
    "\n",
    "fname = '../data/open-sourced-articles/nytimes-business-articles-sans-html.jsonl.gz'\n",
    "nytimes_fetched = []\n",
    "with xopen.xopen(fname, 'rb') as f:\n",
    "    for line in f:\n",
    "        nytimes_fetched.append( orjson.loads(line))\n",
    "\n",
    "nytimes_fetched_df = pd.DataFrame(nytimes_fetched).loc[lambda df: df['links'].str.len() > 0]"
   ]
  },
  {
   "cell_type": "code",
   "execution_count": 68,
   "metadata": {},
   "outputs": [],
   "source": [
    "def flatten_list_of_links(df):\n",
    "    all_links = []\n",
    "    for url, links in (\n",
    "        df.drop_duplicates('article_url')\n",
    "        .set_index('article_url')\n",
    "        ['links'].items()\n",
    "    ):\n",
    "        for link in links:\n",
    "            link['url'] = url\n",
    "            all_links.append(link)\n",
    "    return pd.DataFrame(all_links)"
   ]
  },
  {
   "cell_type": "code",
   "execution_count": 66,
   "metadata": {},
   "outputs": [],
   "source": [
    "all_nyt_links_df = flatten_list_of_links(nytimes_fetched_df)\n"
   ]
  },
  {
   "cell_type": "code",
   "execution_count": 105,
   "metadata": {},
   "outputs": [],
   "source": [
    "press_release_articles = (\n",
    "    pd.concat([\n",
    "        all_nyt_links_df.loc[lambda df: df['text'].str.contains('press release', case=False)].assign(method='text: press release'),\n",
    "        all_nyt_links_df.loc[lambda df: df['text'].str.contains('news release', case=False)].assign(method='text: news release'),\n",
    "        all_nyt_links_df.loc[lambda df: df['href'].str.contains('prnewswire', case=False)].assign(method='href: prnewswire'),\n",
    "        all_nyt_links_df.loc[lambda df: df['href'].str.contains('businesswire', case=False)].assign(method='href: businesswire'),\n",
    "        all_nyt_links_df.loc[lambda df: df['href'].str.contains('press', case=False)].assign(method='href: press'),\n",
    "        all_nyt_links_df.loc[lambda df: df['href'].str.contains('release', case=False)].assign(method='href: release'),\n",
    "    ])\n",
    "    .assign(domain=lambda df: df['href'].apply(lambda x: urlparse(x).netloc))\n",
    "    .loc[lambda df: ~df['domain'].str.contains('nytimes')]\n",
    "    .loc[lambda df: ~df['href'].str.startswith('/')]\n",
    ")"
   ]
  },
  {
   "cell_type": "code",
   "execution_count": 113,
   "metadata": {},
   "outputs": [
    {
     "name": "stdout",
     "output_type": "stream",
     "text": [
      "Total articles: 10240\n"
     ]
    }
   ],
   "source": [
    "print('Total articles:', press_release_articles.shape[0])"
   ]
  },
  {
   "cell_type": "code",
   "execution_count": 114,
   "metadata": {},
   "outputs": [
    {
     "name": "stdout",
     "output_type": "stream",
     "text": [
      "Total unique articles: 5602\n"
     ]
    }
   ],
   "source": [
    "print('Total unique articles:', press_release_articles['url'].nunique())"
   ]
  },
  {
   "cell_type": "code",
   "execution_count": 115,
   "metadata": {},
   "outputs": [
    {
     "data": {
      "text/plain": [
       "method\n",
       "href: release          4429\n",
       "href: press            4392\n",
       "text: news release      661\n",
       "href: businesswire      389\n",
       "href: prnewswire        349\n",
       "text: press release      20\n",
       "Name: count, dtype: int64"
      ]
     },
     "execution_count": 115,
     "metadata": {},
     "output_type": "execute_result"
    }
   ],
   "source": [
    "press_release_articles['method'].value_counts()\n",
    "\n",
    "## how are these being used in the article?\n",
    "## are these articles about press releases, or something else that just happens to use press release?\n",
    "##      our preference is"
   ]
  },
  {
   "cell_type": "code",
   "execution_count": 116,
   "metadata": {},
   "outputs": [
    {
     "data": {
      "text/plain": [
       "href\n",
       "http://www.bls.gov/news.release/empsit.nr0.htm                                                                                                                             49\n",
       "http://www.dol.gov/opa/media/press/eta/ui/current.htm                                                                                                                      28\n",
       "http://www.bea.gov/newsreleases/national/gdp/gdpnewsrelease.htm                                                                                                            23\n",
       "http://www.bls.gov/news.release/cpi.nr0.htm                                                                                                                                19\n",
       "https://www.bls.gov/news.release/empsit.nr0.htm                                                                                                                            16\n",
       "                                                                                                                                                                           ..\n",
       "http://www-03.ibm.com/press/us/en/pressrelease/42980.wss                                                                                                                    1\n",
       "http://jaredbernsteinblog.com/jobs-report-first-impressions-10/                                                                                                             1\n",
       "https://medium.com/press-play/press-play-4b26bed77b7d                                                                                                                       1\n",
       "http://www.undp.org/content/undp/en/home/presscenter/events/2014/september/23-september-united-nations-climate-summit/Land-Use-and-Forest-Action-Area-Online-Pressroom/     1\n",
       "http://www.discogs.com/Roger-Sanchez-Presents-Translantic-Soul-Release-Yo-Self/master/74161                                                                                 1\n",
       "Name: count, Length: 5146, dtype: int64"
      ]
     },
     "execution_count": 116,
     "metadata": {},
     "output_type": "execute_result"
    }
   ],
   "source": [
    "press_release_articles.drop_duplicates('url')['href'].value_counts()"
   ]
  },
  {
   "cell_type": "code",
   "execution_count": 174,
   "metadata": {},
   "outputs": [
    {
     "data": {
      "text/plain": [
       "(5602, 5)"
      ]
     },
     "execution_count": 174,
     "metadata": {},
     "output_type": "execute_result"
    }
   ],
   "source": [
    "press_release_articles.drop_duplicates('url').shape "
   ]
  },
  {
   "cell_type": "code",
   "execution_count": 173,
   "metadata": {},
   "outputs": [
    {
     "data": {
      "text/plain": [
       "(100200, 9)"
      ]
     },
     "execution_count": 173,
     "metadata": {},
     "output_type": "execute_result"
    }
   ],
   "source": [
    "nytimes_fetched_df.shape "
   ]
  },
  {
   "cell_type": "markdown",
   "metadata": {},
   "source": [
    "### WSJ"
   ]
  },
  {
   "cell_type": "code",
   "execution_count": 118,
   "metadata": {},
   "outputs": [],
   "source": [
    "fname = '../data/open-sourced-articles/wsj-business-articles-sans-html.jsonl.gz'\n",
    "wsj_fetched = []\n",
    "with xopen.xopen(fname, 'rb') as f:\n",
    "    for line in f:\n",
    "        wsj_fetched.append( orjson.loads(line))\n",
    "\n",
    "wsj_fetched_df = pd.DataFrame(wsj_fetched).loc[lambda df: df['links'].str.len() > 0]"
   ]
  },
  {
   "cell_type": "code",
   "execution_count": 122,
   "metadata": {},
   "outputs": [],
   "source": [
    "all_wsj_links_df = flatten_list_of_links(wsj_fetched_df)"
   ]
  },
  {
   "cell_type": "code",
   "execution_count": 123,
   "metadata": {},
   "outputs": [
    {
     "data": {
      "text/html": [
       "<div>\n",
       "<style scoped>\n",
       "    .dataframe tbody tr th:only-of-type {\n",
       "        vertical-align: middle;\n",
       "    }\n",
       "\n",
       "    .dataframe tbody tr th {\n",
       "        vertical-align: top;\n",
       "    }\n",
       "\n",
       "    .dataframe thead th {\n",
       "        text-align: right;\n",
       "    }\n",
       "</style>\n",
       "<table border=\"1\" class=\"dataframe\">\n",
       "  <thead>\n",
       "    <tr style=\"text-align: right;\">\n",
       "      <th></th>\n",
       "      <th>text</th>\n",
       "      <th>href</th>\n",
       "      <th>url</th>\n",
       "    </tr>\n",
       "  </thead>\n",
       "  <tbody>\n",
       "    <tr>\n",
       "      <th>0</th>\n",
       "      <td>\\n\\n\\n\\n\\n\\n\\n</td>\n",
       "      <td>https://www.wsj.com/articles/eviction-bans-exp...</td>\n",
       "      <td>com,wsj)/amp/articles/com,wsj)/amp/articles/ev...</td>\n",
       "    </tr>\n",
       "    <tr>\n",
       "      <th>1</th>\n",
       "      <td>\\n              Real Estate\\n</td>\n",
       "      <td>https://www.wsj.com/news/realestate?mod=breadc...</td>\n",
       "      <td>com,wsj)/amp/articles/com,wsj)/amp/articles/ev...</td>\n",
       "    </tr>\n",
       "    <tr>\n",
       "      <th>2</th>\n",
       "      <td>Will Parker</td>\n",
       "      <td>https://www.wsj.com/news/author/will-parker</td>\n",
       "      <td>com,wsj)/amp/articles/com,wsj)/amp/articles/ev...</td>\n",
       "    </tr>\n",
       "    <tr>\n",
       "      <th>3</th>\n",
       "      <td>citing a Supreme Court</td>\n",
       "      <td>https://www.wsj.com/articles/supreme-court-dec...</td>\n",
       "      <td>com,wsj)/amp/articles/com,wsj)/amp/articles/ev...</td>\n",
       "    </tr>\n",
       "    <tr>\n",
       "      <th>4</th>\n",
       "      <td>failed to reach an agreement</td>\n",
       "      <td>https://www.wsj.com/articles/house-adjourns-wi...</td>\n",
       "      <td>com,wsj)/amp/articles/com,wsj)/amp/articles/ev...</td>\n",
       "    </tr>\n",
       "    <tr>\n",
       "      <th>...</th>\n",
       "      <td>...</td>\n",
       "      <td>...</td>\n",
       "      <td>...</td>\n",
       "    </tr>\n",
       "    <tr>\n",
       "      <th>33326623</th>\n",
       "      <td>Legal Policies</td>\n",
       "      <td>https://www.wsj.com/policy/legal-policies</td>\n",
       "      <td>com,wsj)/articles/com,wsj)/articles/u-s-paymen...</td>\n",
       "    </tr>\n",
       "    <tr>\n",
       "      <th>33326624</th>\n",
       "      <td>Google Play</td>\n",
       "      <td>https://play.google.com/store/apps/details?id=...</td>\n",
       "      <td>com,wsj)/articles/com,wsj)/articles/u-s-paymen...</td>\n",
       "    </tr>\n",
       "    <tr>\n",
       "      <th>33326625</th>\n",
       "      <td>App Store</td>\n",
       "      <td>https://apps.apple.com/us/app/the-wall-street-...</td>\n",
       "      <td>com,wsj)/articles/com,wsj)/articles/u-s-paymen...</td>\n",
       "    </tr>\n",
       "    <tr>\n",
       "      <th>33326626</th>\n",
       "      <td>Sign In</td>\n",
       "      <td>https://accounts.wsj.com/login?target=http%3A%...</td>\n",
       "      <td>com,wsj)/articles/com,wsj)/articles/u-s-paymen...</td>\n",
       "    </tr>\n",
       "    <tr>\n",
       "      <th>33326627</th>\n",
       "      <td>Dow Jones &amp; Company</td>\n",
       "      <td>https://www.dowjones.com</td>\n",
       "      <td>com,wsj)/articles/com,wsj)/articles/u-s-paymen...</td>\n",
       "    </tr>\n",
       "  </tbody>\n",
       "</table>\n",
       "<p>33326628 rows × 3 columns</p>\n",
       "</div>"
      ],
      "text/plain": [
       "                                                 text   \n",
       "0                                      \\n\\n\\n\\n\\n\\n\\n  \\\n",
       "1         \\n              Real Estate\\n                 \n",
       "2                                         Will Parker   \n",
       "3                              citing a Supreme Court   \n",
       "4                        failed to reach an agreement   \n",
       "...                                               ...   \n",
       "33326623                               Legal Policies   \n",
       "33326624                                  Google Play   \n",
       "33326625                                    App Store   \n",
       "33326626                                      Sign In   \n",
       "33326627                          Dow Jones & Company   \n",
       "\n",
       "                                                       href   \n",
       "0         https://www.wsj.com/articles/eviction-bans-exp...  \\\n",
       "1         https://www.wsj.com/news/realestate?mod=breadc...   \n",
       "2               https://www.wsj.com/news/author/will-parker   \n",
       "3         https://www.wsj.com/articles/supreme-court-dec...   \n",
       "4         https://www.wsj.com/articles/house-adjourns-wi...   \n",
       "...                                                     ...   \n",
       "33326623          https://www.wsj.com/policy/legal-policies   \n",
       "33326624  https://play.google.com/store/apps/details?id=...   \n",
       "33326625  https://apps.apple.com/us/app/the-wall-street-...   \n",
       "33326626  https://accounts.wsj.com/login?target=http%3A%...   \n",
       "33326627                           https://www.dowjones.com   \n",
       "\n",
       "                                                        url  \n",
       "0         com,wsj)/amp/articles/com,wsj)/amp/articles/ev...  \n",
       "1         com,wsj)/amp/articles/com,wsj)/amp/articles/ev...  \n",
       "2         com,wsj)/amp/articles/com,wsj)/amp/articles/ev...  \n",
       "3         com,wsj)/amp/articles/com,wsj)/amp/articles/ev...  \n",
       "4         com,wsj)/amp/articles/com,wsj)/amp/articles/ev...  \n",
       "...                                                     ...  \n",
       "33326623  com,wsj)/articles/com,wsj)/articles/u-s-paymen...  \n",
       "33326624  com,wsj)/articles/com,wsj)/articles/u-s-paymen...  \n",
       "33326625  com,wsj)/articles/com,wsj)/articles/u-s-paymen...  \n",
       "33326626  com,wsj)/articles/com,wsj)/articles/u-s-paymen...  \n",
       "33326627  com,wsj)/articles/com,wsj)/articles/u-s-paymen...  \n",
       "\n",
       "[33326628 rows x 3 columns]"
      ]
     },
     "execution_count": 123,
     "metadata": {},
     "output_type": "execute_result"
    }
   ],
   "source": [
    "all_wsj_links_df"
   ]
  },
  {
   "cell_type": "code",
   "execution_count": null,
   "metadata": {},
   "outputs": [],
   "source": [
    "all_wsj_links_df.loc[lambda df: df['href'].str.contains('muckrack.com')]"
   ]
  },
  {
   "cell_type": "code",
   "execution_count": 161,
   "metadata": {},
   "outputs": [],
   "source": [
    "all_wsj_links_df['domain'] = all_wsj_links_df['href'].apply(lambda x: urlparse(x).netloc)\n",
    "all_wsj_links_df_sans_self_links = all_wsj_links_df.loc[lambda df: ~df['domain'].str.contains('wsj')]"
   ]
  },
  {
   "cell_type": "code",
   "execution_count": 171,
   "metadata": {},
   "outputs": [],
   "source": [
    "wsj_press_release_articles = (\n",
    "    pd.concat([\n",
    "        all_wsj_links_df_sans_self_links.loc[lambda df: df['text'].str.contains('press release', case=False)].assign(method='text: press release'),\n",
    "        all_wsj_links_df_sans_self_links.loc[lambda df: df['text'].str.contains('news release', case=False)].assign(method='text: news release'),\n",
    "        all_wsj_links_df_sans_self_links.loc[lambda df: df['href'].str.contains('prnewswire', case=False)].assign(method='href: prnewswire'),\n",
    "        all_wsj_links_df_sans_self_links.loc[lambda df: df['href'].str.contains('businesswire', case=False)].assign(method='href: businesswire'),\n",
    "        all_wsj_links_df_sans_self_links.loc[lambda df: df['href'].str.contains('press', case=False)].assign(method='href: press'),\n",
    "        all_wsj_links_df_sans_self_links.loc[lambda df: df['href'].str.contains('release', case=False)].assign(method='href: release'),\n",
    "        all_wsj_links_df_sans_self_links.loc[lambda df: df['href'].str.contains('announcement', case=False)].assign(method='href: announcement'),\n",
    "        all_wsj_links_df_sans_self_links.loc[lambda df: df['text'].str.contains('announcement', case=False)].assign(method='text: announcement'),\n",
    "        all_wsj_links_df_sans_self_links.loc[lambda df: df['text'].str.contains('statement', case=False)].assign(method='text: statement'),\n",
    "    ])\n",
    "    .assign(domain=lambda df: df['href'].apply(lambda x: urlparse(x).netloc))\n",
    "    .loc[lambda df: ~df['domain'].str.contains('wsj')]\n",
    "    # .loc[lambda df: ~df['href'].str.startswith('/')]\n",
    ")"
   ]
  },
  {
   "cell_type": "code",
   "execution_count": 172,
   "metadata": {},
   "outputs": [
    {
     "data": {
      "text/plain": [
       "method\n",
       "href: press           134\n",
       "href: release         106\n",
       "text: statement        29\n",
       "href: announcement      6\n",
       "href: businesswire      3\n",
       "text: announcement      3\n",
       "href: prnewswire        2\n",
       "text: news release      1\n",
       "Name: count, dtype: int64"
      ]
     },
     "execution_count": 172,
     "metadata": {},
     "output_type": "execute_result"
    }
   ],
   "source": [
    "wsj_press_release_articles['method'].value_counts()"
   ]
  },
  {
   "cell_type": "code",
   "execution_count": 169,
   "metadata": {},
   "outputs": [
    {
     "data": {
      "text/plain": [
       "'http://files.shareholder.com/downloads/YHOO/1133897927x0x436856/1ae67a98-19a9-49d2-a9f9-74f09d500817/YHOO_Q410PressRelease_Final.pdf'"
      ]
     },
     "execution_count": 169,
     "metadata": {},
     "output_type": "execute_result"
    }
   ],
   "source": [
    "(all_wsj_links_df_sans_self_links\n",
    "     .loc[lambda df: df['text'].str.contains('statement', case=False)]['href']\n",
    "     .iloc[2]\n",
    ")"
   ]
  },
  {
   "cell_type": "code",
   "execution_count": null,
   "metadata": {},
   "outputs": [],
   "source": [
    "# ---------------------------------------\n",
    "# reuters :\n",
    "# business, markets, technology\n",
    "# ---------------------------------------\n",
    "# washington post:\n",
    "# business, technology,\n",
    "# ---------------------------------------"
   ]
  },
  {
   "cell_type": "code",
   "execution_count": null,
   "metadata": {},
   "outputs": [],
   "source": [
    "# we definitely want to have multiple news sources \n",
    "#\n",
    "## crawling stuff from the web \n",
    "\n",
    "## we'd like to have more richer details in the flash headlines, but \n",
    "## it's not new reporting. just summarized/etc. of other documents or whatever is out there.\n",
    "## \n",
    "## look at lexical form a\n",
    "## NI FLASH HEADLINES\n",
    "## BFW are quick stories\n",
    "## \n",
    "## NI PRESS RELEASE\n",
    "\n",
    "## Does Bloomberg cover more government or business press releases? \n",
    "# -> Will have to filter down by the subject\n",
    "## Reporters break things down based on expertise:\n",
    "    ## example: Reporter from europe covers the EU press release\n",
    "\n",
    "\n",
    "## Models\n",
    "## instruction-tuned BloombergGPT\n",
    "## \n",
    "## Evaluation:\n",
    "## * We don't want to generate the entire article from just the press release\n",
    "## * How \n",
    "## Take the story and summary of it, and then the summary becomes the gold-standard of \n",
    "## What we are trying to produce\n",
    "## Should the summary be totally automatic\n",
    "## Take the opening paragraph and that's a summary \n",
    "## \n",
    "## Flash headlines, it's less necessary.\n",
    "## \n",
    "## ************ How can we make sure we validate the summaries generated?\n",
    "## \n",
    "## We can generate bullet points from the press release alone\n",
    "## We can generate bullet points from the article\n",
    "## We can summarize the common points between the two\n",
    "## These three will actually come out as quite different.\n",
    "\n",
    "## If humans are asked to summarize the news:\n",
    "##    * When the news adds background, the summarization point will be very different.\n",
    "##    * When they read both, that will be very different.\n",
    "\n",
    "## Ex.\n",
    "## News article covers press release and adds information about the stock\n",
    "## \n",
    "\n",
    "## Setting up the evaluation\n",
    "## Metrics for scoring\n",
    "## Starting to augment this... dense retrieval?\n",
    "## Here's a summary of the press release, find other things that are related? \n",
    "## Produce a bulleted list of the major highlights from the press release\n",
    "## Turn each one of the bullets into a query and search the archive for similar articles. \n",
    "## \n",
    "## Ex. A drug is mentioned along with other things... one bullet point will mention the drug\n",
    "## so, search the archive for similar things about that.\n",
    "\n",
    "## Having a step where we produce a bunch of stuff, following up on them\n",
    "\n",
    "## You can say  to Language model: \"A company just produced this, what questions \n",
    "# do you have aboubt this?\"\n",
    "# Can the model generate a bunch of things:\n",
    "# 1. What's the approval timeline... "
   ]
  },
  {
   "cell_type": "code",
   "execution_count": 145,
   "metadata": {},
   "outputs": [],
   "source": [
    "top_sites = all_wsj_links_df_sans_self_links['domain'].value_counts().head(20)"
   ]
  },
  {
   "cell_type": "code",
   "execution_count": 146,
   "metadata": {},
   "outputs": [
    {
     "data": {
      "text/html": [
       "<div>\n",
       "<style scoped>\n",
       "    .dataframe tbody tr th:only-of-type {\n",
       "        vertical-align: middle;\n",
       "    }\n",
       "\n",
       "    .dataframe tbody tr th {\n",
       "        vertical-align: top;\n",
       "    }\n",
       "\n",
       "    .dataframe thead th {\n",
       "        text-align: right;\n",
       "    }\n",
       "</style>\n",
       "<table border=\"1\" class=\"dataframe\">\n",
       "  <thead>\n",
       "    <tr style=\"text-align: right;\">\n",
       "      <th></th>\n",
       "      <th>text</th>\n",
       "      <th>href</th>\n",
       "      <th>url</th>\n",
       "      <th>domain</th>\n",
       "    </tr>\n",
       "  </thead>\n",
       "  <tbody>\n",
       "    <tr>\n",
       "      <th>54</th>\n",
       "      <td>Google’s Auto Update policy website</td>\n",
       "      <td>https://support.google.com/chrome/a/answer/622...</td>\n",
       "      <td>com,wsj)/amp/articles/com,wsj)/amp/articles/be...</td>\n",
       "      <td>support.google.com</td>\n",
       "    </tr>\n",
       "    <tr>\n",
       "      <th>58</th>\n",
       "      <td>the outdated device</td>\n",
       "      <td>https://www.acer.com/ac/en/US/content/recyclin...</td>\n",
       "      <td>com,wsj)/amp/articles/com,wsj)/amp/articles/be...</td>\n",
       "      <td>www.acer.com</td>\n",
       "    </tr>\n",
       "    <tr>\n",
       "      <th>59</th>\n",
       "      <td>Gallium</td>\n",
       "      <td>https://galliumos.org</td>\n",
       "      <td>com,wsj)/amp/articles/com,wsj)/amp/articles/be...</td>\n",
       "      <td>galliumos.org</td>\n",
       "    </tr>\n",
       "    <tr>\n",
       "      <th>60</th>\n",
       "      <td>optimized for Chromebooks</td>\n",
       "      <td>https://wiki.galliumos.org/Hardware_Compatibility</td>\n",
       "      <td>com,wsj)/amp/articles/com,wsj)/amp/articles/be...</td>\n",
       "      <td>wiki.galliumos.org</td>\n",
       "    </tr>\n",
       "    <tr>\n",
       "      <th>61</th>\n",
       "      <td>advanced hackery</td>\n",
       "      <td>https://wiki.galliumos.org/Installing</td>\n",
       "      <td>com,wsj)/amp/articles/com,wsj)/amp/articles/be...</td>\n",
       "      <td>wiki.galliumos.org</td>\n",
       "    </tr>\n",
       "    <tr>\n",
       "      <th>...</th>\n",
       "      <td>...</td>\n",
       "      <td>...</td>\n",
       "      <td>...</td>\n",
       "      <td>...</td>\n",
       "    </tr>\n",
       "    <tr>\n",
       "      <th>33326099</th>\n",
       "      <td>REA</td>\n",
       "      <td>https://www.rea-group.com/</td>\n",
       "      <td>com,wsj)/articles/com,wsj)/articles/u-s-paymen...</td>\n",
       "      <td>www.rea-group.com</td>\n",
       "    </tr>\n",
       "    <tr>\n",
       "      <th>33326100</th>\n",
       "      <td>realtor.com</td>\n",
       "      <td>https://www.realtor.com</td>\n",
       "      <td>com,wsj)/articles/com,wsj)/articles/u-s-paymen...</td>\n",
       "      <td>www.realtor.com</td>\n",
       "    </tr>\n",
       "    <tr>\n",
       "      <th>33326101</th>\n",
       "      <td>Storyful</td>\n",
       "      <td>https://storyful.com/</td>\n",
       "      <td>com,wsj)/articles/com,wsj)/articles/u-s-paymen...</td>\n",
       "      <td>storyful.com</td>\n",
       "    </tr>\n",
       "    <tr>\n",
       "      <th>33326103</th>\n",
       "      <td>The Sun</td>\n",
       "      <td>https://www.thesun.co.uk/</td>\n",
       "      <td>com,wsj)/articles/com,wsj)/articles/u-s-paymen...</td>\n",
       "      <td>www.thesun.co.uk</td>\n",
       "    </tr>\n",
       "    <tr>\n",
       "      <th>33326104</th>\n",
       "      <td>The Times</td>\n",
       "      <td>https://www.thetimes.co.uk</td>\n",
       "      <td>com,wsj)/articles/com,wsj)/articles/u-s-paymen...</td>\n",
       "      <td>www.thetimes.co.uk</td>\n",
       "    </tr>\n",
       "  </tbody>\n",
       "</table>\n",
       "<p>777351 rows × 4 columns</p>\n",
       "</div>"
      ],
      "text/plain": [
       "                                         text   \n",
       "54        Google’s Auto Update policy website  \\\n",
       "58                        the outdated device   \n",
       "59                                    Gallium   \n",
       "60                  optimized for Chromebooks   \n",
       "61                           advanced hackery   \n",
       "...                                       ...   \n",
       "33326099                                  REA   \n",
       "33326100                          realtor.com   \n",
       "33326101                             Storyful   \n",
       "33326103                              The Sun   \n",
       "33326104                            The Times   \n",
       "\n",
       "                                                       href   \n",
       "54        https://support.google.com/chrome/a/answer/622...  \\\n",
       "58        https://www.acer.com/ac/en/US/content/recyclin...   \n",
       "59                                    https://galliumos.org   \n",
       "60        https://wiki.galliumos.org/Hardware_Compatibility   \n",
       "61                    https://wiki.galliumos.org/Installing   \n",
       "...                                                     ...   \n",
       "33326099                         https://www.rea-group.com/   \n",
       "33326100                            https://www.realtor.com   \n",
       "33326101                              https://storyful.com/   \n",
       "33326103                          https://www.thesun.co.uk/   \n",
       "33326104                         https://www.thetimes.co.uk   \n",
       "\n",
       "                                                        url   \n",
       "54        com,wsj)/amp/articles/com,wsj)/amp/articles/be...  \\\n",
       "58        com,wsj)/amp/articles/com,wsj)/amp/articles/be...   \n",
       "59        com,wsj)/amp/articles/com,wsj)/amp/articles/be...   \n",
       "60        com,wsj)/amp/articles/com,wsj)/amp/articles/be...   \n",
       "61        com,wsj)/amp/articles/com,wsj)/amp/articles/be...   \n",
       "...                                                     ...   \n",
       "33326099  com,wsj)/articles/com,wsj)/articles/u-s-paymen...   \n",
       "33326100  com,wsj)/articles/com,wsj)/articles/u-s-paymen...   \n",
       "33326101  com,wsj)/articles/com,wsj)/articles/u-s-paymen...   \n",
       "33326103  com,wsj)/articles/com,wsj)/articles/u-s-paymen...   \n",
       "33326104  com,wsj)/articles/com,wsj)/articles/u-s-paymen...   \n",
       "\n",
       "                      domain  \n",
       "54        support.google.com  \n",
       "58              www.acer.com  \n",
       "59             galliumos.org  \n",
       "60        wiki.galliumos.org  \n",
       "61        wiki.galliumos.org  \n",
       "...                      ...  \n",
       "33326099   www.rea-group.com  \n",
       "33326100     www.realtor.com  \n",
       "33326101        storyful.com  \n",
       "33326103    www.thesun.co.uk  \n",
       "33326104  www.thetimes.co.uk  \n",
       "\n",
       "[777351 rows x 4 columns]"
      ]
     },
     "execution_count": 146,
     "metadata": {},
     "output_type": "execute_result"
    }
   ],
   "source": [
    "all_wsj_links_df_sans_self_links.loc[lambda df: ~df['domain'].isin(top_sites.index)]"
   ]
  },
  {
   "cell_type": "code",
   "execution_count": null,
   "metadata": {},
   "outputs": [],
   "source": []
  },
  {
   "cell_type": "code",
   "execution_count": null,
   "metadata": {},
   "outputs": [],
   "source": []
  },
  {
   "cell_type": "code",
   "execution_count": null,
   "metadata": {},
   "outputs": [],
   "source": []
  },
  {
   "cell_type": "code",
   "execution_count": null,
   "metadata": {},
   "outputs": [],
   "source": []
  },
  {
   "cell_type": "code",
   "execution_count": null,
   "metadata": {},
   "outputs": [],
   "source": []
  },
  {
   "cell_type": "code",
   "execution_count": null,
   "metadata": {},
   "outputs": [],
   "source": []
  },
  {
   "cell_type": "markdown",
   "metadata": {},
   "source": [
    "# Slosh"
   ]
  },
  {
   "cell_type": "code",
   "execution_count": 176,
   "metadata": {},
   "outputs": [],
   "source": [
    "import glob"
   ]
  },
  {
   "cell_type": "code",
   "execution_count": 180,
   "metadata": {},
   "outputs": [
    {
     "data": {
      "text/plain": [
       "['../data/open-sourced-articles/reuters-business-cc-articles-to-fetch.txt.gz',\n",
       " '../data/open-sourced-articles/reuters-technology-cc-articles-to-fetch.txt.gz',\n",
       " '../data/open-sourced-articles/reuters-markets-cc-articles-to-fetch.txt.gz']"
      ]
     },
     "execution_count": 180,
     "metadata": {},
     "output_type": "execute_result"
    }
   ],
   "source": [
    "glob.glob('../data/open-sourced-articles/reuters-*')"
   ]
  },
  {
   "cell_type": "code",
   "execution_count": 192,
   "metadata": {},
   "outputs": [],
   "source": [
    "import xopen\n",
    "\n",
    "reuters_lines = []\n",
    "for f in glob.glob('../data/open-sourced-articles/reuters-*-cc*'):\n",
    "    for line in xopen.xopen(f, 'rb'):\n",
    "        reuters_lines.append(line)\n",
    "with xopen.xopen('../data/open-sourced-articles/reuters-business-articles-to-fetch.txt.gz', 'wb') as f:\n",
    "    for line in reuters_lines:\n",
    "        f.write(line)"
   ]
  },
  {
   "cell_type": "code",
   "execution_count": 220,
   "metadata": {},
   "outputs": [],
   "source": [
    "wp_lines = []\n",
    "for f in glob.glob('../data/open-sourced-articles/wp-*-cc*'):\n",
    "    for line in xopen.xopen(f, 'rb'):\n",
    "        wp_lines.append(line)\n",
    "        \n",
    "with xopen.xopen('../data/open-sourced-articles/wp-business-articles-to-fetch.txt.gz', 'wb') as f:\n",
    "    for line in wp_lines:\n",
    "        f.write(line)"
   ]
  },
  {
   "cell_type": "code",
   "execution_count": null,
   "metadata": {},
   "outputs": [],
   "source": []
  },
  {
   "cell_type": "code",
   "execution_count": null,
   "metadata": {},
   "outputs": [],
   "source": []
  },
  {
   "cell_type": "code",
   "execution_count": null,
   "metadata": {},
   "outputs": [],
   "source": []
  },
  {
   "cell_type": "code",
   "execution_count": null,
   "metadata": {},
   "outputs": [],
   "source": []
  },
  {
   "cell_type": "code",
   "execution_count": 10,
   "metadata": {},
   "outputs": [],
   "source": [
    "\n",
    "fname = '../data/open-sourced-articles/nytimes-business-articles.jsonl.gz'\n",
    "articles = []\n",
    "for idx, f in enumerate(orjsonl.stream(fname)):\n",
    "    if idx == 1000:\n",
    "        break \n",
    "    articles.append(f) \n",
    "article_df = pd.DataFrame(articles)\n",
    "htmls = article_df['article_html'].drop_duplicates()\n",
    "from bs4 import BeautifulSoup\n",
    "soup = BeautifulSoup( htmls.iloc[-1])\n",
    "\n",
    "# find all links with non-null href\n",
    "links = soup.find_all('a', href=True)\n",
    "links = list(filter(lambda x: x.get_text() != '', links))\n",
    "links_obj = list(map(lambda x: {'text': x.get_text(), 'href': x['href']}, links))"
   ]
  },
  {
   "cell_type": "code",
   "execution_count": null,
   "metadata": {},
   "outputs": [],
   "source": [
    "import orjsonl\n",
    "import gzip \n",
    "import xopen \n",
    "import jsonlines\n",
    "\n",
    "# test orjsonl\n",
    "with xopen.xopen('test.jsonl.gz', 'wb') as f:\n",
    "    for obj in links_obj:\n",
    "        orjsonl.append(path=f, data=[obj])\n",
    "\n",
    "test = []\n",
    "for idx, f in enumerate(orjsonl.stream('test.jsonl.gz')):\n",
    "    if idx == 100:\n",
    "        break \n",
    "    test.append(f) \n",
    "gzipped = gzip.compress(line_str)\n",
    "\n",
    "\n",
    "# test gzip compress \n",
    "with open('test-stream.jsonl.gz', 'wb') as f:\n",
    "    for line in links_obj:\n",
    "        line_str = orjson.dumps(line)\n",
    "        gzipped = gzip.compress(line_str + b'\\n')\n",
    "        f.write(gzipped)\n",
    "\n",
    "# test jsonlines\n",
    "with xopen.xopen('test-stream-jsonwriter.jsonl.gz', 'wb') as f:\n",
    "    with jsonlines.Writer(f) as w:\n",
    "        for line in links_obj:\n",
    "            w.write(line)\n",
    "\n",
    "# test regular xopen\n",
    "with xopen.xopen('test-bin.txt', mode='wb') as f:\n",
    "    f.write(b'hello world\\n')\n",
    "\n",
    "with xopen.xopen('test-bin.txt') as f:\n",
    "    print(f.read())\n",
    "\n",
    "for line in xopen.xopen('test-stream.jsonl.gz', 'rb'):\n",
    "    line \n",
    "\n",
    "orjson.loads(line)"
   ]
  },
  {
   "cell_type": "code",
   "execution_count": 33,
   "metadata": {},
   "outputs": [],
   "source": [
    "# test gzip compress \n",
    "with xopen.xopen('test-stream.jsonl.gz', 'wb') as f:\n",
    "    for line in links_obj:\n",
    "        line_str = orjson.dumps(line) + b'\\n'\n",
    "        # gzipped = gzip.compress(line_str + b'\\n')\n",
    "        f.write(line_str)"
   ]
  },
  {
   "cell_type": "code",
   "execution_count": 34,
   "metadata": {},
   "outputs": [],
   "source": [
    "fname = 'test-stream.jsonl.gz'\n",
    "all_data = []\n",
    "with xopen.xopen(fname, 'rb') as f:\n",
    "    for line in f:\n",
    "        break "
   ]
  },
  {
   "cell_type": "code",
   "execution_count": 35,
   "metadata": {},
   "outputs": [
    {
     "data": {
      "text/plain": [
       "b'{\"text\":\"Skip to content\",\"href\":\"#site-content\"}\\n'"
      ]
     },
     "execution_count": 35,
     "metadata": {},
     "output_type": "execute_result"
    }
   ],
   "source": [
    "line "
   ]
  },
  {
   "cell_type": "code",
   "execution_count": 25,
   "metadata": {},
   "outputs": [
    {
     "data": {
      "text/plain": [
       "b'{\"text\":\"Subscriptions\",\"href\":\"https://www.nytimes.com/subscription?campaignId=37WXW\"}\\n'"
      ]
     },
     "execution_count": 25,
     "metadata": {},
     "output_type": "execute_result"
    }
   ],
   "source": [
    "line_str"
   ]
  },
  {
   "cell_type": "code",
   "execution_count": 15,
   "metadata": {},
   "outputs": [
    {
     "data": {
      "text/plain": [
       "b'{\"text\":\"Skip to content\",\"href\":\"#site-content\"}\\n'"
      ]
     },
     "execution_count": 15,
     "metadata": {},
     "output_type": "execute_result"
    }
   ],
   "source": [
    "line "
   ]
  },
  {
   "cell_type": "code",
   "execution_count": null,
   "metadata": {},
   "outputs": [],
   "source": []
  }
 ],
 "metadata": {
  "kernelspec": {
   "display_name": "Python 3 (ipykernel)",
   "language": "python",
   "name": "python3"
  },
  "language_info": {
   "codemirror_mode": {
    "name": "ipython",
    "version": 3
   },
   "file_extension": ".py",
   "mimetype": "text/x-python",
   "name": "python",
   "nbconvert_exporter": "python",
   "pygments_lexer": "ipython3",
   "version": "3.9.12"
  }
 },
 "nbformat": 4,
 "nbformat_minor": 2
}
