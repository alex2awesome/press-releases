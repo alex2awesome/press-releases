{
 "cells": [
  {
   "cell_type": "code",
   "execution_count": 1,
   "metadata": {},
   "outputs": [],
   "source": [
    "from tqdm.auto import tqdm\n",
    "from urllib.parse import urlparse\n",
    "import pandas as pd\n",
    "import orjson \n",
    "import orjsonl\n",
    "import spacy \n",
    "spacy_model = spacy.load('en_core_web_lg')\n",
    "from more_itertools import flatten\n",
    "import xopen\n",
    "import gzip\n",
    "import os \n",
    "import pandas as pd \n",
    "from urllib.parse import urlparse\n",
    "from tldextract import extract\n",
    "\n",
    "def flatten_list_of_links(df):\n",
    "    all_links = []\n",
    "    df_to_iter = (\n",
    "        df\n",
    "        .drop_duplicates('article_url')\n",
    "        .set_index('article_url')\n",
    "        ['links']\n",
    "    )\n",
    "    for url, links in tqdm(df_to_iter.items(), total=len(df_to_iter)):\n",
    "        for link in links:\n",
    "            link['url'] = url\n",
    "            all_links.append(link)\n",
    "    return pd.DataFrame(all_links)\n",
    "\n",
    "domain_exclusions = open('../data/utility-files/domain-exclusions-master-list.txt').read().split('\\n')\n",
    "domain_exclusions = list(filter(lambda x: x != '', domain_exclusions))\n",
    "text_candidates = ['press release', 'news release', ]\n",
    "href_whitelist_candidates = [\n",
    "    'prnewswire',\n",
    "    'businesswire',\n",
    "    'press',\n",
    "    'release',\n",
    "    'globenewswire',\n",
    "    'news',\n",
    "]\n",
    "def find_press_release(href, text, debug=False):\n",
    "    for s in ['/', '#', 'mailto:']:\n",
    "        if href.startswith(s):\n",
    "            if debug:\n",
    "                return False, 'domain starts with', s\n",
    "            else:\n",
    "                return False\n",
    "\n",
    "    # parse domain\n",
    "    try:\n",
    "        domain = urlparse(href).netloc\n",
    "        domain = tldextract.extract(domain).domain\n",
    "    except:\n",
    "        if debug:\n",
    "            return False, 'urlparse', None\n",
    "        else:\n",
    "            return False\n",
    "\n",
    "    # blacklist\n",
    "    if d in domain_exclusions:\n",
    "        if debug:\n",
    "            return False, 'domain contains', d\n",
    "        else:\n",
    "            return False\n",
    "        \n",
    "    # text    \n",
    "    for t in text_candidates:\n",
    "        if t in text:\n",
    "            return True \n",
    "    \n",
    "    # href \n",
    "    for h in href_whitelist_candidates:\n",
    "        if h in href:\n",
    "            return True\n",
    "\n",
    "    return False\n",
    "\n",
    "def open_and_process(fname):\n",
    "    fetched = []\n",
    "    with xopen.xopen(fname, 'rb') as f:\n",
    "        for line in f:\n",
    "            fetched.append( orjson.loads(line))\n",
    "\n",
    "    fetched_df = pd.DataFrame(fetched).loc[lambda df: df['links'].str.len() > 0]\n",
    "\n",
    "    tqdm.pandas()\n",
    "    all_links_df = flatten_list_of_links(fetched_df)\n",
    "    press_release_articles = (\n",
    "        all_links_df\n",
    "            .loc[lambda df: df.progress_apply(find_press_release, axis=1)]\n",
    "    )\n",
    "    return fetched_df, press_release_articles\n",
    "\n",
    "def retrieve_ents_for_col(id_col, text_col):\n",
    "    desired_ents = set(['ORG', 'PRODUCT', 'FAC', 'LAW', 'EVENT'])\n",
    "    ner_pipe = spacy_model.pipe(\n",
    "        text_col.str.replace('\\n', ' '), \n",
    "        disable=[\"tok2vec\", \"tagger\", \"parser\", \"attribute_ruler\", \"lemmatizer\", \"textcat\"]\n",
    "    )\n",
    "    entities = []\n",
    "    for idx, doc in tqdm(zip(id_col, ner_pipe), total=len(id_col)):\n",
    "        ents = list(filter(lambda x: x.label_ in desired_ents, doc.ents))\n",
    "        if len(ents) > 0:\n",
    "            ents = list(map(str, ents))\n",
    "            entities.append({\n",
    "                'ents': ents,\n",
    "                'idx': idx\n",
    "            })\n",
    "    return entities\n",
    "\n",
    "def load_discourse_df(filename):\n",
    "    discourse_df = []\n",
    "    with xopen.xopen(filename) as f:\n",
    "        for line in f:\n",
    "            discourse_doc = orjson.loads(line)\n",
    "            discourse_df.append(pd.DataFrame(discourse_doc))\n",
    "    return pd.concat(discourse_df)"
   ]
  },
  {
   "cell_type": "code",
   "execution_count": 2,
   "metadata": {},
   "outputs": [
    {
     "data": {
      "text/plain": [
       "'www.nytimes.com'"
      ]
     },
     "execution_count": 2,
     "metadata": {},
     "output_type": "execute_result"
    }
   ],
   "source": [
    "urlparse('http://www.nytimes.com').netloc"
   ]
  },
  {
   "cell_type": "markdown",
   "metadata": {},
   "source": [
    "# Read Data"
   ]
  },
  {
   "cell_type": "markdown",
   "metadata": {},
   "source": [
    "### NYTimes"
   ]
  },
  {
   "cell_type": "code",
   "execution_count": 3,
   "metadata": {},
   "outputs": [],
   "source": [
    "fname = '../data/open-sourced-articles/nytimes-business-articles-sans-html.jsonl.gz'\n",
    "nytimes_fetched = []\n",
    "with xopen.xopen(fname, 'rb') as f:\n",
    "    for line_idx, line in enumerate(f):\n",
    "        if line_idx > 10000:\n",
    "            break\n",
    "        \n",
    "        nytimes_fetched.append( orjson.loads(line))\n",
    "\n",
    "nytimes_fetched_df = pd.DataFrame(nytimes_fetched).loc[lambda df: df['links'].str.len() > 0]"
   ]
  },
  {
   "cell_type": "code",
   "execution_count": 4,
   "metadata": {},
   "outputs": [
    {
     "data": {
      "application/vnd.jupyter.widget-view+json": {
       "model_id": "092b0bf880f94254aed7ae442d373d3d",
       "version_major": 2,
       "version_minor": 0
      },
      "text/plain": [
       "  0%|          | 0/9980 [00:00<?, ?it/s]"
      ]
     },
     "metadata": {},
     "output_type": "display_data"
    }
   ],
   "source": [
    "all_nyt_links_df = flatten_list_of_links(nytimes_fetched_df)"
   ]
  },
  {
   "cell_type": "code",
   "execution_count": 8,
   "metadata": {},
   "outputs": [],
   "source": [
    "t = all_nyt_links_df['href'].apply(lambda href: urlparse(href).netloc)"
   ]
  },
  {
   "cell_type": "code",
   "execution_count": 12,
   "metadata": {},
   "outputs": [],
   "source": [
    "from tldextract import tldextract"
   ]
  },
  {
   "cell_type": "code",
   "execution_count": 13,
   "metadata": {},
   "outputs": [
    {
     "data": {
      "text/plain": [
       "ExtractResult(subdomain='help', domain='nytimes', suffix='com')"
      ]
     },
     "execution_count": 13,
     "metadata": {},
     "output_type": "execute_result"
    }
   ],
   "source": [
    "tldextract.extract('help.nytimes.com')"
   ]
  },
  {
   "cell_type": "code",
   "execution_count": 10,
   "metadata": {},
   "outputs": [
    {
     "data": {
      "text/plain": [
       "30                help.nytimes.com\n",
       "31                   www.nytco.com\n",
       "32                help.nytimes.com\n",
       "33                help.nytimes.com\n",
       "34                   www.nytco.com\n",
       "                    ...           \n",
       "1454988           help.nytimes.com\n",
       "1454989           help.nytimes.com\n",
       "1454990    spiderbites.nytimes.com\n",
       "1454991           help.nytimes.com\n",
       "1454992            www.nytimes.com\n",
       "Name: href, Length: 1355760, dtype: object"
      ]
     },
     "execution_count": 10,
     "metadata": {},
     "output_type": "execute_result"
    }
   ],
   "source": [
    "t.loc[lambda s: s != '']"
   ]
  },
  {
   "cell_type": "code",
   "execution_count": null,
   "metadata": {},
   "outputs": [],
   "source": []
  },
  {
   "cell_type": "code",
   "execution_count": null,
   "metadata": {},
   "outputs": [],
   "source": []
  },
  {
   "cell_type": "code",
   "execution_count": null,
   "metadata": {},
   "outputs": [],
   "source": []
  },
  {
   "cell_type": "code",
   "execution_count": 19,
   "metadata": {},
   "outputs": [],
   "source": [
    "tqdm.pandas()\n",
    "fpath = '../data/open-sourced-articles/nytimes-parsed-press-release-urls.csv'\n",
    "if not os.path.exists(fpath):\n",
    "    nyt_press_release_article_map = (\n",
    "        all_nyt_links_df\n",
    "            .loc[lambda df: df.progress_apply(find_press_release, axis=1)]\n",
    "    )\n",
    "    nyt_press_release_article_map.to_csv(fpath)\n",
    "else:\n",
    "    nyt_press_release_article_map = pd.read_csv(fpath, index_col=0)"
   ]
  },
  {
   "cell_type": "code",
   "execution_count": 21,
   "metadata": {},
   "outputs": [
    {
     "name": "stdout",
     "output_type": "stream",
     "text": [
      "Total articles: 11981\n"
     ]
    }
   ],
   "source": [
    "print('Total articles:', nyt_press_release_article_map.shape[0])"
   ]
  },
  {
   "cell_type": "code",
   "execution_count": 22,
   "metadata": {},
   "outputs": [
    {
     "name": "stdout",
     "output_type": "stream",
     "text": [
      "Total unique articles: 8276\n"
     ]
    }
   ],
   "source": [
    "print('Total unique articles:', nyt_press_release_article_map['url'].nunique())"
   ]
  },
  {
   "cell_type": "code",
   "execution_count": 7,
   "metadata": {},
   "outputs": [],
   "source": [
    "## how are these being used in the article?\n",
    "## are these articles about press releases, or something else that just happens to use press release?\n",
    "##      our preference is"
   ]
  },
  {
   "cell_type": "code",
   "execution_count": 11,
   "metadata": {},
   "outputs": [],
   "source": [
    "# (nytimes_fetched_df\n",
    "#  .loc[lambda df: df['article_url'].isin(press_release_articles['url'])]\n",
    "#  .to_csv('../data/open-sourced-articles/nytimes-articles-that-have-press-releases.csv')\n",
    "# )"
   ]
  },
  {
   "cell_type": "code",
   "execution_count": 14,
   "metadata": {},
   "outputs": [],
   "source": [
    "fpath = '../data/open-sourced-articles/nytimes-business-articles-with-entities.jsonl.gz'\n",
    "if not os.path.exists(fpath):\n",
    "    articles = retrieve_ents_for_col(\n",
    "        nytimes_fetched_df['article_url'], nytimes_fetched_df['article_text']\n",
    "    )\n",
    "    nyt_ent_article_df = pd.DataFrame(articles)\n",
    "    nyt_ent_article_df = (\n",
    "        nytimes_fetched_df\n",
    "             .assign(article_text=lambda df: df['article_text'].str.replace('\\n', ' '))\n",
    "             [['article_text', 'article_url']]\n",
    "             .drop_duplicates('article_text')\n",
    "             .merge(\n",
    "                 nyt_ent_article_df.drop_duplicates('article'), \n",
    "                 left_on='article_text', \n",
    "                 right_on='article', \n",
    "                 how='right'\n",
    "             )\n",
    "             .drop(columns='article_text')\n",
    "    )\n",
    "    nyt_ent_article_df['ents'] = nyt_ent_article_df['ents'].apply(set)\n",
    "    nyt_ent_article_df.to_json(\n",
    "     fpath, \n",
    "     compression='gzip',\n",
    "     lines=True, orient='records')\n",
    "else:\n",
    "    nyt_ent_article_df = pd.read_json(fpath, compression='gzip', \n",
    "                                      lines=True, orient='records')"
   ]
  },
  {
   "cell_type": "code",
   "execution_count": 29,
   "metadata": {},
   "outputs": [],
   "source": [
    "## press releases\n",
    "fpath = '../data/open-sourced-articles/nytimes-press-release-files-with-entities.jsonl.gz'\n",
    "if not os.path.exists(fpath):\n",
    "    nyt_press_release_df = pd.read_json(\n",
    "        '../data/open-sourced-articles/nytimes-press-release-files.jsonl', \n",
    "        lines=True\n",
    "    )\n",
    "    nyt_press_release_entities = retrieve_ents_for_col(\n",
    "        nyt_press_release_df['article_url'],\n",
    "        nyt_press_release_df['article_text']\n",
    "    )\n",
    "    press_release_entities_df = pd.DataFrame(nyt_press_release_entities)\n",
    "    nyt_press_release_df_with_entities = (\n",
    "        nyt_press_release_df\n",
    "             .merge(\n",
    "                 press_release_entities_df, \n",
    "                 left_on='article_url',\n",
    "                 right_on='idx'\n",
    "             )\n",
    "             .drop(columns='idx')\n",
    "    )\n",
    "    nyt_press_release_df_with_entities.to_json(\n",
    "        fpath, compression='gzip', orient='records', lines=True\n",
    "    )\n",
    "else:\n",
    "    nyt_press_release_df_with_entities = pd.read_json(\n",
    "        fpath, compression='gzip', orient='records', lines=True\n",
    "    )"
   ]
  },
  {
   "cell_type": "code",
   "execution_count": 30,
   "metadata": {},
   "outputs": [],
   "source": [
    "nyt_merged_press_release_and_articles = (\n",
    "    nyt_press_release_df_with_entities\n",
    "     .rename(columns=lambda x: x.replace('article_', 'press_release_'))\n",
    "     .rename(columns={'ents': 'press_release_ents'})\n",
    "     .merge(\n",
    "        nyt_press_release_article_map\n",
    "             .rename(columns={'href': 'press_release_url', 'url': 'article_url', 'text': 'link_text'})\n",
    "         ,\n",
    "        on='press_release_url'\n",
    "    )\n",
    "     .drop(columns=['press_release_authors', 'press_release_top_image', 'press_release_video', 'press_release_wayback_timestamp', 'all_press_release_wayback_timestamps',])\n",
    "     .merge(nyt_ent_article_df, on='article_url')\n",
    "     .rename(columns={'article': 'article_text'})\n",
    "     .rename(columns={'ents': 'article_ents'})\n",
    ")"
   ]
  },
  {
   "cell_type": "code",
   "execution_count": 31,
   "metadata": {
    "scrolled": false
   },
   "outputs": [
    {
     "name": "stdout",
     "output_type": "stream",
     "text": [
      "{'ISO New England', 'ISO'}\n",
      "\n",
      " ------- PRESS RELEASE----------\n",
      "\n",
      "url: http://isonewswire.com/updates/2014/1/28/new-england-governors-announce-proposal-to-expand-regional-e.html\n",
      "\n",
      "The six New England governors have announced a cooperative regional initiative designed to expand energy infrastructure in New England.\n",
      "\n",
      "A letter sent to ISO New England on January 21, from the New England States Committee on Electricity (NESCOE), an organization made up of representatives appointed by the governors in each state, proposed a plan to expand the capacity of the natural gas pipeline system in the region and facilitate the development of additional electric transmission line infrastructure to improve access to renewable power sources. To spur the construction of new or expanded natural gas pipeline capacity, the states have asked the ISO to seek a tariff change to allow the ISO to collect the costs from electric market participants.\n",
      "\n",
      "ISO New England is encouraged by the states’ focus on developing additional energy infrastructure. On January 27, the ISO sent a response letter informing NESCOE and the governors that the ISO is reviewing the request for a tariff change to he...\n",
      "\n",
      "\n",
      "------- NEWS ARTICLE----------\n",
      "\n",
      "NORTHFIELD, Mass. — Standing on a dirt road outside his aging barn, Walter Jaworski, a former veterinarian turned cattle rancher in this rural part of north-central Massachusetts, points south across his 200 acres of forest and pasture to a nearby tree line. If things don’t go his way, he says, that’s about where a new natural gas pipeline will slice through his land on a 180-mile journey from central New York to a transmission hub north of Boston.  The project, proposed by the pipeline giant Kinder Morgan at a cost of $2 billion to $3 billion “or more,” according to the company, is only in the earliest stages of consideration. But debate over its placement — and even its overall need — is in full swing, with anti-pipeline yard signs and heated public meetings.  Mr. Jaworski is just one of thousands of public and private property owners here who find themselves wedged between the mammoth shale gas supply being unleashed in states to the west, like Pennsylvania, Ohio and West Virginia, ...\n"
     ]
    }
   ],
   "source": [
    "idx = 200\n",
    "num_chars = 1000\n",
    "press_release_ents = nyt_merged_press_release_and_articles['press_release_ents'].iloc[idx]\n",
    "press_release_ents = set(\n",
    "    pd.Series(press_release_ents)\n",
    "        .value_counts()\n",
    "        .loc[lambda s: s > 1]\n",
    "        .index\n",
    ")\n",
    "news_ents = nyt_merged_press_release_and_articles['article_ents'].iloc[idx]\n",
    "merged_ents = set(press_release_ents) & set(news_ents)\n",
    "print(press_release_ents)\n",
    "print('\\n ------- PRESS RELEASE----------\\n')\n",
    "print('url: ' + nyt_merged_press_release_and_articles['press_release_url'].iloc[idx])\n",
    "print()\n",
    "print(nyt_merged_press_release_and_articles['press_release_text'].iloc[idx][:num_chars] + '...')\n",
    "print()\n",
    "print('\\n------- NEWS ARTICLE----------\\n')\n",
    "print(nyt_merged_press_release_and_articles['article_text'].iloc[idx][:num_chars] + '...')"
   ]
  },
  {
   "cell_type": "code",
   "execution_count": 47,
   "metadata": {},
   "outputs": [],
   "source": [
    "cc_to_fetch = '../data/open-sourced-articles/nytimes-cc-business-articles-to-fetch.txt.gz'"
   ]
  },
  {
   "cell_type": "code",
   "execution_count": 53,
   "metadata": {},
   "outputs": [],
   "source": [
    "fetch_data = []\n",
    "with xopen.xopen(cc_to_fetch) as f_handle:\n",
    "    for line in f_handle:\n",
    "        chunks = line.split(' ')\n",
    "        fetch_data.append({\n",
    "            'url': chunks[0],\n",
    "            'date': chunks[1]\n",
    "        })"
   ]
  },
  {
   "cell_type": "code",
   "execution_count": 55,
   "metadata": {},
   "outputs": [],
   "source": [
    "to_fetch_data_df = pd.DataFrame(fetch_data)"
   ]
  },
  {
   "cell_type": "code",
   "execution_count": 83,
   "metadata": {},
   "outputs": [],
   "source": [
    "strip_url = lambda s: (\n",
    "    s.str.split('?').str.get(0)\n",
    "     .str.split(')').str.get(-1)\n",
    "     .str.strip()\n",
    ")\n",
    "\n",
    "nyt_ent_article_df['article_url'] = nyt_ent_article_df['article_url'].pipe(strip_url)\n",
    "to_fetch_data_df['url'] = to_fetch_data_df['url'].pipe(strip_url)"
   ]
  },
  {
   "cell_type": "code",
   "execution_count": 87,
   "metadata": {},
   "outputs": [],
   "source": [
    "nyt_ent_article_df = (nyt_ent_article_df\n",
    " .merge(to_fetch_data_df, how='left', left_on='article_url', right_on='url')\n",
    " .drop(columns='url')\n",
    ")"
   ]
  },
  {
   "cell_type": "code",
   "execution_count": 90,
   "metadata": {},
   "outputs": [],
   "source": [
    "nyt_press_release_article_map['url'] = nyt_press_release_article_map['url'].pipe(strip_url)"
   ]
  },
  {
   "cell_type": "code",
   "execution_count": 94,
   "metadata": {},
   "outputs": [
    {
     "data": {
      "text/html": [
       "<div>\n",
       "<style scoped>\n",
       "    .dataframe tbody tr th:only-of-type {\n",
       "        vertical-align: middle;\n",
       "    }\n",
       "\n",
       "    .dataframe tbody tr th {\n",
       "        vertical-align: top;\n",
       "    }\n",
       "\n",
       "    .dataframe thead th {\n",
       "        text-align: right;\n",
       "    }\n",
       "</style>\n",
       "<table border=\"1\" class=\"dataframe\">\n",
       "  <thead>\n",
       "    <tr style=\"text-align: right;\">\n",
       "      <th></th>\n",
       "      <th>article_url</th>\n",
       "      <th>article</th>\n",
       "      <th>ents</th>\n",
       "      <th>date</th>\n",
       "    </tr>\n",
       "  </thead>\n",
       "  <tbody>\n",
       "    <tr>\n",
       "      <th>0</th>\n",
       "      <td>/video/business/100000002794456/bmw-ramps-up-p...</td>\n",
       "      <td>new video loaded: BMW Ramps Up Production at U...</td>\n",
       "      <td>[BMW Ramps Up Production, U.S. Plant  ]</td>\n",
       "      <td>20230208234349</td>\n",
       "    </tr>\n",
       "    <tr>\n",
       "      <th>1</th>\n",
       "      <td>/video/business/1194817103719/executive-pursui...</td>\n",
       "      <td>1:02  Biden Says Inflation Report Is ‘Proof’ H...</td>\n",
       "      <td>[FTX Founder Leaves Court, Federal Reserve Rai...</td>\n",
       "      <td>20230128065940</td>\n",
       "    </tr>\n",
       "    <tr>\n",
       "      <th>2</th>\n",
       "      <td>/video/business/1194817093331/the-tussle-over-...</td>\n",
       "      <td>new video loaded: The Tussle Over CNet  CNBC  ...</td>\n",
       "      <td>[CNet  CNBC  Advertisement Continue]</td>\n",
       "      <td>20230207144642</td>\n",
       "    </tr>\n",
       "    <tr>\n",
       "      <th>3</th>\n",
       "      <td>/interactive/2019/03/29/business/boeing-737-ma...</td>\n",
       "      <td>This is a Boeing 737 in normal flight, pointed...</td>\n",
       "      <td>[Boeing, 737, Boeing, 737 Max, Boeing, MCAS, M...</td>\n",
       "      <td>20230127040043</td>\n",
       "    </tr>\n",
       "    <tr>\n",
       "      <th>4</th>\n",
       "      <td>/guides/business/manage-a-successful-team</td>\n",
       "      <td>This last point may not seem as big a deal as ...</td>\n",
       "      <td>[International Medical Corps]</td>\n",
       "      <td>20230131235214</td>\n",
       "    </tr>\n",
       "  </tbody>\n",
       "</table>\n",
       "</div>"
      ],
      "text/plain": [
       "                                         article_url  \\\n",
       "0  /video/business/100000002794456/bmw-ramps-up-p...   \n",
       "1  /video/business/1194817103719/executive-pursui...   \n",
       "2  /video/business/1194817093331/the-tussle-over-...   \n",
       "3  /interactive/2019/03/29/business/boeing-737-ma...   \n",
       "4          /guides/business/manage-a-successful-team   \n",
       "\n",
       "                                             article  \\\n",
       "0  new video loaded: BMW Ramps Up Production at U...   \n",
       "1  1:02  Biden Says Inflation Report Is ‘Proof’ H...   \n",
       "2  new video loaded: The Tussle Over CNet  CNBC  ...   \n",
       "3  This is a Boeing 737 in normal flight, pointed...   \n",
       "4  This last point may not seem as big a deal as ...   \n",
       "\n",
       "                                                ents            date  \n",
       "0            [BMW Ramps Up Production, U.S. Plant  ]  20230208234349  \n",
       "1  [FTX Founder Leaves Court, Federal Reserve Rai...  20230128065940  \n",
       "2               [CNet  CNBC  Advertisement Continue]  20230207144642  \n",
       "3  [Boeing, 737, Boeing, 737 Max, Boeing, MCAS, M...  20230127040043  \n",
       "4                      [International Medical Corps]  20230131235214  "
      ]
     },
     "execution_count": 94,
     "metadata": {},
     "output_type": "execute_result"
    }
   ],
   "source": [
    "nyt_ent_article_df.head()"
   ]
  },
  {
   "cell_type": "code",
   "execution_count": 126,
   "metadata": {},
   "outputs": [],
   "source": [
    "## discourse \n",
    "full_nytimes_discourse_df = load_discourse_df(\n",
    "    '../data/open-sourced-articles/nytimes-articles-news-discourse.jsonl.gz'\n",
    ")"
   ]
  },
  {
   "cell_type": "code",
   "execution_count": 127,
   "metadata": {
    "scrolled": true
   },
   "outputs": [],
   "source": [
    "nyt_article_grouped_discourse_df = (\n",
    "    full_nytimes_discourse_df\n",
    "     .loc[lambda df: \n",
    "          ~df['discourse_preds'].isin(['NA'])\n",
    "     ]\n",
    "     .sort_values(['doc_id', 'sent_idx'])\n",
    "     .groupby('doc_id')[['sentences', 'discourse_preds']]\n",
    "     .aggregate(list)\n",
    "     .reset_index()\n",
    ")"
   ]
  },
  {
   "cell_type": "code",
   "execution_count": 128,
   "metadata": {},
   "outputs": [],
   "source": [
    "nyt_article_grouped_discourse_df['doc_id'] = nyt_article_grouped_discourse_df['doc_id'].pipe(strip_url)\n",
    "nyt_article_grouped_discourse_df_merged  = (\n",
    "    nyt_article_grouped_discourse_df\n",
    "     .merge(\n",
    "         nyt_ent_article_df, \n",
    "         left_on='doc_id', \n",
    "         right_on='article_url', \n",
    "     )\n",
    "     .drop(columns=['article', 'article_url'])\n",
    "     .assign(is_target_article=lambda df: df['doc_id'].isin(nyt_press_release_article_map['url']))\n",
    ")"
   ]
  },
  {
   "cell_type": "code",
   "execution_count": 125,
   "metadata": {},
   "outputs": [],
   "source": [
    "(nyt_article_grouped_discourse_df_merged\n",
    " .to_json(\n",
    "     '../data/open-sourced-articles/nytimes-articles-for-factual-verification.jsonl.gz',\n",
    "     orient='records',\n",
    "     compression='gzip',\n",
    "     lines=True\n",
    " )\n",
    ")"
   ]
  },
  {
   "cell_type": "code",
   "execution_count": 132,
   "metadata": {},
   "outputs": [],
   "source": [
    "full_nytimes_discourse_df = full_nytimes_discourse_df.sort_values(['doc_id', 'sent_idx'])"
   ]
  },
  {
   "cell_type": "code",
   "execution_count": 135,
   "metadata": {},
   "outputs": [],
   "source": [
    "doc_ids = full_nytimes_discourse_df['doc_id'].unique()"
   ]
  },
  {
   "cell_type": "code",
   "execution_count": 146,
   "metadata": {},
   "outputs": [],
   "source": [
    "doc_ids = list(filter(lambda x: '/video' not in x and '/slideshow' not in x, doc_ids))"
   ]
  },
  {
   "cell_type": "code",
   "execution_count": 172,
   "metadata": {},
   "outputs": [
    {
     "data": {
      "text/html": [
       "<div>\n",
       "<style scoped>\n",
       "    .dataframe tbody tr th:only-of-type {\n",
       "        vertical-align: middle;\n",
       "    }\n",
       "\n",
       "    .dataframe tbody tr th {\n",
       "        vertical-align: top;\n",
       "    }\n",
       "\n",
       "    .dataframe thead th {\n",
       "        text-align: right;\n",
       "    }\n",
       "</style>\n",
       "<table border=\"1\" class=\"dataframe tex2jax_ignore\">\n",
       "  <thead>\n",
       "    <tr style=\"text-align: right;\">\n",
       "      <th></th>\n",
       "      <th>sentences</th>\n",
       "      <th>discourse_preds</th>\n",
       "    </tr>\n",
       "  </thead>\n",
       "  <tbody>\n",
       "    <tr>\n",
       "      <th>0</th>\n",
       "      <td>Kevin Hassett, the chairman of the White House Council of Economic Advisers, said on Sunday that administration economists expected continued boosts to growth this year from the $1.5 trillion in tax cuts that Mr. Trump signed in 2017, including further increases in labor force participation by older workers.</td>\n",
       "      <td>Distant_Expectations_Consequences</td>\n",
       "    </tr>\n",
       "    <tr>\n",
       "      <th>1</th>\n",
       "      <td>Other economists have criticized the sustained forecast of 3 percent growth over a decade as overly optimistic.</td>\n",
       "      <td>Distant_Evaluation</td>\n",
       "    </tr>\n",
       "    <tr>\n",
       "      <th>2</th>\n",
       "      <td>Mr. Hassett defended it by pointing to the administration's forecast for last year, which was only slightly above the actual growth rate. \"</td>\n",
       "      <td>Distant_Evaluation</td>\n",
       "    </tr>\n",
       "    <tr>\n",
       "      <th>3</th>\n",
       "      <td>We have the same forecast we had last year,\" Mr. Hassett said, \"because we got last year precisely correct.\"</td>\n",
       "      <td>Distant_Evaluation</td>\n",
       "    </tr>\n",
       "    <tr>\n",
       "      <th>4</th>\n",
       "      <td>The budget is the first of Mr. Trump's tenure to theoretically adhere to spending caps that Congress adopted under President Barack Obama, only to bust in the years since.</td>\n",
       "      <td>Cause_General</td>\n",
       "    </tr>\n",
       "    <tr>\n",
       "      <th>5</th>\n",
       "      <td>But Mr. Trump accomplishes this only through budgetary legerdemain by pushing much of his 4.7 percent military spending increase out of the regular budget and into an account called Overseas Contingency Operations that has been used mainly to finance wars in Iraq, Afghanistan and Syria and has therefore been exempt from congressional caps.</td>\n",
       "      <td>Cause_General</td>\n",
       "    </tr>\n",
       "    <tr>\n",
       "      <th>6</th>\n",
       "      <td>At the same time, domestic discretionary programs would be cut 5 percent, an idea certain to go nowhere with Democrats.</td>\n",
       "      <td>Distant_Expectations_Consequences</td>\n",
       "    </tr>\n",
       "    <tr>\n",
       "      <th>7</th>\n",
       "      <td>Mr. Trump is hoping to avoid a repeat of last year's budget deal, in which he was forced to agree to major domestic spending increases to secure his military boost.</td>\n",
       "      <td>Distant_Expectations_Consequences</td>\n",
       "    </tr>\n",
       "    <tr>\n",
       "      <th>8</th>\n",
       "      <td>But he has even less sway now than he did last year, when Republicans controlled both houses of Congress.</td>\n",
       "      <td>Distant_Evaluation</td>\n",
       "    </tr>\n",
       "    <tr>\n",
       "      <th>9</th>\n",
       "      <td>The overseas operations fund would receive $165 billion, compared with $69 billion this year, even as Mr. Trump is scaling back military operations in Afghanistan and Syria.</td>\n",
       "      <td>Distant_Expectations_Consequences</td>\n",
       "    </tr>\n",
       "    <tr>\n",
       "      <th>10</th>\n",
       "      <td>The last time the fund had so much money was in the 2010 fiscal year, when the United States had nearly seven times as many troops in Afghanistan and Iraq.</td>\n",
       "      <td>Distant_Historical</td>\n",
       "    </tr>\n",
       "    <tr>\n",
       "      <th>11</th>\n",
       "      <td>Among those who have criticized the overseas operations budget category as a \"slush fund\" is Mick Mulvaney, a Republican former congressman who served as Mr. Trump's first budget director and is now the acting White House chief of staff.</td>\n",
       "      <td>Distant_Evaluation</td>\n",
       "    </tr>\n",
       "    <tr>\n",
       "      <th>12</th>\n",
       "      <td>On the wall, the president seems more intent on proving to conservatives his commitment to building it than to finding a compromise with Democrats.</td>\n",
       "      <td>Distant_Evaluation</td>\n",
       "    </tr>\n",
       "    <tr>\n",
       "      <th>13</th>\n",
       "      <td>Administration officials said the new $8.6 billion Mr. Trump is seeking would enable him to complete the project, with a total of 700 miles of barriers, most of it new, though with some sections refurbished.</td>\n",
       "      <td>Distant_Expectations_Consequences</td>\n",
       "    </tr>\n",
       "  </tbody>\n",
       "</table>\n",
       "</div>"
      ],
      "text/plain": [
       "                                                                                                                                                                                                                                                                                                                                                sentences  \\\n",
       "0                                   Kevin Hassett, the chairman of the White House Council of Economic Advisers, said on Sunday that administration economists expected continued boosts to growth this year from the $1.5 trillion in tax cuts that Mr. Trump signed in 2017, including further increases in labor force participation by older workers.   \n",
       "1                                                                                                                                                                                                                                         Other economists have criticized the sustained forecast of 3 percent growth over a decade as overly optimistic.   \n",
       "2                                                                                                                                                                                                             Mr. Hassett defended it by pointing to the administration's forecast for last year, which was only slightly above the actual growth rate. \"   \n",
       "3                                                                                                                                                                                                                                            We have the same forecast we had last year,\" Mr. Hassett said, \"because we got last year precisely correct.\"   \n",
       "4                                                                                                                                                                             The budget is the first of Mr. Trump's tenure to theoretically adhere to spending caps that Congress adopted under President Barack Obama, only to bust in the years since.   \n",
       "5   But Mr. Trump accomplishes this only through budgetary legerdemain by pushing much of his 4.7 percent military spending increase out of the regular budget and into an account called Overseas Contingency Operations that has been used mainly to finance wars in Iraq, Afghanistan and Syria and has therefore been exempt from congressional caps.   \n",
       "6                                                                                                                                                                                                                                 At the same time, domestic discretionary programs would be cut 5 percent, an idea certain to go nowhere with Democrats.   \n",
       "7                                                                                                                                                                                    Mr. Trump is hoping to avoid a repeat of last year's budget deal, in which he was forced to agree to major domestic spending increases to secure his military boost.   \n",
       "8                                                                                                                                                                                                                                               But he has even less sway now than he did last year, when Republicans controlled both houses of Congress.   \n",
       "9                                                                                                                                                                           The overseas operations fund would receive $165 billion, compared with $69 billion this year, even as Mr. Trump is scaling back military operations in Afghanistan and Syria.   \n",
       "10                                                                                                                                                                                            The last time the fund had so much money was in the 2010 fiscal year, when the United States had nearly seven times as many troops in Afghanistan and Iraq.   \n",
       "11                                                                                                          Among those who have criticized the overseas operations budget category as a \"slush fund\" is Mick Mulvaney, a Republican former congressman who served as Mr. Trump's first budget director and is now the acting White House chief of staff.   \n",
       "12                                                                                                                                                                                                    On the wall, the president seems more intent on proving to conservatives his commitment to building it than to finding a compromise with Democrats.   \n",
       "13                                                                                                                                        Administration officials said the new $8.6 billion Mr. Trump is seeking would enable him to complete the project, with a total of 700 miles of barriers, most of it new, though with some sections refurbished.   \n",
       "\n",
       "                      discourse_preds  \n",
       "0   Distant_Expectations_Consequences  \n",
       "1                  Distant_Evaluation  \n",
       "2                  Distant_Evaluation  \n",
       "3                  Distant_Evaluation  \n",
       "4                       Cause_General  \n",
       "5                       Cause_General  \n",
       "6   Distant_Expectations_Consequences  \n",
       "7   Distant_Expectations_Consequences  \n",
       "8                  Distant_Evaluation  \n",
       "9   Distant_Expectations_Consequences  \n",
       "10                 Distant_Historical  \n",
       "11                 Distant_Evaluation  \n",
       "12                 Distant_Evaluation  \n",
       "13  Distant_Expectations_Consequences  "
      ]
     },
     "execution_count": 172,
     "metadata": {},
     "output_type": "execute_result"
    }
   ],
   "source": [
    "pd.options.display.max_colwidth = 400\n",
    "pd.options.display.html.use_mathjax = False\n",
    "doc_id = doc_ids[-10006]\n",
    "(full_nytimes_discourse_df\n",
    " .loc[lambda df: df['doc_id'] == doc_id]\n",
    " [['sentences', 'discourse_preds']]\n",
    ")"
   ]
  },
  {
   "cell_type": "code",
   "execution_count": 173,
   "metadata": {},
   "outputs": [
    {
     "data": {
      "text/html": [
       "<div>\n",
       "<style scoped>\n",
       "    .dataframe tbody tr th:only-of-type {\n",
       "        vertical-align: middle;\n",
       "    }\n",
       "\n",
       "    .dataframe tbody tr th {\n",
       "        vertical-align: top;\n",
       "    }\n",
       "\n",
       "    .dataframe thead th {\n",
       "        text-align: right;\n",
       "    }\n",
       "</style>\n",
       "<table border=\"1\" class=\"dataframe tex2jax_ignore\">\n",
       "  <thead>\n",
       "    <tr style=\"text-align: right;\">\n",
       "      <th></th>\n",
       "      <th>doc_id</th>\n",
       "      <th>sentences</th>\n",
       "      <th>discourse_preds</th>\n",
       "      <th>ents</th>\n",
       "      <th>date</th>\n",
       "      <th>is_target_article</th>\n",
       "    </tr>\n",
       "  </thead>\n",
       "  <tbody>\n",
       "    <tr>\n",
       "      <th>0</th>\n",
       "      <td>/1981/01/05/business/advertising-wither-braniff-s-account-as-chairman-retires.html</td>\n",
       "      <td>[With the word out that Harding L. Lawrence is retiring as chairman and chief executive of Braniff International, agency executives are going to have a field day betting on when the airline will break with its agency., Wells, Rich, Greene is Braniff's current agency; its chairman is Mary Wells Lawrence, wife of Harding Lawrence., She married him, as a matter of fact, soon after she started the...</td>\n",
       "      <td>[Distant_Expectations_Consequences, Cause_General, Distant_Historical, Distant_Historical]</td>\n",
       "      <td>[Braniff International, Wells, Rich, Greene, Braniff, Braniff, Braniff, Trans World Airlines, T.W.A., Madison Avenue, Foote, Cone &amp; Belding]</td>\n",
       "      <td>20191121232819</td>\n",
       "      <td>False</td>\n",
       "    </tr>\n",
       "    <tr>\n",
       "      <th>1</th>\n",
       "      <td>/1981/01/06/business/kennecott-s-problems-persist.html</td>\n",
       "      <td>[It was to get away from the sharp turns in the metals markets and the world glut of copper that developed in the mid-1970's that Kennecott bought Carborundum., That Kennecott needed to diversify seems clear, but the Carborundum acquisition was controversial and it provoked a 1978 proxy fight with T. Roland Berner, chairman of Curtiss-Wright., Mr. Berner won seats on Kennecott's board - for hi...</td>\n",
       "      <td>[Distant_Historical, Distant_Evaluation, Cause_General, Cause_General, Distant_Evaluation, Distant_Historical, Distant_Historical, Distant_Historical, Cause_General, Cause_General, Cause_General, Distant_Evaluation, Distant_Historical, Cause_General, Cause_General, Cause_General, Distant_Expectations_Consequences, Distant_Evaluation, Distant_Evaluation, Distant_Evaluation, Distant_Expectations...</td>\n",
       "      <td>[Kennecott, Carborundum, Carborundum, Curtiss-Wright, Kennecott, Kennecott, Carborundum, Kennecott, Carborundum, Kennecott, the Exxon Corporation, Carborundum, Kennecott, Kennecott, Chase Brass and Copper Company, Kennecott, Kennecott, Venture, Mitsubishi, the Mitsubishi Corporation, Kennecott]</td>\n",
       "      <td>20190823091225</td>\n",
       "      <td>False</td>\n",
       "    </tr>\n",
       "    <tr>\n",
       "      <th>2</th>\n",
       "      <td>/1981/01/06/business/venture-capitalist-a-rise-to-riches.html</td>\n",
       "      <td>[He is equally quick to decide when he does not like a situation. '', Once a well-known investment bank took me to California to look at an electronics company they were in,'' he relates. '', The first thing I noticed was a gigantic Mercedes with initialed plates., The president said it was his, leased by the company., Then we went up to his office, which was almost as big as the production ar...</td>\n",
       "      <td>[Distant_Evaluation, Distant_Anecdotal, Distant_Anecdotal, Distant_Anecdotal, Cause_General, Distant_Evaluation, Distant_Historical, Distant_Evaluation, Distant_Evaluation, Distant_Evaluation, Distant_Anecdotal, Distant_Evaluation, Distant_Anecdotal, Distant_Evaluation, Distant_Expectations_Consequences, Distant_Evaluation, Cause_General, Cause_General, Cause_General, Distant_Evaluation, Dista...</td>\n",
       "      <td>[Mercedes, Blunt Approach  Officers, Park Avenue, the Telxon Corporation, Adler &amp; Company, The New York Times, The New York Times's, New York Times, The Data General Corporation, the Four Seasons, The Quilted Giraffe, Advanced Technology Laboratories, Squibb, Acuity Systems, Midas, Sanders Technology, Chapter 11, Adler &amp; Company, Venad Associates, Citicorp, the Morgan Guaranty Trust Company, N...</td>\n",
       "      <td>20190717135851</td>\n",
       "      <td>False</td>\n",
       "    </tr>\n",
       "    <tr>\n",
       "      <th>3</th>\n",
       "      <td>/1981/01/10/business/sun-to-phase-out-shipbuilding.html</td>\n",
       "      <td>[When the phasing out is finished, with the completion of seven ships now under construction, the present work force of 4,200 in Chester will be reduced to 1,100 workers, Mr. Campbell said., The seven ships include three freighters., ''This is going to have a catastrophic effect on the city of Chester,'' said Joseph Battle, Mayor of the city of 52,000 people, reached in his office about 10 mil...</td>\n",
       "      <td>[Distant_Expectations_Consequences, Cause_General, Distant_Evaluation, Distant_Historical, Distant_Expectations_Consequences, Distant_Evaluation, Cause_General, Cause_General, Distant_Historical, Cause_General, Distant_Evaluation, Distant_Evaluation, Cause_General]</td>\n",
       "      <td>[Sun Ship, Pennslvania's, Department of Labor and Industry, Chester]</td>\n",
       "      <td>20200222050217</td>\n",
       "      <td>False</td>\n",
       "    </tr>\n",
       "    <tr>\n",
       "      <th>4</th>\n",
       "      <td>/1981/01/12/business/aston-martin-challenge-for-new-owners.html</td>\n",
       "      <td>[Victor Gauntlett, the 38-year-old head of Pace Petroleum, a Bentley and Aston Martin enthusiast who enters and sponsors automobile competitions, became a director and shareholder of Aston Martin last July and now becomes the executive chairman of the company., Tim Hearley, C.H.I.'s chairman (also made an Aston director last year), is now also a chairman, but without any executive duties., Mr....</td>\n",
       "      <td>[Cause_General, Cause_General, Distant_Historical, Cause_General, Cause_General, Distant_Historical, Distant_Historical, Distant_Historical, Distant_Historical, Distant_Expectations_Consequences, Cause_General, Distant_Evaluation, Cause_General, Main, Distant_Evaluation, Distant_Evaluation, Distant_Evaluation, Distant_Evaluation, Distant_Historical, Distant_Historical, Distant_Historical, Dist...</td>\n",
       "      <td>[Pace Petroleum, Bentley, Aston Martin, C.H.I., Aston, Aston, Aston, Aston, Aston Martin Lagonda Inc., Aston, Lagonda, London Motor Show, Lagonda, The New York Times, The New York Times's, New York Times, Aston, Aston, Aston Martin, V8, Aston, Aston Martin V8, Lagonda, Rolls-Royce, World War II, Newport Pagnell]</td>\n",
       "      <td>20190120033912</td>\n",
       "      <td>False</td>\n",
       "    </tr>\n",
       "    <tr>\n",
       "      <th>...</th>\n",
       "      <td>...</td>\n",
       "      <td>...</td>\n",
       "      <td>...</td>\n",
       "      <td>...</td>\n",
       "      <td>...</td>\n",
       "      <td>...</td>\n",
       "    </tr>\n",
       "    <tr>\n",
       "      <th>84789</th>\n",
       "      <td>/video/business/smallbusiness/1247468015760/vintage-filings-llc.html</td>\n",
       "      <td>[Shai Stern, the C.E.O. of Vintage Filings LLC, explains how he saved his company after the market collapsed.]</td>\n",
       "      <td>[Distant_Anecdotal]</td>\n",
       "      <td>[Vintage Filings LLC]</td>\n",
       "      <td>20191120122351</td>\n",
       "      <td>False</td>\n",
       "    </tr>\n",
       "    <tr>\n",
       "      <th>84790</th>\n",
       "      <td>/video/business/smallbusiness/1247468445721/milemeter.html</td>\n",
       "      <td>[How MileMeter, an auto insurance company, was saved by venture capital funds in the middle of the financial crisis.]</td>\n",
       "      <td>[Distant_Historical]</td>\n",
       "      <td>[MileMeter]</td>\n",
       "      <td>20190818064319</td>\n",
       "      <td>False</td>\n",
       "    </tr>\n",
       "    <tr>\n",
       "      <th>84791</th>\n",
       "      <td>/video/business/smallbusiness/1248069170884/surviving-on-the-front-lines.html</td>\n",
       "      <td>[At the New York Times Small Business Summit, two business owners discussed networking, hiring and firing, and the role of luck.]</td>\n",
       "      <td>[Distant_Anecdotal]</td>\n",
       "      <td>[the New York Times Small Business Summit]</td>\n",
       "      <td>20190917092907</td>\n",
       "      <td>False</td>\n",
       "    </tr>\n",
       "    <tr>\n",
       "      <th>84792</th>\n",
       "      <td>/video/business/worldbusiness/1194832504471/dhl-chief-on-move-to-cut-jobs.html</td>\n",
       "      <td>[CNBC interview with John Mullen, global chief executive of DHL Express, on the company's moves to cut jobs and close branches in the United States.]</td>\n",
       "      <td>[Cause_General]</td>\n",
       "      <td>[CNBC, DHL Express]</td>\n",
       "      <td>20190920170255</td>\n",
       "      <td>False</td>\n",
       "    </tr>\n",
       "    <tr>\n",
       "      <th>84793</th>\n",
       "      <td>/video/business/worldbusiness/1194837896110/chief-on-daimler-s-big-loss.html</td>\n",
       "      <td>[CNBC interviews Dieter Zetsche, chief of Daimler, the German auto company, after it had posted a loss of $1.9 billion in the fourth quarter.]</td>\n",
       "      <td>[Cause_General]</td>\n",
       "      <td>[CNBC, Daimler]</td>\n",
       "      <td>20191024042409</td>\n",
       "      <td>False</td>\n",
       "    </tr>\n",
       "  </tbody>\n",
       "</table>\n",
       "<p>84794 rows × 6 columns</p>\n",
       "</div>"
      ],
      "text/plain": [
       "                                                                                   doc_id  \\\n",
       "0      /1981/01/05/business/advertising-wither-braniff-s-account-as-chairman-retires.html   \n",
       "1                                  /1981/01/06/business/kennecott-s-problems-persist.html   \n",
       "2                           /1981/01/06/business/venture-capitalist-a-rise-to-riches.html   \n",
       "3                                 /1981/01/10/business/sun-to-phase-out-shipbuilding.html   \n",
       "4                         /1981/01/12/business/aston-martin-challenge-for-new-owners.html   \n",
       "...                                                                                   ...   \n",
       "84789                /video/business/smallbusiness/1247468015760/vintage-filings-llc.html   \n",
       "84790                          /video/business/smallbusiness/1247468445721/milemeter.html   \n",
       "84791       /video/business/smallbusiness/1248069170884/surviving-on-the-front-lines.html   \n",
       "84792      /video/business/worldbusiness/1194832504471/dhl-chief-on-move-to-cut-jobs.html   \n",
       "84793        /video/business/worldbusiness/1194837896110/chief-on-daimler-s-big-loss.html   \n",
       "\n",
       "                                                                                                                                                                                                                                                                                                                                                                                                             sentences  \\\n",
       "0      [With the word out that Harding L. Lawrence is retiring as chairman and chief executive of Braniff International, agency executives are going to have a field day betting on when the airline will break with its agency., Wells, Rich, Greene is Braniff's current agency; its chairman is Mary Wells Lawrence, wife of Harding Lawrence., She married him, as a matter of fact, soon after she started the...   \n",
       "1      [It was to get away from the sharp turns in the metals markets and the world glut of copper that developed in the mid-1970's that Kennecott bought Carborundum., That Kennecott needed to diversify seems clear, but the Carborundum acquisition was controversial and it provoked a 1978 proxy fight with T. Roland Berner, chairman of Curtiss-Wright., Mr. Berner won seats on Kennecott's board - for hi...   \n",
       "2      [He is equally quick to decide when he does not like a situation. '', Once a well-known investment bank took me to California to look at an electronics company they were in,'' he relates. '', The first thing I noticed was a gigantic Mercedes with initialed plates., The president said it was his, leased by the company., Then we went up to his office, which was almost as big as the production ar...   \n",
       "3      [When the phasing out is finished, with the completion of seven ships now under construction, the present work force of 4,200 in Chester will be reduced to 1,100 workers, Mr. Campbell said., The seven ships include three freighters., ''This is going to have a catastrophic effect on the city of Chester,'' said Joseph Battle, Mayor of the city of 52,000 people, reached in his office about 10 mil...   \n",
       "4      [Victor Gauntlett, the 38-year-old head of Pace Petroleum, a Bentley and Aston Martin enthusiast who enters and sponsors automobile competitions, became a director and shareholder of Aston Martin last July and now becomes the executive chairman of the company., Tim Hearley, C.H.I.'s chairman (also made an Aston director last year), is now also a chairman, but without any executive duties., Mr....   \n",
       "...                                                                                                                                                                                                                                                                                                                                                                                                                ...   \n",
       "84789                                                                                                                                                                                                                                                                                                   [Shai Stern, the C.E.O. of Vintage Filings LLC, explains how he saved his company after the market collapsed.]   \n",
       "84790                                                                                                                                                                                                                                                                                            [How MileMeter, an auto insurance company, was saved by venture capital funds in the middle of the financial crisis.]   \n",
       "84791                                                                                                                                                                                                                                                                                [At the New York Times Small Business Summit, two business owners discussed networking, hiring and firing, and the role of luck.]   \n",
       "84792                                                                                                                                                                                                                                                            [CNBC interview with John Mullen, global chief executive of DHL Express, on the company's moves to cut jobs and close branches in the United States.]   \n",
       "84793                                                                                                                                                                                                                                                                   [CNBC interviews Dieter Zetsche, chief of Daimler, the German auto company, after it had posted a loss of $1.9 billion in the fourth quarter.]   \n",
       "\n",
       "                                                                                                                                                                                                                                                                                                                                                                                                       discourse_preds  \\\n",
       "0                                                                                                                                                                                                                                                                                                                           [Distant_Expectations_Consequences, Cause_General, Distant_Historical, Distant_Historical]   \n",
       "1      [Distant_Historical, Distant_Evaluation, Cause_General, Cause_General, Distant_Evaluation, Distant_Historical, Distant_Historical, Distant_Historical, Cause_General, Cause_General, Cause_General, Distant_Evaluation, Distant_Historical, Cause_General, Cause_General, Cause_General, Distant_Expectations_Consequences, Distant_Evaluation, Distant_Evaluation, Distant_Evaluation, Distant_Expectations...   \n",
       "2      [Distant_Evaluation, Distant_Anecdotal, Distant_Anecdotal, Distant_Anecdotal, Cause_General, Distant_Evaluation, Distant_Historical, Distant_Evaluation, Distant_Evaluation, Distant_Evaluation, Distant_Anecdotal, Distant_Evaluation, Distant_Anecdotal, Distant_Evaluation, Distant_Expectations_Consequences, Distant_Evaluation, Cause_General, Cause_General, Cause_General, Distant_Evaluation, Dista...   \n",
       "3                                                                                                                                            [Distant_Expectations_Consequences, Cause_General, Distant_Evaluation, Distant_Historical, Distant_Expectations_Consequences, Distant_Evaluation, Cause_General, Cause_General, Distant_Historical, Cause_General, Distant_Evaluation, Distant_Evaluation, Cause_General]   \n",
       "4      [Cause_General, Cause_General, Distant_Historical, Cause_General, Cause_General, Distant_Historical, Distant_Historical, Distant_Historical, Distant_Historical, Distant_Expectations_Consequences, Cause_General, Distant_Evaluation, Cause_General, Main, Distant_Evaluation, Distant_Evaluation, Distant_Evaluation, Distant_Evaluation, Distant_Historical, Distant_Historical, Distant_Historical, Dist...   \n",
       "...                                                                                                                                                                                                                                                                                                                                                                                                                ...   \n",
       "84789                                                                                                                                                                                                                                                                                                                                                                                              [Distant_Anecdotal]   \n",
       "84790                                                                                                                                                                                                                                                                                                                                                                                             [Distant_Historical]   \n",
       "84791                                                                                                                                                                                                                                                                                                                                                                                              [Distant_Anecdotal]   \n",
       "84792                                                                                                                                                                                                                                                                                                                                                                                                  [Cause_General]   \n",
       "84793                                                                                                                                                                                                                                                                                                                                                                                                  [Cause_General]   \n",
       "\n",
       "                                                                                                                                                                                                                                                                                                                                                                                                                  ents  \\\n",
       "0                                                                                                                                                                                                                                                                         [Braniff International, Wells, Rich, Greene, Braniff, Braniff, Braniff, Trans World Airlines, T.W.A., Madison Avenue, Foote, Cone & Belding]   \n",
       "1                                                                                                              [Kennecott, Carborundum, Carborundum, Curtiss-Wright, Kennecott, Kennecott, Carborundum, Kennecott, Carborundum, Kennecott, the Exxon Corporation, Carborundum, Kennecott, Kennecott, Chase Brass and Copper Company, Kennecott, Kennecott, Venture, Mitsubishi, the Mitsubishi Corporation, Kennecott]   \n",
       "2      [Mercedes, Blunt Approach  Officers, Park Avenue, the Telxon Corporation, Adler & Company, The New York Times, The New York Times's, New York Times, The Data General Corporation, the Four Seasons, The Quilted Giraffe, Advanced Technology Laboratories, Squibb, Acuity Systems, Midas, Sanders Technology, Chapter 11, Adler & Company, Venad Associates, Citicorp, the Morgan Guaranty Trust Company, N...   \n",
       "3                                                                                                                                                                                                                                                                                                                                                 [Sun Ship, Pennslvania's, Department of Labor and Industry, Chester]   \n",
       "4                                                                                            [Pace Petroleum, Bentley, Aston Martin, C.H.I., Aston, Aston, Aston, Aston, Aston Martin Lagonda Inc., Aston, Lagonda, London Motor Show, Lagonda, The New York Times, The New York Times's, New York Times, Aston, Aston, Aston Martin, V8, Aston, Aston Martin V8, Lagonda, Rolls-Royce, World War II, Newport Pagnell]   \n",
       "...                                                                                                                                                                                                                                                                                                                                                                                                                ...   \n",
       "84789                                                                                                                                                                                                                                                                                                                                                                                            [Vintage Filings LLC]   \n",
       "84790                                                                                                                                                                                                                                                                                                                                                                                                      [MileMeter]   \n",
       "84791                                                                                                                                                                                                                                                                                                                                                                       [the New York Times Small Business Summit]   \n",
       "84792                                                                                                                                                                                                                                                                                                                                                                                              [CNBC, DHL Express]   \n",
       "84793                                                                                                                                                                                                                                                                                                                                                                                                  [CNBC, Daimler]   \n",
       "\n",
       "                 date  is_target_article  \n",
       "0      20191121232819              False  \n",
       "1      20190823091225              False  \n",
       "2      20190717135851              False  \n",
       "3      20200222050217              False  \n",
       "4      20190120033912              False  \n",
       "...               ...                ...  \n",
       "84789  20191120122351              False  \n",
       "84790  20190818064319              False  \n",
       "84791  20190917092907              False  \n",
       "84792  20190920170255              False  \n",
       "84793  20191024042409              False  \n",
       "\n",
       "[84794 rows x 6 columns]"
      ]
     },
     "execution_count": 173,
     "metadata": {},
     "output_type": "execute_result"
    }
   ],
   "source": [
    "nyt_article_grouped_discourse_df_merged['ents']"
   ]
  },
  {
   "cell_type": "code",
   "execution_count": 178,
   "metadata": {},
   "outputs": [],
   "source": [
    "doc_ids = nyt_article_grouped_discourse_df_merged['doc_id'].drop_duplicates().sample(frac=1)"
   ]
  },
  {
   "cell_type": "code",
   "execution_count": 224,
   "metadata": {},
   "outputs": [],
   "source": [
    "from dateutil.parser import parse as date_parse\n",
    "import numpy as np\n",
    "from more_itertools import flatten"
   ]
  },
  {
   "cell_type": "code",
   "execution_count": 195,
   "metadata": {},
   "outputs": [],
   "source": [
    "nyt_article_grouped_discourse_df_merged['date'] = (\n",
    "    nyt_article_grouped_discourse_df_merged['date'].apply(lambda x: date_parse(x) if isinstance(x, str) else np.nan)\n",
    ")"
   ]
  },
  {
   "cell_type": "code",
   "execution_count": 223,
   "metadata": {},
   "outputs": [],
   "source": [
    "nyt_article_grouped_discourse_df_merged['ents'] = nyt_article_grouped_discourse_df_merged['ents'].apply(set)"
   ]
  },
  {
   "cell_type": "code",
   "execution_count": 225,
   "metadata": {},
   "outputs": [],
   "source": [
    "to_exclude = set(\n",
    "    nyt_article_grouped_discourse_df_merged\n",
    "     .pipe(lambda s: pd.Series(list(flatten(s['ents'].tolist()))))\n",
    "     .value_counts()\n",
    "     .pipe(lambda s: s/s.sum())\n",
    "     .loc[lambda s: s > .01]\n",
    "     .index.tolist()\n",
    ")"
   ]
  },
  {
   "cell_type": "code",
   "execution_count": 226,
   "metadata": {},
   "outputs": [
    {
     "data": {
      "text/plain": [
       "{'New York Times', 'The New York Times', \"The New York Times's\"}"
      ]
     },
     "execution_count": 226,
     "metadata": {},
     "output_type": "execute_result"
    }
   ],
   "source": [
    "to_exclude"
   ]
  },
  {
   "cell_type": "code",
   "execution_count": 231,
   "metadata": {},
   "outputs": [],
   "source": [
    "nyt_article_grouped_discourse_df_merged['ents'] = nyt_article_grouped_discourse_df_merged['ents'].apply(lambda x: x - to_exclude)"
   ]
  },
  {
   "cell_type": "code",
   "execution_count": 254,
   "metadata": {},
   "outputs": [],
   "source": [
    "from datetime import timedelta\n",
    "\n",
    "article = (\n",
    "    nyt_article_grouped_discourse_df_merged\n",
    "        .loc[lambda df: df['doc_id'] == doc_ids[1]]\n",
    "        .iloc[0]\n",
    ")\n",
    "article_matching_keys = set(article['ents'])\n",
    "article_date = article['date']\n",
    "\n",
    "start_dt = article_date - timedelta(days=2 * 30)\n",
    "archive = (\n",
    "    nyt_article_grouped_discourse_df_merged\n",
    "        .loc[lambda df: df['date'] < article_date]\n",
    "        .loc[lambda df: df['date'] > start_dt]\n",
    "        .loc[lambda df: df['doc_id'] != doc_id]\n",
    "        .loc[lambda df: df['ents'].apply(lambda x: len(set(x) & article_matching_keys) > 0)]\n",
    ")"
   ]
  },
  {
   "cell_type": "code",
   "execution_count": 255,
   "metadata": {},
   "outputs": [
    {
     "data": {
      "text/plain": [
       "['Venture', 'Mitsubishi', 'Congress']"
      ]
     },
     "execution_count": 255,
     "metadata": {},
     "output_type": "execute_result"
    }
   ],
   "source": [
    "(archive['ents']\n",
    "     .pipe(lambda s: pd.Series(list(flatten(s.tolist()))))\n",
    "     .value_counts()\n",
    "     .pipe(lambda s: s/s.sum())\n",
    "     .loc[lambda s: s > .01]\n",
    "     .index.tolist()\n",
    ")"
   ]
  },
  {
   "cell_type": "code",
   "execution_count": 259,
   "metadata": {},
   "outputs": [
    {
     "data": {
      "text/plain": [
       "(8, 6)"
      ]
     },
     "execution_count": 259,
     "metadata": {},
     "output_type": "execute_result"
    }
   ],
   "source": [
    "archive.shape "
   ]
  },
  {
   "cell_type": "code",
   "execution_count": 260,
   "metadata": {},
   "outputs": [
    {
     "data": {
      "text/plain": [
       "347"
      ]
     },
     "execution_count": 260,
     "metadata": {},
     "output_type": "execute_result"
    }
   ],
   "source": [
    "archive['sentences'].str.len().sum()"
   ]
  },
  {
   "cell_type": "code",
   "execution_count": null,
   "metadata": {},
   "outputs": [],
   "source": []
  },
  {
   "cell_type": "code",
   "execution_count": null,
   "metadata": {},
   "outputs": [],
   "source": []
  },
  {
   "cell_type": "code",
   "execution_count": null,
   "metadata": {},
   "outputs": [],
   "source": []
  },
  {
   "cell_type": "markdown",
   "metadata": {},
   "source": [
    "### WSJ"
   ]
  },
  {
   "cell_type": "code",
   "execution_count": 11,
   "metadata": {},
   "outputs": [],
   "source": [
    "import xopen\n",
    "import orjson\n",
    "\n",
    "fname = '../data/open-sourced-articles/wsj-business-articles-sans-html.jsonl.gz'\n",
    "wsj_fetched = []\n",
    "with xopen.xopen(fname, 'rb') as f:\n",
    "    for line in f:\n",
    "        wsj_fetched.append( orjson.loads(line))\n",
    "\n",
    "wsj_fetched_df = pd.DataFrame(wsj_fetched).loc[lambda df: df['links'].str.len() > 0]"
   ]
  },
  {
   "cell_type": "code",
   "execution_count": 5,
   "metadata": {},
   "outputs": [],
   "source": [
    "tqdm.pandas()\n",
    "all_wsj_links_df = flatten_list_of_links(wsj_fetched_df)\n",
    "wsj_press_release_articles = all_wsj_links_df.loc[lambda df: df.progress_apply(find_press_release, axis=1)]"
   ]
  },
  {
   "cell_type": "code",
   "execution_count": 41,
   "metadata": {},
   "outputs": [],
   "source": [
    "excluded_urls = [\n",
    "    'https://www.dowjones.com/professional/newswires/',\n",
    "    'https://www.getnewsmart.com/',\n",
    "    'https://newscorp.com/business/dow-jones/',\n",
    "    'https://www.dowjones.com/products/newswires/',\n",
    "]"
   ]
  },
  {
   "cell_type": "code",
   "execution_count": 43,
   "metadata": {},
   "outputs": [],
   "source": [
    "wsj_press_release_articles = wsj_press_release_articles.loc[lambda df: ~df['href'].isin(excluded_urls)]"
   ]
  },
  {
   "cell_type": "code",
   "execution_count": 46,
   "metadata": {},
   "outputs": [],
   "source": [
    "wsj_press_release_articles.to_csv('../data/open-sourced-articles/wsj-parsed-press-release-urls.csv')"
   ]
  },
  {
   "cell_type": "code",
   "execution_count": 50,
   "metadata": {
    "scrolled": true
   },
   "outputs": [],
   "source": [
    "wsj_relevant_articles = wsj_fetched_df.loc[lambda df: df['article_url'].isin(wsj_press_release_articles['url'])]"
   ]
  },
  {
   "cell_type": "markdown",
   "metadata": {},
   "source": [
    "# Barrons"
   ]
  },
  {
   "cell_type": "code",
   "execution_count": 8,
   "metadata": {},
   "outputs": [
    {
     "data": {
      "application/vnd.jupyter.widget-view+json": {
       "model_id": "8edfa33ea5414cb0948a46ccde2957e6",
       "version_major": 2,
       "version_minor": 0
      },
      "text/plain": [
       "  0%|          | 0/91420 [00:00<?, ?it/s]"
      ]
     },
     "metadata": {},
     "output_type": "display_data"
    },
    {
     "data": {
      "application/vnd.jupyter.widget-view+json": {
       "model_id": "6980dd29848547a5aeeee9fc39940232",
       "version_major": 2,
       "version_minor": 0
      },
      "text/plain": [
       "  0%|          | 0/5334347 [00:00<?, ?it/s]"
      ]
     },
     "metadata": {},
     "output_type": "display_data"
    }
   ],
   "source": [
    "fname = '../data/open-sourced-articles/barrons-business-articles-sans-html.jsonl.gz'\n",
    "barrons_fetched_df, barrons_press_release_article_map = open_and_process(fname)"
   ]
  },
  {
   "cell_type": "code",
   "execution_count": 17,
   "metadata": {
    "scrolled": true
   },
   "outputs": [],
   "source": [
    "barrons_fetched_df = barrons_fetched_df.drop_duplicates('article_text')"
   ]
  },
  {
   "cell_type": "code",
   "execution_count": 24,
   "metadata": {},
   "outputs": [
    {
     "data": {
      "application/vnd.jupyter.widget-view+json": {
       "model_id": "cd2791b447ef4f278ccc554e483dccaf",
       "version_major": 2,
       "version_minor": 0
      },
      "text/plain": [
       "  0%|          | 0/66309 [00:00<?, ?it/s]"
      ]
     },
     "metadata": {},
     "output_type": "display_data"
    }
   ],
   "source": [
    "barrons_entities = retrieve_ents_for_col(barrons_fetched_df['article_url'],\n",
    "                                         barrons_fetched_df['article_text'])"
   ]
  },
  {
   "cell_type": "code",
   "execution_count": 28,
   "metadata": {},
   "outputs": [],
   "source": [
    "barrons_entities_df = pd.DataFrame(barrons_entities)"
   ]
  },
  {
   "cell_type": "code",
   "execution_count": 99,
   "metadata": {},
   "outputs": [],
   "source": [
    "# barrons_entities_df.to_json('../data/open-sourced-articles/barrons-article-entities.json.gz', compression='gzip', lines=True, orient='records')"
   ]
  },
  {
   "cell_type": "code",
   "execution_count": 33,
   "metadata": {},
   "outputs": [],
   "source": [
    "barrons_fetched_df_with_ents = barrons_fetched_df.merge(\n",
    "    barrons_entities_df,\n",
    "    left_on='article_url',\n",
    "    right_on='idx'\n",
    ").drop(columns='idx')\n",
    "barrons_fetched_df_with_ents['ents'] = barrons_fetched_df_with_ents['ents'].apply(set)"
   ]
  },
  {
   "cell_type": "code",
   "execution_count": 38,
   "metadata": {},
   "outputs": [],
   "source": [
    "barrons_press_release_df = (pd\n",
    " .read_json('../data/open-sourced-articles/barrons-press-release-files.jsonl', lines=True, orient='records')\n",
    " .rename(columns=lambda x: x.replace('article_', 'press_release_'))\n",
    ")"
   ]
  },
  {
   "cell_type": "code",
   "execution_count": 51,
   "metadata": {},
   "outputs": [
    {
     "data": {
      "application/vnd.jupyter.widget-view+json": {
       "model_id": "94bbabb49a0744fa96048ca047197f76",
       "version_major": 2,
       "version_minor": 0
      },
      "text/plain": [
       "  0%|          | 0/969 [00:00<?, ?it/s]"
      ]
     },
     "metadata": {},
     "output_type": "display_data"
    }
   ],
   "source": [
    "barrons_pr_entities = retrieve_ents_for_col(\n",
    "    barrons_press_release_df['press_release_url'],\n",
    "    barrons_press_release_df['press_release_text'].apply(lambda x: x[:10_000])\n",
    ")"
   ]
  },
  {
   "cell_type": "code",
   "execution_count": 98,
   "metadata": {},
   "outputs": [],
   "source": [
    "# pd.DataFrame(barrons_pr_entities).to_json('../data/open-sourced-articles/barrons-press-release-entities.json.gz', compression='gzip', lines=True, orient='records')"
   ]
  },
  {
   "cell_type": "code",
   "execution_count": 54,
   "metadata": {},
   "outputs": [],
   "source": [
    "barrons_press_release_df_with_ents = barrons_press_release_df.merge(\n",
    "    pd.DataFrame(barrons_pr_entities),\n",
    "    left_on='press_release_url',\n",
    "    right_on='idx'\n",
    ").drop(columns='idx')"
   ]
  },
  {
   "cell_type": "code",
   "execution_count": 60,
   "metadata": {},
   "outputs": [],
   "source": [
    "barrons_merged_df = (\n",
    "    barrons_press_release_df_with_ents\n",
    "        .rename(columns={'ents': 'press_release_ents'})\n",
    "        .merge(\n",
    "            barrons_press_release_article_map\n",
    "             .rename(columns={'href': 'press_release_url', 'url': 'article_url', 'text': 'link_text'}),\n",
    "            on='press_release_url'\n",
    "        )\n",
    " .rename(columns={\"homepage_key\": \"press_release_homepage_key\"})\n",
    " .drop(columns=['press_release_authors', 'press_release_top_image', 'press_release_video', 'press_release_wayback_timestamp', 'all_press_release_wayback_timestamps',])\n",
    " .merge(barrons_fetched_df_with_ents, on='article_url')\n",
    " .rename(columns={'ents': 'article_ents'})\n",
    " .drop(columns=['article_authors', 'article_top_image', 'article_video', 'source'])\n",
    ")"
   ]
  },
  {
   "cell_type": "code",
   "execution_count": 91,
   "metadata": {},
   "outputs": [],
   "source": [
    "most_common_ents = set(\n",
    "    barrons_press_release_df_with_ents['ents']\n",
    "     .pipe(lambda s: pd.Series(list(flatten(s.tolist())))).value_counts()\n",
    "     .head(3).index\n",
    ")"
   ]
  },
  {
   "cell_type": "code",
   "execution_count": 130,
   "metadata": {},
   "outputs": [
    {
     "name": "stdout",
     "output_type": "stream",
     "text": [
      "{'REEcorner', 'American Axle & Manufacturing', 'AVs', 'REE'}\n",
      "\n",
      " ------- PRESS RELEASE----------\n",
      "\n",
      "url: https://www.prnewswire.com/news-releases/ree-commences-trials-of-all-new-electric-p7-modular-platform-for-delivery-fleets-301454522.html\n",
      "\n",
      "Supporting up to 8,800 lbs. max payload, the P7 platform packs up to 35% more packages than comparable commercial vehicles or the equivalent and can comfortably carry up to 30 passengers, making it the optimal platform for target markets such as delivery and logistic fleet owners, transit authorities, school buses and mobility operators. REEcorner and X-by-Wire technology allows each wheel to move independently for enhanced driving dynamics and safety with all-wheel steer, drive and brake option...\n",
      "\n",
      "\n",
      "------- NEWS ARTICLE----------\n",
      "\n",
      "Cars are the new phones. Look no further than CES 2022 in Las Vegas. Many of the cool announcements at the consumer electronics show are all about a cutting-edge technology: the automobile.\n",
      "\n",
      "Take Sony (ticker: SONY). It makes movies and PlayStation gaming systems. Now it wants to make electric cars. The company showed a concept SUV at CES. For starters, showing a concept car is a very auto show thing to do. Second, Sony isn’t a car company yet.\n",
      "\n",
      "But cars are getting so advanced that everyone thi...\n"
     ]
    }
   ],
   "source": [
    "idx = 0\n",
    "num_chars = 500\n",
    "press_release_ents = barrons_merged_df['press_release_ents'].iloc[idx]\n",
    "press_release_ents = set(\n",
    "    pd.Series(press_release_ents)\n",
    "        .value_counts()\n",
    "        .loc[lambda s: s > 1]\n",
    "        .index\n",
    ")\n",
    "press_release_ents -= most_common_ents\n",
    "news_ents = barrons_merged_df['article_ents'].iloc[idx]\n",
    "merged_ents = set(press_release_ents) & set(news_ents)\n",
    "print(press_release_ents)\n",
    "print('\\n ------- PRESS RELEASE----------\\n')\n",
    "print('url: ' + barrons_merged_df['press_release_url'].iloc[idx])\n",
    "print()\n",
    "print(barrons_merged_df['press_release_text'].iloc[idx][:num_chars] + '...')\n",
    "print()\n",
    "print('\\n------- NEWS ARTICLE----------\\n')\n",
    "print(barrons_merged_df['article_text'].iloc[idx][:num_chars] + '...')"
   ]
  },
  {
   "cell_type": "code",
   "execution_count": 93,
   "metadata": {},
   "outputs": [
    {
     "data": {
      "text/html": [
       "<div>\n",
       "<style scoped>\n",
       "    .dataframe tbody tr th:only-of-type {\n",
       "        vertical-align: middle;\n",
       "    }\n",
       "\n",
       "    .dataframe tbody tr th {\n",
       "        vertical-align: top;\n",
       "    }\n",
       "\n",
       "    .dataframe thead th {\n",
       "        text-align: right;\n",
       "    }\n",
       "</style>\n",
       "<table border=\"1\" class=\"dataframe\">\n",
       "  <thead>\n",
       "    <tr style=\"text-align: right;\">\n",
       "      <th></th>\n",
       "      <th>article_text</th>\n",
       "    </tr>\n",
       "  </thead>\n",
       "  <tbody>\n",
       "    <tr>\n",
       "      <th>6410</th>\n",
       "      <td>Text size\\n\\nUsed car prices hit a record recently, in what can be described as a surprising development amid a global pandemic and falling new car sales. There are a few reasons for the rise, which are a positive for all automotive stocks.\\n\\nThe Manheim used vehicle price index hit a record in mid-June, rising about 4% year over year, 7% compared with the May reading, and surging more than 16% compared with the April pandemic-induced low.\\n\\nIt’s a surprising data point. “What planet am I ...</td>\n",
       "    </tr>\n",
       "    <tr>\n",
       "      <th>15128</th>\n",
       "      <td>Text size\\n\\nAbout the author: Clifford Winston is a senior fellow at the Brookings Institution.\\n\\nCongestion and delays at ports and on highways are raising fears of a disrupted holiday shopping season. It may be too late to rescue this year’s Christmas stockings, but there is a way to reduce congestion delays significantly and prevent future breakdowns of the supply chain. Policymakers should see the supply-chain crisis as a reason to prioritize autonomous transportation across the econom...</td>\n",
       "    </tr>\n",
       "    <tr>\n",
       "      <th>15602</th>\n",
       "      <td>Text size\\n\\nAbout the authors: Clifford Winston is a senior fellow at the Brookings Institution. Joan Winston is a technology policy analyst in Washington, D.C.\\n\\nAutonomous vehicles have the potential to address major social problems that exist today and will persist in the future, including nerve-wracking congestion, millions of fatal and nonfatal accidents, and violent police confrontations with drivers. AVs can enable increased economic activity without increasing the spread of a virus...</td>\n",
       "    </tr>\n",
       "    <tr>\n",
       "      <th>15930</th>\n",
       "      <td>Forget the race into space. The competition to be the first country to launch driverless cars has grabbed the attention of more nations than a new lunar landing.\\n\\nThe United Kingdom has emerged as the No. 1 location on earth to support autonomous vehicles, or AVs, in a new analysis conducted by the Society of Motor Manufacturers and Traders, or SMMT. The U.K. lobby group has calculated that it will generate an economic boost of 62 billion pounds sterling ($81.1 billion) per annum by 2030, ...</td>\n",
       "    </tr>\n",
       "    <tr>\n",
       "      <th>33465</th>\n",
       "      <td>Text size\\n\\nIt’s been a cruel winter for many parts of the U.S. but it’s been even colder for the auto industry, with Ford Motor (F) and General Motors (GM) firmly in the red year-to-date, along with suppliers like American Axle &amp; Manufacturing (AXL) and Delphi Technologies (DLPH).\\n\\nSpencer Platt/Getty Images\\n\\nOf course, there’s plenty of obvious reasons why, like the specter of a trade war and NAFTA risks. But all that noise has created a buying opportunity, argues Deutsche Bank’s Rod ...</td>\n",
       "    </tr>\n",
       "    <tr>\n",
       "      <th>41355</th>\n",
       "      <td>Text size\\n\\nREE Automotive Ltd. [NASDAQ: \"REE\"], a leader in e-Mobility, today announced that it will open its U.S. headquarters in Austin, Texas to address the growing U.S. market demand for mission-specific EVs from delivery and logistics companies, Mobility-as-a-Service and new technology players. In addition, Austin will be the location of REE's first asset-light Integration Center for the assembly and testing of its disruptive REEcorner(TM) technology and ultra-modular EV platforms. Th...</td>\n",
       "    </tr>\n",
       "  </tbody>\n",
       "</table>\n",
       "</div>"
      ],
      "text/plain": [
       "                                                                                                                                                                                                                                                                                                                                                                                                                                                                                                              article_text\n",
       "6410   Text size\\n\\nUsed car prices hit a record recently, in what can be described as a surprising development amid a global pandemic and falling new car sales. There are a few reasons for the rise, which are a positive for all automotive stocks.\\n\\nThe Manheim used vehicle price index hit a record in mid-June, rising about 4% year over year, 7% compared with the May reading, and surging more than 16% compared with the April pandemic-induced low.\\n\\nIt’s a surprising data point. “What planet am I ...\n",
       "15128  Text size\\n\\nAbout the author: Clifford Winston is a senior fellow at the Brookings Institution.\\n\\nCongestion and delays at ports and on highways are raising fears of a disrupted holiday shopping season. It may be too late to rescue this year’s Christmas stockings, but there is a way to reduce congestion delays significantly and prevent future breakdowns of the supply chain. Policymakers should see the supply-chain crisis as a reason to prioritize autonomous transportation across the econom...\n",
       "15602  Text size\\n\\nAbout the authors: Clifford Winston is a senior fellow at the Brookings Institution. Joan Winston is a technology policy analyst in Washington, D.C.\\n\\nAutonomous vehicles have the potential to address major social problems that exist today and will persist in the future, including nerve-wracking congestion, millions of fatal and nonfatal accidents, and violent police confrontations with drivers. AVs can enable increased economic activity without increasing the spread of a virus...\n",
       "15930  Forget the race into space. The competition to be the first country to launch driverless cars has grabbed the attention of more nations than a new lunar landing.\\n\\nThe United Kingdom has emerged as the No. 1 location on earth to support autonomous vehicles, or AVs, in a new analysis conducted by the Society of Motor Manufacturers and Traders, or SMMT. The U.K. lobby group has calculated that it will generate an economic boost of 62 billion pounds sterling ($81.1 billion) per annum by 2030, ...\n",
       "33465  Text size\\n\\nIt’s been a cruel winter for many parts of the U.S. but it’s been even colder for the auto industry, with Ford Motor (F) and General Motors (GM) firmly in the red year-to-date, along with suppliers like American Axle & Manufacturing (AXL) and Delphi Technologies (DLPH).\\n\\nSpencer Platt/Getty Images\\n\\nOf course, there’s plenty of obvious reasons why, like the specter of a trade war and NAFTA risks. But all that noise has created a buying opportunity, argues Deutsche Bank’s Rod ...\n",
       "41355  Text size\\n\\nREE Automotive Ltd. [NASDAQ: \"REE\"], a leader in e-Mobility, today announced that it will open its U.S. headquarters in Austin, Texas to address the growing U.S. market demand for mission-specific EVs from delivery and logistics companies, Mobility-as-a-Service and new technology players. In addition, Austin will be the location of REE's first asset-light Integration Center for the assembly and testing of its disruptive REEcorner(TM) technology and ultra-modular EV platforms. Th..."
      ]
     },
     "execution_count": 93,
     "metadata": {},
     "output_type": "execute_result"
    }
   ],
   "source": [
    "pd.options.display.max_colwidth = 500\n",
    "(barrons_fetched_df_with_ents\n",
    "     .loc[lambda df: df['ents'].apply(lambda x: len(x& press_release_ents) > 0)]\n",
    "     [['article_text']]\n",
    ")"
   ]
  },
  {
   "cell_type": "code",
   "execution_count": 139,
   "metadata": {},
   "outputs": [],
   "source": [
    "full_barrons_discourse_df = load_discourse_df(\n",
    "    '../data/open-sourced-articles/barrons-articles-news-discourse.jsonl.gz'\n",
    ")"
   ]
  },
  {
   "cell_type": "code",
   "execution_count": 145,
   "metadata": {},
   "outputs": [],
   "source": [
    "barrons_articles_with_discourse = (full_barrons_discourse_df\n",
    " .loc[lambda df: df['discourse_preds'].isin(['Main', 'Cause_General', 'Cause_Specific'])]\n",
    " .groupby('doc_id')\n",
    " [['sentences', 'discourse_preds']].aggregate(list)\n",
    ")"
   ]
  },
  {
   "cell_type": "code",
   "execution_count": 152,
   "metadata": {},
   "outputs": [],
   "source": [
    "sort_order = {'Main':0, 'Cause_General':1, 'Cause_Specific': 2}\n",
    "barrons_articles_with_discourse = (barrons_articles_with_discourse\n",
    " .loc[lambda df: \n",
    "  df['discourse_preds']\n",
    "      .apply(lambda x: len(set(x)  & set(['Main', 'Cause_General'])) > 1)\n",
    "     ]\n",
    " .apply(lambda x: list(zip(x['sentences'], x['discourse_preds'])), axis=1)\n",
    " .apply(lambda x: sorted(x, key=lambda y: sort_order[y[1]]))\n",
    ")"
   ]
  },
  {
   "cell_type": "code",
   "execution_count": 159,
   "metadata": {},
   "outputs": [
    {
     "data": {
      "text/html": [
       "<div>\n",
       "<style scoped>\n",
       "    .dataframe tbody tr th:only-of-type {\n",
       "        vertical-align: middle;\n",
       "    }\n",
       "\n",
       "    .dataframe tbody tr th {\n",
       "        vertical-align: top;\n",
       "    }\n",
       "\n",
       "    .dataframe thead th {\n",
       "        text-align: right;\n",
       "    }\n",
       "</style>\n",
       "<table border=\"1\" class=\"dataframe\">\n",
       "  <thead>\n",
       "    <tr style=\"text-align: right;\">\n",
       "      <th></th>\n",
       "      <th>0</th>\n",
       "      <th>1</th>\n",
       "    </tr>\n",
       "  </thead>\n",
       "  <tbody>\n",
       "    <tr>\n",
       "      <th>0</th>\n",
       "      <td>Lawsuits reveal that big wealth management companies are poring over emails, texts, printer usage, and more to find evidence that advisors may be violating employment or nonsolicitation agreements.</td>\n",
       "      <td>Main</td>\n",
       "    </tr>\n",
       "    <tr>\n",
       "      <th>2</th>\n",
       "      <td>Since acquiring Merrill Lynch at the nadir of the financial crisis, Bank of America has been putting its stamp on the storied brokerage and integrating it more tightly into the larger bank.</td>\n",
       "      <td>Cause_General</td>\n",
       "    </tr>\n",
       "    <tr>\n",
       "      <th>3</th>\n",
       "      <td>An overhaul of Merrill's advisor training program earlier this year represents the latest step in this evolution.</td>\n",
       "      <td>Cause_General</td>\n",
       "    </tr>\n",
       "    <tr>\n",
       "      <th>6</th>\n",
       "      <td>In this Big Q, advisors share how they're responding, including borrowing more money, recalibrating clients' bond strategies, and looking to commodities and real estate as an inflation hedge.</td>\n",
       "      <td>Cause_General</td>\n",
       "    </tr>\n",
       "    <tr>\n",
       "      <th>7</th>\n",
       "      <td>Whether the goal is growing the business or partially cashing out in a liquidity event, more and more RIA owners are selling minority stakes in their firms.</td>\n",
       "      <td>Cause_General</td>\n",
       "    </tr>\n",
       "    <tr>\n",
       "      <th>8</th>\n",
       "      <td>Also, in the \"best of 2021\" spirit, this week we share some of the most insightful answers to questions in our weekly Advisor Q&amp;A. Topics range from portfolio construction to balancing work and family to the risks that might lie ahead for an industry that has experienced growth and prosperity for many years.</td>\n",
       "      <td>Cause_General</td>\n",
       "    </tr>\n",
       "    <tr>\n",
       "      <th>9</th>\n",
       "      <td>But amid the changes, some veteran Merrill advisors managing lots of money are walking out the door.</td>\n",
       "      <td>Cause_Specific</td>\n",
       "    </tr>\n",
       "    <tr>\n",
       "      <th>10</th>\n",
       "      <td>In just 18 months through early May, when this story was published, Canada's CI Financial gobbled up 16 U.S. wealth management firms, quickly turning the company into a major force in the white-hot M&amp;A market for RIAs.</td>\n",
       "      <td>Cause_Specific</td>\n",
       "    </tr>\n",
       "  </tbody>\n",
       "</table>\n",
       "</div>"
      ],
      "text/plain": [
       "                                                                                                                                                                                                                                                                                                                        0  \\\n",
       "0                                                                                                                   Lawsuits reveal that big wealth management companies are poring over emails, texts, printer usage, and more to find evidence that advisors may be violating employment or nonsolicitation agreements.   \n",
       "2                                                                                                                           Since acquiring Merrill Lynch at the nadir of the financial crisis, Bank of America has been putting its stamp on the storied brokerage and integrating it more tightly into the larger bank.   \n",
       "3                                                                                                                                                                                                       An overhaul of Merrill's advisor training program earlier this year represents the latest step in this evolution.   \n",
       "6                                                                                                                         In this Big Q, advisors share how they're responding, including borrowing more money, recalibrating clients' bond strategies, and looking to commodities and real estate as an inflation hedge.   \n",
       "7                                                                                                                                                            Whether the goal is growing the business or partially cashing out in a liquidity event, more and more RIA owners are selling minority stakes in their firms.   \n",
       "8   Also, in the \"best of 2021\" spirit, this week we share some of the most insightful answers to questions in our weekly Advisor Q&A. Topics range from portfolio construction to balancing work and family to the risks that might lie ahead for an industry that has experienced growth and prosperity for many years.   \n",
       "9                                                                                                                                                                                                                    But amid the changes, some veteran Merrill advisors managing lots of money are walking out the door.   \n",
       "10                                                                                             In just 18 months through early May, when this story was published, Canada's CI Financial gobbled up 16 U.S. wealth management firms, quickly turning the company into a major force in the white-hot M&A market for RIAs.   \n",
       "\n",
       "                 1  \n",
       "0             Main  \n",
       "2    Cause_General  \n",
       "3    Cause_General  \n",
       "6    Cause_General  \n",
       "7    Cause_General  \n",
       "8    Cause_General  \n",
       "9   Cause_Specific  \n",
       "10  Cause_Specific  "
      ]
     },
     "execution_count": 159,
     "metadata": {},
     "output_type": "execute_result"
    }
   ],
   "source": [
    "(barrons_articles_with_discourse\n",
    " .pipe(lambda s: pd.DataFrame(s.iloc[0]))\n",
    " .loc[lambda df: df[0].str.split(' ').str.len() > 3]\n",
    ")"
   ]
  },
  {
   "cell_type": "code",
   "execution_count": null,
   "metadata": {},
   "outputs": [],
   "source": []
  },
  {
   "cell_type": "code",
   "execution_count": null,
   "metadata": {},
   "outputs": [],
   "source": []
  },
  {
   "cell_type": "code",
   "execution_count": null,
   "metadata": {},
   "outputs": [],
   "source": []
  },
  {
   "cell_type": "code",
   "execution_count": null,
   "metadata": {},
   "outputs": [],
   "source": []
  },
  {
   "cell_type": "code",
   "execution_count": null,
   "metadata": {},
   "outputs": [],
   "source": []
  },
  {
   "cell_type": "code",
   "execution_count": null,
   "metadata": {},
   "outputs": [],
   "source": []
  },
  {
   "cell_type": "code",
   "execution_count": null,
   "metadata": {},
   "outputs": [],
   "source": []
  },
  {
   "cell_type": "code",
   "execution_count": null,
   "metadata": {},
   "outputs": [],
   "source": []
  },
  {
   "cell_type": "code",
   "execution_count": null,
   "metadata": {},
   "outputs": [],
   "source": []
  },
  {
   "cell_type": "code",
   "execution_count": null,
   "metadata": {},
   "outputs": [],
   "source": []
  },
  {
   "cell_type": "code",
   "execution_count": null,
   "metadata": {},
   "outputs": [],
   "source": []
  },
  {
   "cell_type": "code",
   "execution_count": null,
   "metadata": {},
   "outputs": [],
   "source": []
  },
  {
   "cell_type": "code",
   "execution_count": null,
   "metadata": {},
   "outputs": [],
   "source": []
  },
  {
   "cell_type": "code",
   "execution_count": null,
   "metadata": {},
   "outputs": [],
   "source": [
    "# ---------------------------------------\n",
    "# reuters :\n",
    "# business, markets, technology\n",
    "# ---------------------------------------\n",
    "# washington post:\n",
    "# business, technology,\n",
    "# ---------------------------------------"
   ]
  },
  {
   "cell_type": "code",
   "execution_count": null,
   "metadata": {},
   "outputs": [],
   "source": [
    "# we definitely want to have multiple news sources \n",
    "#\n",
    "## crawling stuff from the web \n",
    "\n",
    "## we'd like to have more richer details in the flash headlines, but \n",
    "## it's not new reporting. just summarized/etc. of other documents or whatever is out there.\n",
    "## \n",
    "## look at lexical form a\n",
    "## NI FLASH HEADLINES\n",
    "## BFW are quick stories\n",
    "## \n",
    "## NI PRESS RELEASE\n",
    "\n",
    "## Does Bloomberg cover more government or business press releases? \n",
    "# -> Will have to filter down by the subject\n",
    "## Reporters break things down based on expertise:\n",
    "    ## example: Reporter from europe covers the EU press release\n",
    "\n",
    "## Models\n",
    "## instruction-tuned BloombergGPT\n",
    "## \n",
    "## Evaluation:\n",
    "## * We don't want to generate the entire article from just the press release\n",
    "## * How \n",
    "## Take the story and summary of it, and then the summary becomes the gold-standard of \n",
    "## What we are trying to produce\n",
    "## Should the summary be totally automatic\n",
    "## Take the opening paragraph and that's a summary \n",
    "## \n",
    "## Flash headlines, it's less necessary.\n",
    "## \n",
    "## ************ How can we make sure we validate the summaries generated?\n",
    "## \n",
    "## We can generate bullet points from the press release alone\n",
    "## We can generate bullet points from the article\n",
    "## We can summarize the common points between the two\n",
    "## These three will actually come out as quite different.\n",
    "\n",
    "## If humans are asked to summarize the news:\n",
    "##    * When the news adds background, the summarization point will be very different.\n",
    "##    * When they read both, that will be very different.\n",
    "## Ex.\n",
    "## News article covers press release and adds information about the stock\n",
    "## \n",
    "\n",
    "## Setting up the evaluation\n",
    "## Metrics for scoring\n",
    "## Starting to augment this... dense retrieval?\n",
    "## Here's a summary of the press release, find other things that are related? \n",
    "## Produce a bulleted list of the major highlights from the press release\n",
    "## Turn each one of the bullets into a query and search the archive for similar articles. \n",
    "## \n",
    "## Ex. A drug is mentioned along with other things... one bullet point will mention the drug\n",
    "## so, search the archive for similar things about that.\n",
    "\n",
    "## Having a step where we produce a bunch of stuff, following up on them\n",
    "\n",
    "## You can say  to Language model: \"A company just produced this, what questions \n",
    "# do you have aboubt this?\"\n",
    "# Can the model generate a bunch of things:\n",
    "# 1. What's the approval timeline... "
   ]
  },
  {
   "cell_type": "code",
   "execution_count": null,
   "metadata": {},
   "outputs": [],
   "source": []
  },
  {
   "cell_type": "code",
   "execution_count": null,
   "metadata": {},
   "outputs": [],
   "source": []
  },
  {
   "cell_type": "markdown",
   "metadata": {},
   "source": [
    "# Process Domain Blacklist"
   ]
  },
  {
   "cell_type": "code",
   "execution_count": null,
   "metadata": {},
   "outputs": [],
   "source": [
    "import glob\n",
    "domain_files = glob.glob('../data/utility-files/*.*')\n",
    "\n",
    "all_domain_files = []\n",
    "for f in domain_files:\n",
    "    if f.endswith('.json'):\n",
    "        df= pd.read_json(f, lines=True)\n",
    "    else:\n",
    "        df = pd.read_csv(f)\n",
    "    all_domain_files.append(df)\n",
    "\n",
    "news_domains_df = pd.concat(all_domain_files)\n",
    "news_domains_df= news_domains_df.loc[lambda df: ~df['domain'].str.contains('.gov', regex=False)]\n",
    "news_domains = news_domains_df['domain'].str.split('.').str.get(0).drop_duplicates().tolist()\n",
    "\n",
    "social_media_blog_lists = glob.glob('../data/utility-files/Social-media-Blocklists/*.txt')\n",
    "all_social_media_sites = []\n",
    "for l_file in social_media_blog_lists:\n",
    "    with open(l_file) as f:\n",
    "        lines = f.read().split('\\n')\n",
    "        matching_lines= list(filter(lambda x: x.startswith('||'), lines))\n",
    "        all_social_media_sites += matching_lines\n",
    "\n",
    "social_media_domains = list(map(lambda x: x.replace('||','').replace('^', ''), all_social_media_sites))\n",
    "social_media_domains = list(set(map(lambda x: tldextract.extract(x).domain, social_media_domains)))\n",
    "\n",
    "additional_exclusions = [\n",
    "    'google',\n",
    "    'xinhuanet',\n",
    "    'news.sky',\n",
    "    'billboard',\n",
    "    'india',\n",
    "    'the-sun',\n",
    "    'timesofindia'\n",
    "]\n",
    "\n",
    "# domain exclusions\n",
    "domain_exclusions = news_domains + social_media_domains + additional_exclusions\n",
    "\n",
    "with open('../data/utility-files/domain-exclusions-master-list.txt', 'w') as f:\n",
    "    for d in domain_exclusions:\n",
    "        f.write(d)\n",
    "        f.write('\\n')"
   ]
  },
  {
   "cell_type": "code",
   "execution_count": null,
   "metadata": {},
   "outputs": [],
   "source": []
  },
  {
   "cell_type": "code",
   "execution_count": null,
   "metadata": {},
   "outputs": [],
   "source": []
  },
  {
   "cell_type": "code",
   "execution_count": null,
   "metadata": {},
   "outputs": [],
   "source": []
  },
  {
   "cell_type": "code",
   "execution_count": null,
   "metadata": {},
   "outputs": [],
   "source": []
  },
  {
   "cell_type": "code",
   "execution_count": null,
   "metadata": {},
   "outputs": [],
   "source": []
  },
  {
   "cell_type": "code",
   "execution_count": null,
   "metadata": {},
   "outputs": [],
   "source": []
  },
  {
   "cell_type": "code",
   "execution_count": null,
   "metadata": {},
   "outputs": [],
   "source": []
  },
  {
   "cell_type": "code",
   "execution_count": null,
   "metadata": {},
   "outputs": [],
   "source": []
  },
  {
   "cell_type": "code",
   "execution_count": null,
   "metadata": {},
   "outputs": [],
   "source": []
  },
  {
   "cell_type": "code",
   "execution_count": null,
   "metadata": {},
   "outputs": [],
   "source": []
  },
  {
   "cell_type": "code",
   "execution_count": null,
   "metadata": {},
   "outputs": [],
   "source": []
  },
  {
   "cell_type": "code",
   "execution_count": null,
   "metadata": {},
   "outputs": [],
   "source": []
  },
  {
   "cell_type": "markdown",
   "metadata": {},
   "source": [
    "# Slosh"
   ]
  },
  {
   "cell_type": "code",
   "execution_count": 176,
   "metadata": {},
   "outputs": [],
   "source": [
    "import glob"
   ]
  },
  {
   "cell_type": "code",
   "execution_count": 180,
   "metadata": {},
   "outputs": [
    {
     "data": {
      "text/plain": [
       "['../data/open-sourced-articles/reuters-business-cc-articles-to-fetch.txt.gz',\n",
       " '../data/open-sourced-articles/reuters-technology-cc-articles-to-fetch.txt.gz',\n",
       " '../data/open-sourced-articles/reuters-markets-cc-articles-to-fetch.txt.gz']"
      ]
     },
     "execution_count": 180,
     "metadata": {},
     "output_type": "execute_result"
    }
   ],
   "source": [
    "glob.glob('../data/open-sourced-articles/reuters-*')"
   ]
  },
  {
   "cell_type": "code",
   "execution_count": 192,
   "metadata": {},
   "outputs": [],
   "source": [
    "import xopen\n",
    "\n",
    "reuters_lines = []\n",
    "for f in glob.glob('../data/open-sourced-articles/reuters-*-cc*'):\n",
    "    for line in xopen.xopen(f, 'rb'):\n",
    "        reuters_lines.append(line)\n",
    "with xopen.xopen('../data/open-sourced-articles/reuters-business-articles-to-fetch.txt.gz', 'wb') as f:\n",
    "    for line in reuters_lines:\n",
    "        f.write(line)"
   ]
  },
  {
   "cell_type": "code",
   "execution_count": 220,
   "metadata": {},
   "outputs": [],
   "source": [
    "wp_lines = []\n",
    "for f in glob.glob('../data/open-sourced-articles/wp-*-cc*'):\n",
    "    for line in xopen.xopen(f, 'rb'):\n",
    "        wp_lines.append(line)\n",
    "        \n",
    "with xopen.xopen('../data/open-sourced-articles/wp-business-articles-to-fetch.txt.gz', 'wb') as f:\n",
    "    for line in wp_lines:\n",
    "        f.write(line)"
   ]
  },
  {
   "cell_type": "code",
   "execution_count": null,
   "metadata": {},
   "outputs": [],
   "source": [
    "import orjsonl\n",
    "import gzip \n",
    "import xopen \n",
    "import jsonlines\n",
    "\n",
    "# test orjsonl\n",
    "with xopen.xopen('test.jsonl.gz', 'wb') as f:\n",
    "    for obj in links_obj:\n",
    "        orjsonl.append(path=f, data=[obj])\n",
    "\n",
    "test = []\n",
    "for idx, f in enumerate(orjsonl.stream('test.jsonl.gz')):\n",
    "    if idx == 100:\n",
    "        break \n",
    "    test.append(f) \n",
    "gzipped = gzip.compress(line_str)\n",
    "\n",
    "\n",
    "# test gzip compress \n",
    "with open('test-stream.jsonl.gz', 'wb') as f:\n",
    "    for line in links_obj:\n",
    "        line_str = orjson.dumps(line)\n",
    "        gzipped = gzip.compress(line_str + b'\\n')\n",
    "        f.write(gzipped)\n",
    "\n",
    "# test jsonlines\n",
    "with xopen.xopen('test-stream-jsonwriter.jsonl.gz', 'wb') as f:\n",
    "    with jsonlines.Writer(f) as w:\n",
    "        for line in links_obj:\n",
    "            w.write(line)\n",
    "\n",
    "# test regular xopen\n",
    "with xopen.xopen('test-bin.txt', mode='wb') as f:\n",
    "    f.write(b'hello world\\n')\n",
    "\n",
    "with xopen.xopen('test-bin.txt') as f:\n",
    "    print(f.read())\n",
    "\n",
    "for line in xopen.xopen('test-stream.jsonl.gz', 'rb'):\n",
    "    line \n",
    "\n",
    "orjson.loads(line)"
   ]
  },
  {
   "cell_type": "code",
   "execution_count": 33,
   "metadata": {},
   "outputs": [],
   "source": [
    "# test gzip compress \n",
    "with xopen.xopen('test-stream.jsonl.gz', 'wb') as f:\n",
    "    for line in links_obj:\n",
    "        line_str = orjson.dumps(line) + b'\\n'\n",
    "        # gzipped = gzip.compress(line_str + b'\\n')\n",
    "        f.write(line_str)"
   ]
  },
  {
   "cell_type": "code",
   "execution_count": 34,
   "metadata": {},
   "outputs": [],
   "source": [
    "fname = 'test-stream.jsonl.gz'\n",
    "all_data = []\n",
    "with xopen.xopen(fname, 'rb') as f:\n",
    "    for line in f:\n",
    "        break "
   ]
  },
  {
   "cell_type": "code",
   "execution_count": 35,
   "metadata": {},
   "outputs": [
    {
     "data": {
      "text/plain": [
       "b'{\"text\":\"Skip to content\",\"href\":\"#site-content\"}\\n'"
      ]
     },
     "execution_count": 35,
     "metadata": {},
     "output_type": "execute_result"
    }
   ],
   "source": [
    "line "
   ]
  },
  {
   "cell_type": "code",
   "execution_count": 25,
   "metadata": {},
   "outputs": [
    {
     "data": {
      "text/plain": [
       "b'{\"text\":\"Subscriptions\",\"href\":\"https://www.nytimes.com/subscription?campaignId=37WXW\"}\\n'"
      ]
     },
     "execution_count": 25,
     "metadata": {},
     "output_type": "execute_result"
    }
   ],
   "source": [
    "line_str"
   ]
  },
  {
   "cell_type": "code",
   "execution_count": 15,
   "metadata": {},
   "outputs": [
    {
     "data": {
      "text/plain": [
       "b'{\"text\":\"Skip to content\",\"href\":\"#site-content\"}\\n'"
      ]
     },
     "execution_count": 15,
     "metadata": {},
     "output_type": "execute_result"
    }
   ],
   "source": [
    "line "
   ]
  },
  {
   "cell_type": "code",
   "execution_count": null,
   "metadata": {},
   "outputs": [],
   "source": []
  },
  {
   "cell_type": "code",
   "execution_count": null,
   "metadata": {},
   "outputs": [],
   "source": []
  },
  {
   "cell_type": "markdown",
   "metadata": {},
   "source": [
    "# Read Bloomberg Press Release Data"
   ]
  },
  {
   "cell_type": "code",
   "execution_count": null,
   "metadata": {},
   "outputs": [],
   "source": [
    "import glob\n",
    "from tqdm.auto import tqdm\n",
    "press_release_files = glob.glob('../data/zomo-downloads/*rele*')\n",
    "\n",
    "all_press_releases = []\n",
    "for f in tqdm(press_release_files):\n",
    "    all_press_releases.append(pd.read_excel(f))\n",
    "\n",
    "all_press_releases_df = pd.concat(all_press_releases)\n",
    "\n",
    "# all_press_releases_df.to_csv('../data/zomo-downloads/all-press-release-df.csv')\n",
    "\n",
    "found_df = (\n",
    "    all_press_releases_df[['release_web_url']]\n",
    "     .dropna()\n",
    "     .assign(\n",
    "        found=lambda df:\n",
    "         df['release_web_url'].pipe(lambda s: \n",
    "         s.str.contains('prnewswire', case=False) |\n",
    "         s.str.contains('businesswire', case=False) |\n",
    "         s.str.contains('press', case=False) |\n",
    "         s.str.contains('/news/', case=False) |\n",
    "         s.str.contains('release', case=False)     \n",
    ")))\n",
    "\n",
    "'ReportPage',\n",
    "'contentDownload'\n",
    "'Archives'\n",
    "\n",
    "found_df['found'].value_counts()\n",
    "\n",
    "import string\n",
    "\n",
    "def split_all_punct(s):\n",
    "    for p in string.punctuation:\n",
    "        s = s.replace(p, ' ')\n",
    "    return s.split()\n",
    "\n",
    "urls_split_by_punct  = (found_df\n",
    " .loc[lambda df: df['found'] == False]\n",
    " ['release_web_url']\n",
    " .apply(split_all_punct)\n",
    ")\n",
    "\n",
    "(urls_split_by_punct\n",
    " .pipe(lambda s: pd.Series(list(flatten(s.tolist()))))\n",
    " .value_counts()\n",
    " .head(20)\n",
    ")"
   ]
  }
 ],
 "metadata": {
  "hide_input": false,
  "kernelspec": {
   "display_name": "Python 3 (ipykernel)",
   "language": "python",
   "name": "python3"
  },
  "language_info": {
   "codemirror_mode": {
    "name": "ipython",
    "version": 3
   },
   "file_extension": ".py",
   "mimetype": "text/x-python",
   "name": "python",
   "nbconvert_exporter": "python",
   "pygments_lexer": "ipython3",
   "version": "3.10.11"
  }
 },
 "nbformat": 4,
 "nbformat_minor": 2
}
