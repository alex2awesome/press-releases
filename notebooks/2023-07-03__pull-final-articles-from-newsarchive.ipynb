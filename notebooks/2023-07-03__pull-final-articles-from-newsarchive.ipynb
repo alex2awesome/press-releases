{
 "cells": [
  {
   "cell_type": "code",
   "execution_count": 1,
   "id": "8074a051-4441-4316-9daa-4d804f6ce3d5",
   "metadata": {
    "tags": []
   },
   "outputs": [],
   "source": [
    "# ! pip install pandas==1.5.3\n",
    "# ! pip install numpy==1.23.1"
   ]
  },
  {
   "cell_type": "code",
   "execution_count": 2,
   "id": "46259ab2-d912-447f-8c4b-c8800587a7f6",
   "metadata": {
    "tags": []
   },
   "outputs": [],
   "source": [
    "import pandas as pd \n",
    "from pyspark.sql.functions import array_contains, array_intersect, array, udf, size\n",
    "from pyspark.sql.functions import lit , size, col\n",
    "from pyspark.sql.types import BooleanType\n",
    "import re \n",
    "from bloomberg.ai.librarian import Librarian, get_config\n",
    "import pyspark.sql.functions as F\n",
    "from pyspark.sql.window import Window\n",
    "from pyspark.sql.functions import lit\n",
    "import pandas as pd\n",
    "from bs4 import BeautifulSoup\n",
    "\n",
    "\n",
    "def check_overlap(nicodes):\n",
    "    to_exclude = [\n",
    "        # 'BORGBV',\n",
    "        # 'BORGFF',\n",
    "        # 'CMPAUTO',\n",
    "        # 'BORGDONE',\n",
    "        # 'BORGSCND',\n",
    "        # 'BORG2',\n",
    "        # 'BORG2DON',\n",
    "        # 'CYBORG',\n",
    "        'HEADS'\n",
    "    ]\n",
    "    \n",
    "    to_include = [\n",
    "        'MGMTCHG', # Management Change\n",
    "        'INI', # Company IPOs\n",
    "        'SECONDBA', # secondary offerings\n",
    "        'ERN', # Earnings cannot be fully automated, because we never know what companies will put in there\n",
    "               # We have extraction to pull non-numerical numbers, it’s not job cuts that we look out for \n",
    "        'BORDONE', #: automated stories with human intervention \n",
    "        'JOBCUTS',  # This is hard, because companies use different wordings to use \n",
    "        'CREDITCG'\n",
    "    ]\n",
    "    \n",
    "    nicode_vals = list(map(lambda x: x.nicode_val, nicodes))\n",
    "    is_excluded = len(set(nicode_vals) & set(to_exclude)) == 0\n",
    "    is_included = len(set(nicode_vals) & set(to_include)) > 0\n",
    "    is_included = True\n",
    "    return is_excluded & is_included\n",
    "    \n",
    "check_overlap_udf = udf(f=check_overlap, returnType=BooleanType())"
   ]
  },
  {
   "cell_type": "code",
   "execution_count": null,
   "id": "7b715087-20a7-452f-8d1e-8c4c7223ea28",
   "metadata": {
    "tags": []
   },
   "outputs": [],
   "source": [
    "config = get_config()\n",
    "config.spark.properties[\"spark.executor.instances\"] = 30\n",
    "config.spark.properties[\"spark.executor.memory\"] = \"20G\"\n",
    "config.spark.properties[\"spark.driver.memory\"] = \"20G\"\n",
    "\n",
    "librarian = Librarian(cfg=config)\n",
    "spark = librarian.spark_session\n",
    "\n",
    "newsarchive_df = (\n",
    "    librarian\n",
    "        .datasets\n",
    "        .newsarchive\n",
    "        .prod()\n",
    "        .pvf_newsldap_4()\n",
    "        .pvf_newsldap_6()\n",
    "        .begin(2022, 1, 1)\n",
    "        .end(2023, 1, 30)\n",
    "    .fetch()\n",
    ")\n",
    "newsarchive_df = newsarchive_df.filter(newsarchive_df.bloom_lang == 1)"
   ]
  },
  {
   "cell_type": "code",
   "execution_count": 9,
   "id": "a83bbc56-502a-455c-8dd0-0bec9d6d67a8",
   "metadata": {
    "ExecuteTime": {
     "end_time": "2023-06-30T20:48:27.160318Z",
     "start_time": "2023-06-30T20:48:27.158166Z"
    },
    "collapsed": false,
    "jupyter": {
     "outputs_hidden": false
    },
    "tags": []
   },
   "outputs": [],
   "source": [
    "suid_rid_map = pd.read_csv('all_suid_rid_maps.csv.gz', index_col=0).dropna()"
   ]
  },
  {
   "cell_type": "code",
   "execution_count": 10,
   "id": "d804d3b3-9841-4d50-ad61-d7b42f83b072",
   "metadata": {
    "tags": []
   },
   "outputs": [
    {
     "name": "stderr",
     "output_type": "stream",
     "text": [
      "/layers/com.bloomberg.ds.buildpacks.spark/spark/python/pyspark/sql/pandas/conversion.py:327: FutureWarning: iteritems is deprecated and will be removed in a future version. Use .items instead.\n",
      "  for column, series in pdf.iteritems():\n"
     ]
    }
   ],
   "source": [
    "suid_rid_map_df = spark.createDataFrame(suid_rid_map) "
   ]
  },
  {
   "cell_type": "code",
   "execution_count": 40,
   "id": "acd49ad8-dc62-4b68-9cf8-aa17c64bcd67",
   "metadata": {
    "tags": []
   },
   "outputs": [],
   "source": [
    "# press_release_na_df = (\n",
    "#     newsarchive_df\n",
    "#        .join(suid_rid_map_df, suid_rid_map_df.release_suid==newsarchive_df.suid)\n",
    "#        .select(['story_suid', 'suid', 'wire', 'headline', 'body', 'timeofarrival', 'bunch_id', 'nicodes'])\n",
    "# )"
   ]
  },
  {
   "cell_type": "code",
   "execution_count": 11,
   "id": "7274cd1b-48fc-4407-9f37-8b014d9de531",
   "metadata": {
    "tags": []
   },
   "outputs": [],
   "source": [
    "full_newsarchive_df = (\n",
    "    newsarchive_df\n",
    "       .join(suid_rid_map_df, suid_rid_map_df.story_suid==newsarchive_df.suid)\n",
    "       .select(['release_suid', 'suid', 'wire', 'headline', 'body', 'timeofarrival', 'bunch_id', 'nicodes'])\n",
    ")"
   ]
  },
  {
   "cell_type": "code",
   "execution_count": 12,
   "id": "95e5fdb6-a90a-4681-b0eb-17f4b38b76e1",
   "metadata": {
    "tags": []
   },
   "outputs": [],
   "source": [
    "beat_articles_df = (\n",
    "    full_newsarchive_df\n",
    "        .filter(full_newsarchive_df.wire.isin([25, 2345]))\n",
    "        .filter(check_overlap_udf(full_newsarchive_df.nicodes))\n",
    ")               "
   ]
  },
  {
   "cell_type": "code",
   "execution_count": 13,
   "id": "2693f714-a754-45b1-ac0e-8457c9bad64f",
   "metadata": {
    "tags": []
   },
   "outputs": [
    {
     "name": "stderr",
     "output_type": "stream",
     "text": [
      "23/07/03 19:52:11 WARN kns=aspangher appId=spark-application-1688413485984 execId=driver ExecutorPodsAllocator: Executors with ids 51,52,53,54,55 were not detected in the Kubernetes cluster after 60000 ms despite the fact that a previous allocation attempt tried to create them. The executors may have been deleted but the application missed the deletion event.\n",
      "                                                                                \r"
     ]
    },
    {
     "data": {
      "text/plain": [
       "102294"
      ]
     },
     "execution_count": 13,
     "metadata": {},
     "output_type": "execute_result"
    }
   ],
   "source": [
    "beat_articles_df.count()"
   ]
  },
  {
   "cell_type": "code",
   "execution_count": 15,
   "id": "8669910a-91fa-4d9b-9dbb-b9e63b790901",
   "metadata": {
    "tags": []
   },
   "outputs": [
    {
     "name": "stderr",
     "output_type": "stream",
     "text": [
      "23/07/03 19:52:44 INFO kns=aspangher appId=spark-application-1688413485984 execId=driver FileOutputCommitter: File Output Committer Algorithm version is 1\n",
      "23/07/03 19:52:44 INFO kns=aspangher appId=spark-application-1688413485984 execId=driver FileOutputCommitter: FileOutputCommitter skip cleanup _temporary folders under output directory:false, ignore cleanup failures: false\n",
      "23/07/03 19:53:12 WARN kns=aspangher appId=spark-application-1688413485984 execId=driver ExecutorPodsAllocator: Executors with ids 56,57,58,59,60 were not detected in the Kubernetes cluster after 60000 ms despite the fact that a previous allocation attempt tried to create them. The executors may have been deleted but the application missed the deletion event.\n",
      "23/07/03 19:54:13 WARN kns=aspangher appId=spark-application-1688413485984 execId=driver ExecutorPodsAllocator: Executors with ids 61,62,63,64,65 were not detected in the Kubernetes cluster after 60000 ms despite the fact that a previous allocation attempt tried to create them. The executors may have been deleted but the application missed the deletion event.\n",
      "23/07/03 19:55:14 WARN kns=aspangher appId=spark-application-1688413485984 execId=driver ExecutorPodsAllocator: Executors with ids 66,67,68,69,70 were not detected in the Kubernetes cluster after 60000 ms despite the fact that a previous allocation attempt tried to create them. The executors may have been deleted but the application missed the deletion event.\n"
     ]
    }
   ],
   "source": [
    "partition_count = 1\n",
    "file_format = 'json'\n",
    "output_dir = 'hdfs://DOB2-GEN/user/aspangher/press-release-newsarchive/beat-article-limited.json'\n",
    "compression = \"gzip\"\n",
    "(beat_articles_df\n",
    "     .repartition(partition_count)\n",
    "     .write.mode(\"overwrite\")\n",
    "     .format(file_format)\n",
    "     .option(\"compression\", compression)\n",
    "     .save(output_dir)\n",
    ")"
   ]
  },
  {
   "cell_type": "code",
   "execution_count": 16,
   "id": "1a872d7b-7204-49bc-8c7d-050f6bd47dec",
   "metadata": {
    "tags": []
   },
   "outputs": [],
   "source": [
    "# ! pip install bloomberg.ai.remoteio\n",
    "from bloomberg.ai.remoteio import RemoteIO"
   ]
  },
  {
   "cell_type": "code",
   "execution_count": 19,
   "id": "7e00eda6-1c6c-48ae-8583-89876063c18e",
   "metadata": {
    "tags": []
   },
   "outputs": [
    {
     "data": {
      "text/plain": [
       "['hdfs:///user/aspangher/press-release-newsarchive/beat-article-limited.json/_SUCCESS',\n",
       " 'hdfs:///user/aspangher/press-release-newsarchive/beat-article-limited.json/part-00000-699a8040-6a06-4664-ae7d-4e40d06da694-c000.json.gz']"
      ]
     },
     "execution_count": 19,
     "metadata": {},
     "output_type": "execute_result"
    }
   ],
   "source": [
    "RemoteIO.ls('hdfs://DOB2-GEN/user/aspangher/press-release-newsarchive/beat-article-limited.json')"
   ]
  },
  {
   "cell_type": "code",
   "execution_count": null,
   "id": "86ff645b-5682-40f2-8c87-8a8ca9021dd1",
   "metadata": {},
   "outputs": [],
   "source": [
    "from bloomberg.ai.remoteio import BCSConfig\n",
    "\n",
    "bcs_cfg = BCSConfig(\n",
    "    endpoint_url=\"http://s3.dev.obdc.bcs.bloomberg.com\",\n",
    "    access_key=\"VN2M29BH4PCAJT9ABZKN\",\n",
    "    secret_key=\"O9bcBpaprrXr6Q3dorn0XYI4Kp8go6oBDBYFYqeD\",\n",
    "    proxy=None\n",
    ")"
   ]
  },
  {
   "cell_type": "code",
   "execution_count": 27,
   "id": "c103248d-ca28-4609-9ce2-17a3df80fa08",
   "metadata": {
    "tags": []
   },
   "outputs": [
    {
     "name": "stderr",
     "output_type": "stream",
     "text": [
      "23/07/03 20:11:35 WARN kns=aspangher appId=spark-application-1688413485984 execId=driver ExecutorPodsAllocator: Executors with ids 146,147,148,149,150 were not detected in the Kubernetes cluster after 60000 ms despite the fact that a previous allocation attempt tried to create them. The executors may have been deleted but the application missed the deletion event.\n",
      "23/07/03 20:12:37 WARN kns=aspangher appId=spark-application-1688413485984 execId=driver ExecutorPodsAllocator: Executors with ids 151,152,153,154,155 were not detected in the Kubernetes cluster after 60000 ms despite the fact that a previous allocation attempt tried to create them. The executors may have been deleted but the application missed the deletion event.\n",
      "23/07/03 20:13:38 WARN kns=aspangher appId=spark-application-1688413485984 execId=driver ExecutorPodsAllocator: Executors with ids 156,157,158,159,160 were not detected in the Kubernetes cluster after 60000 ms despite the fact that a previous allocation attempt tried to create them. The executors may have been deleted but the application missed the deletion event.\n",
      "23/07/03 20:14:39 WARN kns=aspangher appId=spark-application-1688413485984 execId=driver ExecutorPodsAllocator: Executors with ids 161,162,163,164,165 were not detected in the Kubernetes cluster after 60000 ms despite the fact that a previous allocation attempt tried to create them. The executors may have been deleted but the application missed the deletion event.\n"
     ]
    }
   ],
   "source": [
    "RemoteIO.transfer(\n",
    "    'hdfs://DOB2-GEN/user/aspangher/press-release-newsarchive/beat-article-limited.json',\n",
    "    's3://aspangher/press-release-newsarchive/beat-article-limited',\n",
    "    to_storage_config=bcs_cfg\n",
    ")"
   ]
  },
  {
   "cell_type": "code",
   "execution_count": null,
   "id": "c5d8ab8c-90b8-476e-b854-b309ece6c875",
   "metadata": {
    "tags": []
   },
   "outputs": [],
   "source": []
  },
  {
   "cell_type": "code",
   "execution_count": null,
   "id": "1bac9317-0a07-4e43-9dbc-b2ffc17fb20f",
   "metadata": {},
   "outputs": [],
   "source": []
  },
  {
   "cell_type": "code",
   "execution_count": 43,
   "id": "7add053b-b541-4328-b229-3d8d5ca1dcd6",
   "metadata": {
    "tags": []
   },
   "outputs": [],
   "source": [
    "one_article = beat_articles_df.limit(2).toPandas()"
   ]
  },
  {
   "cell_type": "code",
   "execution_count": 45,
   "id": "e300cf8d-2e63-4728-918f-c0ce61d3af9d",
   "metadata": {
    "tags": []
   },
   "outputs": [],
   "source": [
    "soup = BeautifulSoup(one_article['body'].iloc[0])"
   ]
  },
  {
   "cell_type": "code",
   "execution_count": 49,
   "id": "f7352522-5be3-4b0b-b6b3-8bb1a6dc24e7",
   "metadata": {
    "tags": []
   },
   "outputs": [
    {
     "data": {
      "text/plain": [
       "{'href': 'bbg://securities/MRCO%20IN%20Equity',\n",
       " 'title': 'Company Overview',\n",
       " 'itemscope': 'itemscope',\n",
       " 'itemprop': 'StoryLink'}"
      ]
     },
     "execution_count": 49,
     "metadata": {},
     "output_type": "execute_result"
    }
   ],
   "source": [
    "soup.find_all('a')[0].attrs"
   ]
  },
  {
   "cell_type": "code",
   "execution_count": 53,
   "id": "8a643a7f-9d1f-4d89-9dc3-d5320d32fdb2",
   "metadata": {
    "tags": []
   },
   "outputs": [
    {
     "data": {
      "text/plain": [
       "'Marico'"
      ]
     },
     "execution_count": 53,
     "metadata": {},
     "output_type": "execute_result"
    },
    {
     "name": "stderr",
     "output_type": "stream",
     "text": [
      "23/07/03 20:20:47 WARN kns=aspangher appId=spark-application-1688413485984 execId=driver ExecutorPodsAllocator: Executors with ids 191,192,193,194,195 were not detected in the Kubernetes cluster after 60000 ms despite the fact that a previous allocation attempt tried to create them. The executors may have been deleted but the application missed the deletion event.\n"
     ]
    }
   ],
   "source": [
    "soup.find_all('a')[0].get_text()"
   ]
  },
  {
   "cell_type": "code",
   "execution_count": 7,
   "id": "fba5f895-0d3c-4734-904e-ccabc7023892",
   "metadata": {
    "tags": []
   },
   "outputs": [],
   "source": [
    "from pyspark.sql.types import ArrayType, StructType, StructField, StringType\n",
    "\n",
    "def get_hyperlinks(body):\n",
    "    import os \n",
    "    os.system(\"pip install beautifulsoup4\")\n",
    "    from bs4 import BeautifulSoup\n",
    "    output = []\n",
    "    soup = BeautifulSoup(body)\n",
    "    a_s = soup.find_all('a')\n",
    "    a_s = list(filter(lambda x: x.attrs.get('href'), a_s))\n",
    "    \n",
    "    output = []\n",
    "    for a in a_s:\n",
    "        attrs = a.attrs\n",
    "        attrs['text'] = a.get_text().strip()\n",
    "        output.append(attrs)\n",
    "    \n",
    "    return output\n",
    "    \n",
    "get_hyperlinks_udf = udf(f=get_hyperlinks, returnType=ArrayType(\n",
    "    StructType([\n",
    "        StructField('href', StringType()),\n",
    "        StructField('title', StringType()),\n",
    "        StructField('itemscope', StringType()),\n",
    "        StructField('itemprop', StringType()),\n",
    "        StructField('text', StringType()),\n",
    "    ])\n",
    "))"
   ]
  },
  {
   "cell_type": "code",
   "execution_count": 4,
   "id": "5e9f1a50-dd1e-48f3-8848-39551eecd943",
   "metadata": {
    "tags": []
   },
   "outputs": [],
   "source": [
    "full_beat_df = (\n",
    "    newsarchive_df\n",
    "     .filter(newsarchive_df.wire == 25)\n",
    "     .filter(check_overlap_udf(newsarchive_df.nicodes))\n",
    ")"
   ]
  },
  {
   "cell_type": "code",
   "execution_count": null,
   "id": "8e8f9d78-641c-4127-a4bd-fa3cceacddbb",
   "metadata": {
    "tags": []
   },
   "outputs": [
    {
     "name": "stderr",
     "output_type": "stream",
     "text": [
      "[Stage 2:===========>(1714 + 23) / 1784][Stage 3:>               (0 + 0) / 1784]\r"
     ]
    }
   ],
   "source": [
    "hyperlinks_df = (\n",
    "    newsarchive_df\n",
    "     .filter(newsarchive_df.wire == 25)\n",
    "     .filter(check_overlap_udf(newsarchive_df.nicodes))\n",
    "     .limit(2000)\n",
    "     .select(get_hyperlinks_udf('body').alias('hyperlinks'))\n",
    "     .toPandas()\n",
    ")"
   ]
  },
  {
   "cell_type": "code",
   "execution_count": null,
   "id": "198573c5-92e5-4df5-b86a-fd8f01f4499d",
   "metadata": {},
   "outputs": [],
   "source": []
  },
  {
   "cell_type": "code",
   "execution_count": null,
   "id": "386176de-a7b6-45f7-99e4-461ea45f01ed",
   "metadata": {},
   "outputs": [],
   "source": []
  },
  {
   "cell_type": "code",
   "execution_count": null,
   "id": "3ebf82d7-2599-4601-9203-d941389e9f21",
   "metadata": {},
   "outputs": [],
   "source": []
  },
  {
   "cell_type": "code",
   "execution_count": null,
   "id": "d94f5484-a2ed-4f7f-bd93-f0bf07f56577",
   "metadata": {},
   "outputs": [],
   "source": []
  },
  {
   "cell_type": "code",
   "execution_count": null,
   "id": "8e3115c0-2ce6-484a-9ee2-0f6e0d741ef0",
   "metadata": {},
   "outputs": [],
   "source": []
  },
  {
   "cell_type": "code",
   "execution_count": null,
   "id": "ff21fb4e-7023-4b40-88f1-f69464ee3be5",
   "metadata": {},
   "outputs": [],
   "source": []
  },
  {
   "cell_type": "code",
   "execution_count": null,
   "id": "d37e6789-452d-47cf-bd72-f26faf6b1910",
   "metadata": {},
   "outputs": [],
   "source": []
  }
 ],
 "metadata": {
  "kernelspec": {
   "display_name": "Python 3 (ipykernel)",
   "language": "python",
   "name": "python3"
  },
  "language_info": {
   "codemirror_mode": {
    "name": "ipython",
    "version": 3
   },
   "file_extension": ".py",
   "mimetype": "text/x-python",
   "name": "python",
   "nbconvert_exporter": "python",
   "pygments_lexer": "ipython3",
   "version": "3.9.16"
  }
 },
 "nbformat": 4,
 "nbformat_minor": 5
}
