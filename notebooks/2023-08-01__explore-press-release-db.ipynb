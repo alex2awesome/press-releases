{
 "cells": [
  {
   "cell_type": "code",
   "execution_count": 73,
   "id": "f8b6bee8",
   "metadata": {},
   "outputs": [],
   "source": [
    "import retriv\n",
    "from more_itertools import flatten\n",
    "from tqdm.auto import tqdm\n",
    "tqdm.pandas()\n",
    "import pandas as pd \n",
    "import sqlite3\n",
    "from datetime import datetime, date\n",
    "from dateutil.parser import parse as date_parse\n",
    "from dateutil.parser import ParserError\n",
    "import numpy as np \n",
    "from datetime import timedelta, datetime\n",
    "from pytimeparse.timeparse import timeparse\n",
    "\n",
    "\n",
    "def date_parse_robust(d, verbose=False):\n",
    "    try:\n",
    "        return date_parse(d)\n",
    "    except ParserError as e:\n",
    "        if verbose:\n",
    "            print(f'error on: {str(e)}...')\n",
    "\n",
    "            \n",
    "_bm25_search = None\n",
    "def get_search_engine():\n",
    "    global _bm25_search\n",
    "    if _bm25_search is None:\n",
    "        import sys\n",
    "        sys.path.insert(0, '../src/')\n",
    "        from augment_retriv import MySparseRetriever\n",
    "        _bm25_search = MySparseRetriever.load('archive-retriever')\n",
    "    return _bm25_search\n",
    "\n",
    "# r.index(index_to_create)\n",
    "# r.search(\"witches masses\", include_id_list=[\n",
    "#     'com,techcrunch)/2018/11/06/com,techcrunch)/2018/11/06/original-content-chilling-sabrina', \n",
    "#     'com,cnbc)/2018/04/09/com,cnbc)/2018/04/09/trump-vents-against-attorney-general-sessions-in-searing-remarks.html', \n",
    "#     'com,marketwatch)/press-release/com,marketwatch)/press-release/halloween-spending-to-reach-9-billion-2018-09-20'\n",
    "# ])\n",
    "            \n",
    "def filter_archive(\n",
    "    id_list=None,\n",
    "    date_list=None, \n",
    "    target_date=None,\n",
    "    row=None,\n",
    "    target_article=None,\n",
    "    end_date='12h',\n",
    "    start_date=None,\n",
    "    max_size_archive=50,\n",
    "    tfidf_module=None\n",
    "):\n",
    "    def robust_timeparse(time_str):\n",
    "        td = timeparse(time_str)\n",
    "        if td is None:\n",
    "            raise ValueError(f'{time_str} is not parsable...')\n",
    "        return timedelta(seconds=td)\n",
    "        \n",
    "    if row is not None:\n",
    "        id_list = row['archive_list']\n",
    "        date_list = row['archive_dates']\n",
    "        target_date = row['press_release_date']\n",
    "    \n",
    "    z = pd.Series(date_list, index=id_list)\n",
    "    z = z.dropna().sort_values(ascending=False)\n",
    "    if len(z) == 0:\n",
    "        return {'archive_list': [], 'archive_dates': []}    \n",
    "        \n",
    "    if end_date is not None:\n",
    "        td = robust_timeparse(end_date)\n",
    "        end_target = target_date - td\n",
    "        z = z.loc[lambda s: s < end_target]\n",
    "    \n",
    "    if start_date is not None:\n",
    "        td = robust_timeparse(start_date)\n",
    "        start_target = target_date - td\n",
    "        z = z.loc[lambda s: s > start_target]\n",
    "        \n",
    "    # sort\n",
    "    se = get_search_engine()\n",
    "    index = se.search(target_article, include_id_list=z.index.tolist(), return_docs=False, cutoff=max_size_archive)\n",
    "    index = list(index.keys())    \n",
    "    z = z.loc[index]\n",
    "        \n",
    "    if len(z) > 0:\n",
    "        output_ids = z.index.tolist()\n",
    "        output_dates = z.values.tolist()\n",
    "    else:\n",
    "        output_ids, output_dates = [], []\n",
    "    return {'archive_list': output_ids, 'archive_dates': output_dates}"
   ]
  },
  {
   "cell_type": "code",
   "execution_count": 8,
   "id": "5f4c31f0",
   "metadata": {},
   "outputs": [],
   "source": [
    "conn = sqlite3.connect('../data/open-sourced-articles/press_release_articles.db')"
   ]
  },
  {
   "cell_type": "code",
   "execution_count": 9,
   "id": "ddb6007d",
   "metadata": {},
   "outputs": [
    {
     "data": {
      "text/html": [
       "<div>\n",
       "<style scoped>\n",
       "    .dataframe tbody tr th:only-of-type {\n",
       "        vertical-align: middle;\n",
       "    }\n",
       "\n",
       "    .dataframe tbody tr th {\n",
       "        vertical-align: top;\n",
       "    }\n",
       "\n",
       "    .dataframe thead th {\n",
       "        text-align: right;\n",
       "    }\n",
       "</style>\n",
       "<table border=\"1\" class=\"dataframe\">\n",
       "  <thead>\n",
       "    <tr style=\"text-align: right;\">\n",
       "      <th></th>\n",
       "      <th>name</th>\n",
       "    </tr>\n",
       "  </thead>\n",
       "  <tbody>\n",
       "    <tr>\n",
       "      <th>0</th>\n",
       "      <td>article_map</td>\n",
       "    </tr>\n",
       "    <tr>\n",
       "      <th>1</th>\n",
       "      <td>article_data</td>\n",
       "    </tr>\n",
       "    <tr>\n",
       "      <th>2</th>\n",
       "      <td>article_ents</td>\n",
       "    </tr>\n",
       "    <tr>\n",
       "      <th>3</th>\n",
       "      <td>article_to_href</td>\n",
       "    </tr>\n",
       "  </tbody>\n",
       "</table>\n",
       "</div>"
      ],
      "text/plain": [
       "              name\n",
       "0      article_map\n",
       "1     article_data\n",
       "2     article_ents\n",
       "3  article_to_href"
      ]
     },
     "execution_count": 9,
     "metadata": {},
     "output_type": "execute_result"
    }
   ],
   "source": [
    "pd.read_sql(\"\"\"SELECT name FROM sqlite_master WHERE type='table';\"\"\", con=conn)"
   ]
  },
  {
   "cell_type": "markdown",
   "id": "9618c76c",
   "metadata": {},
   "source": [
    "# Article Summary Stats"
   ]
  },
  {
   "cell_type": "code",
   "execution_count": 10,
   "id": "fd7f0226",
   "metadata": {},
   "outputs": [
    {
     "data": {
      "text/html": [
       "<div>\n",
       "<style scoped>\n",
       "    .dataframe tbody tr th:only-of-type {\n",
       "        vertical-align: middle;\n",
       "    }\n",
       "\n",
       "    .dataframe tbody tr th {\n",
       "        vertical-align: top;\n",
       "    }\n",
       "\n",
       "    .dataframe thead th {\n",
       "        text-align: right;\n",
       "    }\n",
       "</style>\n",
       "<table border=\"1\" class=\"dataframe\">\n",
       "  <thead>\n",
       "    <tr style=\"text-align: right;\">\n",
       "      <th></th>\n",
       "      <th>common_crawl_url</th>\n",
       "      <th>article_text</th>\n",
       "      <th>article_publish_date</th>\n",
       "      <th>article_authors</th>\n",
       "      <th>article_top_image</th>\n",
       "      <th>article_scrape_timestamp</th>\n",
       "      <th>source</th>\n",
       "      <th>timestamp_join_key</th>\n",
       "      <th>timestamp</th>\n",
       "      <th>is_press_release_article</th>\n",
       "      <th>is_archival_article</th>\n",
       "    </tr>\n",
       "  </thead>\n",
       "  <tbody>\n",
       "    <tr>\n",
       "      <th>0</th>\n",
       "      <td>com,cnbc)/2015/05/14/com,cnbc)/2015/05/14/glob...</td>\n",
       "      <td>HONG KONG, May 14, 2015 (GLOBE NEWSWIRE) -- Pu...</td>\n",
       "      <td>2015-05-14 07:25:00-04:00</td>\n",
       "      <td></td>\n",
       "      <td>https://sc.cnbcfm.com/applications/cnbc.com/st...</td>\n",
       "      <td>20180926102737</td>\n",
       "      <td>cnbc</td>\n",
       "      <td>https://www.cnbc.com/2015/05/14/globe-newswire...</td>\n",
       "      <td>None</td>\n",
       "      <td>0</td>\n",
       "      <td>0</td>\n",
       "    </tr>\n",
       "  </tbody>\n",
       "</table>\n",
       "</div>"
      ],
      "text/plain": [
       "                                    common_crawl_url  \\\n",
       "0  com,cnbc)/2015/05/14/com,cnbc)/2015/05/14/glob...   \n",
       "\n",
       "                                        article_text  \\\n",
       "0  HONG KONG, May 14, 2015 (GLOBE NEWSWIRE) -- Pu...   \n",
       "\n",
       "        article_publish_date article_authors  \\\n",
       "0  2015-05-14 07:25:00-04:00                   \n",
       "\n",
       "                                   article_top_image  \\\n",
       "0  https://sc.cnbcfm.com/applications/cnbc.com/st...   \n",
       "\n",
       "   article_scrape_timestamp source  \\\n",
       "0            20180926102737   cnbc   \n",
       "\n",
       "                                  timestamp_join_key timestamp  \\\n",
       "0  https://www.cnbc.com/2015/05/14/globe-newswire...      None   \n",
       "\n",
       "   is_press_release_article  is_archival_article  \n",
       "0                         0                    0  "
      ]
     },
     "execution_count": 10,
     "metadata": {},
     "output_type": "execute_result"
    }
   ],
   "source": [
    "pd.read_sql(\"\"\"SELECT * from article_data limit 1\"\"\", con=conn)"
   ]
  },
  {
   "cell_type": "markdown",
   "id": "bfc8c428",
   "metadata": {},
   "source": [
    "### Article Group"
   ]
  },
  {
   "cell_type": "markdown",
   "id": "5f018650",
   "metadata": {},
   "source": [
    "How many press releases or archival articles were found?"
   ]
  },
  {
   "cell_type": "code",
   "execution_count": 11,
   "id": "e3a6abd2",
   "metadata": {},
   "outputs": [
    {
     "data": {
      "text/html": [
       "<div>\n",
       "<style scoped>\n",
       "    .dataframe tbody tr th:only-of-type {\n",
       "        vertical-align: middle;\n",
       "    }\n",
       "\n",
       "    .dataframe tbody tr th {\n",
       "        vertical-align: top;\n",
       "    }\n",
       "\n",
       "    .dataframe thead th {\n",
       "        text-align: right;\n",
       "    }\n",
       "</style>\n",
       "<table border=\"1\" class=\"dataframe\">\n",
       "  <thead>\n",
       "    <tr style=\"text-align: right;\">\n",
       "      <th></th>\n",
       "      <th>COUNT(1)</th>\n",
       "    </tr>\n",
       "  </thead>\n",
       "  <tbody>\n",
       "    <tr>\n",
       "      <th>0</th>\n",
       "      <td>938468</td>\n",
       "    </tr>\n",
       "  </tbody>\n",
       "</table>\n",
       "</div>"
      ],
      "text/plain": [
       "   COUNT(1)\n",
       "0    938468"
      ]
     },
     "execution_count": 11,
     "metadata": {},
     "output_type": "execute_result"
    }
   ],
   "source": [
    "pd.read_sql(\"\"\"SELECT COUNT(1) from article_data\"\"\", con=conn)"
   ]
  },
  {
   "cell_type": "code",
   "execution_count": 12,
   "id": "48677d09",
   "metadata": {},
   "outputs": [
    {
     "data": {
      "text/html": [
       "<div>\n",
       "<style scoped>\n",
       "    .dataframe tbody tr th:only-of-type {\n",
       "        vertical-align: middle;\n",
       "    }\n",
       "\n",
       "    .dataframe tbody tr th {\n",
       "        vertical-align: top;\n",
       "    }\n",
       "\n",
       "    .dataframe thead th {\n",
       "        text-align: right;\n",
       "    }\n",
       "</style>\n",
       "<table border=\"1\" class=\"dataframe\">\n",
       "  <thead>\n",
       "    <tr style=\"text-align: right;\">\n",
       "      <th></th>\n",
       "      <th>SUM(is_press_release_article)</th>\n",
       "      <th>SUM(is_archival_article)</th>\n",
       "    </tr>\n",
       "  </thead>\n",
       "  <tbody>\n",
       "    <tr>\n",
       "      <th>0</th>\n",
       "      <td>77015</td>\n",
       "      <td>170357</td>\n",
       "    </tr>\n",
       "  </tbody>\n",
       "</table>\n",
       "</div>"
      ],
      "text/plain": [
       "   SUM(is_press_release_article)  SUM(is_archival_article)\n",
       "0                          77015                    170357"
      ]
     },
     "execution_count": 12,
     "metadata": {},
     "output_type": "execute_result"
    }
   ],
   "source": [
    "pd.read_sql(\"\"\"SELECT SUM(is_press_release_article), SUM(is_archival_article) from article_data\"\"\", con=conn)"
   ]
  },
  {
   "cell_type": "code",
   "execution_count": 13,
   "id": "36dd6629",
   "metadata": {},
   "outputs": [],
   "source": [
    "article_type_map = {\n",
    "    0: {0: 'Unmatched', 1: 'Archive'},\n",
    "    1: {0: 'Press Release'}\n",
    "}\n",
    "\n",
    "press_release_archive_counts = pd.read_sql(\"\"\"\n",
    "    SELECT source,\n",
    "            is_press_release_article,\n",
    "            is_archival_article,\n",
    "            count(1) as count\n",
    "    FROM article_data\n",
    "    GROUP BY source, is_press_release_article, is_archival_article\n",
    "\"\"\", con=conn)\n",
    "\n",
    "press_release_archive_counts = (\n",
    "    press_release_archive_counts\n",
    "     .assign(article_type=lambda df: \n",
    "       df.apply(lambda x: article_type_map[x['is_press_release_article']][x['is_archival_article']], axis=1))\n",
    "     .pivot(index='source', columns='article_type', values='count')\n",
    ")"
   ]
  },
  {
   "cell_type": "code",
   "execution_count": 139,
   "id": "e1a843e5",
   "metadata": {},
   "outputs": [
    {
     "data": {
      "text/html": [
       "<div>\n",
       "<style scoped>\n",
       "    .dataframe tbody tr th:only-of-type {\n",
       "        vertical-align: middle;\n",
       "    }\n",
       "\n",
       "    .dataframe tbody tr th {\n",
       "        vertical-align: top;\n",
       "    }\n",
       "\n",
       "    .dataframe thead th {\n",
       "        text-align: right;\n",
       "    }\n",
       "</style>\n",
       "<table border=\"1\" class=\"dataframe\">\n",
       "  <thead>\n",
       "    <tr style=\"text-align: right;\">\n",
       "      <th>article_type</th>\n",
       "      <th>Archive</th>\n",
       "      <th>Press Release</th>\n",
       "      <th>Unmatched</th>\n",
       "    </tr>\n",
       "    <tr>\n",
       "      <th>source</th>\n",
       "      <th></th>\n",
       "      <th></th>\n",
       "      <th></th>\n",
       "    </tr>\n",
       "  </thead>\n",
       "  <tbody>\n",
       "    <tr>\n",
       "      <th>barrons-business</th>\n",
       "      <td>22343</td>\n",
       "      <td>2789</td>\n",
       "      <td>101223</td>\n",
       "    </tr>\n",
       "    <tr>\n",
       "      <th>business-insider</th>\n",
       "      <td>16887</td>\n",
       "      <td>8906</td>\n",
       "      <td>70817</td>\n",
       "    </tr>\n",
       "    <tr>\n",
       "      <th>cnbc</th>\n",
       "      <td>6281</td>\n",
       "      <td>11784</td>\n",
       "      <td>22591</td>\n",
       "    </tr>\n",
       "    <tr>\n",
       "      <th>forbes</th>\n",
       "      <td>13517</td>\n",
       "      <td>5901</td>\n",
       "      <td>33480</td>\n",
       "    </tr>\n",
       "    <tr>\n",
       "      <th>fox-business</th>\n",
       "      <td>26676</td>\n",
       "      <td>23298</td>\n",
       "      <td>69466</td>\n",
       "    </tr>\n",
       "    <tr>\n",
       "      <th>marketwatch</th>\n",
       "      <td>14743</td>\n",
       "      <td>8804</td>\n",
       "      <td>31895</td>\n",
       "    </tr>\n",
       "    <tr>\n",
       "      <th>nytimes-business</th>\n",
       "      <td>27946</td>\n",
       "      <td>5803</td>\n",
       "      <td>66628</td>\n",
       "    </tr>\n",
       "    <tr>\n",
       "      <th>reuters</th>\n",
       "      <td>18329</td>\n",
       "      <td>380</td>\n",
       "      <td>16497</td>\n",
       "    </tr>\n",
       "    <tr>\n",
       "      <th>techcrunch</th>\n",
       "      <td>18619</td>\n",
       "      <td>7222</td>\n",
       "      <td>36858</td>\n",
       "    </tr>\n",
       "    <tr>\n",
       "      <th>wp</th>\n",
       "      <td>4869</td>\n",
       "      <td>2030</td>\n",
       "      <td>24665</td>\n",
       "    </tr>\n",
       "    <tr>\n",
       "      <th>wsj</th>\n",
       "      <td>147</td>\n",
       "      <td>98</td>\n",
       "      <td>216976</td>\n",
       "    </tr>\n",
       "  </tbody>\n",
       "</table>\n",
       "</div>"
      ],
      "text/plain": [
       "article_type      Archive  Press Release  Unmatched\n",
       "source                                             \n",
       "barrons-business    22343           2789     101223\n",
       "business-insider    16887           8906      70817\n",
       "cnbc                 6281          11784      22591\n",
       "forbes              13517           5901      33480\n",
       "fox-business        26676          23298      69466\n",
       "marketwatch         14743           8804      31895\n",
       "nytimes-business    27946           5803      66628\n",
       "reuters             18329            380      16497\n",
       "techcrunch          18619           7222      36858\n",
       "wp                   4869           2030      24665\n",
       "wsj                   147             98     216976"
      ]
     },
     "execution_count": 139,
     "metadata": {},
     "output_type": "execute_result"
    }
   ],
   "source": [
    "press_release_archive_counts"
   ]
  },
  {
   "cell_type": "markdown",
   "id": "2a8ee442",
   "metadata": {},
   "source": [
    "## Time stamps"
   ]
  },
  {
   "cell_type": "markdown",
   "id": "9a00a3ce",
   "metadata": {},
   "source": [
    "How many articles have a timestamp?"
   ]
  },
  {
   "cell_type": "code",
   "execution_count": 18,
   "id": "90749b71",
   "metadata": {},
   "outputs": [],
   "source": [
    "ts = pd.read_sql(\"\"\"SELECT common_crawl_url, article_publish_date, timestamp from article_data\"\"\", con=conn)"
   ]
  },
  {
   "cell_type": "code",
   "execution_count": 19,
   "id": "ea10ddaa",
   "metadata": {},
   "outputs": [],
   "source": [
    "ts['canonical_timestamp'] = (\n",
    "    ts.apply(lambda x: \n",
    "             x['article_publish_date'] \n",
    "                 if x['article_publish_date'] != 'None' \n",
    "                 else x['timestamp'], axis=1\n",
    "            )\n",
    "      .apply(lambda x: date_parse_robust(x) if (pd.notnull(x) and x != 'Not Found') else np.nan)\n",
    "      .pipe(pd.to_datetime, utc=True)\n",
    ")"
   ]
  },
  {
   "cell_type": "code",
   "execution_count": 7,
   "id": "784507e3",
   "metadata": {},
   "outputs": [
    {
     "name": "stdout",
     "output_type": "stream",
     "text": [
      "have timestamp: \n"
     ]
    },
    {
     "data": {
      "text/plain": [
       "canonical_timestamp\n",
       "False    603592\n",
       "True     334876\n",
       "Name: count, dtype: int64"
      ]
     },
     "execution_count": 7,
     "metadata": {},
     "output_type": "execute_result"
    }
   ],
   "source": [
    "print('have timestamp: ')\n",
    "(ts['canonical_timestamp']\n",
    " .notnull()\n",
    " .value_counts()\n",
    ")"
   ]
  },
  {
   "cell_type": "code",
   "execution_count": null,
   "id": "883492cd",
   "metadata": {},
   "outputs": [],
   "source": [
    "ax = ts['canonical_timestamp'].dropna().hist(bins=100, figsize=(4, 2))\n",
    "ax.grid(False)\n",
    "ax.spines['top'].set_visible(False)\n",
    "ax.spines['right'].set_visible(False)\n",
    "ax.set_ylabel('Num. Articles')\n",
    "ax.set_xlabel('Date (Year)')"
   ]
  },
  {
   "cell_type": "code",
   "execution_count": null,
   "id": "37aab26d",
   "metadata": {},
   "outputs": [],
   "source": [
    "t = (\n",
    "    ts['canonical_timestamp']\n",
    "        .dropna()\n",
    "        .loc[lambda s: s.dt.date > date(2021, 1, 1)]\n",
    "        .shape[0]\n",
    ")\n",
    "print(f'# articles published later than 2021-01-01: {t}')"
   ]
  },
  {
   "cell_type": "code",
   "execution_count": 14,
   "id": "66c7ad8a",
   "metadata": {},
   "outputs": [],
   "source": [
    "article_type = pd.read_sql(\"\"\"\n",
    "    SELECT common_crawl_url, source, is_press_release_article, is_archival_article \n",
    "    FROM article_data\n",
    "\"\"\", con=conn)"
   ]
  },
  {
   "cell_type": "code",
   "execution_count": 15,
   "id": "35982052",
   "metadata": {},
   "outputs": [],
   "source": [
    "article_type['article_type'] = (\n",
    "    article_type\n",
    "        .apply(lambda x: article_type_map[x['is_press_release_article']][x['is_archival_article']], axis=1)\n",
    ")"
   ]
  },
  {
   "cell_type": "code",
   "execution_count": 20,
   "id": "37d6c1fd",
   "metadata": {},
   "outputs": [],
   "source": [
    "article_type_with_ts = (\n",
    "    ts\n",
    "     .merge(\n",
    "         article_type[['common_crawl_url', 'source', 'article_type']], \n",
    "         left_on='common_crawl_url', \n",
    "         right_on='common_crawl_url'\n",
    "     )\n",
    "     [['common_crawl_url', 'canonical_timestamp', 'source', 'article_type']]\n",
    ")"
   ]
  },
  {
   "cell_type": "code",
   "execution_count": 141,
   "id": "1e4f1272",
   "metadata": {},
   "outputs": [
    {
     "name": "stdout",
     "output_type": "stream",
     "text": [
      "articles with timestamp by type...\n"
     ]
    },
    {
     "data": {
      "text/plain": [
       "article_type\n",
       "Archive          0.930086\n",
       "Press Release    0.897111\n",
       "Unmatched        0.155238\n",
       "Name: has_timestamp, dtype: float64"
      ]
     },
     "execution_count": 141,
     "metadata": {},
     "output_type": "execute_result"
    }
   ],
   "source": [
    "print('articles with timestamp by type...')\n",
    "(article_type_with_ts\n",
    " .assign(has_timestamp=lambda df: df['canonical_timestamp'].notnull())\n",
    " .groupby('article_type')['has_timestamp'].mean()\n",
    ")"
   ]
  },
  {
   "cell_type": "code",
   "execution_count": 142,
   "id": "9a093d7f",
   "metadata": {},
   "outputs": [
    {
     "name": "stdout",
     "output_type": "stream",
     "text": [
      "articles with timestamp by outlet...\n"
     ]
    },
    {
     "data": {
      "text/plain": [
       "source\n",
       "reuters             0.999893\n",
       "business-insider    0.999457\n",
       "fox-business        0.999400\n",
       "wsj                 0.995918\n",
       "techcrunch          0.985953\n",
       "forbes              0.960661\n",
       "nytimes-business    0.924143\n",
       "cnbc                0.859729\n",
       "barrons-business    0.839806\n",
       "wp                  0.836788\n",
       "marketwatch         0.642587\n",
       "Name: has_timestamp, dtype: float64"
      ]
     },
     "execution_count": 142,
     "metadata": {},
     "output_type": "execute_result"
    }
   ],
   "source": [
    "print('articles with timestamp by outlet...')\n",
    "(article_type_with_ts\n",
    " .assign(has_timestamp=lambda df: df['canonical_timestamp'].notnull())\n",
    " .loc[lambda df: df['article_type'].isin(['Archive', 'Press Release'])]\n",
    " .groupby('source')['has_timestamp']\n",
    " .mean()\n",
    " .sort_values(ascending=False)\n",
    ")"
   ]
  },
  {
   "cell_type": "code",
   "execution_count": 143,
   "id": "1588423b",
   "metadata": {},
   "outputs": [
    {
     "name": "stdout",
     "output_type": "stream",
     "text": [
      "average year of article by type...\n"
     ]
    },
    {
     "data": {
      "text/plain": [
       "article_type\n",
       "Archive          2017.189322\n",
       "Press Release    2017.226831\n",
       "Unmatched        2016.160833\n",
       "Name: year, dtype: float64"
      ]
     },
     "execution_count": 143,
     "metadata": {},
     "output_type": "execute_result"
    }
   ],
   "source": [
    "print('average year of article by type...')\n",
    "(article_type_with_ts\n",
    "#  .assign(has_timestamp=lambda df: df['canonical_timestamp'].notnull())\n",
    " .assign(year=lambda df: df['canonical_timestamp'].dt.year)\n",
    " .groupby('article_type')['year'].mean()\n",
    ")"
   ]
  },
  {
   "cell_type": "code",
   "execution_count": 144,
   "id": "be030ff0",
   "metadata": {},
   "outputs": [
    {
     "name": "stdout",
     "output_type": "stream",
     "text": [
      "average year of article by outlet...\n"
     ]
    },
    {
     "data": {
      "text/plain": [
       "source\n",
       "wsj                 2022.0\n",
       "barrons-business    2021.0\n",
       "reuters             2021.0\n",
       "fox-business        2020.0\n",
       "forbes              2017.0\n",
       "marketwatch         2017.0\n",
       "wp                  2017.0\n",
       "business-insider    2016.0\n",
       "cnbc                2015.0\n",
       "nytimes-business    2015.0\n",
       "techcrunch          2014.0\n",
       "Name: year, dtype: float64"
      ]
     },
     "execution_count": 144,
     "metadata": {},
     "output_type": "execute_result"
    }
   ],
   "source": [
    "print('average year of article by outlet...')\n",
    "(article_type_with_ts\n",
    "#  .assign(has_timestamp=lambda df: df['canonical_timestamp'].notnull())\n",
    " .assign(year=lambda df: df['canonical_timestamp'].dt.year)\n",
    " .loc[lambda df: df['article_type'].isin(['Archive', 'Press Release'])]\n",
    " .groupby('source')['year']\n",
    " .median()\n",
    " .sort_values(ascending=False)\n",
    ")"
   ]
  },
  {
   "cell_type": "code",
   "execution_count": 145,
   "id": "fe5b899f",
   "metadata": {},
   "outputs": [
    {
     "name": "stdout",
     "output_type": "stream",
     "text": [
      "Num. articles by source, published after 2021...\n"
     ]
    },
    {
     "data": {
      "text/html": [
       "<div>\n",
       "<style scoped>\n",
       "    .dataframe tbody tr th:only-of-type {\n",
       "        vertical-align: middle;\n",
       "    }\n",
       "\n",
       "    .dataframe tbody tr th {\n",
       "        vertical-align: top;\n",
       "    }\n",
       "\n",
       "    .dataframe thead th {\n",
       "        text-align: right;\n",
       "    }\n",
       "</style>\n",
       "<table border=\"1\" class=\"dataframe\">\n",
       "  <thead>\n",
       "    <tr style=\"text-align: right;\">\n",
       "      <th>article_type</th>\n",
       "      <th>Archive</th>\n",
       "      <th>Press Release</th>\n",
       "      <th>Unmatched</th>\n",
       "    </tr>\n",
       "    <tr>\n",
       "      <th>source</th>\n",
       "      <th></th>\n",
       "      <th></th>\n",
       "      <th></th>\n",
       "    </tr>\n",
       "  </thead>\n",
       "  <tbody>\n",
       "    <tr>\n",
       "      <th>barrons-business</th>\n",
       "      <td>2415</td>\n",
       "      <td>546</td>\n",
       "      <td>0</td>\n",
       "    </tr>\n",
       "    <tr>\n",
       "      <th>business-insider</th>\n",
       "      <td>764</td>\n",
       "      <td>1028</td>\n",
       "      <td>4716</td>\n",
       "    </tr>\n",
       "    <tr>\n",
       "      <th>cnbc</th>\n",
       "      <td>236</td>\n",
       "      <td>119</td>\n",
       "      <td>417</td>\n",
       "    </tr>\n",
       "    <tr>\n",
       "      <th>forbes</th>\n",
       "      <td>289</td>\n",
       "      <td>133</td>\n",
       "      <td>91</td>\n",
       "    </tr>\n",
       "    <tr>\n",
       "      <th>fox-business</th>\n",
       "      <td>754</td>\n",
       "      <td>257</td>\n",
       "      <td>0</td>\n",
       "    </tr>\n",
       "    <tr>\n",
       "      <th>marketwatch</th>\n",
       "      <td>2603</td>\n",
       "      <td>76</td>\n",
       "      <td>0</td>\n",
       "    </tr>\n",
       "    <tr>\n",
       "      <th>nytimes-business</th>\n",
       "      <td>217</td>\n",
       "      <td>4</td>\n",
       "      <td>2</td>\n",
       "    </tr>\n",
       "    <tr>\n",
       "      <th>reuters</th>\n",
       "      <td>9050</td>\n",
       "      <td>207</td>\n",
       "      <td>6480</td>\n",
       "    </tr>\n",
       "    <tr>\n",
       "      <th>techcrunch</th>\n",
       "      <td>981</td>\n",
       "      <td>504</td>\n",
       "      <td>1152</td>\n",
       "    </tr>\n",
       "    <tr>\n",
       "      <th>wp</th>\n",
       "      <td>290</td>\n",
       "      <td>262</td>\n",
       "      <td>1397</td>\n",
       "    </tr>\n",
       "    <tr>\n",
       "      <th>wsj</th>\n",
       "      <td>65</td>\n",
       "      <td>68</td>\n",
       "      <td>0</td>\n",
       "    </tr>\n",
       "  </tbody>\n",
       "</table>\n",
       "</div>"
      ],
      "text/plain": [
       "article_type      Archive  Press Release  Unmatched\n",
       "source                                             \n",
       "barrons-business     2415            546          0\n",
       "business-insider      764           1028       4716\n",
       "cnbc                  236            119        417\n",
       "forbes                289            133         91\n",
       "fox-business          754            257          0\n",
       "marketwatch          2603             76          0\n",
       "nytimes-business      217              4          2\n",
       "reuters              9050            207       6480\n",
       "techcrunch            981            504       1152\n",
       "wp                    290            262       1397\n",
       "wsj                    65             68          0"
      ]
     },
     "execution_count": 145,
     "metadata": {},
     "output_type": "execute_result"
    }
   ],
   "source": [
    "print('Num. articles by source, published after 2021...')\n",
    "(article_type_with_ts\n",
    "#  .assign(has_timestamp=lambda df: df['canonical_timestamp'].notnull())\n",
    " .assign(year=lambda df: df['canonical_timestamp'].dt.year)\n",
    "#  .loc[lambda df: df['article_type'].isin(['Archive', 'Press Release'])]\n",
    " .loc[lambda df: df['year'] > 2021]\n",
    " [['article_type', 'source']].value_counts()\n",
    " .unstack().fillna(0).astype(int).T\n",
    ")"
   ]
  },
  {
   "cell_type": "markdown",
   "id": "322791b8",
   "metadata": {},
   "source": [
    "# Explore Archive, Group on Ents"
   ]
  },
  {
   "cell_type": "code",
   "execution_count": 146,
   "id": "7f4e897a",
   "metadata": {},
   "outputs": [
    {
     "name": "stdout",
     "output_type": "stream",
     "text": [
      "count of entities...\n"
     ]
    },
    {
     "data": {
      "text/html": [
       "<div>\n",
       "<style scoped>\n",
       "    .dataframe tbody tr th:only-of-type {\n",
       "        vertical-align: middle;\n",
       "    }\n",
       "\n",
       "    .dataframe tbody tr th {\n",
       "        vertical-align: top;\n",
       "    }\n",
       "\n",
       "    .dataframe thead th {\n",
       "        text-align: right;\n",
       "    }\n",
       "</style>\n",
       "<table border=\"1\" class=\"dataframe\">\n",
       "  <thead>\n",
       "    <tr style=\"text-align: right;\">\n",
       "      <th></th>\n",
       "      <th>count(1)</th>\n",
       "    </tr>\n",
       "  </thead>\n",
       "  <tbody>\n",
       "    <tr>\n",
       "      <th>0</th>\n",
       "      <td>2509137</td>\n",
       "    </tr>\n",
       "  </tbody>\n",
       "</table>\n",
       "</div>"
      ],
      "text/plain": [
       "   count(1)\n",
       "0   2509137"
      ]
     },
     "execution_count": 146,
     "metadata": {},
     "output_type": "execute_result"
    }
   ],
   "source": [
    "print('count of entities...')\n",
    "pd.read_sql(\"\"\"SELECT count(1) from (SELECT DISTINCT * FROM article_ents)\"\"\", con=conn)"
   ]
  },
  {
   "cell_type": "code",
   "execution_count": 22,
   "id": "dc1d8b12",
   "metadata": {},
   "outputs": [],
   "source": [
    "press_release_ents = pd.read_sql(\"\"\"\n",
    "    SELECT E.common_crawl_url, E.ents, E.source\n",
    "    FROM article_ents E\n",
    "    INNER JOIN article_data D\n",
    "    ON D.common_crawl_url = E.common_crawl_url\n",
    "    WHERE D.is_press_release_article = 1\n",
    "\"\"\", con=conn)"
   ]
  },
  {
   "cell_type": "code",
   "execution_count": 23,
   "id": "da88199e",
   "metadata": {},
   "outputs": [],
   "source": [
    "archive_ents = pd.read_sql(\"\"\"\n",
    "    SELECT E.common_crawl_url, E.ents, E.source\n",
    "    FROM article_ents E\n",
    "    INNER JOIN article_data D\n",
    "    ON D.common_crawl_url = E.common_crawl_url    \n",
    "    WHERE D.is_archival_article = 1\n",
    "\"\"\", con=conn)"
   ]
  },
  {
   "cell_type": "code",
   "execution_count": 25,
   "id": "c0b79242",
   "metadata": {},
   "outputs": [],
   "source": [
    "archive_url_by_ents = archive_ents.groupby('ents')['common_crawl_url'].aggregate(list)"
   ]
  },
  {
   "cell_type": "code",
   "execution_count": 26,
   "id": "0a76ce5a",
   "metadata": {},
   "outputs": [
    {
     "data": {
      "application/vnd.jupyter.widget-view+json": {
       "model_id": "9a5d0b533cf84bc7bf630b453f82f1d2",
       "version_major": 2,
       "version_minor": 0
      },
      "text/plain": [
       "  0%|          | 0/76796 [00:00<?, ?it/s]"
      ]
     },
     "metadata": {},
     "output_type": "display_data"
    }
   ],
   "source": [
    "press_release_archive_map = (\n",
    "    press_release_ents\n",
    "        .merge(archive_url_by_ents.to_frame('archive_list'), right_index=True, left_on='ents')\n",
    ")\n",
    "\n",
    "press_release_archive_map = (\n",
    "    press_release_archive_map\n",
    "     .groupby('common_crawl_url')['archive_list']\n",
    "     .progress_apply(lambda s: list(set(flatten(s.tolist()))))\n",
    ")\n",
    "\n",
    "press_release_archive_map = press_release_archive_map.to_frame().reset_index()"
   ]
  },
  {
   "cell_type": "code",
   "execution_count": 27,
   "id": "13c3f3b9",
   "metadata": {},
   "outputs": [],
   "source": [
    "archive_size = press_release_archive_map['archive_list'].str.len()"
   ]
  },
  {
   "cell_type": "code",
   "execution_count": 28,
   "id": "3660b766",
   "metadata": {
    "scrolled": true
   },
   "outputs": [],
   "source": [
    "ts_map = ts.set_index('common_crawl_url')['canonical_timestamp'].to_dict()"
   ]
  },
  {
   "cell_type": "code",
   "execution_count": 29,
   "id": "df6b1773",
   "metadata": {},
   "outputs": [
    {
     "data": {
      "application/vnd.jupyter.widget-view+json": {
       "model_id": "cd88af29687445c19baa33cec03436d8",
       "version_major": 2,
       "version_minor": 0
      },
      "text/plain": [
       "  0%|          | 0/76796 [00:00<?, ?it/s]"
      ]
     },
     "metadata": {},
     "output_type": "display_data"
    }
   ],
   "source": [
    "press_release_archive_map = (\n",
    "    press_release_archive_map\n",
    "         .rename(columns={'common_crawl_url': 'press_release_url'})\n",
    "         .assign(press_release_date=lambda df: df['press_release_url'].map(ts_map))\n",
    "         .assign(archive_dates=lambda df: \n",
    "                 df['archive_list'].progress_apply(lambda x: list(map(lambda y: ts_map.get(y), x))))\n",
    ")"
   ]
  },
  {
   "cell_type": "code",
   "execution_count": null,
   "id": "97846d6b",
   "metadata": {},
   "outputs": [],
   "source": [
    "# press_release_archive_map.to_pickle('../data/open-sourced-articles/press-release-archive-map-cache.pkl')"
   ]
  },
  {
   "cell_type": "code",
   "execution_count": 37,
   "id": "b07ecddb",
   "metadata": {},
   "outputs": [],
   "source": [
    "# read articles and dump for bm25\n",
    "import os \n",
    "outpath = '../data/open-sourced-articles/all-articles.csv.gz'\n",
    "if not os.path.exists(outpath):\n",
    "    article_df = pd.read_sql('''\n",
    "                SELECT common_crawl_url as article_url, article_text body \n",
    "                FROM article_data \n",
    "                WHERE is_press_release_article + is_archival_article = 1\n",
    "    ''', con=conn)\n",
    "\n",
    "    df.to_csv(outpath, compression='gzip')\n",
    "\n",
    "else:\n",
    "    article_df = pd.read_csv(outpath, compression='gzip', index_col=0)\n",
    "\n",
    "article_df = article_df.set_index('article_url')\n",
    "index_to_create = article_df.rename(columns={'article_url': 'id', 'body': 'text'}).to_dict(orient='records')"
   ]
  },
  {
   "cell_type": "code",
   "execution_count": null,
   "id": "636df0b0",
   "metadata": {},
   "outputs": [
    {
     "data": {
      "application/vnd.jupyter.widget-view+json": {
       "model_id": "60856118e65842f8ae37f6320472f58f",
       "version_major": 2,
       "version_minor": 0
      },
      "text/plain": [
       "  0%|          | 0/76796 [00:00<?, ?it/s]"
      ]
     },
     "metadata": {},
     "output_type": "display_data"
    },
    {
     "name": "stdout",
     "output_type": "stream",
     "text": [
      "Processing, start-time: 2023-08-07 12:19:08.875348\n"
     ]
    }
   ],
   "source": [
    "filtered_press_releases = []\n",
    "pbar = tqdm(total=len(press_release_archive_map))\n",
    "print(f\"Processing, start-time: {datetime.now()}\")\n",
    "for i, row in press_release_archive_map.iterrows():\n",
    "    pbar.update(1)\n",
    "    n = \"%05d\" % (len(row['archive_list']))\n",
    "    pbar.set_description(f\"num archive-items: {n}\")\n",
    "    filtered_press_releases.append(\n",
    "        filter_archive(\n",
    "            row=row,\n",
    "            target_article=article_df.loc[row['press_release_url']]['body'],\n",
    "            start_date='6 weeks',\n",
    "            max_size_archive=10\n",
    "        ))"
   ]
  },
  {
   "cell_type": "code",
   "execution_count": null,
   "id": "1537ff6c",
   "metadata": {},
   "outputs": [],
   "source": []
  },
  {
   "cell_type": "code",
   "execution_count": null,
   "id": "2547a15d",
   "metadata": {},
   "outputs": [],
   "source": []
  },
  {
   "cell_type": "code",
   "execution_count": null,
   "id": "be8aaec3",
   "metadata": {},
   "outputs": [],
   "source": []
  },
  {
   "cell_type": "code",
   "execution_count": null,
   "id": "b8bf84a3",
   "metadata": {},
   "outputs": [],
   "source": []
  },
  {
   "cell_type": "code",
   "execution_count": null,
   "id": "ab7bc9cc",
   "metadata": {},
   "outputs": [],
   "source": []
  },
  {
   "cell_type": "code",
   "execution_count": 27,
   "id": "b4d25d1a",
   "metadata": {},
   "outputs": [],
   "source": [
    "print(f\"Processing, end-time: {datetime.now()}\")"
   ]
  },
  {
   "cell_type": "code",
   "execution_count": null,
   "id": "0043dbe6",
   "metadata": {},
   "outputs": [],
   "source": [
    "import pickle\n",
    "with open('../data/open-sourced-articles/filtered-press-release-map.pkl', 'wb') as f:\n",
    "    pickle.dump(filtered_press_releases, f)"
   ]
  },
  {
   "cell_type": "code",
   "execution_count": null,
   "id": "55a7296a",
   "metadata": {},
   "outputs": [],
   "source": [
    "f_df = pd.DataFrame(filtered_press_releases)"
   ]
  },
  {
   "cell_type": "code",
   "execution_count": null,
   "id": "b06ef2dc",
   "metadata": {},
   "outputs": [],
   "source": [
    "press_release_archive_map['archive_list_filtered'] = f_df['archive_list']\n",
    "press_release_archive_map['archive_dates_filtered'] = f_df['archive_dates']"
   ]
  },
  {
   "cell_type": "markdown",
   "id": "65b650c2",
   "metadata": {},
   "source": [
    "### Samples"
   ]
  },
  {
   "cell_type": "code",
   "execution_count": 205,
   "id": "9cfdd8be",
   "metadata": {},
   "outputs": [],
   "source": [
    "t_df = press_release_archive_map.loc[lambda df: df['archive_list_filtered'].str.len() == 2]"
   ]
  },
  {
   "cell_type": "code",
   "execution_count": 206,
   "id": "b2ba05ca",
   "metadata": {},
   "outputs": [],
   "source": [
    "t1 = t_df.iloc[0]['press_release_url']\n",
    "pr_article = pd.read_sql(f'select * from article_data where common_crawl_url = \"{t1}\"', con=conn)\n",
    "t2 = t_df.iloc[0]['archive_list_filtered']\n",
    "t2 = ', '.join(list(map(lambda x: f'\"{x}\"', t2)))\n",
    "target_articles = pd.read_sql(f'select * from article_data where common_crawl_url IN ({t2})', con=conn)"
   ]
  },
  {
   "cell_type": "code",
   "execution_count": 241,
   "id": "5b02eaa2",
   "metadata": {},
   "outputs": [
    {
     "data": {
      "text/plain": [
       "'Advisor technology provider Envestnet is planning to get into the custody business, the company said this week on its quarterly earnings call as it announced plans to enter a competitive market dominated by Schwab , Fidelity, and BNY Mellon’s Pershing.\\n\\nThe new business, expected to launch in the second half of next year, will build on Envestnet ’s recent partnership with FNZ, a New Zealand-based custodian and technology provider with a growing footprint in the U.S. market.\\n\\n“Our new partnership'"
      ]
     },
     "execution_count": 241,
     "metadata": {},
     "output_type": "execute_result"
    }
   ],
   "source": [
    "pr_article['article_text'].values[0][:500]"
   ]
  },
  {
   "cell_type": "code",
   "execution_count": 245,
   "id": "b8f8ff06",
   "metadata": {},
   "outputs": [
    {
     "data": {
      "text/plain": [
       "array(['Never mind the crypto bear market. Fidelity Investments is launching the Fidelity Ethereum Index Fund, according to an Oct. 4 filing with the Securities and Exchange Commission. The fund currently has $5 million in assets.\\n\\n“We have continued to see client demand for exposure to digital assets beyond Bitcoin,” a Fidelity spokesperson said in an emailed statement to Barron’s Advisor.\\n\\nThe...',\n",
       "       'Responding to what it describes as client interest for crypto assets beyond Bitcoin, Fidelity is launching an Ethereum index fund, according to a regulatory filing. The fund will be part of the Fidelity Digital Assets division, a growing business line that Fidelity has signaled a commitment to expanding even amid a steep downturn in crypto valuations.\\n\\nIn other most-read wealth management articles this week:\\n\\nDon’t write off chips. While industries across the board have seen stock prices take a '],\n",
       "      dtype=object)"
      ]
     },
     "execution_count": 245,
     "metadata": {},
     "output_type": "execute_result"
    }
   ],
   "source": [
    "target_articles['article_text'].apply(lambda x: x[:500]).values"
   ]
  },
  {
   "cell_type": "markdown",
   "id": "288db725",
   "metadata": {},
   "source": [
    "# Deal with Long Archives"
   ]
  },
  {
   "cell_type": "code",
   "execution_count": null,
   "id": "298c3d4a",
   "metadata": {},
   "outputs": [],
   "source": [
    "from sklearn.feature_extraction.text import TfidfVectorizer\n",
    "from sklearn.metrics.pairwise import cosine_similarity"
   ]
  },
  {
   "cell_type": "code",
   "execution_count": 93,
   "id": "b34b5b47",
   "metadata": {},
   "outputs": [],
   "source": [
    "article_df = pd.read_sql('''\n",
    "            SELECT common_crawl_url as article_url, article_text body \n",
    "            FROM article_data \n",
    "            WHERE is_press_release_article + is_archival_article = 1\n",
    "''', con=conn)"
   ]
  },
  {
   "cell_type": "code",
   "execution_count": null,
   "id": "9fb064d7",
   "metadata": {},
   "outputs": [],
   "source": [
    "all_urls = pd.concat([\n",
    "    long_maps['press_release_url'],\n",
    "    long_maps['archive_list_filtered'].explode()\n",
    "])"
   ]
  },
  {
   "cell_type": "code",
   "execution_count": null,
   "id": "aa5d09e3",
   "metadata": {},
   "outputs": [],
   "source": [
    "def train_tfidf(article_df, all_urls):\n",
    "    # train \n",
    "    all_text = article_df.set_index('article_url').loc[all_urls]['body']\n",
    "    tfidf = TfidfVectorizer(min_df=.001, max_df=.5, stop_words='english')\n",
    "    tfidf.fit(all_text)\n",
    "\n",
    "    deduped_text = all_text.drop_duplicates()\n",
    "    all_vecs = tfidf.transform(deduped_text)\n",
    "    return tfidf, all_vecs\n",
    "\n",
    "def get_similar_articles_tfidf(target_url, archive_urls, num_return=10):\n",
    "    if target_url not in deduped_text.index:\n",
    "        return archive_urls[:num_return]\n",
    "    target_vec_idx = deduped_text.index.get_loc(target_url)\n",
    "    archive_urls = list(filter(lambda x: x in deduped_text.index, archive_urls))\n",
    "    archive_vec_idxs = list(map(lambda x: deduped_text.index.get_loc(x), archive_urls))\n",
    "    target_vec = all_vecs[target_vec_idx]\n",
    "    archive_vecs = all_vecs[archive_vec_idxs]\n",
    "    sims = cosine_similarity(target_vec, archive_vecs)[0]\n",
    "    return (\n",
    "        pd.Series(sims, index=archive_urls)\n",
    "            .sort_values(ascending=False)\n",
    "            .iloc[:num_return]\n",
    "            .index\n",
    "            .tolist()\n",
    "    )"
   ]
  },
  {
   "cell_type": "code",
   "execution_count": 200,
   "id": "b033fdc4",
   "metadata": {},
   "outputs": [],
   "source": [
    "target_url = long_maps.iloc[0]['press_release_url']\n",
    "archive_urls = long_maps.iloc[0]['archive_list_filtered']"
   ]
  },
  {
   "cell_type": "code",
   "execution_count": null,
   "id": "f996c0a1",
   "metadata": {},
   "outputs": [],
   "source": [
    "press_release_archive_map = (\n",
    "    press_release_archive_map\n",
    "     .assign(archive_list_short=\n",
    "         lambda df: df.progress_apply(\n",
    "             lambda x: \n",
    "                 get_similar_articles(\n",
    "                     x['press_release_url'], x['archive_list_filtered']\n",
    "                 ) \n",
    "                 if len(x['archive_list_filtered']) > 10\n",
    "                 else x['archive_list_filtered']\n",
    "             , axis=1))\n",
    ")"
   ]
  },
  {
   "cell_type": "code",
   "execution_count": 248,
   "id": "568929d5",
   "metadata": {},
   "outputs": [],
   "source": [
    "# press_release_archive_map.to_pickle('../data/open-sourced-articles/press-release-archive-map-cache.pkl')"
   ]
  },
  {
   "cell_type": "code",
   "execution_count": 220,
   "id": "fec2c22c",
   "metadata": {
    "scrolled": true
   },
   "outputs": [
    {
     "data": {
      "text/plain": [
       "Text(0.5, 0, 'Archive Size')"
      ]
     },
     "execution_count": 220,
     "metadata": {},
     "output_type": "execute_result"
    },
    {
     "data": {
      "image/png": "[encoded data removed]",
      "text/plain": [
       "<Figure size 400x200 with 1 Axes>"
      ]
     },
     "metadata": {},
     "output_type": "display_data"
    }
   ],
   "source": [
    "import matplotlib.pyplot as plt\n",
    "ax = press_release_archive_map['archive_list'].str.len().hist(bins=50, range=(0, 1000), figsize=(4,2))\n",
    "plt.grid(False)\n",
    "ax.spines['top'].set_visible(False)\n",
    "ax.spines['right'].set_visible(False)\n",
    "ax.set_title('Archive Size')\n",
    "ax.set_ylabel('Count \\n Press Release Articles')\n",
    "ax.set_xlabel('Archive Size')"
   ]
  },
  {
   "cell_type": "code",
   "execution_count": 253,
   "id": "b3467f1a",
   "metadata": {},
   "outputs": [
    {
     "data": {
      "text/plain": [
       "archive_list_short\n",
       "10    28422\n",
       "0     23570\n",
       "1      6932\n",
       "2      4225\n",
       "3      3267\n",
       "4      2474\n",
       "5      2142\n",
       "6      1837\n",
       "7      1491\n",
       "8      1283\n",
       "9      1153\n",
       "Name: count, dtype: int64"
      ]
     },
     "execution_count": 253,
     "metadata": {},
     "output_type": "execute_result"
    }
   ],
   "source": [
    "press_release_archive_map['archive_list_short'].str.len().value_counts()"
   ]
  },
  {
   "cell_type": "code",
   "execution_count": 258,
   "id": "830aef7f",
   "metadata": {},
   "outputs": [],
   "source": [
    "candidates_with_archives = press_release_archive_map.loc[lambda df: df['archive_list_short'].str.len() > 2]"
   ]
  },
  {
   "cell_type": "code",
   "execution_count": 276,
   "id": "47791b15",
   "metadata": {},
   "outputs": [],
   "source": [
    "t1 = candidates_with_archives.iloc[0]['press_release_url']\n",
    "pr_article = pd.read_sql(f'select * from article_data where common_crawl_url = \"{t1}\"', con=conn)\n",
    "t2 = t_df.iloc[0]['archive_list_short']\n",
    "t2 = ', '.join(list(map(lambda x: f'\"{x}\"', t2)))\n",
    "target_articles = pd.read_sql(f'select * from article_data where common_crawl_url IN ({t2})', con=conn)"
   ]
  },
  {
   "cell_type": "code",
   "execution_count": 277,
   "id": "cd4eeaa8",
   "metadata": {},
   "outputs": [
    {
     "data": {
      "text/html": [
       "<div>\n",
       "<style scoped>\n",
       "    .dataframe tbody tr th:only-of-type {\n",
       "        vertical-align: middle;\n",
       "    }\n",
       "\n",
       "    .dataframe tbody tr th {\n",
       "        vertical-align: top;\n",
       "    }\n",
       "\n",
       "    .dataframe thead th {\n",
       "        text-align: right;\n",
       "    }\n",
       "</style>\n",
       "<table border=\"1\" class=\"dataframe\">\n",
       "  <thead>\n",
       "    <tr style=\"text-align: right;\">\n",
       "      <th></th>\n",
       "      <th>common_crawl_url</th>\n",
       "      <th>article_text</th>\n",
       "      <th>article_publish_date</th>\n",
       "      <th>article_authors</th>\n",
       "      <th>article_top_image</th>\n",
       "      <th>article_scrape_timestamp</th>\n",
       "      <th>source</th>\n",
       "      <th>timestamp_join_key</th>\n",
       "      <th>timestamp</th>\n",
       "      <th>is_press_release_article</th>\n",
       "      <th>is_archival_article</th>\n",
       "    </tr>\n",
       "  </thead>\n",
       "  <tbody>\n",
       "    <tr>\n",
       "      <th>0</th>\n",
       "      <td>com,barrons)/advisor/articles/com,barrons)/adv...</td>\n",
       "      <td>A 90-year-old Morgan Stanley financial advisor...</td>\n",
       "      <td>None</td>\n",
       "      <td>Kenneth Corbin</td>\n",
       "      <td>https://images.barrons.com/im-529713/social</td>\n",
       "      <td>20221003110924</td>\n",
       "      <td>barrons-business</td>\n",
       "      <td>https://www.barrons.com/advisor/articles/90-ye...</td>\n",
       "      <td>20220705204258</td>\n",
       "      <td>1</td>\n",
       "      <td>0</td>\n",
       "    </tr>\n",
       "  </tbody>\n",
       "</table>\n",
       "</div>"
      ],
      "text/plain": [
       "                                    common_crawl_url  \\\n",
       "0  com,barrons)/advisor/articles/com,barrons)/adv...   \n",
       "\n",
       "                                        article_text article_publish_date  \\\n",
       "0  A 90-year-old Morgan Stanley financial advisor...                 None   \n",
       "\n",
       "  article_authors                            article_top_image  \\\n",
       "0  Kenneth Corbin  https://images.barrons.com/im-529713/social   \n",
       "\n",
       "   article_scrape_timestamp            source  \\\n",
       "0            20221003110924  barrons-business   \n",
       "\n",
       "                                  timestamp_join_key       timestamp  \\\n",
       "0  https://www.barrons.com/advisor/articles/90-ye...  20220705204258   \n",
       "\n",
       "   is_press_release_article  is_archival_article  \n",
       "0                         1                    0  "
      ]
     },
     "execution_count": 277,
     "metadata": {},
     "output_type": "execute_result"
    }
   ],
   "source": [
    "pr_article"
   ]
  },
  {
   "cell_type": "code",
   "execution_count": 278,
   "id": "60252e49",
   "metadata": {},
   "outputs": [
    {
     "data": {
      "text/html": [
       "<div>\n",
       "<style scoped>\n",
       "    .dataframe tbody tr th:only-of-type {\n",
       "        vertical-align: middle;\n",
       "    }\n",
       "\n",
       "    .dataframe tbody tr th {\n",
       "        vertical-align: top;\n",
       "    }\n",
       "\n",
       "    .dataframe thead th {\n",
       "        text-align: right;\n",
       "    }\n",
       "</style>\n",
       "<table border=\"1\" class=\"dataframe\">\n",
       "  <thead>\n",
       "    <tr style=\"text-align: right;\">\n",
       "      <th></th>\n",
       "      <th>common_crawl_url</th>\n",
       "      <th>article_text</th>\n",
       "      <th>article_publish_date</th>\n",
       "      <th>article_authors</th>\n",
       "      <th>article_top_image</th>\n",
       "      <th>article_scrape_timestamp</th>\n",
       "      <th>source</th>\n",
       "      <th>timestamp_join_key</th>\n",
       "      <th>timestamp</th>\n",
       "      <th>is_press_release_article</th>\n",
       "      <th>is_archival_article</th>\n",
       "    </tr>\n",
       "  </thead>\n",
       "  <tbody>\n",
       "    <tr>\n",
       "      <th>0</th>\n",
       "      <td>com,barrons)/advisor/articles/com,barrons)/adv...</td>\n",
       "      <td>Never mind the crypto bear market. Fidelity In...</td>\n",
       "      <td>None</td>\n",
       "      <td>Tom Taulli</td>\n",
       "      <td>https://images.barrons.com/im-638104/social</td>\n",
       "      <td>20230130173454</td>\n",
       "      <td>barrons-business</td>\n",
       "      <td>https://www.barrons.com/advisor/articles/fidel...</td>\n",
       "      <td>20221005200338</td>\n",
       "      <td>0</td>\n",
       "      <td>1</td>\n",
       "    </tr>\n",
       "    <tr>\n",
       "      <th>1</th>\n",
       "      <td>com,barrons)/advisor/articles/com,barrons)/adv...</td>\n",
       "      <td>Responding to what it describes as client inte...</td>\n",
       "      <td>None</td>\n",
       "      <td>Kenneth Corbin</td>\n",
       "      <td>https://images.barrons.com/im-638897/social</td>\n",
       "      <td>20221203123915</td>\n",
       "      <td>barrons-business</td>\n",
       "      <td>https://www.barrons.com/advisor/articles/weeks...</td>\n",
       "      <td>20221007163550</td>\n",
       "      <td>0</td>\n",
       "      <td>1</td>\n",
       "    </tr>\n",
       "  </tbody>\n",
       "</table>\n",
       "</div>"
      ],
      "text/plain": [
       "                                    common_crawl_url  \\\n",
       "0  com,barrons)/advisor/articles/com,barrons)/adv...   \n",
       "1  com,barrons)/advisor/articles/com,barrons)/adv...   \n",
       "\n",
       "                                        article_text article_publish_date  \\\n",
       "0  Never mind the crypto bear market. Fidelity In...                 None   \n",
       "1  Responding to what it describes as client inte...                 None   \n",
       "\n",
       "  article_authors                            article_top_image  \\\n",
       "0      Tom Taulli  https://images.barrons.com/im-638104/social   \n",
       "1  Kenneth Corbin  https://images.barrons.com/im-638897/social   \n",
       "\n",
       "   article_scrape_timestamp            source  \\\n",
       "0            20230130173454  barrons-business   \n",
       "1            20221203123915  barrons-business   \n",
       "\n",
       "                                  timestamp_join_key       timestamp  \\\n",
       "0  https://www.barrons.com/advisor/articles/fidel...  20221005200338   \n",
       "1  https://www.barrons.com/advisor/articles/weeks...  20221007163550   \n",
       "\n",
       "   is_press_release_article  is_archival_article  \n",
       "0                         0                    1  \n",
       "1                         0                    1  "
      ]
     },
     "execution_count": 278,
     "metadata": {},
     "output_type": "execute_result"
    }
   ],
   "source": [
    "target_articles"
   ]
  },
  {
   "cell_type": "markdown",
   "id": "81a49108",
   "metadata": {},
   "source": [
    "# Article Links"
   ]
  },
  {
   "cell_type": "code",
   "execution_count": 203,
   "id": "0e29c417",
   "metadata": {},
   "outputs": [],
   "source": [
    "all_href = pd.read_sql(\"\"\"SELECT * FROM article_to_href WHERE is_press_release = 1\"\"\", con=conn)"
   ]
  },
  {
   "cell_type": "code",
   "execution_count": 222,
   "id": "d62ca14f",
   "metadata": {},
   "outputs": [],
   "source": [
    "all_href = all_href.loc[lambda df: df['is_press_release'] == 1]"
   ]
  },
  {
   "cell_type": "code",
   "execution_count": 229,
   "id": "43b3232d",
   "metadata": {},
   "outputs": [],
   "source": [
    "article_sample = pd.read_sql(\"\"\"SELECT * FROM article_data limit 10000\"\"\", con=conn)"
   ]
  },
  {
   "cell_type": "code",
   "execution_count": 236,
   "id": "851e3d08",
   "metadata": {},
   "outputs": [
    {
     "data": {
      "text/plain": [
       "Text(0.5, 0, 'Link Location (Character Index)')"
      ]
     },
     "execution_count": 236,
     "metadata": {},
     "output_type": "execute_result"
    },
    {
     "data": {
      "image/png": "[encoded data removed]",
      "text/plain": [
       "<Figure size 400x200 with 1 Axes>"
      ]
     },
     "metadata": {},
     "output_type": "display_data"
    }
   ],
   "source": [
    "ax = all_href['char_start_idx'].hist(bins=50, range=(0, 2000), figsize=(4,2))\n",
    "plt.grid(False)\n",
    "ax.spines['top'].set_visible(False)\n",
    "ax.spines['right'].set_visible(False)\n",
    "ax.set_title('Press Release Link Location')\n",
    "ax.set_ylabel('Count \\n Press Release Articles')\n",
    "ax.set_xlabel('Link Location (Character Index)')"
   ]
  },
  {
   "cell_type": "code",
   "execution_count": 1,
   "id": "a5f11e21",
   "metadata": {},
   "outputs": [],
   "source": [
    "import sys\n",
    "sys.path.insert(0, '../src/')\n",
    "from augment_retriv import MySparseRetriever\n",
    "r = MySparseRetriever.load('archive-retriever')\n",
    "\n",
    "# r.index(index_to_create)\n",
    "\n",
    "r.search(\"witches masses\", include_id_list=[\n",
    "    'com,techcrunch)/2018/11/06/com,techcrunch)/2018/11/06/original-content-chilling-sabrina', \n",
    "    'com,cnbc)/2018/04/09/com,cnbc)/2018/04/09/trump-vents-against-attorney-general-sessions-in-searing-remarks.html', \n",
    "    'com,marketwatch)/press-release/com,marketwatch)/press-release/halloween-spending-to-reach-9-billion-2018-09-20'\n",
    "])"
   ]
  },
  {
   "cell_type": "code",
   "execution_count": null,
   "id": "d1f0d282",
   "metadata": {},
   "outputs": [],
   "source": []
  },
  {
   "cell_type": "code",
   "execution_count": null,
   "id": "23f7c565",
   "metadata": {},
   "outputs": [],
   "source": []
  },
  {
   "cell_type": "code",
   "execution_count": null,
   "id": "f74dae8f",
   "metadata": {},
   "outputs": [],
   "source": []
  },
  {
   "cell_type": "code",
   "execution_count": null,
   "id": "7b9c3b7d",
   "metadata": {},
   "outputs": [],
   "source": []
  },
  {
   "cell_type": "code",
   "execution_count": null,
   "id": "1f9d1ecc",
   "metadata": {},
   "outputs": [],
   "source": []
  }
 ],
 "metadata": {
  "hide_input": false,
  "kernelspec": {
   "display_name": "Python 3 (ipykernel)",
   "language": "python",
   "name": "python3"
  },
  "language_info": {
   "codemirror_mode": {
    "name": "ipython",
    "version": 3
   },
   "file_extension": ".py",
   "mimetype": "text/x-python",
   "name": "python",
   "nbconvert_exporter": "python",
   "pygments_lexer": "ipython3",
   "version": "3.10.11"
  }
 },
 "nbformat": 4,
 "nbformat_minor": 5
}
