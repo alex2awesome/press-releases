{
 "cells": [
  {
   "cell_type": "code",
   "execution_count": null,
   "id": "ac664d6a",
   "metadata": {},
   "outputs": [],
   "source": [
    "from pyspark.sql.types import ArrayType, StructType, StructField, StringType\n",
    "\n",
    "def get_hyperlinks(body):\n",
    "    import os \n",
    "    os.system(\"pip install beautifulsoup4\")\n",
    "    from bs4 import BeautifulSoup\n",
    "    output = []\n",
    "    soup = BeautifulSoup(body)\n",
    "    a_s = soup.find_all('a')\n",
    "    a_s = list(filter(lambda x: x.attrs.get('href'), a_s))\n",
    "    \n",
    "    output = []\n",
    "    for a in a_s:\n",
    "        attrs = a.attrs\n",
    "        attrs['text'] = a.get_text().strip()\n",
    "        output.append(attrs)\n",
    "    \n",
    "    return output\n",
    "    \n",
    "get_hyperlinks_udf = udf(f=get_hyperlinks, returnType=ArrayType(\n",
    "    StructType([\n",
    "        StructField('href', StringType()),\n",
    "        StructField('title', StringType()),\n",
    "        StructField('itemscope', StringType()),\n",
    "        StructField('itemprop', StringType()),\n",
    "        StructField('text', StringType()),\n",
    "    ])\n",
    "))\n",
    "\n",
    "full_beat_df = (\n",
    "    newsarchive_df\n",
    "     .filter(newsarchive_df.wire == 25)\n",
    "     .filter(check_overlap_udf(newsarchive_df.nicodes))\n",
    ")\n",
    "\n",
    "hyperlinks_df = (\n",
    "    newsarchive_df\n",
    "     .filter(newsarchive_df.wire == 25)\n",
    "     .filter(check_overlap_udf(newsarchive_df.nicodes))\n",
    "     .limit(2000)\n",
    "     .select(get_hyperlinks_udf('body').alias('hyperlinks'))\n",
    "     .toPandas()\n",
    ")"
   ]
  }
 ],
 "metadata": {
  "hide_input": false,
  "kernelspec": {
   "display_name": "Python 3 (ipykernel)",
   "language": "python",
   "name": "python3"
  },
  "language_info": {
   "codemirror_mode": {
    "name": "ipython",
    "version": 3
   },
   "file_extension": ".py",
   "mimetype": "text/x-python",
   "name": "python",
   "nbconvert_exporter": "python",
   "pygments_lexer": "ipython3",
   "version": "3.10.11"
  }
 },
 "nbformat": 4,
 "nbformat_minor": 5
}
